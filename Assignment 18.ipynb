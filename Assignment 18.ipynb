{
 "cells": [
  {
   "cell_type": "markdown",
   "id": "77ee8d0f-bc36-4c2a-ad70-9e33067d05fb",
   "metadata": {},
   "source": [
    "ASSIGNMENT 18"
   ]
  },
  {
   "cell_type": "markdown",
   "id": "60f8dda3-7240-4c63-88a4-13ffdf33ada1",
   "metadata": {},
   "source": [
    "Q1. Create a zoo.py file first. Define the hours() function, which prints the string 'Open 9-5 daily'.\n",
    "Then, use the interactive interpreter to import the zoo module and call its hours() function."
   ]
  },
  {
   "cell_type": "markdown",
   "id": "5827e0e1-4609-488b-ac51-8b3e7b39c532",
   "metadata": {},
   "source": [
    "Ans1:"
   ]
  },
  {
   "cell_type": "code",
   "execution_count": 1,
   "id": "c0c31764-b19b-4981-9071-2ef2bd7ffb7f",
   "metadata": {},
   "outputs": [
    {
     "name": "stdout",
     "output_type": "stream",
     "text": [
      "Open 9-5 daily\n"
     ]
    }
   ],
   "source": [
    "# create zoo.py file having function hours() and print(Open 9-5 daily). i.e\n",
    "#def hours():\n",
    "    #print(\"Open 9-5 daily\")\n",
    "\n",
    "#remember zoo.py module either should be in current/working folder or python module\n",
    "import zoo\n",
    "\n",
    "zoo.hours()"
   ]
  },
  {
   "cell_type": "markdown",
   "id": "bbdd2b36-1094-42e2-8b8a-d85e3854e6e6",
   "metadata": {},
   "source": [
    "Q2. In the interactive interpreter, import the zoo module as menagerie and call its hours() function."
   ]
  },
  {
   "cell_type": "markdown",
   "id": "268f53ec-d6ac-496b-ba20-7f38f1e5f4a6",
   "metadata": {},
   "source": [
    "Ans2:"
   ]
  },
  {
   "cell_type": "code",
   "execution_count": null,
   "id": "cf8623ed-7612-446f-b8b6-9a91129961f1",
   "metadata": {},
   "outputs": [],
   "source": [
    "import zoo as menagerie\n",
    "menagerie.hours()"
   ]
  },
  {
   "cell_type": "markdown",
   "id": "56858900-b837-4040-8e98-225dadf8d244",
   "metadata": {},
   "source": [
    "Q3. Using the interpreter, explicitly import and call the hours() function from zoo."
   ]
  },
  {
   "cell_type": "markdown",
   "id": "0cc9957b-4377-4fa0-93fe-dddbe090578f",
   "metadata": {},
   "source": [
    "Ans3:"
   ]
  },
  {
   "cell_type": "code",
   "execution_count": null,
   "id": "a5941255-4c4a-41e0-8965-e331157222e0",
   "metadata": {},
   "outputs": [],
   "source": [
    "from zoo import hours\n",
    "hours()"
   ]
  },
  {
   "cell_type": "markdown",
   "id": "ce5f0aca-c5ca-4723-9415-a5b17edd4b54",
   "metadata": {},
   "source": [
    "Q4. Import the hours() function as info and call it."
   ]
  },
  {
   "cell_type": "markdown",
   "id": "42da1872-fa33-4c79-9d3a-d6e056449544",
   "metadata": {},
   "source": [
    "Ans4:"
   ]
  },
  {
   "cell_type": "code",
   "execution_count": null,
   "id": "09e3e888-871b-4ae7-bec6-64cc4bd9623a",
   "metadata": {},
   "outputs": [],
   "source": [
    "from zoo import hours as info\n",
    "info()"
   ]
  },
  {
   "cell_type": "markdown",
   "id": "4162832e-1986-4017-9b30-6e9d53981304",
   "metadata": {},
   "source": [
    "Q5. Create a plain dictionary with the key-value pairs \n",
    "'a': 1, 'b': 2, and 'c': 3, and print it out."
   ]
  },
  {
   "cell_type": "markdown",
   "id": "81122bfa-1c52-41a7-a665-225245487c71",
   "metadata": {},
   "source": [
    "Ans5:"
   ]
  },
  {
   "cell_type": "code",
   "execution_count": 2,
   "id": "002b9e4f-2366-49de-98e6-19d7b9ee2c82",
   "metadata": {},
   "outputs": [
    {
     "name": "stdout",
     "output_type": "stream",
     "text": [
      "{'a': 1, 'b': 2, 'c': 3}\n"
     ]
    }
   ],
   "source": [
    "plain = {'a': 1, 'b': 2, 'c': 3}\n",
    "print(plain)"
   ]
  },
  {
   "cell_type": "markdown",
   "id": "578709c5-e611-4ee4-bea3-a90d8f2f212c",
   "metadata": {},
   "source": [
    "Q6. Make an OrderedDict called fancy from the same pairs listed in 5 and print it. \n",
    "Did it print in the same order as plain?"
   ]
  },
  {
   "cell_type": "markdown",
   "id": "4afeaf7b-4407-4caa-be06-a7ef25991679",
   "metadata": {},
   "source": [
    "Ans6:"
   ]
  },
  {
   "cell_type": "code",
   "execution_count": 4,
   "id": "69a3b033-2646-47f8-a7ff-84babe64eb70",
   "metadata": {},
   "outputs": [
    {
     "name": "stdout",
     "output_type": "stream",
     "text": [
      "OrderedDict({'a': 1, 'b': 2, 'c': 3})\n"
     ]
    }
   ],
   "source": [
    "from collections import OrderedDict\n",
    "\n",
    "fancy = OrderedDict([('a', 1), ('b', 2), ('c', 3)])\n",
    "print(fancy)"
   ]
  },
  {
   "cell_type": "markdown",
   "id": "7d44a3ec-96a0-4644-b18f-f27fa0f6ee60",
   "metadata": {},
   "source": [
    "Q7. Make a default dictionary called dict_of_lists and pass it the argument list. Make the list\n",
    "dict_of_lists['a'] and append the value 'something for a' to it in one assignment. \n",
    "Print dict_of_lists['a']."
   ]
  },
  {
   "cell_type": "markdown",
   "id": "24e7ebfb-c7ca-4ddb-b5cb-89a3843841ca",
   "metadata": {},
   "source": [
    "Ans7:"
   ]
  },
  {
   "cell_type": "code",
   "execution_count": 6,
   "id": "e647d886-e8e9-4c07-bef1-d9af81ed262c",
   "metadata": {},
   "outputs": [
    {
     "name": "stdout",
     "output_type": "stream",
     "text": [
      "['something for a']\n"
     ]
    }
   ],
   "source": [
    "from collections import defaultdict\n",
    "\n",
    "dict_of_lists = defaultdict(list)\n",
    "dict_of_lists['a'].append('something for a')\n",
    "print(dict_of_lists['a'])"
   ]
  }
 ],
 "metadata": {
  "kernelspec": {
   "display_name": "Python 3 (ipykernel)",
   "language": "python",
   "name": "python3"
  },
  "language_info": {
   "codemirror_mode": {
    "name": "ipython",
    "version": 3
   },
   "file_extension": ".py",
   "mimetype": "text/x-python",
   "name": "python",
   "nbconvert_exporter": "python",
   "pygments_lexer": "ipython3",
   "version": "3.12.4"
  }
 },
 "nbformat": 4,
 "nbformat_minor": 5
}
