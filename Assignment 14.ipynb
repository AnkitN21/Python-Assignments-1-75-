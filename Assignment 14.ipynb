{
 "cells": [
  {
   "cell_type": "markdown",
   "id": "77479e19-4915-4a6e-8387-32f492f942f2",
   "metadata": {},
   "source": [
    "ASSIGNMNET 14"
   ]
  },
  {
   "cell_type": "markdown",
   "id": "6d350683-4c65-479c-8e2d-e5116138c3d6",
   "metadata": {},
   "source": [
    "Q1. What does RGBA stand for?"
   ]
  },
  {
   "cell_type": "markdown",
   "id": "39cc731a-c893-4f29-84ad-30c3588a2610",
   "metadata": {},
   "source": [
    "Ans1:"
   ]
  },
  {
   "cell_type": "markdown",
   "id": "6ff0bdfc-fab7-47dd-a940-be26cafa8200",
   "metadata": {},
   "source": [
    "RGBA are color model stands for Red Blue Green and Alpha"
   ]
  },
  {
   "cell_type": "markdown",
   "id": "93d6a2ab-ff2c-40ac-b471-baec61ae2233",
   "metadata": {},
   "source": [
    "Q2. From the Pillow module, how do you get the RGBA value of any images?"
   ]
  },
  {
   "cell_type": "markdown",
   "id": "4bd641a3-c6af-48fc-9a7b-7b61c727c511",
   "metadata": {},
   "source": [
    "Ans2:"
   ]
  },
  {
   "cell_type": "markdown",
   "id": "6109508e-6efd-4d57-870d-fcca9d12bbcb",
   "metadata": {},
   "source": [
    "from PIL import Image\n",
    "\n",
    "img = Image.open('abc.png')\n",
    "rgba = img.convert('RGBA')\n",
    "rgba_value = rgba.getdata()   #used for to get RGBA valueof the image\n",
    "for i in rgba_value:\n",
    "    print(i)\n",
    "    break"
   ]
  },
  {
   "cell_type": "markdown",
   "id": "5132c126-d987-4959-8f04-8250e8c7fead",
   "metadata": {},
   "source": [
    "Q3. What is a box tuple, and how does it work?"
   ]
  },
  {
   "cell_type": "markdown",
   "id": "b6ff19fd-bb6f-4539-8b67-46e82f627f3d",
   "metadata": {},
   "source": [
    "Ans3:"
   ]
  },
  {
   "cell_type": "markdown",
   "id": "4d02a83c-acfa-4902-834e-62a50b7bb24d",
   "metadata": {},
   "source": [
    "A box tuple is a container for a tuple of 4 integers values in which the left edge represents the x- coordinate, top edge to y-coordinate, and \n",
    "width and height respectively."
   ]
  },
  {
   "cell_type": "markdown",
   "id": "213bae79-0a2a-40e0-845c-288ed37d0f62",
   "metadata": {},
   "source": [
    "Q4. Use your image and load in notebook then, How can you find out the width and height of an Image object?"
   ]
  },
  {
   "cell_type": "markdown",
   "id": "c38d9a9f-9e29-4fd7-8040-17021fc5080e",
   "metadata": {},
   "source": [
    "Ans4:"
   ]
  },
  {
   "cell_type": "markdown",
   "id": "3d9de801-3a2b-42a7-9427-36ca99ab7f29",
   "metadata": {},
   "source": [
    "from PIL import Image\n",
    "\n",
    "img = Image.open('abc.png')\n",
    "h = img.height    #height of image\n",
    "w = img.width     #width of image"
   ]
  },
  {
   "cell_type": "markdown",
   "id": "9084b75c-fb96-443b-ac16-c2bdcd404938",
   "metadata": {},
   "source": [
    "Q5. What method would you call to get Image object for a 100×100 image, \n",
    "excluding the lower-left quarter of it?"
   ]
  },
  {
   "cell_type": "markdown",
   "id": "7bfa11ba-4ad1-4dc5-83c5-59077711065f",
   "metadata": {},
   "source": [
    "Ans5:"
   ]
  },
  {
   "cell_type": "markdown",
   "id": "7317963e-ba0e-469e-ba28-e951be99c35e",
   "metadata": {},
   "source": [
    "img_obj.crop((0,50,50,50))  #note that you are passing a box tuple to crop() not the four seperate integer arguements."
   ]
  },
  {
   "cell_type": "markdown",
   "id": "00d92883-89fb-4c4b-9f41-089ed40f31aa",
   "metadata": {},
   "source": [
    "Q6. After making changes to an Image object, how could you save it as an image file?"
   ]
  },
  {
   "cell_type": "markdown",
   "id": "890a9ea2-6c03-4f58-b09e-b366822b8742",
   "metadata": {},
   "source": [
    "Ans6:"
   ]
  },
  {
   "cell_type": "markdown",
   "id": "12d98f2b-8845-46fd-a3c3-570ba2d3f51f",
   "metadata": {},
   "source": [
    "image1 = Image.open('abc.png')    #creating image object \n",
    "image1 = image1.save('def.png')   #saving the image using extension"
   ]
  },
  {
   "cell_type": "markdown",
   "id": "b9543a83-81ec-48da-ad76-03910a7eec11",
   "metadata": {},
   "source": [
    "Q7. What module contains Pillow’s shape-drawing code?"
   ]
  },
  {
   "cell_type": "markdown",
   "id": "6add5141-8041-4744-be45-c77ff28d588f",
   "metadata": {},
   "source": [
    "Ans7:"
   ]
  },
  {
   "cell_type": "markdown",
   "id": "83cd4b95-f741-4a54-bc50-784d9ed5999b",
   "metadata": {},
   "source": [
    "from PIL import Image, ImageDraw\n",
    "\n",
    "draw = ImageDraw.draw(image_obj)     #used for shape drawing code"
   ]
  },
  {
   "cell_type": "markdown",
   "id": "e33f541e-ea77-410c-82c3-ff9b0aa7c11b",
   "metadata": {},
   "source": [
    "Q8. Image objects do not have drawing methods. What kind of object does? \n",
    "How do you get this kind of object?"
   ]
  },
  {
   "cell_type": "markdown",
   "id": "b95af220-74ad-4fdc-84b5-e61278333f69",
   "metadata": {},
   "source": [
    "Ans8:"
   ]
  },
  {
   "cell_type": "markdown",
   "id": "65ae38b1-58ff-40bb-895e-a5091c0efc61",
   "metadata": {},
   "source": [
    "They have shape drawing methods like line(), point(), rectangle(), ImageDraw.Draw() function can be used."
   ]
  }
 ],
 "metadata": {
  "kernelspec": {
   "display_name": "Python 3 (ipykernel)",
   "language": "python",
   "name": "python3"
  },
  "language_info": {
   "codemirror_mode": {
    "name": "ipython",
    "version": 3
   },
   "file_extension": ".py",
   "mimetype": "text/x-python",
   "name": "python",
   "nbconvert_exporter": "python",
   "pygments_lexer": "ipython3",
   "version": "3.12.4"
  }
 },
 "nbformat": 4,
 "nbformat_minor": 5
}
