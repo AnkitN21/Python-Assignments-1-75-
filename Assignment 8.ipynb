{
 "cells": [
  {
   "cell_type": "markdown",
   "id": "f49c65f7-e02a-4669-b183-20e5de55a33e",
   "metadata": {},
   "source": [
    "ASSIGNMENT 8:"
   ]
  },
  {
   "cell_type": "markdown",
   "id": "31cba6cb-149e-44a6-b3aa-2bff97764447",
   "metadata": {},
   "source": [
    "Ans1:"
   ]
  },
  {
   "cell_type": "markdown",
   "id": "53960fc6-4e54-43bc-85c6-f29b3516b422",
   "metadata": {},
   "source": [
    "pyinputplus is not a part of the Pyhton Standard Library"
   ]
  },
  {
   "cell_type": "markdown",
   "id": "7eb061af-f9b2-4157-b790-abecc5bb1def",
   "metadata": {},
   "source": [
    "Ans2:"
   ]
  },
  {
   "cell_type": "markdown",
   "id": "279df264-8180-457a-9d9f-0334358654de",
   "metadata": {},
   "source": [
    "It can be imported with import pyinputplus as pyip i.e a shorter name of module's function"
   ]
  },
  {
   "cell_type": "markdown",
   "id": "16b6e79e-e613-49ee-8123-d5495d0ee3e5",
   "metadata": {},
   "source": [
    "Ans3:"
   ]
  },
  {
   "cell_type": "markdown",
   "id": "45beef0a-7dd2-4097-854f-12b75d369f24",
   "metadata": {},
   "source": [
    "inputint(), expects an integer value(not decimal) whereas inputfloat() expects number with decimal. "
   ]
  },
  {
   "cell_type": "markdown",
   "id": "a301aa9d-d5bf-4c28-a7f0-1e0dc1df2a39",
   "metadata": {},
   "source": [
    "Ans4:"
   ]
  },
  {
   "cell_type": "markdown",
   "id": "5e799b3a-43c7-43cf-8563-942c9547a6a8",
   "metadata": {},
   "source": [
    "by using pyip.inputint(min=0, max=99)"
   ]
  },
  {
   "cell_type": "markdown",
   "id": "2d9606e3-c174-45b1-9766-43a1eca58f2f",
   "metadata": {},
   "source": [
    "Ans5:"
   ]
  },
  {
   "cell_type": "markdown",
   "id": "ef6ade35-f6d4-4ef0-bb3f-8fc63b7b5ed8",
   "metadata": {},
   "source": [
    "A list of regex strings that are either explicitly allowed or denied"
   ]
  },
  {
   "cell_type": "markdown",
   "id": "21d85054-4915-4e14-95d1-6693d9df2611",
   "metadata": {},
   "source": [
    "Ans6:"
   ]
  },
  {
   "cell_type": "markdown",
   "id": "907dd44f-84bf-471b-a7cd-9690e0f5a22f",
   "metadata": {},
   "source": [
    "The function will raise RetryLimitException"
   ]
  },
  {
   "cell_type": "markdown",
   "id": "aa49a62b-99ad-4c28-8c52-620920d099a2",
   "metadata": {},
   "source": [
    "Ans7:"
   ]
  },
  {
   "cell_type": "markdown",
   "id": "08619c3c-27a1-41cb-9a44-ee4134d3e048",
   "metadata": {},
   "source": [
    "The function returns the value 'hello'"
   ]
  }
 ],
 "metadata": {
  "kernelspec": {
   "display_name": "Python 3 (ipykernel)",
   "language": "python",
   "name": "python3"
  },
  "language_info": {
   "codemirror_mode": {
    "name": "ipython",
    "version": 3
   },
   "file_extension": ".py",
   "mimetype": "text/x-python",
   "name": "python",
   "nbconvert_exporter": "python",
   "pygments_lexer": "ipython3",
   "version": "3.12.4"
  }
 },
 "nbformat": 4,
 "nbformat_minor": 5
}
