{
 "cells": [
  {
   "cell_type": "markdown",
   "id": "c35bb9a1-b238-4935-9c69-402446e03a30",
   "metadata": {},
   "source": [
    "PROGRAM ASSIGNMENT 13"
   ]
  },
  {
   "cell_type": "markdown",
   "id": "61f58c5a-c661-469f-a7ac-e33c4db7ea7b",
   "metadata": {},
   "source": [
    "Q1: Write a program that calculates and prints the value according to the given formula:\n",
    "Q = Square root of [(2 * C * D)/H]\n",
    "Following are the fixed values of C and H:\n",
    "C is 50. H is 30.\n",
    "D is the variable whose values should be input to your program in a comma-separated\n",
    "sequence.\n",
    "Example\n",
    "Let us assume the following comma separated input sequence is given to the program:\n",
    "100,150,180\n",
    "The output of the program should be:\n",
    "18,22,24"
   ]
  },
  {
   "cell_type": "markdown",
   "id": "678f37dc-c8ed-4dd6-b595-54c7b4a070d1",
   "metadata": {},
   "source": [
    "Ans1:"
   ]
  },
  {
   "cell_type": "code",
   "execution_count": 9,
   "id": "f742a17f-4820-4a9e-a21e-65a0043a4725",
   "metadata": {},
   "outputs": [
    {
     "name": "stdout",
     "output_type": "stream",
     "text": [
      "[18, 22, 24]\n"
     ]
    }
   ],
   "source": [
    "def formula_q(D):\n",
    "    C = 50\n",
    "    H = 30\n",
    "    Q = ((2*C*D)/H)**0.5\n",
    "    return int(Q)\n",
    "\n",
    "D_list = [100,150,180] \n",
    "result_D = list(map((formula_q),D_list))\n",
    "print(result_D)"
   ]
  },
  {
   "cell_type": "markdown",
   "id": "c59e465f-47f3-4c9a-87ea-2097362d8232",
   "metadata": {},
   "source": [
    "Q2. Write a program which takes 2 digits, X,Y as input and generates a 2-dimensional array. \n",
    "The element value in the i-th row and j-th column of the array should be i*j.\n",
    "Note: i=0,1.., X-1; j=0,1,¡Y-1.\n",
    "Example\n",
    "Suppose the following inputs are given to the program:\n",
    "3,5\n",
    "Then, the output of the program should be:\n",
    "[[0, 0, 0, 0, 0], [0, 1, 2, 3, 4], [0, 2, 4, 6, 8]]"
   ]
  },
  {
   "cell_type": "markdown",
   "id": "12a7f592-75f6-479f-b086-1aa07ad850f9",
   "metadata": {},
   "source": [
    "Ans2:"
   ]
  },
  {
   "cell_type": "code",
   "execution_count": 1,
   "id": "fbf25eb8-72df-4187-b217-1d110777b85f",
   "metadata": {},
   "outputs": [
    {
     "name": "stdin",
     "output_type": "stream",
     "text": [
      "Enter x :  3\n",
      "enter y :  5\n"
     ]
    },
    {
     "name": "stdout",
     "output_type": "stream",
     "text": [
      "Enter the element :\n"
     ]
    },
    {
     "data": {
      "text/plain": [
       "[[0, 0, 0, 0, 0], [0, 1, 2, 3, 4], [0, 2, 4, 6, 8]]"
      ]
     },
     "execution_count": 1,
     "metadata": {},
     "output_type": "execute_result"
    }
   ],
   "source": [
    "def Matrix(n,m):\n",
    "    M=[]             \n",
    "    print(\"Enter the element :\")\n",
    "    \n",
    "    for i in range(n):\n",
    "        #stor row\n",
    "        row =[]\n",
    "        for j in range(m):\n",
    "            row.append(i*j)\n",
    "        M.append(row)\n",
    "    return(M)\n",
    "\n",
    "x = int(input(\"Enter x : \"))\n",
    "y = int(input(\"enter y : \"))\n",
    "Matrix(x,y)"
   ]
  },
  {
   "cell_type": "markdown",
   "id": "53012288-8934-474d-9802-94271a5f1921",
   "metadata": {},
   "source": [
    "Q3: Write a program that accepts a comma separated sequence of words as input and prints the\n",
    "words in a comma-separated sequence after sorting them alphabetically.\n",
    "Suppose the following input is supplied to the program:\n",
    "without,hello,bag,world\n",
    "Then, the output should be:\n",
    "bag,hello,without,world"
   ]
  },
  {
   "cell_type": "markdown",
   "id": "f3bb4f3c-7baf-42f4-809f-51b5f6fe3324",
   "metadata": {},
   "source": [
    "Ans3:"
   ]
  },
  {
   "cell_type": "code",
   "execution_count": 15,
   "id": "47b2970b-dfd9-44c0-800a-730239e66f4c",
   "metadata": {},
   "outputs": [
    {
     "name": "stdout",
     "output_type": "stream",
     "text": [
      "bag,hello,without,world\n"
     ]
    }
   ],
   "source": [
    "a = (\"without,hello,bag,world\").split(\",\")\n",
    "b = \",\".join(sorted(list(a)))\n",
    "print(b)"
   ]
  },
  {
   "cell_type": "markdown",
   "id": "6bfdc8a2-11b1-4b37-87b1-db128c8dfc06",
   "metadata": {},
   "source": [
    "Q4: Write a program that accepts a sequence of whitespace separated words as input and prints\n",
    "the words after removing all duplicate words and sorting them alphanumerically.\n",
    "Suppose the following input is supplied to the program:\n",
    "hello world and practice makes perfect and hello world again\n",
    "Then, the output should be:\n",
    "again and hello makes perfect practice world"
   ]
  },
  {
   "cell_type": "markdown",
   "id": "88768fb9-c4fb-482d-99eb-f7046e97f9b2",
   "metadata": {},
   "source": [
    "Ans4"
   ]
  },
  {
   "cell_type": "code",
   "execution_count": 17,
   "id": "72155e77-3442-4c7f-8c01-546d4b3dd7ff",
   "metadata": {},
   "outputs": [
    {
     "name": "stdout",
     "output_type": "stream",
     "text": [
      "again and hello makes perfect practice world\n"
     ]
    }
   ],
   "source": [
    "s = (\"hello world and practice makes perfect and hello world again\").split(\" \")\n",
    "t = []\n",
    "for i in s:\n",
    "    if i not in t:\n",
    "        t.append(i)\n",
    "        \n",
    "u = \" \".join(sorted(list(t)))\n",
    "print(u)"
   ]
  },
  {
   "cell_type": "markdown",
   "id": "797ed342-6d5e-494e-aaa6-15a1b6cee833",
   "metadata": {},
   "source": [
    "Q5: Write a program that accepts a sentence and calculate the number of letters and digits.\n",
    "Suppose the following input is supplied to the program:\n",
    "hello world! 123\n",
    "Then, the output should be:\n",
    "LETTERS 10\n",
    "DIGITS 3"
   ]
  },
  {
   "cell_type": "markdown",
   "id": "c0931b10-91d3-41ac-aacc-f4808f45d61f",
   "metadata": {},
   "source": [
    "Ans5:"
   ]
  },
  {
   "cell_type": "code",
   "execution_count": 2,
   "id": "947fe4d1-5d0a-43c0-8977-852ccaec608a",
   "metadata": {},
   "outputs": [
    {
     "name": "stdout",
     "output_type": "stream",
     "text": [
      "Number of letters in string: 10\n",
      "Number of digits in string: 3\n"
     ]
    }
   ],
   "source": [
    "def cal_alnum(s):\n",
    "    letter, digit = 0, 0\n",
    "    for i in s:\n",
    "        if i.isalpha():\n",
    "            letter += 1\n",
    "        if i.isdigit():\n",
    "            digit += 1\n",
    "    print(\"Number of letters in string:\", letter)\n",
    "    print(\"Number of digits in string:\", digit)\n",
    "\n",
    "s1 = \"hello world! 123\"\n",
    "cal_alnum(s1)"
   ]
  },
  {
   "cell_type": "markdown",
   "id": "21f1fbc2-9d55-4785-9892-7f9b69fb94a5",
   "metadata": {},
   "source": [
    "Q6: A website requires the users to input username and password to register. Write a program to check \n",
    "the validity of password input by users.\n",
    "Following are the criteria for checking the password:\n",
    "1. At least 1 letter between [a-z]\n",
    "2. At least 1 number between [0-9]\n",
    "1. At least 1 letter between [A-Z]\n",
    "3. At least 1 character from [$#@]\n",
    "4. Minimum length of transaction password: 6\n",
    "5. Maximum length of transaction password: 12\n",
    "Your program should accept a sequence of comma separated passwords and will check them according \n",
    "to the above criteria. Passwords that match the criteria are to be printed, each separated by a comma.\n",
    "Example\n",
    "If the following passwords are given as input to the program:\n",
    "ABd1234@1,a F1#,2w3E*,2We3345\n",
    "Then, the output of the program should be:\n",
    "ABd1234@1"
   ]
  },
  {
   "cell_type": "markdown",
   "id": "33dd7a9c-d2f6-4b59-8a6d-ac7448e059d0",
   "metadata": {},
   "source": [
    "Ans6:"
   ]
  },
  {
   "cell_type": "code",
   "execution_count": 17,
   "id": "a6316d25-1e65-4db1-9b2c-1ec4082ee825",
   "metadata": {},
   "outputs": [
    {
     "name": "stdout",
     "output_type": "stream",
     "text": [
      "ABd1234@1\n"
     ]
    }
   ],
   "source": [
    "def pass_check(s):\n",
    "    spec_char = [\"$\",\"@\",\"#\",\"%\",\"&\",\"!\"]\n",
    "    check = True\n",
    "    if len(s) > 12:\n",
    "        #print(\"Password should not be greater than 12 character\")\n",
    "        check = False\n",
    "    if len(s) < 6:\n",
    "        #print(\"Password should not less than 6 character\")\n",
    "        check = False\n",
    "    if not any(i.isdigit() for i in s):\n",
    "        #print(\"Password should contain atleast 1 digit\")\n",
    "        check = False\n",
    "    if not any(i.isupper() for i in s):\n",
    "        #print(\"Password should contain atleast 1 uppercase\")\n",
    "        check = False\n",
    "    if not any(i.islower() for i in s):\n",
    "        #print(\"Password should contain atleast 1 lowercase\")\n",
    "        check = False\n",
    "    if not any(i in spec_char for i in s):\n",
    "        #print(\"Password should contain atleast 1 special character\")\n",
    "        check = False\n",
    "    if check:\n",
    "        return check\n",
    "        \n",
    "\n",
    "password = \"ABd1234@1,a F1#,2w3E*,2We3345\".split(\",\")\n",
    "for i in password:\n",
    "    if pass_check(i):\n",
    "        print(i)"
   ]
  },
  {
   "cell_type": "code",
   "execution_count": null,
   "id": "11358213-0ea8-4d78-a196-9ad1e2cf5620",
   "metadata": {},
   "outputs": [],
   "source": []
  }
 ],
 "metadata": {
  "kernelspec": {
   "display_name": "Python 3 (ipykernel)",
   "language": "python",
   "name": "python3"
  },
  "language_info": {
   "codemirror_mode": {
    "name": "ipython",
    "version": 3
   },
   "file_extension": ".py",
   "mimetype": "text/x-python",
   "name": "python",
   "nbconvert_exporter": "python",
   "pygments_lexer": "ipython3",
   "version": "3.12.4"
  }
 },
 "nbformat": 4,
 "nbformat_minor": 5
}
