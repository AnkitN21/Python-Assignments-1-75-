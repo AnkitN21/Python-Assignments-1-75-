{
 "cells": [
  {
   "cell_type": "markdown",
   "id": "287c8b36-8541-4f29-93d1-734542618c11",
   "metadata": {},
   "source": [
    "PROGRAM ASSIGNMENT 22"
   ]
  },
  {
   "cell_type": "markdown",
   "id": "36a87c9e-7a72-4d29-98e6-834c8f2a2101",
   "metadata": {},
   "source": [
    "Q1. Create a function that takes three parameters where:\n",
    "x is the start of the range (inclusive).\n",
    "y is the end of the range (inclusive).\n",
    "n is the divisor to be checked against.\n",
    "Return an ordered list with numbers in the range that are divisible by the third parameter n.\n",
    "Return an empty list if there are no numbers that are divisible by n.\n",
    "Examples\n",
    "list_operation(1, 10, 3) ➞ [3, 6, 9]\n",
    "list_operation(7, 9, 2) ➞ [8]\n",
    "list_operation(15, 20, 7) ➞ []"
   ]
  },
  {
   "cell_type": "markdown",
   "id": "077e6f58-dc40-4275-9375-37881b65b1bd",
   "metadata": {},
   "source": [
    "Ans1:"
   ]
  },
  {
   "cell_type": "code",
   "execution_count": 3,
   "id": "204e4799-1824-4f5b-9536-d2c58533ca9c",
   "metadata": {},
   "outputs": [
    {
     "name": "stdout",
     "output_type": "stream",
     "text": [
      "[3, 6, 9]\n",
      "[]\n"
     ]
    }
   ],
   "source": [
    "def list_oprt(x,y,z):\n",
    "    lst1 = []\n",
    "    for i in range(x,y):\n",
    "        if i%z == 0:\n",
    "            lst1.append(i)\n",
    "    return lst1\n",
    "\n",
    "print(list_oprt(1,10,3))\n",
    "print(list_oprt(15,20,7))"
   ]
  },
  {
   "cell_type": "markdown",
   "id": "cbca3cb6-b26f-4d1c-b412-6a53902003df",
   "metadata": {},
   "source": [
    "Q2. Create a function that takes in two lists and returns True if the second list follows the first list\n",
    "by one element, and False otherwise. In other words, determine if the second list is the first\n",
    "list shifted to the right by 1.\n",
    "Examples\n",
    "simon_says([1, 2], [5, 1]) ➞ True\n",
    "simon_says([1, 2], [5, 5]) ➞ False\n",
    "simon_says([1, 2, 3, 4, 5], [0, 1, 2, 3, 4]) ➞ True\n",
    "simon_says([1, 2, 3, 4, 5], [5, 5, 1, 2, 3]) ➞ False\n",
    "Notes\n",
    "Both input lists will be of the same length, and will have a minimum length of 2.\n",
    "The values of the 0-indexed element in the second list and the n-1th indexed element\n",
    "in the first list do not matter."
   ]
  },
  {
   "cell_type": "markdown",
   "id": "5094907c-bd97-42e2-942b-cd4c136123c7",
   "metadata": {},
   "source": [
    "Ans2:"
   ]
  },
  {
   "cell_type": "code",
   "execution_count": 12,
   "id": "abe983d6-96fc-42ef-8d44-b4c08684f7a9",
   "metadata": {},
   "outputs": [
    {
     "name": "stdout",
     "output_type": "stream",
     "text": [
      "True\n",
      "False\n"
     ]
    }
   ],
   "source": [
    "def simon_say(l,t):\n",
    "    if l[0:len(l)-1] == t[1:len(t)]:\n",
    "        return True\n",
    "    else:\n",
    "        return False\n",
    "\n",
    "print(simon_say([4,5,6],[3,4,5]))\n",
    "print(simon_say([1,2,3,4],[5,6,1,2]))"
   ]
  },
  {
   "cell_type": "markdown",
   "id": "ff4ccb2a-9b44-4306-b740-52c3616184ee",
   "metadata": {},
   "source": [
    "Q3. A group of friends have decided to start a secret society. The name will be the first letter of\n",
    "each of their names, sorted in alphabetical order.\n",
    "Create a function that takes in a list of names and returns the name of the secret society.\n",
    "Examples\n",
    "society_name(['Adam', 'Sarah', 'Malcolm']) ➞ 'AMS'\n",
    "society_name(['Harry', 'Newt', 'Luna', 'Cho']) ➞ 'CHLN'\n",
    "society_name(['Phoebe', 'Chandler', 'Rachel', 'Ross', 'Monica', 'Joey'])"
   ]
  },
  {
   "cell_type": "markdown",
   "id": "3168a50c-1801-407b-89ae-39ea64b10fcf",
   "metadata": {},
   "source": [
    "Ans3:"
   ]
  },
  {
   "cell_type": "code",
   "execution_count": 15,
   "id": "f507191d-62ae-4a18-9483-4220a85d17d4",
   "metadata": {},
   "outputs": [
    {
     "name": "stdout",
     "output_type": "stream",
     "text": [
      "AMS\n",
      "CJMPRR\n"
     ]
    }
   ],
   "source": [
    "def society_name(lst):\n",
    "    n = \"\"\n",
    "    for i in lst:\n",
    "        for j in i[0]:\n",
    "            n = n + j\n",
    "    return ''.join(sorted(n))\n",
    "\n",
    "print(society_name([\"Adam\", \"Sarah\", \"Malcolm\"]))\n",
    "print(society_name([\"Phoebe\", \"Chandler\", \"Rachel\", \"Ross\", \"Monica\", \"Joey\"]))"
   ]
  },
  {
   "cell_type": "markdown",
   "id": "87436377-84b8-4928-829f-ee023340f3a1",
   "metadata": {},
   "source": [
    "Q4. An isogram is a word that has no duplicate letters. Create a function that takes a string and\n",
    "returns either True or False depending on whether or not it's an 'isogram'.\n",
    "Examples\n",
    "is_isogram('Algorism') ➞ True\n",
    "is_isogram('PasSword') ➞ False\n",
    "# Not case sensitive.\n",
    "is_isogram('Consecutive') ➞ False\n",
    "Notes\n",
    "Ignore letter case (should not be case sensitive).\n",
    "All test cases contain valid one word strings."
   ]
  },
  {
   "cell_type": "markdown",
   "id": "474daf30-3a57-4b56-87c1-0b11c33f2832",
   "metadata": {},
   "source": [
    "Ans4:"
   ]
  },
  {
   "cell_type": "code",
   "execution_count": 18,
   "id": "9baa3e7a-16e6-4fee-bd51-3bd3168cabf4",
   "metadata": {},
   "outputs": [
    {
     "name": "stdout",
     "output_type": "stream",
     "text": [
      "False\n",
      "True\n"
     ]
    }
   ],
   "source": [
    "def isogram(a):\n",
    "    a1 = a.lower()\n",
    "    for i in range(len(a1)):\n",
    "        if a1.count(a1[i]) > 1:\n",
    "            return False\n",
    "    else:\n",
    "        return True\n",
    "\n",
    "print(isogram(\"PasSword\"))\n",
    "print(isogram(\"aloGrithm\"))"
   ]
  },
  {
   "cell_type": "markdown",
   "id": "f556061a-31c5-48ea-aabf-152eaeb0b5af",
   "metadata": {},
   "source": [
    "Q5. Create a function that takes a string and returns True or False, depending on whether the\n",
    "characters are in order or not.\n",
    "Examples\n",
    "is_in_order('abc') ➞ True\n",
    "is_in_order('edabit') ➞ False\n",
    "is_in_order('123') ➞ True\n",
    "is_in_order('xyzz') ➞ True\n",
    "Notes\n",
    "You don't have to handle empty strings."
   ]
  },
  {
   "cell_type": "markdown",
   "id": "9c398826-9404-4849-92c6-0e8bab44497a",
   "metadata": {},
   "source": [
    "Ans5:"
   ]
  },
  {
   "cell_type": "code",
   "execution_count": 26,
   "id": "366e30ec-3f36-4518-9dee-de4f4eaaceb0",
   "metadata": {},
   "outputs": [
    {
     "name": "stdout",
     "output_type": "stream",
     "text": [
      "True\n",
      "False\n"
     ]
    }
   ],
   "source": [
    "def is_order(x):\n",
    "    y = ''.join(sorted(x))\n",
    "    for i in range(len(x)):\n",
    "        if x[i] != y[i]:\n",
    "            return False\n",
    "        else:\n",
    "            return True\n",
    "    \n",
    "print(is_order(\"abcc\"))\n",
    "print(is_order(\"edit\"))"
   ]
  },
  {
   "cell_type": "code",
   "execution_count": null,
   "id": "6fae7fb0-7d74-4ed6-9b5a-3987b37b46c6",
   "metadata": {},
   "outputs": [],
   "source": []
  }
 ],
 "metadata": {
  "kernelspec": {
   "display_name": "Python 3 (ipykernel)",
   "language": "python",
   "name": "python3"
  },
  "language_info": {
   "codemirror_mode": {
    "name": "ipython",
    "version": 3
   },
   "file_extension": ".py",
   "mimetype": "text/x-python",
   "name": "python",
   "nbconvert_exporter": "python",
   "pygments_lexer": "ipython3",
   "version": "3.12.4"
  }
 },
 "nbformat": 4,
 "nbformat_minor": 5
}
