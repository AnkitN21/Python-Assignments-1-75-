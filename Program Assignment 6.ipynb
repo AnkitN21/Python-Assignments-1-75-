{
 "cells": [
  {
   "cell_type": "markdown",
   "id": "e01521eb-5d00-43ac-b36a-b7070d7527c9",
   "metadata": {},
   "source": [
    "PROGRAM ASSIGNMENT 6:"
   ]
  },
  {
   "cell_type": "markdown",
   "id": "8203f731-ee0e-4ce6-a8e3-46b36f2a5752",
   "metadata": {},
   "source": [
    "Ans1:"
   ]
  },
  {
   "cell_type": "code",
   "execution_count": 1,
   "id": "e99d1a57-ba05-4e7f-89e3-c86d1006058c",
   "metadata": {},
   "outputs": [
    {
     "name": "stdin",
     "output_type": "stream",
     "text": [
      "Enter the terms: 8\n"
     ]
    },
    {
     "name": "stdout",
     "output_type": "stream",
     "text": [
      "The Fibonacci series of 8th terms:\n",
      "0\n",
      "1\n",
      "1\n",
      "2\n",
      "3\n",
      "5\n",
      "8\n",
      "13\n"
     ]
    }
   ],
   "source": [
    "# fibonacci series using recursion\n",
    "def fibo(n):\n",
    "    if n <= 1:\n",
    "        return n\n",
    "    else:\n",
    "        b = (fibo(n-1) + fibo(n-2))\n",
    "        return b\n",
    "\n",
    "num = int(input(\"Enter the terms:\"))\n",
    "a = 0\n",
    "\n",
    "print(f\"The Fibonacci series of {num}th terms:\")\n",
    "print(a)\n",
    "\n",
    "for i in range(1,num):\n",
    "    print(fibo(i))\n",
    "    "
   ]
  },
  {
   "cell_type": "markdown",
   "id": "a0017db9-77aa-4f87-a313-133fc70e2780",
   "metadata": {},
   "source": [
    "Ans2:"
   ]
  },
  {
   "cell_type": "code",
   "execution_count": 2,
   "id": "a97046b9-d44e-4d42-a1b2-2fcb14e2aaaf",
   "metadata": {},
   "outputs": [
    {
     "name": "stdin",
     "output_type": "stream",
     "text": [
      "Enter number 5\n"
     ]
    },
    {
     "name": "stdout",
     "output_type": "stream",
     "text": [
      "The factorial of 5 is 120\n"
     ]
    }
   ],
   "source": [
    "# factorial using recursion\n",
    "def fact(f):\n",
    "    if f == 1:\n",
    "        return f\n",
    "    else:\n",
    "        a = f*fact(f-1)\n",
    "        return a\n",
    "        \n",
    "num = int(input(\"Enter number\"))\n",
    "\n",
    "print(f\"The factorial of {num} is\", fact(num))"
   ]
  },
  {
   "cell_type": "markdown",
   "id": "193282f3-ba24-4cfb-b9c2-072cd0a85e15",
   "metadata": {},
   "source": [
    "Ans3:"
   ]
  },
  {
   "cell_type": "code",
   "execution_count": 12,
   "id": "705b8b32-d40b-4da6-b3e9-80ffe0886487",
   "metadata": {},
   "outputs": [
    {
     "name": "stdin",
     "output_type": "stream",
     "text": [
      "Enter your weight(kg): 65\n",
      "Enter your height(mtr): 1.75\n"
     ]
    },
    {
     "name": "stdout",
     "output_type": "stream",
     "text": [
      "Your Body Mass Index(BMI) is 21.224489795918366\n"
     ]
    }
   ],
   "source": [
    "w = float(input(\"Enter your weight(kg):\"))\n",
    "h = float(input(\"Enter your height(mtr):\"))\n",
    "\n",
    "bmi = w/(h**2)\n",
    "print(f\"Your Body Mass Index(BMI) is {bmi}\")"
   ]
  },
  {
   "cell_type": "markdown",
   "id": "4c456c2b-3d88-4f64-b7f0-17a2f5a811f3",
   "metadata": {},
   "source": [
    "Ans4:"
   ]
  },
  {
   "cell_type": "code",
   "execution_count": 27,
   "id": "9e732237-6552-4926-af8d-e1911cb436fd",
   "metadata": {},
   "outputs": [
    {
     "name": "stdin",
     "output_type": "stream",
     "text": [
      "Enter a number: 8\n"
     ]
    },
    {
     "name": "stdout",
     "output_type": "stream",
     "text": [
      "The natural logarithm of 8 is 2.0794415416798357\n"
     ]
    }
   ],
   "source": [
    "import math\n",
    "\n",
    "n1 = int(input(\"Enter a number:\"))\n",
    "l1 = math.log(n1)\n",
    "\n",
    "print(f\"The natural logarithm of {n1} is {l1}\")"
   ]
  },
  {
   "cell_type": "markdown",
   "id": "32ed1aff-dd8c-438e-81f4-71a0ff6d129b",
   "metadata": {},
   "source": [
    "Ans5:"
   ]
  },
  {
   "cell_type": "code",
   "execution_count": 26,
   "id": "f79c434a-a52a-4a3c-a55f-169b6b2ea0f1",
   "metadata": {},
   "outputs": [
    {
     "name": "stdin",
     "output_type": "stream",
     "text": [
      "Enter the terms of natural number: 5\n"
     ]
    },
    {
     "name": "stdout",
     "output_type": "stream",
     "text": [
      "The cube sum of 5th term is 225\n"
     ]
    }
   ],
   "source": [
    "x = int(input(\"Enter the terms of natural number:\"))\n",
    "sum = 0\n",
    "\n",
    "for i in range(1,x+1):\n",
    "    sum += (i**3)\n",
    "\n",
    "print(f\"The cube sum of {x}th term is {sum}\")\n",
    "    "
   ]
  }
 ],
 "metadata": {
  "kernelspec": {
   "display_name": "Python 3 (ipykernel)",
   "language": "python",
   "name": "python3"
  },
  "language_info": {
   "codemirror_mode": {
    "name": "ipython",
    "version": 3
   },
   "file_extension": ".py",
   "mimetype": "text/x-python",
   "name": "python",
   "nbconvert_exporter": "python",
   "pygments_lexer": "ipython3",
   "version": "3.12.4"
  }
 },
 "nbformat": 4,
 "nbformat_minor": 5
}
