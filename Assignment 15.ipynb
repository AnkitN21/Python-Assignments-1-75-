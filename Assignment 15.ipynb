{
 "cells": [
  {
   "cell_type": "markdown",
   "id": "a7ff4958-b424-4317-9a05-8e0c0edf4235",
   "metadata": {},
   "source": [
    "ASSIGNMENT 15"
   ]
  },
  {
   "cell_type": "markdown",
   "id": "ed744923-279f-46bd-b924-9abd3bacfef0",
   "metadata": {},
   "source": [
    "Q1. How many seconds are in an hour? Use the interactive interpreter as a calculator and multiply the\n",
    "number of seconds in a minute (60) by the number of minutes in an hour (also 60)."
   ]
  },
  {
   "cell_type": "markdown",
   "id": "ba31868a-80be-4fa3-85f1-faa7bf58d5b3",
   "metadata": {},
   "source": [
    "Ans1:"
   ]
  },
  {
   "cell_type": "code",
   "execution_count": 3,
   "id": "836146f7-4d03-4584-9144-e8989aabf7fa",
   "metadata": {},
   "outputs": [
    {
     "name": "stdout",
     "output_type": "stream",
     "text": [
      "3600\n"
     ]
    }
   ],
   "source": [
    "sec_an_min = 60\n",
    "min_an_hour = 60\n",
    "print(sec_an_min*min_an_hour)"
   ]
  },
  {
   "cell_type": "markdown",
   "id": "d038ec63-475d-49d5-beb3-035ddc7b25d3",
   "metadata": {},
   "source": [
    "Q2. Assign the result from the previous task (seconds in an hour) to a variable called\n",
    "seconds_per_hour."
   ]
  },
  {
   "cell_type": "markdown",
   "id": "78d9e583-6a91-4239-9899-cb02d394e359",
   "metadata": {},
   "source": [
    "Ans2:"
   ]
  },
  {
   "cell_type": "code",
   "execution_count": 7,
   "id": "0d458334-1bfc-4ffc-abad-1e9c53b5fa29",
   "metadata": {},
   "outputs": [
    {
     "name": "stdout",
     "output_type": "stream",
     "text": [
      "3600\n"
     ]
    }
   ],
   "source": [
    "sec_per_hour = sec_an_min*min_an_hour\n",
    "print(sec_per_hour)"
   ]
  },
  {
   "cell_type": "markdown",
   "id": "666b0f48-5cff-4295-9fa0-d4420d48e87c",
   "metadata": {},
   "source": [
    "Q3. How many seconds do you think there are in a day? Make use of the variables seconds per hour\n",
    "and minutes per hour."
   ]
  },
  {
   "cell_type": "markdown",
   "id": "26871137-916b-4f25-bbc5-37f900a5b138",
   "metadata": {},
   "source": [
    "Ans3:"
   ]
  },
  {
   "cell_type": "code",
   "execution_count": 11,
   "id": "a8467abb-f6cf-46ad-ba08-8a9f7b3e720d",
   "metadata": {},
   "outputs": [
    {
     "name": "stdout",
     "output_type": "stream",
     "text": [
      "86400.0\n"
     ]
    }
   ],
   "source": [
    "print(sec_per_hour*sec_an_min/min_an_hour*24)"
   ]
  },
  {
   "cell_type": "code",
   "execution_count": null,
   "id": "1b926067-51b7-45ae-b52a-3fa73f0d5740",
   "metadata": {},
   "outputs": [],
   "source": [
    "Q4. Calculate seconds per day again, but this time save the result in a variable called seconds_per_day"
   ]
  },
  {
   "cell_type": "markdown",
   "id": "1e418f8c-2d24-4670-9405-b1a26d0fddfc",
   "metadata": {},
   "source": [
    "Ans4"
   ]
  },
  {
   "cell_type": "code",
   "execution_count": 12,
   "id": "ed2f6ef8-9d1f-47eb-afd0-6d4dad7a09cd",
   "metadata": {},
   "outputs": [
    {
     "name": "stdout",
     "output_type": "stream",
     "text": [
      "86400\n"
     ]
    }
   ],
   "source": [
    "sec_per_day = sec_an_hour*24\n",
    "print(sec_per_day)"
   ]
  },
  {
   "cell_type": "markdown",
   "id": "2e97ddcd-2788-4354-bc22-56fa5f406a17",
   "metadata": {},
   "source": [
    "Q5. Divide seconds_per_day by seconds_per_hour. Use floating-point (/) division."
   ]
  },
  {
   "cell_type": "markdown",
   "id": "3058b9dc-a650-4f7f-b8ff-b641249c5e1b",
   "metadata": {},
   "source": [
    "Ans5:"
   ]
  },
  {
   "cell_type": "code",
   "execution_count": 14,
   "id": "e64612d0-0221-49af-a07d-4beb2e5acba3",
   "metadata": {},
   "outputs": [
    {
     "name": "stdout",
     "output_type": "stream",
     "text": [
      "24.0\n"
     ]
    }
   ],
   "source": [
    "print(sec_per_day/sec_per_hour)"
   ]
  },
  {
   "cell_type": "markdown",
   "id": "0c7ee068-80c6-436e-b4d3-8564d9da2921",
   "metadata": {},
   "source": [
    "Q6. Divide seconds_per_day by seconds_per_hour, using integer (//) division. Did this number agree\n",
    "with the floating-point value from the previous question, aside from the final .0?"
   ]
  },
  {
   "cell_type": "markdown",
   "id": "6995b736-c5de-4a7b-a10f-194f1bb53be4",
   "metadata": {},
   "source": [
    "Ans6:"
   ]
  },
  {
   "cell_type": "code",
   "execution_count": 15,
   "id": "aa59c650-004a-4dcd-b2bd-cfe2f1a1ea13",
   "metadata": {},
   "outputs": [
    {
     "name": "stdout",
     "output_type": "stream",
     "text": [
      "24\n"
     ]
    }
   ],
   "source": [
    "print(sec_per_day//sec_per_hour)"
   ]
  },
  {
   "cell_type": "markdown",
   "id": "f1057be4-f1b6-4de6-bf94-b87a7124fba3",
   "metadata": {},
   "source": [
    "Q7. Write a generator, genPrimes, that returns the sequence of prime numbers on successive calls to\n",
    "its next() method: 2, 3, 5, 7, 11, ..."
   ]
  },
  {
   "cell_type": "markdown",
   "id": "38873924-54f7-4e6d-8211-60e43c2e2879",
   "metadata": {},
   "source": [
    "Ans7:"
   ]
  },
  {
   "cell_type": "code",
   "execution_count": 1,
   "id": "8fadaac3-406f-4db3-a4a3-0c31c1e1bdf2",
   "metadata": {},
   "outputs": [],
   "source": [
    "def getPrimes():\n",
    "    prime = []\n",
    "    n = 2\n",
    "    while True:\n",
    "        for i in prime:\n",
    "            if n%i == 0:\n",
    "                break\n",
    "        else:\n",
    "            prime.append(n)\n",
    "            yield n\n",
    "        n += 1"
   ]
  },
  {
   "cell_type": "code",
   "execution_count": 7,
   "id": "afc7ee09-57d6-462a-b310-5472eb098a8f",
   "metadata": {},
   "outputs": [],
   "source": [
    "gene = getPrimes()"
   ]
  },
  {
   "cell_type": "code",
   "execution_count": 8,
   "id": "947479b9-2d84-4130-bca6-5648d1e55509",
   "metadata": {},
   "outputs": [
    {
     "name": "stdout",
     "output_type": "stream",
     "text": [
      "2\n"
     ]
    }
   ],
   "source": [
    "print(next(gene))"
   ]
  },
  {
   "cell_type": "code",
   "execution_count": 9,
   "id": "ec4f9d3d-9e1f-4f8a-a6cf-f7fd1e592278",
   "metadata": {},
   "outputs": [
    {
     "name": "stdout",
     "output_type": "stream",
     "text": [
      "3\n",
      "5\n",
      "7\n",
      "11\n",
      "13\n"
     ]
    }
   ],
   "source": [
    "for i in range(5):\n",
    "    print(next(gene))"
   ]
  },
  {
   "cell_type": "code",
   "execution_count": null,
   "id": "cda06076-a510-4427-bfa5-7f8cc9986832",
   "metadata": {},
   "outputs": [],
   "source": []
  }
 ],
 "metadata": {
  "kernelspec": {
   "display_name": "Python 3 (ipykernel)",
   "language": "python",
   "name": "python3"
  },
  "language_info": {
   "codemirror_mode": {
    "name": "ipython",
    "version": 3
   },
   "file_extension": ".py",
   "mimetype": "text/x-python",
   "name": "python",
   "nbconvert_exporter": "python",
   "pygments_lexer": "ipython3",
   "version": "3.12.4"
  }
 },
 "nbformat": 4,
 "nbformat_minor": 5
}
