{
 "cells": [
  {
   "cell_type": "markdown",
   "id": "5108972c-e03c-441a-a76b-e990ff73ef6b",
   "metadata": {},
   "source": [
    "PROGRAM ASSIGNMENT 2:"
   ]
  },
  {
   "cell_type": "markdown",
   "id": "1960eb81-dff9-47d8-b70c-609f7ca74d7b",
   "metadata": {},
   "source": [
    "Ans1:"
   ]
  },
  {
   "cell_type": "code",
   "execution_count": 2,
   "id": "19271c8b-630e-4e87-831d-1dd3ce27c484",
   "metadata": {},
   "outputs": [
    {
     "name": "stdin",
     "output_type": "stream",
     "text": [
      "Enter in km 5\n"
     ]
    },
    {
     "name": "stdout",
     "output_type": "stream",
     "text": [
      "5.0 km is 3.1 miles\n"
     ]
    }
   ],
   "source": [
    "num = float(input(\"Enter in km\"))\n",
    "\n",
    "a = num*0.62\n",
    "print(f\"{num} km is {a} miles\")\n"
   ]
  },
  {
   "cell_type": "markdown",
   "id": "8cfc41d3-43c6-4749-9a7c-ea89349cb2a1",
   "metadata": {},
   "source": [
    "Ans2:"
   ]
  },
  {
   "cell_type": "code",
   "execution_count": 3,
   "id": "4dfbc952-aee5-4b13-bdf5-c77cae9ae031",
   "metadata": {},
   "outputs": [
    {
     "name": "stdin",
     "output_type": "stream",
     "text": [
      "Enter in Celsius 30\n"
     ]
    },
    {
     "name": "stdout",
     "output_type": "stream",
     "text": [
      "30.0 Celsius is 86.0 fahrenheit\n"
     ]
    }
   ],
   "source": [
    "cel = float(input(\"Enter in Celsius\"))\n",
    "\n",
    "a  =((cel*1.8)+32)\n",
    "print(f\"{cel} Celsius is {a} fahrenheit\")"
   ]
  },
  {
   "cell_type": "markdown",
   "id": "f3bb5817-1406-409c-bb7e-019e05aee8ee",
   "metadata": {},
   "source": [
    "Ans3:"
   ]
  },
  {
   "cell_type": "code",
   "execution_count": 4,
   "id": "e6ca5a87-81fc-4257-8c91-f70de7d3e749",
   "metadata": {},
   "outputs": [
    {
     "name": "stdin",
     "output_type": "stream",
     "text": [
      "Enter year:  2020\n",
      "Enter month:  5\n"
     ]
    },
    {
     "name": "stdout",
     "output_type": "stream",
     "text": [
      "      May 2020\n",
      "Mo Tu We Th Fr Sa Su\n",
      "             1  2  3\n",
      " 4  5  6  7  8  9 10\n",
      "11 12 13 14 15 16 17\n",
      "18 19 20 21 22 23 24\n",
      "25 26 27 28 29 30 31\n",
      "\n"
     ]
    }
   ],
   "source": [
    "import calendar\n",
    "\n",
    "yy = int(input(\"Enter year: \"))\n",
    "mm = int(input(\"Enter month: \"))\n",
    "\n",
    "print(calendar.month(yy,mm))"
   ]
  },
  {
   "cell_type": "markdown",
   "id": "e25e0ef8-69b1-4b5e-abac-7cf42882d78d",
   "metadata": {},
   "source": [
    "Ans4:"
   ]
  },
  {
   "cell_type": "code",
   "execution_count": 5,
   "id": "9af778d4-cd8c-4de1-a4e6-c107ef2b881b",
   "metadata": {},
   "outputs": [
    {
     "name": "stdin",
     "output_type": "stream",
     "text": [
      "Enter for value a: 3\n",
      "Enter for value b: 4\n",
      "Enter for value c: 5\n"
     ]
    },
    {
     "name": "stdout",
     "output_type": "stream",
     "text": [
      "The solution are (-0.6666666666666666-1.1055415967851332j) and (-0.6666666666666666+1.1055415967851332j)\n"
     ]
    }
   ],
   "source": [
    "import cmath     \n",
    "\n",
    "# Solve the quadratic equation ax**2 + bx + c = 0\n",
    "a = int(input(\"Enter for value a:\")) \n",
    "b = int(input(\"Enter for value b:\")) \n",
    "c = int(input(\"Enter for value c:\"))\n",
    "\n",
    "d = (b**2) - (4*a*c)\n",
    "\n",
    "# find two solutions\n",
    "sol1 = (-b-cmath.sqrt(d))/(2*a)\n",
    "sol2 = (-b+cmath.sqrt(d))/(2*a)\n",
    "\n",
    "print(f'The solution are {sol1} and {sol2}')"
   ]
  },
  {
   "cell_type": "markdown",
   "id": "c3cd2976-7375-4e5f-8458-ca48ef402363",
   "metadata": {},
   "source": [
    "Ans5:"
   ]
  },
  {
   "cell_type": "code",
   "execution_count": 6,
   "id": "7a2e4fc8-e97c-44cc-a989-60e48654c068",
   "metadata": {},
   "outputs": [
    {
     "name": "stdin",
     "output_type": "stream",
     "text": [
      "Enter value of x:  6\n",
      "Enter value of y:  13\n"
     ]
    },
    {
     "name": "stdout",
     "output_type": "stream",
     "text": [
      "Value of x after swap= 13\n",
      "Value of y after swap= 6\n"
     ]
    }
   ],
   "source": [
    "x = int(input('Enter value of x: '))\n",
    "y = int(input('Enter value of y: '))\n",
    "\n",
    "x, y = y, x\n",
    "\n",
    "print(\"Value of x after swap=\", x)\n",
    "print(\"Value of y after swap=\", y)"
   ]
  },
  {
   "cell_type": "code",
   "execution_count": null,
   "id": "953e822d-4605-4813-9f5f-61a0c1f8ee0f",
   "metadata": {},
   "outputs": [],
   "source": []
  }
 ],
 "metadata": {
  "kernelspec": {
   "display_name": "Python 3 (ipykernel)",
   "language": "python",
   "name": "python3"
  },
  "language_info": {
   "codemirror_mode": {
    "name": "ipython",
    "version": 3
   },
   "file_extension": ".py",
   "mimetype": "text/x-python",
   "name": "python",
   "nbconvert_exporter": "python",
   "pygments_lexer": "ipython3",
   "version": "3.12.4"
  }
 },
 "nbformat": 4,
 "nbformat_minor": 5
}
