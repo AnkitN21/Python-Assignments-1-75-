{
 "cells": [
  {
   "cell_type": "markdown",
   "id": "89597a2e-6916-4125-99c4-713f7432927b",
   "metadata": {},
   "source": [
    "ASSIGNMENT 9"
   ]
  },
  {
   "cell_type": "markdown",
   "id": "0a47ace8-00dd-4c58-9237-b021c2d9f1a6",
   "metadata": {},
   "source": [
    "Q1. To what does a relative path refer?"
   ]
  },
  {
   "cell_type": "markdown",
   "id": "075b403d-573b-4fd1-8675-2001ca8b6dea",
   "metadata": {},
   "source": [
    "Ans1:"
   ]
  },
  {
   "cell_type": "markdown",
   "id": "3ce93eb3-8e9b-4929-b003-d75008ad2adf",
   "metadata": {},
   "source": [
    "Relative path refers to the current working directory"
   ]
  },
  {
   "cell_type": "markdown",
   "id": "de123a01-332b-4869-bb62-14b7d1c62492",
   "metadata": {},
   "source": [
    "Q2. What does an absolute path start with your operating system?"
   ]
  },
  {
   "cell_type": "markdown",
   "id": "49e9c5ba-fe92-448f-8f87-45be075bf24b",
   "metadata": {},
   "source": [
    "Ans2:"
   ]
  },
  {
   "cell_type": "markdown",
   "id": "609e78fa-4acc-4cb2-912f-2abc9cf358bb",
   "metadata": {},
   "source": [
    "Absolute path starts with root folder i.e / or C:\\"
   ]
  },
  {
   "cell_type": "markdown",
   "id": "48137325-0d07-40b6-93c1-c55e143ffc07",
   "metadata": {},
   "source": [
    "Q3. What do the functions os.getcwd() and os.chdir() do?"
   ]
  },
  {
   "cell_type": "markdown",
   "id": "dc534c5a-3202-42fd-a971-35760f3cf725",
   "metadata": {},
   "source": [
    "Ans3:"
   ]
  },
  {
   "cell_type": "markdown",
   "id": "a9e43ebe-8908-44ef-827b-119b75fcbc3a",
   "metadata": {},
   "source": [
    "os.getcwd() will show the current directory and os.chdir() will change the directory"
   ]
  },
  {
   "cell_type": "markdown",
   "id": "cc23c3a8-3ae5-4cba-a696-057d5f8b654a",
   "metadata": {},
   "source": [
    "Q4. What are the . and .. folders?"
   ]
  },
  {
   "cell_type": "markdown",
   "id": "3975b57d-99cf-48b1-b454-ab6de25745d4",
   "metadata": {},
   "source": [
    "Ans4:"
   ]
  },
  {
   "cell_type": "markdown",
   "id": "9c343fec-59aa-45a3-af3e-63263aeebc7c",
   "metadata": {},
   "source": [
    "They are not real folder but are special names for path.\n",
    "(.) = this directory whereas (..) = parent directory"
   ]
  },
  {
   "cell_type": "markdown",
   "id": "83510ad5-a72b-4e13-9785-b87a3375240a",
   "metadata": {},
   "source": [
    "Q5. In C:\\bacon\\eggs\\spam.txt, which part is the dir name, and which part is the base name?"
   ]
  },
  {
   "cell_type": "markdown",
   "id": "08558416-3c09-4369-a563-f47159d520bf",
   "metadata": {},
   "source": [
    "Ans5:"
   ]
  },
  {
   "cell_type": "markdown",
   "id": "e901a885-33be-4735-a033-f4ec113b7df4",
   "metadata": {},
   "source": [
    "C:\\bacon\\eggs\\ is the dir name and spam.txt is the base name "
   ]
  },
  {
   "cell_type": "markdown",
   "id": "ddc58f70-8932-4f38-96e5-f2f94be7feb4",
   "metadata": {},
   "source": [
    "Q6. What are the three “mode” arguments that can be passed to the open() function?"
   ]
  },
  {
   "cell_type": "markdown",
   "id": "c190421a-b028-44a2-9c85-5907fdbe7024",
   "metadata": {},
   "source": [
    "Ans6:"
   ]
  },
  {
   "cell_type": "markdown",
   "id": "0de7eb00-4a20-40cd-9dbd-f8c0c59e68b6",
   "metadata": {},
   "source": [
    "Three “mode” arguments that can be passed to the open() function are \"r\" for read, \"w\" for writing and \"a\" for append"
   ]
  },
  {
   "cell_type": "markdown",
   "id": "1a05f79b-b078-4d50-8bae-87b2ef183a3e",
   "metadata": {},
   "source": [
    "Q7. What happens if an existing file is opened in write mode?"
   ]
  },
  {
   "cell_type": "markdown",
   "id": "842d0562-94d6-4e6f-b232-4c4a409f54ab",
   "metadata": {},
   "source": [
    "Ans7:"
   ]
  },
  {
   "cell_type": "markdown",
   "id": "279374b0-c3c2-4bf4-b90b-4625040d493c",
   "metadata": {},
   "source": [
    "In write mode, it will clear the previous content and overwrite completely"
   ]
  },
  {
   "cell_type": "markdown",
   "id": "92fde652-d0e7-4844-bceb-1c28ef8d7557",
   "metadata": {},
   "source": [
    "Q8. How do you tell the difference between read() and readlines()?"
   ]
  },
  {
   "cell_type": "markdown",
   "id": "6fb930da-6449-46de-b3e7-fa701e342fa7",
   "metadata": {},
   "source": [
    "Ans8:"
   ]
  },
  {
   "cell_type": "markdown",
   "id": "3a4f87ff-d787-4d0d-8f33-26895b2dde8b",
   "metadata": {},
   "source": [
    "In read(), the entire content is taken as single string whereas in readlines(), the content is in list containing strings seperated by lines"
   ]
  },
  {
   "cell_type": "markdown",
   "id": "94ebc2e5-93f8-4584-9471-cfa7b0889dd8",
   "metadata": {},
   "source": [
    "Q9. What data structure does a shelf value resemble?"
   ]
  },
  {
   "cell_type": "markdown",
   "id": "e76ab108-a336-4c51-8101-87372954c836",
   "metadata": {},
   "source": [
    "Ans9:"
   ]
  },
  {
   "cell_type": "markdown",
   "id": "76edc27e-85bc-4235-a4bc-9dfaaf40fef0",
   "metadata": {},
   "source": [
    "Data structure does a shelf value resemble as Dictionary value"
   ]
  }
 ],
 "metadata": {
  "kernelspec": {
   "display_name": "Python 3 (ipykernel)",
   "language": "python",
   "name": "python3"
  },
  "language_info": {
   "codemirror_mode": {
    "name": "ipython",
    "version": 3
   },
   "file_extension": ".py",
   "mimetype": "text/x-python",
   "name": "python",
   "nbconvert_exporter": "python",
   "pygments_lexer": "ipython3",
   "version": "3.12.4"
  }
 },
 "nbformat": 4,
 "nbformat_minor": 5
}
