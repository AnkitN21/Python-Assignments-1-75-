{
 "cells": [
  {
   "cell_type": "markdown",
   "id": "10b0b6c4-0d7b-49ec-b992-32781af56060",
   "metadata": {},
   "source": [
    "ASSIGNMENT 22"
   ]
  },
  {
   "cell_type": "markdown",
   "id": "dcbe1a26-ad70-48d3-bad8-aeecd967eea3",
   "metadata": {},
   "source": [
    "Q1. What is the result of the code, and explain?\n",
    "    X = 'iNeuron'\n",
    "    def func():\n",
    "    print(X)\n",
    "\n",
    "    func()"
   ]
  },
  {
   "cell_type": "markdown",
   "id": "aa1f7ae4-d8a8-4581-9713-4486083d89ca",
   "metadata": {},
   "source": [
    "Ans1:"
   ]
  },
  {
   "cell_type": "code",
   "execution_count": 1,
   "id": "0e13a001-a5bc-43b7-b336-74b764502ea5",
   "metadata": {},
   "outputs": [
    {
     "name": "stdout",
     "output_type": "stream",
     "text": [
      "iNeuron\n"
     ]
    }
   ],
   "source": [
    "X = 'iNeuron'\n",
    "def func():\n",
    "    print(X)\n",
    "func()"
   ]
  },
  {
   "cell_type": "markdown",
   "id": "1f1baa86-7ec3-456d-82a1-a4311484126e",
   "metadata": {},
   "source": [
    "Since X is global variable, the function takes the value of \"X\" from global : 'iNeuron'"
   ]
  },
  {
   "cell_type": "markdown",
   "id": "f5a538e6-0017-48e4-8378-747a6d5cdb42",
   "metadata": {},
   "source": [
    "Q2. What is the result of the code, and explain?\n",
    "    X = 'iNeuron'\n",
    "    def func():\n",
    "    X = 'NI!'\n",
    "\n",
    "    func()\n",
    "    print(X)"
   ]
  },
  {
   "cell_type": "markdown",
   "id": "970b79c7-0bb3-4a1e-8a1a-3cb4f74ee483",
   "metadata": {},
   "source": [
    "Ans2:"
   ]
  },
  {
   "cell_type": "code",
   "execution_count": 2,
   "id": "6645a2e5-5e38-41e6-aed0-d193a575c907",
   "metadata": {},
   "outputs": [
    {
     "name": "stdout",
     "output_type": "stream",
     "text": [
      "iNeuron\n"
     ]
    }
   ],
   "source": [
    "X = 'iNeuron'\n",
    "def func():\n",
    "    X = 'NI!'\n",
    "\n",
    "func()\n",
    "print(X)"
   ]
  },
  {
   "cell_type": "markdown",
   "id": "0b838d76-2486-469b-9382-2b52897c83ed",
   "metadata": {},
   "source": [
    "X is global variable, it will print: 'iNeuron  "
   ]
  },
  {
   "cell_type": "markdown",
   "id": "9541b98c-2930-4a3c-8898-372bd6d2a275",
   "metadata": {},
   "source": [
    "Q3. What does this code print, and why?\n",
    "   X = 'iNeuron'\n",
    "   def func():\n",
    "   X = 'NI'\n",
    "   print(X)\n",
    "\n",
    "   func()\n",
    "   print(X)"
   ]
  },
  {
   "cell_type": "markdown",
   "id": "15187226-c64e-47b1-a90d-c58698400d93",
   "metadata": {},
   "source": [
    "Ans3:"
   ]
  },
  {
   "cell_type": "code",
   "execution_count": 3,
   "id": "a59d4e83-0469-4889-89e4-104938b0eb81",
   "metadata": {},
   "outputs": [
    {
     "name": "stdout",
     "output_type": "stream",
     "text": [
      "NI!\n",
      "iNeuron\n"
     ]
    }
   ],
   "source": [
    "X = 'iNeuron'\n",
    "def func():\n",
    "    X = 'NI!'\n",
    "    print(X)\n",
    "\n",
    "func()\n",
    "print(X)"
   ]
  },
  {
   "cell_type": "markdown",
   "id": "3739a6d2-d53a-4014-8577-e40c8debb1d6",
   "metadata": {},
   "source": [
    "Since X is available in function which is local variable.\n",
    "During function call it will print the local variable: \"NI!\"\n",
    "X is global variable, it will print: 'iNeuron'      "
   ]
  },
  {
   "cell_type": "markdown",
   "id": "9e438743-1a52-41a8-a838-545eb62c6646",
   "metadata": {},
   "source": [
    "Q4. What output does this code produce? Why?\n",
    "    X = 'iNeuron'\n",
    "    def func():\n",
    "    global X\n",
    "    X = 'NI'\n",
    "\n",
    "    func()\n",
    "    print(X)"
   ]
  },
  {
   "cell_type": "markdown",
   "id": "13126db0-408f-4929-b9dd-bfacb7241ab5",
   "metadata": {},
   "source": [
    "Ans4:"
   ]
  },
  {
   "cell_type": "code",
   "execution_count": 6,
   "id": "bfc78243-98f6-483d-8f94-954cdaa4dbd5",
   "metadata": {},
   "outputs": [
    {
     "name": "stdout",
     "output_type": "stream",
     "text": [
      "NI!\n",
      "NI!\n"
     ]
    }
   ],
   "source": [
    "X = 'iNeuron'\n",
    "def func():\n",
    "    global X\n",
    "    X = 'NI!'\n",
    "    print(X)\n",
    "\n",
    "func()\n",
    "print(X)"
   ]
  },
  {
   "cell_type": "markdown",
   "id": "a3f115cb-3aef-41d3-9911-f1d27f55111f",
   "metadata": {},
   "source": [
    "Now X in function is now global.\n",
    "During function call it will print the local variable: \"NI!\"\n",
    "Since func() is called first, X has changed to: \"NI!\"  "
   ]
  },
  {
   "cell_type": "markdown",
   "id": "f80066aa-33ae-4cfd-9a9f-5a9862051d57",
   "metadata": {},
   "source": [
    "Q5. What about this code—what’s the output, and why?\n",
    "    X = 'iNeuron'\n",
    "    def func():\n",
    "    X = 'NI'\n",
    "    def nested():\n",
    "    print(X)\n",
    "    nested()\n",
    "\n",
    "    func()\n",
    "    X"
   ]
  },
  {
   "cell_type": "markdown",
   "id": "69384f2b-42fb-4c29-a35d-68b1dfca1290",
   "metadata": {},
   "source": [
    "Ans5:"
   ]
  },
  {
   "cell_type": "code",
   "execution_count": 8,
   "id": "c273c5d1-6b0f-4b9f-8c4d-35a07c23730c",
   "metadata": {},
   "outputs": [
    {
     "name": "stdout",
     "output_type": "stream",
     "text": [
      "iNeuron\n"
     ]
    },
    {
     "data": {
      "text/plain": [
       "'iNeuron'"
      ]
     },
     "execution_count": 8,
     "metadata": {},
     "output_type": "execute_result"
    }
   ],
   "source": [
    "X = 'iNeuron'\n",
    "def func():\n",
    "    X = 'NI'\n",
    "def nested():\n",
    "    print(X)\n",
    "\n",
    "nested()\n",
    "func()\n",
    "X"
   ]
  },
  {
   "cell_type": "markdown",
   "id": "1d3e030e-0c58-41db-828d-3468dd3d10b4",
   "metadata": {},
   "source": [
    "nested() function will print X from global: 'iNeuron',\n",
    "func() does not display anything,\n",
    "X will remain: 'iNeuron'"
   ]
  },
  {
   "cell_type": "markdown",
   "id": "2749fb6b-e67e-43d7-bf69-a4b6dfa42492",
   "metadata": {},
   "source": [
    "Q6. How about this code: what is its output in Python 3, and explain?\n",
    "    def func():\n",
    "    X = 'NI'\n",
    "    def nested():\n",
    "    nonlocal X\n",
    "    X = 'Spam'\n",
    "    nested()\n",
    "    print(X)\n",
    "\n",
    "    func()"
   ]
  },
  {
   "cell_type": "markdown",
   "id": "e2c741ea-75cb-45ab-aa1c-868011248c20",
   "metadata": {},
   "source": [
    "Ans6:"
   ]
  },
  {
   "cell_type": "code",
   "execution_count": 9,
   "id": "2052f7f3-c8a4-4ab7-90f0-8b474a3270e2",
   "metadata": {},
   "outputs": [
    {
     "name": "stdout",
     "output_type": "stream",
     "text": [
      "spam\n"
     ]
    }
   ],
   "source": [
    "def func():\n",
    "    X = 'NI'\n",
    "    def nested():\n",
    "        nonlocal X\n",
    "        X = 'spam'\n",
    "    nested()\n",
    "    print(X)\n",
    "\n",
    "func()"
   ]
  },
  {
   "cell_type": "markdown",
   "id": "df7a6501-24f3-4b4d-a868-c775047febf8",
   "metadata": {},
   "source": [
    "Nonlocal variables are used in nested functions whose local scope is not defined. \n",
    "This means that the variable can be neither in the local nor the global scope. \n",
    "It print the updated value from nested function, i.e: 'spam'"
   ]
  }
 ],
 "metadata": {
  "kernelspec": {
   "display_name": "Python 3 (ipykernel)",
   "language": "python",
   "name": "python3"
  },
  "language_info": {
   "codemirror_mode": {
    "name": "ipython",
    "version": 3
   },
   "file_extension": ".py",
   "mimetype": "text/x-python",
   "name": "python",
   "nbconvert_exporter": "python",
   "pygments_lexer": "ipython3",
   "version": "3.12.4"
  }
 },
 "nbformat": 4,
 "nbformat_minor": 5
}
