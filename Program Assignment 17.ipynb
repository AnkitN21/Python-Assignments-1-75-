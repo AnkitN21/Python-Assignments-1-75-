{
 "cells": [
  {
   "cell_type": "markdown",
   "id": "8b5a0a18-0055-41cf-9ebe-4d12f892838b",
   "metadata": {},
   "source": [
    "PROGRAM ASSIGNMENT 17"
   ]
  },
  {
   "cell_type": "markdown",
   "id": "9cdeade3-e1b6-4bd4-88c7-f47478f02af8",
   "metadata": {},
   "source": [
    "Q1. Create a function that takes three arguments a, b, c and returns the sum of the\n",
    "numbers that are evenly divided by c from the range a, b inclusive.\n",
    "Examples\n",
    "evenly_divisible(1, 10, 20) ➞ 0\n",
    "# No number between 1 and 10 can be evenly divided by 20.\n",
    "evenly_divisible(1, 10, 2) ➞ 30\n",
    "# 2 + 4 + 6 + 8 + 10 = 30\n",
    "evenly_divisible(1, 10, 3) ➞ 18\n",
    "# 3 + 6 + 9 = 18"
   ]
  },
  {
   "cell_type": "markdown",
   "id": "7c2ab28e-15da-4ea3-8de9-01f26a6bb7a6",
   "metadata": {},
   "source": [
    "Ans1:"
   ]
  },
  {
   "cell_type": "code",
   "execution_count": 5,
   "id": "3524bb9b-99c6-49c9-b9ea-e859b8ec18b8",
   "metadata": {
    "scrolled": true
   },
   "outputs": [
    {
     "name": "stdout",
     "output_type": "stream",
     "text": [
      "0\n",
      "30\n"
     ]
    }
   ],
   "source": [
    "def even_div(a, b, c):\n",
    "    d = 0\n",
    "    for i in range(a, b+1):\n",
    "        if i%c == 0:\n",
    "            d += i \n",
    "    return d\n",
    "\n",
    "print(even_div(1,10,20))\n",
    "print(even_div(1,10,2))"
   ]
  },
  {
   "cell_type": "code",
   "execution_count": null,
   "id": "372e1709-11be-48cb-ac28-a26c9aa3652c",
   "metadata": {},
   "outputs": [],
   "source": [
    "Q2. Create a function that returns True if a given inequality expression is correct and False otherwise.\n",
    "Examples\n",
    "correct_signs('3 < 7 <11') ➞ True\n",
    "correct_signs('13 > 44 > 33 > 1') ➞ False\n",
    "correct_signs('1 < 2 < 6 < 9 > 3') ➞ True"
   ]
  },
  {
   "cell_type": "markdown",
   "id": "0998150d-34ec-411a-8e59-5c2f0917afd1",
   "metadata": {},
   "source": [
    "Ans2:"
   ]
  },
  {
   "cell_type": "code",
   "execution_count": 5,
   "id": "ab83ccb0-35ec-4c86-b4d4-aa5a147f60c5",
   "metadata": {},
   "outputs": [
    {
     "name": "stdout",
     "output_type": "stream",
     "text": [
      "True\n",
      "False\n"
     ]
    }
   ],
   "source": [
    "def cor_sign(x):\n",
    "    return eval(x)\n",
    "\n",
    "print(cor_sign(\"3 < 7 < 11\"))\n",
    "print(cor_sign(\"44 < 33 > 1\"))"
   ]
  },
  {
   "cell_type": "code",
   "execution_count": null,
   "id": "05db74a6-f855-42fa-a953-ca8cb655ba43",
   "metadata": {},
   "outputs": [],
   "source": [
    "Q3. Create a function that replaces all the vowels in a string with a specified character.\n",
    "Examples\n",
    "replace_vowels('the aardvark', '#') ➞ 'th# ##rdv#rk'\n",
    "replace_vowels('minnie mouse', '?') ➞ 'm?nn?? m??s?'\n",
    "replace_vowels('shakespeare', '*') ➞ 'sh*k*sp**r*'"
   ]
  },
  {
   "cell_type": "markdown",
   "id": "bc4fc2a3-9907-450d-a9e7-e8135bc5c608",
   "metadata": {},
   "source": [
    "Ans3:"
   ]
  },
  {
   "cell_type": "code",
   "execution_count": 3,
   "id": "549aebaf-f4e8-4add-bd11-be6f46526bdc",
   "metadata": {},
   "outputs": [
    {
     "name": "stdin",
     "output_type": "stream",
     "text": [
      "Enter a word: minnie mouse\n",
      "Enter a specified character to replace vowels: ?\n"
     ]
    },
    {
     "name": "stdout",
     "output_type": "stream",
     "text": [
      "m?nn?? m??s?\n"
     ]
    }
   ],
   "source": [
    "def rep_vowel(s, v):\n",
    "    vows = \"AEIOUaeiou\"\n",
    "    for j in vows:\n",
    "        s = s.replace(j, v)\n",
    "    return s\n",
    "\n",
    "str1 = input(\"Enter a word:\")\n",
    "vow1 = input(\"Enter a specified character to replace vowels:\")\n",
    "print(rep_vowel(str1, vow1))"
   ]
  },
  {
   "cell_type": "markdown",
   "id": "c3fe0ebe-a06f-4d07-add3-b65ec4d1e124",
   "metadata": {},
   "source": [
    "Q4. Write a function that calculates the factorial of a number recursively.\n",
    "Examples\n",
    "factorial(5) ➞ 120\n",
    "factorial(3) ➞ 6\n",
    "factorial(1) ➞ 1\n",
    "factorial(0) ➞ 1"
   ]
  },
  {
   "cell_type": "markdown",
   "id": "d4437a33-8c17-43fa-b7e4-64e89e013eac",
   "metadata": {},
   "source": [
    "Ans4:"
   ]
  },
  {
   "cell_type": "code",
   "execution_count": 4,
   "id": "5175fa77-740c-49db-bea8-af73b67066a0",
   "metadata": {},
   "outputs": [
    {
     "name": "stdin",
     "output_type": "stream",
     "text": [
      "Enter number 5\n"
     ]
    },
    {
     "name": "stdout",
     "output_type": "stream",
     "text": [
      "The factorial of 5 is 120\n"
     ]
    }
   ],
   "source": [
    "def fact(f):\n",
    "    if f == 1:\n",
    "        return f\n",
    "    else:\n",
    "        a = f*fact(f-1)\n",
    "        return a\n",
    "        \n",
    "num = int(input(\"Enter number\"))\n",
    "\n",
    "print(f\"The factorial of {num} is\", fact(num))"
   ]
  },
  {
   "cell_type": "markdown",
   "id": "385a7ccd-4b96-4287-9906-56e97623ebf5",
   "metadata": {},
   "source": [
    "Q5. Hamming distance is the number of characters that differ between two strings.\n",
    "To illustrate:\n",
    "String1: 'abcbba'\n",
    "String2: 'abcbda'\n",
    "Hamming Distance: 1 - 'b' vs 'd' is the only difference.\n",
    "Create a function that computes the hamming distance between two strings.\n",
    "Examples\n",
    "hamming_distance('abcde', 'bcdef') ➞ 5\n",
    "hamming_distance('abcde', 'abcde') ➞ 0\n",
    "hamming_distance('strong', 'strung') ➞ 1"
   ]
  },
  {
   "cell_type": "markdown",
   "id": "617618c0-5241-4248-bbe5-1277179e8ae1",
   "metadata": {},
   "source": [
    "Ans5:"
   ]
  },
  {
   "cell_type": "code",
   "execution_count": 10,
   "id": "bad04e0b-f071-49ce-81a3-e241e03c70e6",
   "metadata": {},
   "outputs": [
    {
     "name": "stdout",
     "output_type": "stream",
     "text": [
      "The hamming distance between two strings: 5\n"
     ]
    }
   ],
   "source": [
    "def ham_dist(s1, s2):\n",
    "    i = 0\n",
    "    count = 0\n",
    "    while i < len(s1):\n",
    "        if s1[i] != s2[i]:\n",
    "            count += 1\n",
    "        i += 1\n",
    "    return count\n",
    "\n",
    "st1 = \"abcde\"\n",
    "st2 = \"bcdef\"\n",
    "print(\"The hamming distance between two strings:\",ham_dist(st1,st2))"
   ]
  }
 ],
 "metadata": {
  "kernelspec": {
   "display_name": "Python 3 (ipykernel)",
   "language": "python",
   "name": "python3"
  },
  "language_info": {
   "codemirror_mode": {
    "name": "ipython",
    "version": 3
   },
   "file_extension": ".py",
   "mimetype": "text/x-python",
   "name": "python",
   "nbconvert_exporter": "python",
   "pygments_lexer": "ipython3",
   "version": "3.12.4"
  }
 },
 "nbformat": 4,
 "nbformat_minor": 5
}
