{
 "cells": [
  {
   "cell_type": "markdown",
   "id": "649ff043-fc95-4819-9f66-cffe1d149be5",
   "metadata": {},
   "source": [
    "PROGRAM ASSIGNMENT 16"
   ]
  },
  {
   "cell_type": "markdown",
   "id": "2067fc36-8cba-453f-b32b-7f644f3370c0",
   "metadata": {},
   "source": [
    "Q1. Write a function that stutters a word as if someone is struggling to read it. \n",
    "The first two letters are repeated twice with an ellipsis ... and space after each, and then the\n",
    "word is pronounced with a question mark ?.\n",
    "Examples\n",
    "stutter('incredible') ➞ 'in... in... incredible?'\n",
    "stutter('enthusiastic') ➞ 'en... en... enthusiastic?'\n",
    "stutter('outstanding') ➞ 'ou... ou... outstanding?'\n",
    "Hint :- Assume all input is in lower case and at least two characters long."
   ]
  },
  {
   "cell_type": "markdown",
   "id": "b6417f8e-85af-492b-8952-1ddc10283c8a",
   "metadata": {},
   "source": [
    "Ans1:"
   ]
  },
  {
   "cell_type": "code",
   "execution_count": 4,
   "id": "76434ecd-364a-4922-94fa-07bbaaa03eea",
   "metadata": {},
   "outputs": [
    {
     "name": "stdin",
     "output_type": "stream",
     "text": [
      "Enter a word: incredible\n"
     ]
    },
    {
     "name": "stdout",
     "output_type": "stream",
     "text": [
      "in...in...incredible?\n"
     ]
    }
   ],
   "source": [
    "def shutter(word):\n",
    "    a = 2*(word[:2] + '...') + word + '?'\n",
    "    return a\n",
    "\n",
    "word = input(\"Enter a word:\").lower()\n",
    "print(shutter(word))"
   ]
  },
  {
   "cell_type": "markdown",
   "id": "fa863583-3a65-4515-9fb6-7490715e1310",
   "metadata": {},
   "source": [
    "Ans2:"
   ]
  },
  {
   "cell_type": "markdown",
   "id": "a8321fca-c974-42c6-a9da-00a89b345e4d",
   "metadata": {},
   "source": [
    "Q2. Create a function that takes an angle in radians and returns the corresponding angle \n",
    "in degrees rounded to one decimal place.\n",
    "Examples\n",
    "radians_to_degrees(1) ➞ 57.3\n",
    "radians_to_degrees(20) ➞ 1145.9\n",
    "radians_to_degrees(50) ➞ 2864.8"
   ]
  },
  {
   "cell_type": "code",
   "execution_count": 6,
   "id": "4ba690e9-f95a-4951-ba31-62939c7453b2",
   "metadata": {},
   "outputs": [
    {
     "name": "stdin",
     "output_type": "stream",
     "text": [
      "Enter the radian: 20\n"
     ]
    },
    {
     "name": "stdout",
     "output_type": "stream",
     "text": [
      "degree= 1146.496815286624\n"
     ]
    }
   ],
   "source": [
    "def rad_2_deg(rad):\n",
    "    deg = rad * (180/3.14)\n",
    "    return deg\n",
    "\n",
    "rad = float(input(\"Enter the radian:\"))\n",
    "print(\"degree=\",rad_2_deg(rad))"
   ]
  },
  {
   "cell_type": "code",
   "execution_count": null,
   "id": "e6b5fdac-80c5-4e06-b982-c0758152a3a7",
   "metadata": {},
   "outputs": [],
   "source": [
    "Q3. In this challenge, establish if a given integer num is a Curzon number. If 1 plus 2 elevated \n",
    "to num is exactly divisible by 1 plus 2 multiplied by num, then num is a Curzon number.\n",
    "Given a non-negative integer num, implement a function that returns True if num is a Curzon number, \n",
    "or False otherwise.\n",
    "Examples\n",
    "is_curzon(5) ➞ True\n",
    "# 2 ** 5 + 1 = 33\n",
    "# 2 * 5 + 1 = 11\n",
    "# 33 is a multiple of 11\n",
    "is_curzon(10) ➞ False\n",
    "# 2 ** 10 + 1 = 1025\n",
    "# 2 * 10 + 1 = 21\n",
    "# 1025 is not a multiple of 21\n",
    "is_curzon(14) ➞ True\n",
    "# 2 ** 14 + 1 = 16385\n",
    "# 2 * 14 + 1 = 29\n",
    "# 16385 is a multiple of 29"
   ]
  },
  {
   "cell_type": "markdown",
   "id": "394c65c8-6fc0-44e4-b74a-2a593428261a",
   "metadata": {},
   "source": [
    "Ans3:"
   ]
  },
  {
   "cell_type": "code",
   "execution_count": 1,
   "id": "0a1ba33a-83cd-48f8-a24c-5ad25c168bc6",
   "metadata": {},
   "outputs": [
    {
     "name": "stdout",
     "output_type": "stream",
     "text": [
      "False\n",
      "True\n"
     ]
    }
   ],
   "source": [
    "def curzon(x):\n",
    "    a = 2**x + 1\n",
    "    b = 2*x + 1\n",
    "    if a%b == 0:\n",
    "        return True\n",
    "    else:\n",
    "        return False\n",
    "\n",
    "print(curzon(10))\n",
    "print(curzon(14))"
   ]
  },
  {
   "cell_type": "markdown",
   "id": "59a516f0-70a6-4238-965f-9ad6410aa3bf",
   "metadata": {},
   "source": [
    "Q4. Given the side length x find the area of a hexagon.\n",
    "Area = (3√3*(s)**2)/2 where s is the side\n",
    "Examples\n",
    "area_of_hexagon(1) ➞ 2.6\n",
    "area_of_hexagon(2) ➞ 10.4\n",
    "area_of_hexagon(3) ➞ 23.4"
   ]
  },
  {
   "cell_type": "markdown",
   "id": "6fd08f80-6f9b-429a-ad25-be9cac9182ee",
   "metadata": {},
   "source": [
    "Ans4:"
   ]
  },
  {
   "cell_type": "code",
   "execution_count": 11,
   "id": "a29d7a40-8b1f-45c6-b003-768b403c2020",
   "metadata": {},
   "outputs": [
    {
     "name": "stdin",
     "output_type": "stream",
     "text": [
      "Enter side of hexagon: 2\n"
     ]
    },
    {
     "name": "stdout",
     "output_type": "stream",
     "text": [
      "10.392304845413264\n"
     ]
    }
   ],
   "source": [
    "import math\n",
    "def hexag(x):\n",
    "    area = (3*math.sqrt(3)*(x**2))/2\n",
    "    return area\n",
    "\n",
    "side = float(input(\"Enter side of hexagon:\"))\n",
    "print(hexag(side))"
   ]
  },
  {
   "cell_type": "markdown",
   "id": "c8f88f1e-45a8-495a-b069-0996ab0b60d6",
   "metadata": {},
   "source": [
    "Q5. Create a function that returns a base-2 (binary) representation of a base-10 (decimal) string number. \n",
    "To convert is simple: ((2) means base-2 and (10) means base-10)\n",
    "010101001(2) = 1 + 8 + 32 + 128.\n",
    "Going from right to left, the value of the most right bit is 1, now from that every bit to the left\n",
    "will be x2 the value, value of an 8 bit binary numbers are (256, 128, 64, 32, 16, 8, 4, 2, 1).\n",
    "Examples\n",
    "binary(1) ➞ '1'\n",
    "# 1*1 = 1\n",
    "binary(5) ➞ '101'\n",
    "# 1*1 + 1*4 = 5\n",
    "binary(10) ➞ '1010'\n",
    "# 1*2 + 1*8 = 10"
   ]
  },
  {
   "cell_type": "markdown",
   "id": "705f8686-2e86-4acb-b0c3-8e23d38ec325",
   "metadata": {},
   "source": [
    "Ans5:"
   ]
  },
  {
   "cell_type": "code",
   "execution_count": 15,
   "id": "74636916-fecb-4d35-a692-31680758365e",
   "metadata": {},
   "outputs": [
    {
     "name": "stdout",
     "output_type": "stream",
     "text": [
      "100000000\n",
      "10000000\n",
      "1000000\n",
      "100000\n",
      "10000\n",
      "1000\n",
      "100\n",
      "10\n",
      "1\n"
     ]
    }
   ],
   "source": [
    "def num_2_bin(x):\n",
    "    a = bin(x).replace(\"0b\",\"\")\n",
    "    return a\n",
    "\n",
    "num = (256, 128, 64, 32, 16, 8, 4, 2, 1)\n",
    "for i in num:\n",
    "    print(num_2_bin(i))"
   ]
  },
  {
   "cell_type": "code",
   "execution_count": null,
   "id": "13cbe134-59fa-4c42-abbe-720cb9058bf5",
   "metadata": {},
   "outputs": [],
   "source": []
  }
 ],
 "metadata": {
  "kernelspec": {
   "display_name": "Python 3 (ipykernel)",
   "language": "python",
   "name": "python3"
  },
  "language_info": {
   "codemirror_mode": {
    "name": "ipython",
    "version": 3
   },
   "file_extension": ".py",
   "mimetype": "text/x-python",
   "name": "python",
   "nbconvert_exporter": "python",
   "pygments_lexer": "ipython3",
   "version": "3.12.4"
  }
 },
 "nbformat": 4,
 "nbformat_minor": 5
}
