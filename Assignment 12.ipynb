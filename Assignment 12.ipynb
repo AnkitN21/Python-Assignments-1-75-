{
 "cells": [
  {
   "cell_type": "markdown",
   "id": "ffd20cd4-b1af-4c41-ac14-8f86733a2d04",
   "metadata": {},
   "source": [
    "ASSIGNMENT 12"
   ]
  },
  {
   "cell_type": "markdown",
   "id": "44955cf1-fc61-4ebd-8ed9-694fcb3d3e5a",
   "metadata": {},
   "source": [
    "Q1. In what modes should the PdfFileReader() and PdfFileWriter() File objects will be opened?"
   ]
  },
  {
   "cell_type": "markdown",
   "id": "839834ba-1333-400d-b4fc-899eb738f841",
   "metadata": {},
   "source": [
    "Ans1:"
   ]
  },
  {
   "cell_type": "markdown",
   "id": "cc628970-fe53-476c-a844-c3cc56429253",
   "metadata": {},
   "source": [
    "Read-binary ('rb') for PdfFileReader() and write-binary ('wb') for PdfFileWriter()"
   ]
  },
  {
   "cell_type": "markdown",
   "id": "2f746656-f8e2-4c01-b0c2-cb34e13744fe",
   "metadata": {},
   "source": [
    "Q2. From a PdfFileReader object, how do you get a Page object for page 5?"
   ]
  },
  {
   "cell_type": "markdown",
   "id": "8e3303ff-d59d-4750-b6a3-f70cd0815c1b",
   "metadata": {},
   "source": [
    "Ans2:"
   ]
  },
  {
   "cell_type": "markdown",
   "id": "4d13545c-b5cf-4c9d-a3e8-8bd7f20afe98",
   "metadata": {},
   "source": [
    "Calling getPage(4) will return a Page object from a PdfFileReader"
   ]
  },
  {
   "cell_type": "markdown",
   "id": "8cdb3c34-5218-4902-bc88-b789ad138496",
   "metadata": {},
   "source": [
    "Q3. What PdfFileReader variable stores the number of pages in the PDF document?"
   ]
  },
  {
   "cell_type": "markdown",
   "id": "cb13f89a-13e6-4f14-91cc-efd78bbad703",
   "metadata": {},
   "source": [
    "Ans3:"
   ]
  },
  {
   "cell_type": "markdown",
   "id": "592ec3fe-759d-4e24-909f-457ae77f53bf",
   "metadata": {},
   "source": [
    "numPages variable stores an integer of the number of the pages"
   ]
  },
  {
   "cell_type": "markdown",
   "id": "ba86c714-14b9-42f2-8b6b-2b3d7ac81fd0",
   "metadata": {},
   "source": [
    "Q4. If a PdfFileReader object’s PDF is encrypted with the password swordfish, what must you do\n",
    "before you can obtain Page objects from it?"
   ]
  },
  {
   "cell_type": "markdown",
   "id": "1a3169a8-64d2-4358-9fad-b9a415c42176",
   "metadata": {},
   "source": [
    "Ans4:"
   ]
  },
  {
   "cell_type": "markdown",
   "id": "78551f0c-7cd6-4924-b06b-43c8713ba885",
   "metadata": {},
   "source": [
    "call decrypt(\"swordfish\")"
   ]
  },
  {
   "cell_type": "markdown",
   "id": "a8f68930-7cfb-49b3-9f70-ec4e8294189c",
   "metadata": {},
   "source": [
    "Q5. What methods do you use to rotate a page?"
   ]
  },
  {
   "cell_type": "markdown",
   "id": "9ac6b5a1-296d-43a7-9554-323c7674d94f",
   "metadata": {},
   "source": [
    "Ans5:"
   ]
  },
  {
   "cell_type": "markdown",
   "id": "4c8361d6-aad5-43bc-befd-bf2a4a1af239",
   "metadata": {},
   "source": [
    "GetRotation() method returns the Page"
   ]
  },
  {
   "cell_type": "markdown",
   "id": "5df9edb9-2863-46a4-908c-4117cdabf9a5",
   "metadata": {},
   "source": [
    "Q6. What is the difference between a Run object and a Paragraph object?"
   ]
  },
  {
   "cell_type": "markdown",
   "id": "795f9096-c239-4cc1-8ec9-f907dc96bd14",
   "metadata": {},
   "source": [
    "Ans6:"
   ]
  },
  {
   "cell_type": "markdown",
   "id": "9c9ee623-4cd2-4e23-991e-843a5bd534ef",
   "metadata": {},
   "source": [
    "Paragraph object: A document contains multiple paragraphs. A paragraphs begins on a new line and \n",
    "contains multiple runs are paragraph object.\n",
    "Run Object: Runs are contiguous groups of characters within a paragraph with the same style."
   ]
  },
  {
   "cell_type": "markdown",
   "id": "24afa3f3-c35a-4dba-843b-8e6a35189486",
   "metadata": {},
   "source": [
    "Q7. How do you obtain a list of Paragraph objects for a Document object that’s stored in a variable\n",
    "named doc?"
   ]
  },
  {
   "cell_type": "markdown",
   "id": "a1682995-ef95-4b70-aa8d-09f0097f16f6",
   "metadata": {},
   "source": [
    "Ans7:"
   ]
  },
  {
   "cell_type": "code",
   "execution_count": null,
   "id": "575efd15-ff30-42cb-8ff6-d8b279f9240b",
   "metadata": {},
   "outputs": [],
   "source": [
    "import docx\n",
    "doc = docx.Document('abc.docx')\n",
    "doc.paragraphs  # by using this method"
   ]
  },
  {
   "cell_type": "markdown",
   "id": "802f4dcc-83bf-44d4-a4a0-7afc41a41c4f",
   "metadata": {},
   "source": [
    "Q8. What type of object has bold, underline, italic, strike, and outline variables?"
   ]
  },
  {
   "cell_type": "markdown",
   "id": "17a5ded9-0ac4-45a5-bf44-ba75c8beff71",
   "metadata": {},
   "source": [
    "Ans8:"
   ]
  },
  {
   "cell_type": "markdown",
   "id": "22aa91e0-7a76-40b7-ae39-a9b80d5b5f69",
   "metadata": {},
   "source": [
    "Run object has bold, underline, italic, strike and outline variables."
   ]
  },
  {
   "cell_type": "markdown",
   "id": "8fab8be4-72d2-4fe2-8a97-9d991282efca",
   "metadata": {},
   "source": [
    "Q9. What is the difference between False, True, and None for the bold variable?"
   ]
  },
  {
   "cell_type": "markdown",
   "id": "543c9153-bd63-483d-8fb7-e72aa67f9ff7",
   "metadata": {},
   "source": [
    "Ans9:"
   ]
  },
  {
   "cell_type": "markdown",
   "id": "58f648ee-1aa8-4f66-9074-e5786a85ec2c",
   "metadata": {},
   "source": [
    "True: the attribute is always enabled.\n",
    "False: the attributes is always disabled.\n",
    "None: defaults to whatever the runs style is set to."
   ]
  },
  {
   "cell_type": "markdown",
   "id": "6a882853-1d47-4303-931e-42130b9f8a8c",
   "metadata": {},
   "source": [
    "Q10. How do you create a Document object for a new Word document?"
   ]
  },
  {
   "cell_type": "markdown",
   "id": "5d6d58be-6007-4cb4-8e06-3c53e79c3af5",
   "metadata": {},
   "source": [
    "Ans10:"
   ]
  },
  {
   "cell_type": "markdown",
   "id": "31ccfae2-7f63-4fc8-9c82-ea463cbcbdf8",
   "metadata": {},
   "source": [
    "by calling docx.Document function"
   ]
  },
  {
   "cell_type": "markdown",
   "id": "c7f815d4-00ab-43ae-b757-c6f36270071d",
   "metadata": {},
   "source": [
    "Q11. How do you add a paragraph with the text 'Hello, there!' to a Document object stored in a variable named doc?"
   ]
  },
  {
   "cell_type": "markdown",
   "id": "e55a6280-a150-4fa6-8fbb-08c114fc9167",
   "metadata": {},
   "source": [
    "Ans11:"
   ]
  },
  {
   "cell_type": "code",
   "execution_count": null,
   "id": "4fcbf70b-7cba-43d5-81d7-72b1b7eb48c0",
   "metadata": {},
   "outputs": [],
   "source": [
    "import docx\n",
    "doc = docx.Document()\n",
    "\n",
    "doc.add_paragraph('Hello there!')\n",
    "doc.save('hellothere.docx')"
   ]
  },
  {
   "cell_type": "markdown",
   "id": "1c7a5101-58e4-4285-9a5d-070d270a6954",
   "metadata": {},
   "source": [
    "Q12. What integers represent the levels of headings available in Word documents?"
   ]
  },
  {
   "cell_type": "markdown",
   "id": "3320c854-6c78-44d7-9543-e47e741c84cb",
   "metadata": {},
   "source": [
    "Ans12:"
   ]
  },
  {
   "cell_type": "markdown",
   "id": "a2418ed8-b847-4fbc-b21f-d7564d929206",
   "metadata": {},
   "source": [
    "integer from 0 to 4"
   ]
  }
 ],
 "metadata": {
  "kernelspec": {
   "display_name": "Python 3 (ipykernel)",
   "language": "python",
   "name": "python3"
  },
  "language_info": {
   "codemirror_mode": {
    "name": "ipython",
    "version": 3
   },
   "file_extension": ".py",
   "mimetype": "text/x-python",
   "name": "python",
   "nbconvert_exporter": "python",
   "pygments_lexer": "ipython3",
   "version": "3.12.4"
  }
 },
 "nbformat": 4,
 "nbformat_minor": 5
}
