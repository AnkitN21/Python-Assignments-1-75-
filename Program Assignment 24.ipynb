{
 "cells": [
  {
   "cell_type": "markdown",
   "id": "df169fbc-188b-4fd2-af62-cde839ccd3d7",
   "metadata": {},
   "source": [
    "PROGRAM ASSIGNMENT 24"
   ]
  },
  {
   "cell_type": "markdown",
   "id": "ea2f8a2e-0d78-44c5-9e38-d6585a9646a6",
   "metadata": {},
   "source": [
    "Q1. Create a function that takes an integer and returns a list from 1 to the given number, where:\n",
    "   1. If the number can be divided evenly by 4, amplify it by 10 (i.e. return 10 times the number).\n",
    "   2. If the number cannot be divided evenly by 4, simply return the number.\n",
    "Examples\n",
    "amplify(4) ➞ [1, 2, 3, 40]\n",
    "amplify(3) ➞ [1, 2, 3]\n",
    "amplify(25) ➞ [1, 2, 3, 40, 5, 6, 7, 80, 9, 10, 11, 120, 13, 14, 15, 160,\n",
    "17, 18, 19, 200, 21, 22, 23, 240, 25]\n",
    "Notes\n",
    " The given integer will always be equal to or greater than 1.\n",
    " Include the number (see example above).\n",
    " To perform this problem with its intended purpose, try doing it with list\n",
    "comprehensions. If that's too difficult, just solve the challenge any way you can."
   ]
  },
  {
   "cell_type": "markdown",
   "id": "db0fd6ae-9866-4856-bd20-8980dc8c1b6d",
   "metadata": {},
   "source": [
    "Ans1:"
   ]
  },
  {
   "cell_type": "code",
   "execution_count": 4,
   "id": "f447b2fe-0bf8-4f96-9a1b-cca1ce074df7",
   "metadata": {},
   "outputs": [
    {
     "name": "stdout",
     "output_type": "stream",
     "text": [
      "[1, 2, 3, 40]\n",
      "[1, 2, 3, 40, 5, 6, 7, 80, 9, 10]\n"
     ]
    }
   ],
   "source": [
    "def amplify(n):\n",
    "    if n >= 1:\n",
    "        list_4 = [i*10 if i%4 == 0 else i for i in range(1,n+1)]\n",
    "        return list_4\n",
    "    else:\n",
    "        return \"Number should be equal to or greater than 1\"\n",
    "\n",
    "print(amplify(4))\n",
    "print(amplify(10))"
   ]
  },
  {
   "cell_type": "markdown",
   "id": "ec34b125-93bb-490a-97a9-6fa8ec841b60",
   "metadata": {},
   "source": [
    "Q2. Create a function that takes a list of numbers and return the number that's unique.\n",
    "Examples\n",
    "unique([3, 3, 3, 7, 3, 3]) ➞ 7\n",
    "unique([0, 0, 0.77, 0, 0]) ➞ 0.77\n",
    "unique([0, 1, 1, 1, 1, 1, 1, 1]) ➞ 0\n",
    "Notes\n",
    "Test cases will always have exactly one unique number while all others are the same."
   ]
  },
  {
   "cell_type": "markdown",
   "id": "3d0bff93-c31c-4513-b2f0-34d60b937007",
   "metadata": {},
   "source": [
    "Ans2:"
   ]
  },
  {
   "cell_type": "code",
   "execution_count": 8,
   "id": "0067eed8-5ad3-475a-9d5c-c0dfc8de3a8a",
   "metadata": {},
   "outputs": [
    {
     "data": {
      "text/plain": [
       "[7]"
      ]
     },
     "execution_count": 8,
     "metadata": {},
     "output_type": "execute_result"
    }
   ],
   "source": [
    "def unique(l):\n",
    "    uni_dict = {}\n",
    "    for i in l:\n",
    "        if i not in uni_dict:\n",
    "            uni_dict[i] = 1\n",
    "        else:\n",
    "            uni_dict[i] += 1\n",
    "    uni_list = []\n",
    "    for i, j in uni_dict.items():\n",
    "        if j == 1:\n",
    "            uni_list.append(i)\n",
    "    return uni_list\n",
    "    \n",
    "unique([3, 3, 3, 7, 3, 3])"
   ]
  },
  {
   "cell_type": "markdown",
   "id": "70cd0a0d-ff72-4115-b44e-8cf524651825",
   "metadata": {},
   "source": [
    "Q3. Your task is to create a Circle constructor that creates a circle with a radius provided by an\n",
    "argument. The circles constructed must have two getters getArea() (PIr^2) and\n",
    "getPerimeter() (2PI*r) which give both respective areas and perimeter (circumference).\n",
    "For help with this class, I have provided you with a Rectangle constructor which you can use\n",
    "as a base example.\n",
    "Examples\n",
    "circy = Circle(11)\n",
    "circy.getArea()\n",
    "# Should return 380.132711084365\n",
    "circy = Circle(4.44)\n",
    "circy.getPerimeter()\n",
    "# Should return 27.897342763877365\n",
    "Notes\n",
    "Round results up to the nearest integer."
   ]
  },
  {
   "cell_type": "markdown",
   "id": "b80e2cab-7b4e-4d26-b87f-3c7fc01daf20",
   "metadata": {},
   "source": [
    "Ans3:"
   ]
  },
  {
   "cell_type": "code",
   "execution_count": 11,
   "id": "557b75d8-47d1-4441-ac3a-1379f7a739ee",
   "metadata": {},
   "outputs": [
    {
     "name": "stdout",
     "output_type": "stream",
     "text": [
      "Area of the circle: 379.94\n",
      "Perimeter of the circle: 69.08\n"
     ]
    }
   ],
   "source": [
    "class Circle:\n",
    "    def __init__(self, rad):\n",
    "        self.rad = rad\n",
    "    def getArea(self):\n",
    "        area = 3.14*(self.rad)**2\n",
    "        return area\n",
    "    def getPeri(self):\n",
    "        peri = 2*3.14*self.rad\n",
    "        return peri\n",
    "\n",
    "circy = Circle(11)\n",
    "print(\"Area of the circle:\", circy.getArea())\n",
    "print(\"Perimeter of the circle:\", circy.getPeri())"
   ]
  },
  {
   "cell_type": "code",
   "execution_count": 13,
   "id": "2f722e65-8145-48f7-ae55-fd5176524e9b",
   "metadata": {},
   "outputs": [
    {
     "name": "stdout",
     "output_type": "stream",
     "text": [
      "Area of the reactangle: 48\n",
      "Perimeter of the reactangle: 28\n"
     ]
    }
   ],
   "source": [
    "class Rectangle:\n",
    "    def __init__(self, len, wid):\n",
    "        self.len = len\n",
    "        self.wid = wid\n",
    "    def getArea(self):\n",
    "        area = self.len * self.wid\n",
    "        return area\n",
    "    def getPeri(self):\n",
    "        peri = 2*(self.len + self.wid)\n",
    "        return peri\n",
    "\n",
    "recty = Rectangle(6,8)\n",
    "print(\"Area of the reactangle:\", recty.getArea())\n",
    "print(\"Perimeter of the reactangle:\", recty.getPeri())"
   ]
  },
  {
   "cell_type": "markdown",
   "id": "c3dc7455-bf71-4ac5-b1bb-a2b1b630a5c9",
   "metadata": {},
   "source": [
    "Q4. Create a function that takes a list of strings and return a list, sorted from shortest to longest.\n",
    "Examples\n",
    "sort_by_length(['Google', 'Apple', 'Microsoft'])\n",
    "➞ ['Apple', 'Google', 'Microsoft']\n",
    "sort_by_length(['Leonardo', 'Michelangelo', 'Raphael', 'Donatello'])\n",
    "➞ ['Raphael', 'Leonardo', 'Donatello', 'Michelangelo']\n",
    "sort_by_length(['Turing', 'Einstein', 'Jung'])\n",
    "➞ ['Jung', 'Turing', 'Einstein']\n",
    "Notes\n",
    "All test cases contain lists with strings of different lengths, so you won't have to deal with\n",
    "multiple strings of the same length."
   ]
  },
  {
   "cell_type": "markdown",
   "id": "ea1cd73f-c7ff-45b8-a864-d057d1c334e7",
   "metadata": {},
   "source": [
    "Ans4:"
   ]
  },
  {
   "cell_type": "code",
   "execution_count": 16,
   "id": "d2e7d4a0-40d6-4d93-9f3f-ce1f18743cad",
   "metadata": {},
   "outputs": [
    {
     "data": {
      "text/plain": [
       "['Apple', 'Google', 'Microsoft']"
      ]
     },
     "execution_count": 16,
     "metadata": {},
     "output_type": "execute_result"
    }
   ],
   "source": [
    "def list_str(l):\n",
    "    dict_str = {}\n",
    "    for i in l:\n",
    "        dict_str[i] = len(i)\n",
    "    dict_sort = dict(sorted(dict_str.items(), key= lambda i:i[1]))\n",
    "    list_sort = []\n",
    "    for j in dict_sort.keys():\n",
    "        list_sort.append(j)\n",
    "    return list_sort\n",
    "\n",
    "list_str(['Google', 'Apple', 'Microsoft'])"
   ]
  },
  {
   "cell_type": "markdown",
   "id": "9ee298a7-438e-4eb2-8b0d-2d2415603167",
   "metadata": {},
   "source": [
    "Q5. Create a function that validates whether three given integers form a Pythagorean triplet. \n",
    "The sum of the squares of the two smallest integers must equal the square of the largest number to\n",
    "be validated.\n",
    "Examples\n",
    "is_triplet(3, 4, 5) ➞ True\n",
    "# 3² + 4² = 25\n",
    "# 5² = 25\n",
    "is_triplet(13, 5, 12) ➞ True\n",
    "# 5² + 12² = 169\n",
    "# 13² = 169\n",
    "is_triplet(1, 2, 3) ➞ False\n",
    "# 1² + 2² = 5\n",
    "# 3² = 9\n",
    "Notes\n",
    "Numbers may not be given in a sorted order."
   ]
  },
  {
   "cell_type": "markdown",
   "id": "98530d65-4284-4b5d-b6a3-406d68726d98",
   "metadata": {},
   "source": [
    "Ans5:"
   ]
  },
  {
   "cell_type": "code",
   "execution_count": 18,
   "id": "1d1853da-a54b-401f-986f-823b26715678",
   "metadata": {},
   "outputs": [
    {
     "data": {
      "text/plain": [
       "False"
      ]
     },
     "execution_count": 18,
     "metadata": {},
     "output_type": "execute_result"
    }
   ],
   "source": [
    "def Pyth_trp(a,b,c):\n",
    "    if (a**2) + (b**2) == c**2:\n",
    "        return True\n",
    "    else:\n",
    "        return False\n",
    "\n",
    "Pyth_trp(3,4,7)"
   ]
  }
 ],
 "metadata": {
  "kernelspec": {
   "display_name": "Python 3 (ipykernel)",
   "language": "python",
   "name": "python3"
  },
  "language_info": {
   "codemirror_mode": {
    "name": "ipython",
    "version": 3
   },
   "file_extension": ".py",
   "mimetype": "text/x-python",
   "name": "python",
   "nbconvert_exporter": "python",
   "pygments_lexer": "ipython3",
   "version": "3.12.4"
  }
 },
 "nbformat": 4,
 "nbformat_minor": 5
}
