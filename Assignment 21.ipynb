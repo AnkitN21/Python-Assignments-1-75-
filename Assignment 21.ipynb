{
 "cells": [
  {
   "cell_type": "markdown",
   "id": "2cf13e19-d2eb-4270-8aae-fca61ce4f4f1",
   "metadata": {},
   "source": [
    "ASSIGNMENT 21"
   ]
  },
  {
   "cell_type": "markdown",
   "id": "77c7f561-ac23-42f9-a334-06c6a638279c",
   "metadata": {},
   "source": [
    "Q1. Add the current date to the text file today.txt as a string."
   ]
  },
  {
   "cell_type": "markdown",
   "id": "a01d0e98-a157-4711-8d03-110e2c642ffa",
   "metadata": {},
   "source": [
    "Ans1:"
   ]
  },
  {
   "cell_type": "code",
   "execution_count": 2,
   "id": "f475774a-6d12-4888-9fa3-dc29e81f2f7d",
   "metadata": {},
   "outputs": [],
   "source": [
    "from datetime import date\n",
    "now = date.today()\n",
    "cur_date = now.isoformat()\n",
    "\n",
    "with open('today.txt','w') as file:\n",
    "    file.write(cur_date)"
   ]
  },
  {
   "cell_type": "markdown",
   "id": "759bfdb0-ee56-4fc6-bb57-ba1f4db878fd",
   "metadata": {},
   "source": [
    "Q2. Read the text file today.txt into the string today_string."
   ]
  },
  {
   "cell_type": "markdown",
   "id": "068020cf-4c80-49ad-aeb3-f6f35c537c7e",
   "metadata": {},
   "source": [
    "Ans2:"
   ]
  },
  {
   "cell_type": "code",
   "execution_count": 3,
   "id": "a49d8efd-64fe-4771-806b-1673aad7840d",
   "metadata": {},
   "outputs": [
    {
     "data": {
      "text/plain": [
       "'2024-11-08'"
      ]
     },
     "execution_count": 3,
     "metadata": {},
     "output_type": "execute_result"
    }
   ],
   "source": [
    "with open('today.txt','r') as file:\n",
    "    today_string = file.read()\n",
    "today_string"
   ]
  },
  {
   "cell_type": "markdown",
   "id": "7272c0f1-5696-40f4-a357-725a8c67eb59",
   "metadata": {},
   "source": [
    "Q3. Parse the date from today_string."
   ]
  },
  {
   "cell_type": "markdown",
   "id": "e83d1ca4-d576-487e-b4c5-0858e5f2c521",
   "metadata": {},
   "source": [
    "Ans3:"
   ]
  },
  {
   "cell_type": "code",
   "execution_count": 4,
   "id": "e84bd165-4f4b-42bf-be52-2171d7757909",
   "metadata": {},
   "outputs": [
    {
     "data": {
      "text/plain": [
       "datetime.datetime(2024, 11, 8, 0, 0)"
      ]
     },
     "execution_count": 4,
     "metadata": {},
     "output_type": "execute_result"
    }
   ],
   "source": [
    "from datetime import datetime\n",
    "\n",
    "format = '%Y-%m-%d'\n",
    "datetime.strptime(today_string,format)"
   ]
  },
  {
   "cell_type": "markdown",
   "id": "0b39865a-bbc7-4d98-a1f3-c08c3e332479",
   "metadata": {},
   "source": [
    "Q4. List the files in your current directory."
   ]
  },
  {
   "cell_type": "markdown",
   "id": "51a48d06-fc11-46ac-8b87-c4de1141a10f",
   "metadata": {},
   "source": [
    "Ans4:"
   ]
  },
  {
   "cell_type": "markdown",
   "id": "e0c71ae4-cfc4-4cfb-803b-58c602b42619",
   "metadata": {},
   "source": [
    "#import os\n",
    "#os.listdir('.')"
   ]
  },
  {
   "cell_type": "markdown",
   "id": "8ea848b4-6de5-4ae7-9fd3-f414ed2b368c",
   "metadata": {},
   "source": [
    "Q6. Use multiprocessing to create three separate processes. Make each one wait \n",
    "a random number of seconds between one and five, print the current time, and then exit."
   ]
  },
  {
   "cell_type": "markdown",
   "id": "071538e2-5e28-4ad3-865d-17aaddc4d9ac",
   "metadata": {},
   "source": [
    "Ans6:"
   ]
  },
  {
   "cell_type": "markdown",
   "id": "bbfacb43-a974-4e2f-b331-67eef771be46",
   "metadata": {},
   "source": [
    "import multiprocessing\n",
    "\n",
    "def printsec(seconds):\n",
    "    from datetime import datetime\n",
    "    from time import sleep\n",
    "    sleep(seconds)\n",
    "    print('wait', seconds, 'seconds, time is', datetime.utcnow())\n",
    "\n",
    "if __name__ == \"__main__\": \n",
    "    import random    \n",
    "    for n in range(3):\n",
    "        seconds = random.random()\n",
    "        proc = multiprocessing.Process(target=printsec, args=(seconds,))\n",
    "        proc.start()"
   ]
  },
  {
   "cell_type": "markdown",
   "id": "5216e94a-e661-4043-8250-67b1fca4e2ea",
   "metadata": {},
   "source": [
    "Q7. Create a date object of your day of birth."
   ]
  },
  {
   "cell_type": "markdown",
   "id": "6c9490c2-21c2-424d-90ab-55ae9138d790",
   "metadata": {},
   "source": [
    "Ans7:"
   ]
  },
  {
   "cell_type": "code",
   "execution_count": 17,
   "id": "a187e1f3-0068-4f00-bee6-ffb0faf902b5",
   "metadata": {},
   "outputs": [
    {
     "data": {
      "text/plain": [
       "datetime.date(1995, 5, 5)"
      ]
     },
     "execution_count": 17,
     "metadata": {},
     "output_type": "execute_result"
    }
   ],
   "source": [
    "my_dob = date(1995,5,5)\n",
    "my_dob"
   ]
  },
  {
   "cell_type": "markdown",
   "id": "f17fa2c0-53b0-407b-b575-af0be5a4a100",
   "metadata": {},
   "source": [
    "Q8. What day of the week was your day of birth?"
   ]
  },
  {
   "cell_type": "markdown",
   "id": "83452078-9a1f-4c88-8e46-06998c3c2c64",
   "metadata": {},
   "source": [
    "Ans8:"
   ]
  },
  {
   "cell_type": "code",
   "execution_count": 18,
   "id": "2b0570cc-f14f-4c38-8cb2-5a6e7f53d51b",
   "metadata": {},
   "outputs": [
    {
     "data": {
      "text/plain": [
       "4"
      ]
     },
     "execution_count": 18,
     "metadata": {},
     "output_type": "execute_result"
    }
   ],
   "source": [
    "my_dob.weekday()"
   ]
  },
  {
   "cell_type": "markdown",
   "id": "5228b188-d724-4a7e-a939-e54e54913f67",
   "metadata": {},
   "source": [
    "Q9. When will you be (or when were you) 10,000 days old?"
   ]
  },
  {
   "cell_type": "markdown",
   "id": "54b2b630-7b85-45f9-98f0-08d75f9c4513",
   "metadata": {},
   "source": [
    "Ans9:"
   ]
  },
  {
   "cell_type": "code",
   "execution_count": 19,
   "id": "cff3d727-2309-4ca7-94b4-93502884432f",
   "metadata": {},
   "outputs": [
    {
     "data": {
      "text/plain": [
       "datetime.date(2022, 9, 20)"
      ]
     },
     "execution_count": 19,
     "metadata": {},
     "output_type": "execute_result"
    }
   ],
   "source": [
    "from datetime import timedelta\n",
    "day10000 = my_dob + timedelta(days=10000)\n",
    "day10000"
   ]
  },
  {
   "cell_type": "code",
   "execution_count": null,
   "id": "c4884b86-9aa5-44dd-9b5e-17c638f7193f",
   "metadata": {},
   "outputs": [],
   "source": []
  }
 ],
 "metadata": {
  "kernelspec": {
   "display_name": "Python 3 (ipykernel)",
   "language": "python",
   "name": "python3"
  },
  "language_info": {
   "codemirror_mode": {
    "name": "ipython",
    "version": 3
   },
   "file_extension": ".py",
   "mimetype": "text/x-python",
   "name": "python",
   "nbconvert_exporter": "python",
   "pygments_lexer": "ipython3",
   "version": "3.12.4"
  }
 },
 "nbformat": 4,
 "nbformat_minor": 5
}
