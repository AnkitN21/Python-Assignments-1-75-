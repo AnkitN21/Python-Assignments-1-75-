{
 "cells": [
  {
   "cell_type": "markdown",
   "id": "b094085e-5d76-4e35-afb9-c72b7a758937",
   "metadata": {},
   "source": [
    "ASSIGNMENT 5:"
   ]
  },
  {
   "cell_type": "markdown",
   "id": "c64c6e4f-cb72-44e4-ac13-b454cfdd9ca5",
   "metadata": {},
   "source": [
    "Q1. What does an empty dictionary's code look like?"
   ]
  },
  {
   "cell_type": "markdown",
   "id": "43afd2e8-c489-4aa4-a9b7-7bf443459175",
   "metadata": {},
   "source": [
    "Ans1:"
   ]
  },
  {
   "cell_type": "code",
   "execution_count": 1,
   "id": "99779c1e-6161-4d18-940a-06897287067e",
   "metadata": {},
   "outputs": [
    {
     "data": {
      "text/plain": [
       "dict"
      ]
     },
     "execution_count": 1,
     "metadata": {},
     "output_type": "execute_result"
    }
   ],
   "source": [
    "dict1 = {}\n",
    "type(dict1)"
   ]
  },
  {
   "cell_type": "markdown",
   "id": "47c81897-3d18-4441-a1dd-0b519a7bb276",
   "metadata": {},
   "source": [
    "Q2. What is the value of a dictionary value with the key \"foo\" and the value 42?"
   ]
  },
  {
   "cell_type": "markdown",
   "id": "19b79e78-b807-4dcc-a417-811fd172ef60",
   "metadata": {},
   "source": [
    "Ans2:"
   ]
  },
  {
   "cell_type": "code",
   "execution_count": 5,
   "id": "d4bd1e73-bb37-434d-8ea5-b0e3f406059f",
   "metadata": {},
   "outputs": [
    {
     "data": {
      "text/plain": [
       "42"
      ]
     },
     "execution_count": 5,
     "metadata": {},
     "output_type": "execute_result"
    }
   ],
   "source": [
    "dict2 = {\"foo\": 42}\n",
    "dict2[\"foo\"]\n",
    "dict2.get(\"foo\")"
   ]
  },
  {
   "cell_type": "markdown",
   "id": "bff1a2ca-5cea-4c28-add7-a02e1fac71ed",
   "metadata": {},
   "source": [
    "Q3. What is the most significant distinction between a dictionary and a list?"
   ]
  },
  {
   "cell_type": "markdown",
   "id": "a8974140-7282-4901-bb7f-a85a70101c36",
   "metadata": {},
   "source": [
    "Ans3:"
   ]
  },
  {
   "cell_type": "markdown",
   "id": "db162d24-68e9-4e7c-8e55-220a65ea9ebc",
   "metadata": {},
   "source": [
    "In dictionary, there are keys-values where keys cannot be duplicated, \n",
    "In list, there is no keys-values but duplication allowed"
   ]
  },
  {
   "cell_type": "markdown",
   "id": "91e51551-234e-45e3-8363-a29d81aa6efa",
   "metadata": {},
   "source": [
    "Q4. What happens if you try to access spam[\"foo\"] if spam is {\"bar\": 100}?"
   ]
  },
  {
   "cell_type": "markdown",
   "id": "ba1aaafd-abae-43a0-af35-214346d6d419",
   "metadata": {},
   "source": [
    "Ans4:"
   ]
  },
  {
   "cell_type": "code",
   "execution_count": 7,
   "id": "83c33a6e-0145-41bf-9089-d99830c72d3b",
   "metadata": {},
   "outputs": [
    {
     "ename": "KeyError",
     "evalue": "'foo'",
     "output_type": "error",
     "traceback": [
      "\u001b[1;31m---------------------------------------------------------------------------\u001b[0m",
      "\u001b[1;31mKeyError\u001b[0m                                  Traceback (most recent call last)",
      "Cell \u001b[1;32mIn[7], line 2\u001b[0m\n\u001b[0;32m      1\u001b[0m spam \u001b[38;5;241m=\u001b[39m {\u001b[38;5;124m'\u001b[39m\u001b[38;5;124mbar\u001b[39m\u001b[38;5;124m'\u001b[39m:\u001b[38;5;241m100\u001b[39m}\n\u001b[1;32m----> 2\u001b[0m spam[\u001b[38;5;124m'\u001b[39m\u001b[38;5;124mfoo\u001b[39m\u001b[38;5;124m'\u001b[39m]\n",
      "\u001b[1;31mKeyError\u001b[0m: 'foo'"
     ]
    }
   ],
   "source": [
    "spam = {'bar':100}\n",
    "spam['foo']       #it will give error because key i.e 'foo' doesnt have any value in spam"
   ]
  },
  {
   "cell_type": "markdown",
   "id": "426b08ec-8277-40ea-bb6d-437851346a64",
   "metadata": {},
   "source": [
    "Q5. If a dictionary is stored in spam, what is the difference between the expressions \"cat\" in spam and\n",
    "\"cat\" in spam.keys()?"
   ]
  },
  {
   "cell_type": "markdown",
   "id": "016cb9eb-429c-450d-abce-6c366c20155c",
   "metadata": {},
   "source": [
    "Ans5:"
   ]
  },
  {
   "cell_type": "code",
   "execution_count": 15,
   "id": "21dd6aba-c85b-489e-8f78-dfde8b3dfe75",
   "metadata": {},
   "outputs": [
    {
     "data": {
      "text/plain": [
       "True"
      ]
     },
     "execution_count": 15,
     "metadata": {},
     "output_type": "execute_result"
    }
   ],
   "source": [
    "spam1 = {'cat': 1}\n",
    "'cat' in spam1"
   ]
  },
  {
   "cell_type": "code",
   "execution_count": 11,
   "id": "6e6e7f3e-903a-4dd7-9e29-ba2caec96d46",
   "metadata": {},
   "outputs": [
    {
     "data": {
      "text/plain": [
       "True"
      ]
     },
     "execution_count": 11,
     "metadata": {},
     "output_type": "execute_result"
    }
   ],
   "source": [
    "'cat' in spam1.keys()"
   ]
  },
  {
   "cell_type": "markdown",
   "id": "91ed09da-6813-4f5b-a454-e927699d0517",
   "metadata": {},
   "source": [
    "In both cases, it checks the key 'cat' in spam1, returns True if present\n"
   ]
  },
  {
   "cell_type": "markdown",
   "id": "16559ae2-063b-414a-a841-c922c4c40bea",
   "metadata": {},
   "source": [
    "Q6. If a dictionary is stored in spam, what is the difference between the expressions \"cat\" in spam and\n",
    "\"cat\" in spam.values()?"
   ]
  },
  {
   "cell_type": "markdown",
   "id": "df7b0efa-bb9e-4e1e-a304-42200e5cb7fa",
   "metadata": {},
   "source": [
    "Ans6:"
   ]
  },
  {
   "cell_type": "code",
   "execution_count": 18,
   "id": "4d3261e1-de38-484f-8a1a-728168be3cbc",
   "metadata": {},
   "outputs": [
    {
     "data": {
      "text/plain": [
       "False"
      ]
     },
     "execution_count": 18,
     "metadata": {},
     "output_type": "execute_result"
    }
   ],
   "source": [
    "'cat' in spam1.values()"
   ]
  },
  {
   "cell_type": "markdown",
   "id": "7ccfff71-8e59-4bf2-8625-522a78f9e70e",
   "metadata": {},
   "source": [
    "In 2nd case, it checks 'cat' in value in spam1, returns True if present else False "
   ]
  },
  {
   "cell_type": "markdown",
   "id": "05b1d38c-7b33-40c7-91a3-c835313e63ce",
   "metadata": {},
   "source": [
    "Q7. What is a shortcut for the following code?\n",
    "if \"color\" not in spam:\n",
    "spam[\"color\"] = \"black\""
   ]
  },
  {
   "cell_type": "markdown",
   "id": "7e70f64d-840a-478e-8e3d-af741708b773",
   "metadata": {},
   "source": [
    "Ans7:"
   ]
  },
  {
   "cell_type": "code",
   "execution_count": 19,
   "id": "cfcf8fe4-aeb8-48df-a321-bfe5c26b329b",
   "metadata": {},
   "outputs": [
    {
     "data": {
      "text/plain": [
       "{'cat': 1, 'color': 'black'}"
      ]
     },
     "execution_count": 19,
     "metadata": {},
     "output_type": "execute_result"
    }
   ],
   "source": [
    "spam2 = {'cat': 1}\n",
    "spam2.setdefault('color','black')\n",
    "spam2"
   ]
  },
  {
   "cell_type": "markdown",
   "id": "d5592ff3-71e4-41d8-bc0f-041b1c029c75",
   "metadata": {},
   "source": [
    "Q8. How do you \"pretty print\" dictionary values using which module and function?"
   ]
  },
  {
   "cell_type": "markdown",
   "id": "51f67f54-98bf-4ca9-823d-ae936dae783c",
   "metadata": {},
   "source": [
    "Ans8:"
   ]
  },
  {
   "cell_type": "code",
   "execution_count": 24,
   "id": "9c046391-3f49-4bfd-a56e-f997e97a7144",
   "metadata": {},
   "outputs": [
    {
     "name": "stdout",
     "output_type": "stream",
     "text": [
      "[{'bar': 100, 'foo': 42},\n",
      " {'cat': 1, 'color': 'black'},\n",
      " {'rohit': 'sharma', 'sachin': 'tendulkar'},\n",
      " {'cricket': 'ICC', 'football': 'FIFA'}]\n"
     ]
    }
   ],
   "source": [
    "import pprint\n",
    "dict2 = [{'foo': 42, 'bar': 100}, \n",
    "         {'cat': 1, 'color': 'black'},\n",
    "         {'sachin': 'tendulkar', 'rohit':'sharma'},\n",
    "         {'cricket': 'ICC', 'football':'FIFA'}]\n",
    "pprint.pprint(dict2)"
   ]
  }
 ],
 "metadata": {
  "kernelspec": {
   "display_name": "Python 3 (ipykernel)",
   "language": "python",
   "name": "python3"
  },
  "language_info": {
   "codemirror_mode": {
    "name": "ipython",
    "version": 3
   },
   "file_extension": ".py",
   "mimetype": "text/x-python",
   "name": "python",
   "nbconvert_exporter": "python",
   "pygments_lexer": "ipython3",
   "version": "3.12.4"
  }
 },
 "nbformat": 4,
 "nbformat_minor": 5
}
