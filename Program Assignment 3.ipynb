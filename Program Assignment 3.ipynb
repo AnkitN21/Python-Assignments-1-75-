{
 "cells": [
  {
   "cell_type": "markdown",
   "id": "46dfe848-eb58-4491-97ef-ed6e8ef0e3a3",
   "metadata": {},
   "source": [
    "PROGRAM ASSIGNMENT 3:"
   ]
  },
  {
   "cell_type": "markdown",
   "id": "c7f574a8-2881-40c6-9fe0-7c795c5c0811",
   "metadata": {},
   "source": [
    "Ans1:"
   ]
  },
  {
   "cell_type": "code",
   "execution_count": 4,
   "id": "b978a30d-85f8-4136-a489-a8d7ff6ed63a",
   "metadata": {},
   "outputs": [
    {
     "name": "stdin",
     "output_type": "stream",
     "text": [
      "Enter a number -7\n"
     ]
    },
    {
     "name": "stdout",
     "output_type": "stream",
     "text": [
      "Negative\n"
     ]
    }
   ],
   "source": [
    "a = int(input('Enter a number'))\n",
    "\n",
    "if a > 0:\n",
    "    print('Postive')\n",
    "elif a == 0:\n",
    "    print('Zero')\n",
    "else:\n",
    "    print('Negative')"
   ]
  },
  {
   "cell_type": "markdown",
   "id": "f1863522-3095-4c45-ab24-6ec6b4cebe2e",
   "metadata": {},
   "source": [
    "Ans2:"
   ]
  },
  {
   "cell_type": "code",
   "execution_count": 5,
   "id": "e6a15d42-0d15-4980-8e63-c26474459032",
   "metadata": {},
   "outputs": [
    {
     "name": "stdin",
     "output_type": "stream",
     "text": [
      "Enter a number 45\n"
     ]
    },
    {
     "name": "stdout",
     "output_type": "stream",
     "text": [
      "Odd\n"
     ]
    }
   ],
   "source": [
    "n = int(input('Enter a number'))\n",
    "\n",
    "if n%2 == 0:\n",
    "    print('Even')\n",
    "else:\n",
    "    print('Odd')"
   ]
  },
  {
   "cell_type": "markdown",
   "id": "bd46ab28-4776-4d82-aad8-808048f88287",
   "metadata": {},
   "source": [
    "Ans3:"
   ]
  },
  {
   "cell_type": "code",
   "execution_count": 6,
   "id": "6eda6408-0a7f-40d4-9dde-9c92c5c26b36",
   "metadata": {},
   "outputs": [
    {
     "name": "stdin",
     "output_type": "stream",
     "text": [
      "Enter Year 2020\n"
     ]
    },
    {
     "name": "stdout",
     "output_type": "stream",
     "text": [
      "Leap Year\n"
     ]
    }
   ],
   "source": [
    "yr = int(input('Enter Year'))\n",
    "\n",
    "if yr%4 == 0:\n",
    "    print('Leap Year')\n",
    "else:\n",
    "    print('Non-Leap Year')"
   ]
  },
  {
   "cell_type": "markdown",
   "id": "e71d1bb6-9653-4c13-be46-518e0ee7cbc1",
   "metadata": {},
   "source": [
    "Ans4:"
   ]
  },
  {
   "cell_type": "code",
   "execution_count": 9,
   "id": "b4b331e5-8cd6-49b7-bafc-f009666dbfb4",
   "metadata": {},
   "outputs": [
    {
     "name": "stdin",
     "output_type": "stream",
     "text": [
      "Enter number 4\n"
     ]
    },
    {
     "name": "stdout",
     "output_type": "stream",
     "text": [
      "4 is not a prime number\n"
     ]
    }
   ],
   "source": [
    "num = int(input(\"Enter number\"))\n",
    "\n",
    "for i in range(2, (num//2)+1):\n",
    "    if (num % i) == 0:\n",
    "        print(num, \"is not a prime number\")\n",
    "        break\n",
    "else:\n",
    "    print(num, \"is a prime number\")\n"
   ]
  },
  {
   "cell_type": "markdown",
   "id": "1d3738da-c5be-43d7-b4f3-43e6654e2524",
   "metadata": {},
   "source": [
    "Ans5:"
   ]
  },
  {
   "cell_type": "code",
   "execution_count": 21,
   "id": "b9cdbe5c-36c4-482a-8e52-7a49dd5ba758",
   "metadata": {},
   "outputs": [
    {
     "name": "stdout",
     "output_type": "stream",
     "text": [
      "2,3,5,7,11,13,17,19,23,29,31,37,41,43,47,53,59,61,67,71,73,79,83,89,97,"
     ]
    }
   ],
   "source": [
    "for i in range(2,100):\n",
    "        for j in range(2,100):\n",
    "            if (i%j) == 0:\n",
    "                break\n",
    "        if i == j:\n",
    "            print(i, end=',')\n",
    "        "
   ]
  }
 ],
 "metadata": {
  "kernelspec": {
   "display_name": "Python 3 (ipykernel)",
   "language": "python",
   "name": "python3"
  },
  "language_info": {
   "codemirror_mode": {
    "name": "ipython",
    "version": 3
   },
   "file_extension": ".py",
   "mimetype": "text/x-python",
   "name": "python",
   "nbconvert_exporter": "python",
   "pygments_lexer": "ipython3",
   "version": "3.12.4"
  }
 },
 "nbformat": 4,
 "nbformat_minor": 5
}
