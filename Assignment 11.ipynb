{
 "cells": [
  {
   "cell_type": "markdown",
   "id": "04118449-437d-4f58-b3f3-0e1bcef1ea2f",
   "metadata": {},
   "source": [
    "ASSIGNMENT 11"
   ]
  },
  {
   "cell_type": "markdown",
   "id": "ebd120a8-eac6-4665-9da0-7d3000ca329f",
   "metadata": {},
   "source": [
    "Q1. Create an assert statement that throws an AssertionError if the variable spam is a negative\n",
    "integer."
   ]
  },
  {
   "cell_type": "markdown",
   "id": "4ebd892a-648d-4e38-b641-ebfcb26cfe01",
   "metadata": {},
   "source": [
    "Ans1:"
   ]
  },
  {
   "cell_type": "code",
   "execution_count": null,
   "id": "33b03441-85d0-4143-a072-4ad39cf8d8af",
   "metadata": {},
   "outputs": [],
   "source": [
    "assert spam >= 0,\"The spam variable is negative integer\""
   ]
  },
  {
   "cell_type": "markdown",
   "id": "de2dd371-4d9d-41aa-b965-45246c6a1663",
   "metadata": {},
   "source": [
    "Q2. Write an assert statement that triggers an AssertionError if the variables eggs and bacon contain strings \n",
    "that are the same as each other, even if their cases are different (that is, 'hello' and 'Hello' are \n",
    "considered the same, and 'goodbye' and 'GOODbye' are also considered the same)."
   ]
  },
  {
   "cell_type": "markdown",
   "id": "af798f7f-434d-45ea-8316-86de62de5e09",
   "metadata": {},
   "source": [
    "Ans2:"
   ]
  },
  {
   "cell_type": "code",
   "execution_count": null,
   "id": "b19fe36c-a078-44f5-be72-eeff5f790d3c",
   "metadata": {},
   "outputs": [],
   "source": [
    "assert eggs.lower() != bacon.lower() or eggs.upper() != bacon.upper(), \"The eggs and bacon variable are same\""
   ]
  },
  {
   "cell_type": "markdown",
   "id": "dbe863b0-7142-42d4-ac50-084386abf526",
   "metadata": {},
   "source": [
    "Q3. Create an assert statement that throws an AssertionError every time."
   ]
  },
  {
   "cell_type": "markdown",
   "id": "68307f6c-c6a6-4273-91c1-ea33fdc4f111",
   "metadata": {},
   "source": [
    "Ans3:"
   ]
  },
  {
   "cell_type": "code",
   "execution_count": null,
   "id": "49be1ad8-5655-49bc-8d2c-826c28ef6012",
   "metadata": {},
   "outputs": [],
   "source": [
    "assert False, \"This assertion always triggers\""
   ]
  },
  {
   "cell_type": "markdown",
   "id": "2ed7248e-5e1d-4716-b8d3-2a54f5297091",
   "metadata": {},
   "source": [
    "Q4. What are the two lines that must be present in your software in order to call logging.debug()?"
   ]
  },
  {
   "cell_type": "markdown",
   "id": "3a142e39-211a-4261-8ada-731df474a3e2",
   "metadata": {},
   "source": [
    "Ans4:"
   ]
  },
  {
   "cell_type": "code",
   "execution_count": null,
   "id": "fcebd4fb-e228-435e-8146-99fb687d0921",
   "metadata": {},
   "outputs": [],
   "source": [
    "import logging\n",
    "logging.basicConfig(filename= \"resultouput.log\", level = logging.DEBUG,\n",
    "                   format= \"[%(asctime)s] %(message)s\")"
   ]
  },
  {
   "cell_type": "markdown",
   "id": "ced4bb15-0db3-4e6a-9ba0-e7a7b842446c",
   "metadata": {},
   "source": [
    "Q5. What are the two lines that your program must have in order to have logging.debug() send a\n",
    "logging message to a file named programLog.txt?"
   ]
  },
  {
   "cell_type": "markdown",
   "id": "106089a0-2727-4248-b85c-236dde83628e",
   "metadata": {},
   "source": [
    "Ans5:"
   ]
  },
  {
   "cell_type": "code",
   "execution_count": null,
   "id": "23ed5739-3e89-4b2c-8e32-a68852248e4d",
   "metadata": {},
   "outputs": [],
   "source": [
    "import logging\n",
    "logging.basicConfig(filename= \"programLog.txt\", level = logging.DEBUG,\n",
    "                   format= \"[%(asctime)s] %(message)s\")"
   ]
  },
  {
   "cell_type": "markdown",
   "id": "c80d2757-63a8-4d7e-aa87-b5cd970077f9",
   "metadata": {},
   "source": [
    "Q6. What are the five levels of logging?"
   ]
  },
  {
   "cell_type": "markdown",
   "id": "d0409f80-80c7-4b84-80d6-0dc8736e4aa4",
   "metadata": {},
   "source": [
    "Ans6:"
   ]
  },
  {
   "cell_type": "markdown",
   "id": "6ef24834-1f22-4a79-b565-4b6a4189e6ed",
   "metadata": {},
   "source": [
    "Debug, Info, Warning, Error and Critical"
   ]
  },
  {
   "cell_type": "markdown",
   "id": "bf527763-2a69-49d4-8f40-1c6bc68723ab",
   "metadata": {},
   "source": [
    "Q7. What line of code would you add to your software to disable all logging messages?"
   ]
  },
  {
   "cell_type": "markdown",
   "id": "3f48ad60-f18c-40bd-9a44-743681e18f7c",
   "metadata": {},
   "source": [
    "Ans7:"
   ]
  },
  {
   "cell_type": "markdown",
   "id": "fbb4ca7c-68ee-4042-94f1-430fd8bad2ef",
   "metadata": {},
   "source": [
    "logging.disable(logging.CRITICAL)"
   ]
  },
  {
   "cell_type": "markdown",
   "id": "c2a98056-2500-412c-8d0e-f72efd312a0a",
   "metadata": {},
   "source": [
    "Q8. Why is using logging messages better than using print() to display the same message?"
   ]
  },
  {
   "cell_type": "markdown",
   "id": "9c3a44d1-5f0e-4286-8c33-3d1d3816912a",
   "metadata": {},
   "source": [
    "Ans8:"
   ]
  },
  {
   "cell_type": "markdown",
   "id": "6661980a-0a0c-484d-b346-a6dfb86175ba",
   "metadata": {},
   "source": [
    "Because logging messages provides timestamp"
   ]
  },
  {
   "cell_type": "markdown",
   "id": "2c5ad47f-734e-47db-90b7-b9a6d20427b7",
   "metadata": {},
   "source": [
    "Q9. What are the differences between the Step Over, Step In, and Step Out buttons in the debugger?"
   ]
  },
  {
   "cell_type": "markdown",
   "id": "059985f9-1cfb-49ce-bdb6-83aaf11fce62",
   "metadata": {},
   "source": [
    "Ans9:"
   ]
  },
  {
   "cell_type": "markdown",
   "id": "4f3245ba-e40e-4abf-9e63-18e714328a91",
   "metadata": {},
   "source": [
    "Step Over will quickly execute the function call without stepping into it.\n",
    "Step In will let you see the current line executed.\n",
    "Step Out wil quickly execute the rest of code until it steps out of the function."
   ]
  },
  {
   "cell_type": "markdown",
   "id": "56e9be7e-f3dd-4983-9abd-f67eb25289bf",
   "metadata": {},
   "source": [
    "Q10. After you click Continue, when will the debugger stop?"
   ]
  },
  {
   "cell_type": "markdown",
   "id": "f07986f3-9dae-435a-81af-bc3de079bd85",
   "metadata": {},
   "source": [
    "Ans10:"
   ]
  },
  {
   "cell_type": "markdown",
   "id": "0bcf31c9-cc13-4ae5-a961-1c81be015b38",
   "metadata": {},
   "source": [
    "Debugger will stop when it reaches the end of the program or the line with a breakpoint"
   ]
  },
  {
   "cell_type": "markdown",
   "id": "9b7ca914-a53f-49f0-a1c3-b6d6d97e4e09",
   "metadata": {},
   "source": [
    "Q11. What is the concept of a breakpoint?"
   ]
  },
  {
   "cell_type": "markdown",
   "id": "03f6b222-0eb3-4f86-af27-482c0c212088",
   "metadata": {},
   "source": [
    "Ans11:"
   ]
  },
  {
   "cell_type": "markdown",
   "id": "7925a374-d038-48f0-b26a-6cc12547262a",
   "metadata": {},
   "source": [
    "Breakpoint is setting on the line of the code that causes the debugger to pause when it reaches the line"
   ]
  }
 ],
 "metadata": {
  "kernelspec": {
   "display_name": "Python 3 (ipykernel)",
   "language": "python",
   "name": "python3"
  },
  "language_info": {
   "codemirror_mode": {
    "name": "ipython",
    "version": 3
   },
   "file_extension": ".py",
   "mimetype": "text/x-python",
   "name": "python",
   "nbconvert_exporter": "python",
   "pygments_lexer": "ipython3",
   "version": "3.12.4"
  }
 },
 "nbformat": 4,
 "nbformat_minor": 5
}
