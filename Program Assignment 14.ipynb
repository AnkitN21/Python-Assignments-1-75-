{
 "cells": [
  {
   "cell_type": "markdown",
   "id": "5476e072-1df3-4ce4-86f6-11d373e299cf",
   "metadata": {},
   "source": [
    "PROGRAM ASSIGNMENT 14"
   ]
  },
  {
   "cell_type": "markdown",
   "id": "a782413b-3359-4907-9e7d-8dd322fd4081",
   "metadata": {},
   "source": [
    "Q1: Define a class with a generator which can iterate the numbers, which are divisible by 7, \n",
    "between a given range 0 and n."
   ]
  },
  {
   "cell_type": "markdown",
   "id": "4d2f8f4b-3378-4c2c-b628-f43e73d4da6a",
   "metadata": {},
   "source": [
    "Ans1:"
   ]
  },
  {
   "cell_type": "code",
   "execution_count": 41,
   "id": "252a0d0f-dced-44e0-a516-373c9401565d",
   "metadata": {},
   "outputs": [
    {
     "name": "stdout",
     "output_type": "stream",
     "text": [
      "7\n"
     ]
    }
   ],
   "source": [
    "class seven:\n",
    "    def __init__(self, n):\n",
    "        self.n = n\n",
    "    def division(self):\n",
    "        for i in range(0,self.n):\n",
    "            if i%7 == 0 and i > 0: \n",
    "                yield i\n",
    "            \n",
    "a = seven(50)\n",
    "r = a.division()\n",
    "print(next(r))"
   ]
  },
  {
   "cell_type": "code",
   "execution_count": 42,
   "id": "d19a5ca4-9f73-4458-bbc8-fa8c47e5c768",
   "metadata": {},
   "outputs": [
    {
     "name": "stdout",
     "output_type": "stream",
     "text": [
      "14\n"
     ]
    }
   ],
   "source": [
    "print(next(r))"
   ]
  },
  {
   "cell_type": "markdown",
   "id": "cbd58554-c5c5-47c8-97c2-a8099eee6239",
   "metadata": {},
   "source": [
    "Q2: Write a program to compute the frequency of the words from the input. The output should \n",
    "output after sorting the key alphanumerically.\n",
    "Suppose the following input is supplied to the program:\n",
    "New to Python or choosing between Python 2 and Python 3? Read Python 2 or\n",
    "Python 3.\n",
    "Then, the output should be:\n",
    "2:2\n",
    "3.:1\n",
    "3?:1\n",
    "New:1\n",
    "Python:5\n",
    "Read:1\n",
    "and:1\n",
    "between:1\n",
    "choosing:1\n",
    "or:2\n",
    "to:1"
   ]
  },
  {
   "cell_type": "markdown",
   "id": "457b2185-9a51-4158-b396-ffb5b37531d5",
   "metadata": {},
   "source": [
    "Ans2:"
   ]
  },
  {
   "cell_type": "code",
   "execution_count": 19,
   "id": "49d00164-a344-43f6-9240-3250bfae79b1",
   "metadata": {},
   "outputs": [
    {
     "name": "stdout",
     "output_type": "stream",
     "text": [
      "2:2\n",
      "3:1\n",
      "3?:1\n",
      "New:1\n",
      "Python:5\n",
      "Read:1\n",
      "and:1\n",
      "between:1\n",
      "choosing:1\n",
      "or:2\n",
      "to:1\n"
     ]
    }
   ],
   "source": [
    "def freq_input(x):\n",
    "    freq = {}\n",
    "    for i in x.split():\n",
    "        freq[i] = freq.get(i, 0) + 1\n",
    "        \n",
    "    words = list(freq.keys())\n",
    "    words.sort()\n",
    "    for j in words:\n",
    "        print(f\"{j}:{freq[j]}\")\n",
    "\n",
    "s = \"New to Python or choosing between Python 2 and Python 3? Read Python 2 or Python 3\"\n",
    "freq_input(s)\n"
   ]
  },
  {
   "cell_type": "markdown",
   "id": "652fe1d3-5e78-45d4-83f7-cf27736981a0",
   "metadata": {},
   "source": [
    "Q3: Define a class Person and its two child classes: Male and Female. All classes have a\n",
    "method 'getGender' which can print 'Male' for Male class and 'Female' for Female class."
   ]
  },
  {
   "cell_type": "markdown",
   "id": "2d2b2eda-a81a-4ef9-8be3-37ae61dadd4e",
   "metadata": {},
   "source": [
    "Ans3:"
   ]
  },
  {
   "cell_type": "code",
   "execution_count": 31,
   "id": "e8eeecf5-4696-403d-aa9e-8ee99bc50b21",
   "metadata": {},
   "outputs": [
    {
     "name": "stdout",
     "output_type": "stream",
     "text": [
      "Male\n"
     ]
    }
   ],
   "source": [
    "class person:\n",
    "    def getGender(self):\n",
    "        print(self.gender)\n",
    "\n",
    "class male(person):\n",
    "    def __init__(self):\n",
    "        self.gender = \"Male\"\n",
    "class female(person):\n",
    "    def __init__(self):\n",
    "        self.gender = \"Female\"\n",
    "\n",
    "rahul = male()\n",
    "rahul.getGender()"
   ]
  },
  {
   "cell_type": "markdown",
   "id": "762fbdcd-7960-40dc-aacf-03085c9a2290",
   "metadata": {},
   "source": [
    "Q4: Please write a program to generate all sentences where subject is in ['I', 'You'] and\n",
    "verb is in ['Play', 'Love'] and the object is in ['Hockey', 'Football']."
   ]
  },
  {
   "cell_type": "markdown",
   "id": "cf32d608-58ca-49fc-9cbe-68608c7ec763",
   "metadata": {},
   "source": [
    "Ans4:"
   ]
  },
  {
   "cell_type": "code",
   "execution_count": 30,
   "id": "93a711a8-a290-4cac-bd64-d69dbefbbf61",
   "metadata": {},
   "outputs": [
    {
     "name": "stdout",
     "output_type": "stream",
     "text": [
      "I Play Hockey\n",
      "I Play Football\n",
      "I Love Hockey\n",
      "I Love Football\n",
      "You Play Hockey\n",
      "You Play Football\n",
      "You Love Hockey\n",
      "You Love Football\n"
     ]
    }
   ],
   "source": [
    "subj = [\"I\", \"You\"]\n",
    "verb = [\"Play\", \"Love\"]\n",
    "obj = [\"Hockey\", \"Football\"]\n",
    "\n",
    "for i in subj:\n",
    "    for j in verb:\n",
    "        for k in obj:\n",
    "            print(f\"{i} {j} {k}\")"
   ]
  },
  {
   "cell_type": "markdown",
   "id": "3744dfb8-d741-4ae6-9f4c-b5d6c08d265a",
   "metadata": {},
   "source": [
    "Q5: Please write a program to compress and decompress the string \n",
    "'hello world!helloworld!hello world!hello world!'."
   ]
  },
  {
   "cell_type": "markdown",
   "id": "f323adc7-14fc-49de-86bd-d7cac9c27ed4",
   "metadata": {},
   "source": [
    "Ans5:"
   ]
  },
  {
   "cell_type": "code",
   "execution_count": 2,
   "id": "adc7227b-6f89-4b90-a38a-bc6329345f81",
   "metadata": {},
   "outputs": [
    {
     "name": "stdout",
     "output_type": "stream",
     "text": [
      "b'x\\x9c\\xcbH\\xcd\\xc9\\xc9W(\\xcf/\\xcaIQ\\xcc \\x82\\r\\x00\\xbd[\\x11\\xf5'\n",
      "b'hello world!hello world!hello world!hello world!'\n"
     ]
    }
   ],
   "source": [
    "import zlib\n",
    "\n",
    "str1 = \"hello world!hello world!hello world!hello world!\".encode()\n",
    "comp = zlib.compress(str1)\n",
    "\n",
    "print(comp)\n",
    "print(zlib.decompress(comp))"
   ]
  },
  {
   "cell_type": "markdown",
   "id": "87f91225-63db-496d-9c0f-383bcd29f6ad",
   "metadata": {},
   "source": [
    "Q6: Please write a binary search function which searches an item in a sorted list. The function \n",
    "should return the index of element to be searched in the list."
   ]
  },
  {
   "cell_type": "markdown",
   "id": "9ef1c1a7-4a42-471c-b7ae-92d7089dd8fe",
   "metadata": {},
   "source": [
    "Ans6:"
   ]
  },
  {
   "cell_type": "code",
   "execution_count": 9,
   "id": "8be71476-8f20-43f9-9134-c9f4e2a490ba",
   "metadata": {},
   "outputs": [],
   "source": [
    "def bina_search(l,n):\n",
    "    low = 0\n",
    "    high = len(l)-1\n",
    "    \n",
    "    while low<=high:\n",
    "        mid = (low+high)//2\n",
    "        \n",
    "        if l[mid]<n:\n",
    "            low = mid+1\n",
    "            \n",
    "        elif l[mid]>n:\n",
    "            high = mid-1\n",
    "        \n",
    "        else:\n",
    "            return mid\n",
    "    return \"Element Not Found\""
   ]
  },
  {
   "cell_type": "code",
   "execution_count": 10,
   "id": "a7b41259-f5cc-4bbe-9615-fdbfeb4a26bc",
   "metadata": {},
   "outputs": [
    {
     "name": "stdout",
     "output_type": "stream",
     "text": [
      "[12, 30, 61, 73, 87, 97, 121]\n"
     ]
    },
    {
     "data": {
      "text/plain": [
       "6"
      ]
     },
     "execution_count": 10,
     "metadata": {},
     "output_type": "execute_result"
    }
   ],
   "source": [
    "list1 = [12,30,121,87,61,73,97]\n",
    "list1.sort()\n",
    "print(list1)\n",
    "bina_search(list1,121)"
   ]
  },
  {
   "cell_type": "code",
   "execution_count": null,
   "id": "880d82ee-6ff7-4b17-97ee-9aa249654f7c",
   "metadata": {},
   "outputs": [],
   "source": []
  }
 ],
 "metadata": {
  "kernelspec": {
   "display_name": "Python 3 (ipykernel)",
   "language": "python",
   "name": "python3"
  },
  "language_info": {
   "codemirror_mode": {
    "name": "ipython",
    "version": 3
   },
   "file_extension": ".py",
   "mimetype": "text/x-python",
   "name": "python",
   "nbconvert_exporter": "python",
   "pygments_lexer": "ipython3",
   "version": "3.12.4"
  }
 },
 "nbformat": 4,
 "nbformat_minor": 5
}
