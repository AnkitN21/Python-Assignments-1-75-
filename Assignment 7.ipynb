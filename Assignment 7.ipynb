{
 "cells": [
  {
   "cell_type": "markdown",
   "id": "fd68bae1-8381-43c4-893f-e7042dd95f9a",
   "metadata": {},
   "source": [
    "ASSIGNMENT 7:"
   ]
  },
  {
   "cell_type": "markdown",
   "id": "b70478f5-fbc4-49cc-a736-bde49edcd3b2",
   "metadata": {},
   "source": [
    "Q1. What is the name of the feature responsible for generating Regex objects?"
   ]
  },
  {
   "cell_type": "markdown",
   "id": "c1f3bf3a-92e6-436d-843e-4ca75ea92f4c",
   "metadata": {},
   "source": [
    "Ans1:"
   ]
  },
  {
   "cell_type": "raw",
   "id": "6afd22cf-ca4d-49b4-8cc9-f8fbefeba666",
   "metadata": {},
   "source": [
    "re.compile()function returns Regex objects"
   ]
  },
  {
   "cell_type": "markdown",
   "id": "8fe44056-816e-43d7-b6ca-0d17cbe579aa",
   "metadata": {},
   "source": [
    "Q2. Why do raw strings often appear in Regex objects?"
   ]
  },
  {
   "cell_type": "markdown",
   "id": "1777bcd2-5074-4629-88fa-805c75abedeb",
   "metadata": {},
   "source": [
    "Ans2:"
   ]
  },
  {
   "cell_type": "markdown",
   "id": "9f8b0104-bd5c-47ad-aa64-664481aec26c",
   "metadata": {},
   "source": [
    "Raw strings appears so that backslashes don't escape"
   ]
  },
  {
   "cell_type": "markdown",
   "id": "a3ce5d94-9b96-47c2-bc04-2b238ba18543",
   "metadata": {},
   "source": [
    "Q3. What is the return value of the search() method?"
   ]
  },
  {
   "cell_type": "markdown",
   "id": "4aada2f1-1ea4-4264-872b-a5b2eb36a191",
   "metadata": {},
   "source": [
    "Ans3:"
   ]
  },
  {
   "cell_type": "markdown",
   "id": "a3a73115-1dd8-4462-85d1-b0898b4be3d5",
   "metadata": {},
   "source": [
    "search() method retuerns Match objects"
   ]
  },
  {
   "cell_type": "markdown",
   "id": "e24fc693-ad72-4fbe-aeb2-d700f747f908",
   "metadata": {},
   "source": [
    "Q4. From a Match item, how do you get the actual strings that match the pattern?"
   ]
  },
  {
   "cell_type": "markdown",
   "id": "7b7e3401-a16c-4917-9e1a-d64e2d1cdd5c",
   "metadata": {},
   "source": [
    "Ans4:"
   ]
  },
  {
   "cell_type": "markdown",
   "id": "0b9aece1-dfb1-49b2-86ff-429ae8012089",
   "metadata": {},
   "source": [
    "By using group() method, it returns strings of matched pattern "
   ]
  },
  {
   "cell_type": "markdown",
   "id": "d472912c-1139-4090-bdbd-24653340e5ba",
   "metadata": {},
   "source": [
    "Q5. In the regex which created from the r'(\\d\\d\\d)-(\\d\\d\\d-\\d\\d\\d\\d)', what does group zero cover? Group 2? Group 1?"
   ]
  },
  {
   "cell_type": "markdown",
   "id": "14f9ae56-f62e-4060-9cc4-47bb2539a08e",
   "metadata": {},
   "source": [
    "Ans5:"
   ]
  },
  {
   "cell_type": "markdown",
   "id": "4d5fb348-a834-4da7-8e98-e621ef8119a8",
   "metadata": {},
   "source": [
    "group(0) is the entire string, group(1) is the first set in the string, group(2) is the second set in the string."
   ]
  },
  {
   "cell_type": "markdown",
   "id": "4c2dfeee-f91d-4a10-b6f5-1fa9bc08869e",
   "metadata": {},
   "source": [
    "Q6. In standard expression syntax, parentheses and intervals have distinct meanings. How can you tell a regex that you\n",
    "want it to fit real parentheses and periods"
   ]
  },
  {
   "cell_type": "markdown",
   "id": "4f10d13f-9be5-4b60-9e94-63d86fbc1e05",
   "metadata": {},
   "source": [
    "Ans6:"
   ]
  },
  {
   "cell_type": "markdown",
   "id": "d325d207-9aba-44eb-bc8d-f955e3ef4f5e",
   "metadata": {},
   "source": [
    "Intervals and parentheses can be escaped with backslash: \\.(and\\)"
   ]
  },
  {
   "cell_type": "markdown",
   "id": "01817aa5-1ed7-4953-a9f8-f2b2dbbc71d1",
   "metadata": {},
   "source": [
    "Q7. The findall() method returns a string list or a list of string tuples. What causes it to return one of the two options?"
   ]
  },
  {
   "cell_type": "markdown",
   "id": "1f9e40af-a409-412c-b4c0-35515c895ac2",
   "metadata": {},
   "source": [
    "Ans7:"
   ]
  },
  {
   "cell_type": "markdown",
   "id": "f93939b0-6192-4217-857c-efa5ed1f1a33",
   "metadata": {},
   "source": [
    "If regex has no groups, then a list of strings is returned. Else if, regex has groups,then a list of tuples of strings is returned."
   ]
  },
  {
   "cell_type": "markdown",
   "id": "f8c93673-f435-4ee8-bd70-52f9d0ed613e",
   "metadata": {},
   "source": [
    "Q8. In standard expressions, what does the | character mean?"
   ]
  },
  {
   "cell_type": "markdown",
   "id": "420e5255-58cc-490b-a986-2cd57a48a0bd",
   "metadata": {},
   "source": [
    "Ans8:"
   ]
  },
  {
   "cell_type": "markdown",
   "id": "2b7d419a-e81e-43a5-8a1a-56c0a88b0815",
   "metadata": {},
   "source": [
    "The | character means the match between two groups, i.e either this or that"
   ]
  },
  {
   "cell_type": "markdown",
   "id": "d389c1e6-5f8b-4e7e-803a-4a5ab563fa25",
   "metadata": {},
   "source": [
    "Q9. In regular expressions, what does the character ? stand for?"
   ]
  },
  {
   "cell_type": "markdown",
   "id": "46dedaa7-f5d1-4a9d-81b9-1fb8f0d21a6c",
   "metadata": {},
   "source": [
    "Ans9: "
   ]
  },
  {
   "cell_type": "markdown",
   "id": "766619e1-ca79-4e98-b148-1708c1ae157c",
   "metadata": {},
   "source": [
    "The ? character can mean either \"match zero or one of the perceding group\" or signifying nongreedy match. "
   ]
  },
  {
   "cell_type": "markdown",
   "id": "32489233-2b5a-4380-a145-4ad774f6d247",
   "metadata": {},
   "source": [
    "Q10. In regular expressions, what is the difference between the + and * characters?"
   ]
  },
  {
   "cell_type": "markdown",
   "id": "473a04b5-c054-4517-b2c9-dd3c523ad8b2",
   "metadata": {},
   "source": [
    "Ans10:"
   ]
  },
  {
   "cell_type": "markdown",
   "id": "80d2215a-64e8-4d45-9538-aa751f316025",
   "metadata": {},
   "source": [
    "The + matches one or more wheres, * matches zero or more"
   ]
  },
  {
   "cell_type": "markdown",
   "id": "ba4ec791-aea6-4f18-82aa-4521c048cc28",
   "metadata": {},
   "source": [
    "Q11. What is the difference between {4} and {4,5} in regular expression?"
   ]
  },
  {
   "cell_type": "markdown",
   "id": "ec313b64-523b-4d9c-9237-151902b98f38",
   "metadata": {},
   "source": [
    "Ans11:"
   ]
  },
  {
   "cell_type": "markdown",
   "id": "c56b5593-26ad-4885-8ee4-8ab89407470b",
   "metadata": {},
   "source": [
    "{4} matches the four instances of the preceding group whereas {4,5} matches between four and five instances"
   ]
  },
  {
   "cell_type": "markdown",
   "id": "44573102-27a5-4f46-8c1f-f73673f0a71f",
   "metadata": {},
   "source": [
    "Q12. What do you mean by the \\d, \\w, and \\s shorthand character classes signify in regular\n",
    "expressions?"
   ]
  },
  {
   "cell_type": "markdown",
   "id": "76c62771-8c3a-4f9a-8bc1-753cd4d7a4a5",
   "metadata": {},
   "source": [
    "Ans12:"
   ]
  },
  {
   "cell_type": "markdown",
   "id": "e87134e9-abd5-4f4f-826a-ede5bdaef449",
   "metadata": {},
   "source": [
    "\\d, \\w and \\s signifies a match of digits, any word characters(from a to Z, 0-9 and _) and space character respectively"
   ]
  },
  {
   "cell_type": "markdown",
   "id": "d04e544c-2fe4-4378-921a-467bdc85d329",
   "metadata": {},
   "source": [
    "Q13. What do means by \\D, \\W, and \\S shorthand character classes signify in regular expressions?"
   ]
  },
  {
   "cell_type": "markdown",
   "id": "d82fecd8-53e4-4544-8e74-26212f150167",
   "metadata": {},
   "source": [
    "Ans13:"
   ]
  },
  {
   "cell_type": "markdown",
   "id": "8d2b5e20-830b-4c75-b01a-29f29bf679da",
   "metadata": {},
   "source": [
    "\\D, \\W and \\S signfies no match of digits, word characters and space character respectively"
   ]
  },
  {
   "cell_type": "markdown",
   "id": "53637801-688c-44a0-9c4e-8467699d0fda",
   "metadata": {},
   "source": [
    "Q14. What is the difference between .*? and .*?"
   ]
  },
  {
   "cell_type": "markdown",
   "id": "21861bef-a7bc-4b4d-b885-ec57b988c2ac",
   "metadata": {},
   "source": [
    "Ans14:"
   ]
  },
  {
   "cell_type": "markdown",
   "id": "7f4e3c75-62c0-4bc9-b359-638375a948f2",
   "metadata": {},
   "source": [
    ".* is a Greedy mode which returns the longest string that meets the condtion. Whereas, .*? is a non greedy mode which returns shortest string that meets the condition "
   ]
  },
  {
   "cell_type": "markdown",
   "id": "2eb42231-09e0-46b2-bd7b-f5f0b6e39f36",
   "metadata": {},
   "source": [
    "Q15. What is the syntax for matching both numbers and lowercase letters with a character class?"
   ]
  },
  {
   "cell_type": "markdown",
   "id": "e535e577-a856-4eaf-84b2-ae7209cd6d28",
   "metadata": {},
   "source": [
    "Ans15:"
   ]
  },
  {
   "cell_type": "markdown",
   "id": "efbda79b-7b5b-403e-b2b9-92c29635fe83",
   "metadata": {},
   "source": [
    "Either [a-Z0-9] or [0-9a-Z]"
   ]
  },
  {
   "cell_type": "markdown",
   "id": "a1d9bd6e-7fed-42ad-b25a-3164fa1b3dbc",
   "metadata": {},
   "source": [
    "Q16. What is the procedure for making a normal expression in regax case insensitive?"
   ]
  },
  {
   "cell_type": "markdown",
   "id": "e4c33ca8-257e-494b-a74f-c8e0a65d5bce",
   "metadata": {},
   "source": [
    "Ans16:"
   ]
  },
  {
   "cell_type": "markdown",
   "id": "21521e25-9444-4599-bb5f-38ebe7069b37",
   "metadata": {},
   "source": [
    "passing re.IGNORECASE as the second arguement to re.compile() that will regular expression case insensitive"
   ]
  },
  {
   "cell_type": "markdown",
   "id": "7d3d5c86-05a5-4e0d-a58c-bc4297344f22",
   "metadata": {},
   "source": [
    "Q17. What does the . character normally match? What does it match if re.DOTALL is passed as 2nd argument in re.compile()?"
   ]
  },
  {
   "cell_type": "markdown",
   "id": "8d701e4e-de86-4156-b506-3993a6a95699",
   "metadata": {},
   "source": [
    "Ans17:"
   ]
  },
  {
   "cell_type": "markdown",
   "id": "ff8f4fb8-e600-49e0-8dc5-33684ad2691b",
   "metadata": {},
   "source": [
    "The . character normally matches any character except newline character. If re.DOTALL passed as second argument to re.compile(), then the dot will \n",
    "also match newline character"
   ]
  },
  {
   "cell_type": "markdown",
   "id": "5ecdb376-ee5d-4d6b-8789-ddf7c27fc88b",
   "metadata": {},
   "source": [
    "Q18. If numReg = re.compile('\\d+'), what will numRegex.sub('X', '11 drummers, 10 pipers, five rings, 4 hen') return?"
   ]
  },
  {
   "cell_type": "markdown",
   "id": "9061a2d8-2eaf-46e6-a532-defed723389c",
   "metadata": {},
   "source": [
    "Ans18:"
   ]
  },
  {
   "cell_type": "code",
   "execution_count": 1,
   "id": "6cdbaf25-9c86-4cc0-84c9-538619ecec15",
   "metadata": {},
   "outputs": [
    {
     "data": {
      "text/plain": [
       "'X drummers, X pipers, five rings, X hen'"
      ]
     },
     "execution_count": 1,
     "metadata": {},
     "output_type": "execute_result"
    }
   ],
   "source": [
    "import re\n",
    "\n",
    "numReg = re.compile(r'\\d+')\n",
    "numReg.sub('X', '11 drummers, 10 pipers, five rings, 4 hen')"
   ]
  },
  {
   "cell_type": "markdown",
   "id": "8b61024b-d3ac-40d0-b196-2c3373585e82",
   "metadata": {},
   "source": [
    "Q19. What does passing re.VERBOSE as the 2nd argument to re.compile() allow to do?"
   ]
  },
  {
   "cell_type": "markdown",
   "id": "8a633bbf-af2f-4e59-aaf7-62d58520ca5a",
   "metadata": {},
   "source": [
    "Ans19:"
   ]
  },
  {
   "cell_type": "markdown",
   "id": "0e7eecd2-e699-468b-b01b-a32be8b93b4e",
   "metadata": {},
   "source": [
    "re.VERBOSE will allow to add whitespace and comments to string passed to re.compile()."
   ]
  },
  {
   "cell_type": "markdown",
   "id": "8cd14aff-c1d0-4a6e-9e36-e87c51c5e8de",
   "metadata": {},
   "source": [
    "Q20. How would you write a regex that match a number with comma for every three digits? \n",
    "It must match the given following:\n",
    "'42'\n",
    "'1,234'\n",
    "'6,368,745'\n",
    "but not the following:\n",
    "'12,34,567' (which has only two digits between the commas)\n",
    "'1234' (which lacks commas)"
   ]
  },
  {
   "cell_type": "markdown",
   "id": "15f1a455-786d-4ede-bc25-24f4e8dbeed0",
   "metadata": {},
   "source": [
    "Ans20:"
   ]
  },
  {
   "cell_type": "code",
   "execution_count": 5,
   "id": "108023cd-628f-43b3-b92b-3d1280dbf29e",
   "metadata": {},
   "outputs": [
    {
     "name": "stdout",
     "output_type": "stream",
     "text": [
      "['42', '1,234', '6,368,745']\n"
     ]
    }
   ],
   "source": [
    "import re\n",
    "\n",
    "input1 = ['42','1,234', '6,368,745','12,34,567','1234']\n",
    "match1 = r'^\\d{1,3}(,\\d{3})*$'\n",
    "match_list1 = []\n",
    "for i in input1:\n",
    "    if re.search(match1, i):\n",
    "        match_list1.append(i)\n",
    "print(match_list)"
   ]
  },
  {
   "cell_type": "markdown",
   "id": "4099d65e-57e5-4870-a4b6-3a9a44dd9219",
   "metadata": {},
   "source": [
    "Q21. How would you write a regex that matches the full name of someone whose last name is Watanabe? \n",
    "You can assume that the first name that comes before it will always be one word that begins with a capital letter. \n",
    "The regex must match the following:\n",
    "'Haruto Watanabe'\n",
    "'Alice Watanabe'\n",
    "'RoboCop Watanabe'\n",
    "but not the following:\n",
    "'haruto Watanabe' (where the first name is not capitalized)\n",
    "'Mr. Watanabe' (where the preceding word has a nonletter character)\n",
    "'Watanabe' (which has no first name)\n",
    "'Haruto watanabe' (where Watanabe is not capitalized)"
   ]
  },
  {
   "cell_type": "markdown",
   "id": "53afa863-3da0-41b2-abc2-1f96716b0c2f",
   "metadata": {},
   "source": [
    "Ans21:"
   ]
  },
  {
   "cell_type": "code",
   "execution_count": 7,
   "id": "af6e46da-39be-4e08-be8a-784846f4b6c1",
   "metadata": {},
   "outputs": [
    {
     "name": "stdout",
     "output_type": "stream",
     "text": [
      "['Haruto Watanabe', 'Alice Watanabe', 'RoboCop Watanabe']\n"
     ]
    }
   ],
   "source": [
    "import re\n",
    "\n",
    "input2 = ['Haruto Watanabe','Alice Watanabe','RoboCop Watanabe','haruto Watanabe','Mr. Watanabe','Watanabe','Haruto watanabe']\n",
    "match2 = r'[A-Z]{1}[a-z]*\\sWatanabe'\n",
    "match_list2 = []\n",
    "for j in input2:\n",
    "    if re.search(match2, j):\n",
    "        match_list2.append(j)\n",
    "print(match_list2)"
   ]
  },
  {
   "cell_type": "markdown",
   "id": "96dc87fe-d06d-4086-8f44-02e6c7695916",
   "metadata": {},
   "source": [
    "Q22. How would you write a regex that matches a sentence where the first word is either Alice, Bob, or Carol; \n",
    "the second word is either eats, pets, or throws; the third word is apples, cats, or baseballs; and the sentence ends with a period? \n",
    "This regex should be case-insensitive. It must match the following:\n",
    "'Alice eats apples.'\n",
    "'Bob pets cats.'\n",
    "'Carol throws baseballs.'\n",
    "'Alice throws Apples.'\n",
    "'BOB EATS CATS.'\n",
    "but not the following:\n",
    "'RoboCop eats apples.'\n",
    "'ALICE THROWS FOOTBALLS.'\n",
    "'Carol eats 7 cats.'"
   ]
  },
  {
   "cell_type": "markdown",
   "id": "5b551eaf-81ec-4389-bf7a-21e774709aac",
   "metadata": {},
   "source": [
    "Ans22:"
   ]
  },
  {
   "cell_type": "code",
   "execution_count": 10,
   "id": "0296ed31-cdb6-46af-94b8-e97959cc0b06",
   "metadata": {},
   "outputs": [
    {
     "name": "stdout",
     "output_type": "stream",
     "text": [
      "['Alice eats apples.', 'Bob pets cats.', 'Carol throws baseballs.', 'Alice throws Apples.', 'BOB EATS CATS.']\n"
     ]
    }
   ],
   "source": [
    "import re\n",
    "\n",
    "input3 = ['Alice eats apples.','Bob pets cats.','Carol throws baseballs.','Alice throws Apples.','BOB EATS CATS.','RoboCop eats apples.'\n",
    ",'ALICE THROWS FOOTBALLS.','Carol eats 7 cats.']\n",
    "match3 = r'(Alice|Bob|Carol)\\s(eats|pets|throws)\\s(apples|cats|baseballs)\\.'\n",
    "match_list3 = []\n",
    "for k in input3:\n",
    "    if re.search(match3, k, re.IGNORECASE):\n",
    "        match_list3.append(k)\n",
    "print(match_list3)"
   ]
  },
  {
   "cell_type": "code",
   "execution_count": null,
   "id": "e4f9672f-0da4-48bb-815c-426d4a84665f",
   "metadata": {},
   "outputs": [],
   "source": []
  }
 ],
 "metadata": {
  "kernelspec": {
   "display_name": "Python 3 (ipykernel)",
   "language": "python",
   "name": "python3"
  },
  "language_info": {
   "codemirror_mode": {
    "name": "ipython",
    "version": 3
   },
   "file_extension": ".py",
   "mimetype": "text/x-python",
   "name": "python",
   "nbconvert_exporter": "python",
   "pygments_lexer": "ipython3",
   "version": "3.12.4"
  }
 },
 "nbformat": 4,
 "nbformat_minor": 5
}
