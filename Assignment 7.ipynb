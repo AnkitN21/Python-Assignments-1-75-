{
 "cells": [
  {
   "cell_type": "markdown",
   "id": "fd68bae1-8381-43c4-893f-e7042dd95f9a",
   "metadata": {},
   "source": [
    "ASSIGNMENT 7:"
   ]
  },
  {
   "cell_type": "markdown",
   "id": "c1f3bf3a-92e6-436d-843e-4ca75ea92f4c",
   "metadata": {},
   "source": [
    "Ans1:"
   ]
  },
  {
   "cell_type": "raw",
   "id": "6afd22cf-ca4d-49b4-8cc9-f8fbefeba666",
   "metadata": {},
   "source": [
    "re.compile()function returns Regex objects"
   ]
  },
  {
   "cell_type": "markdown",
   "id": "1777bcd2-5074-4629-88fa-805c75abedeb",
   "metadata": {},
   "source": [
    "Ans2:"
   ]
  },
  {
   "cell_type": "markdown",
   "id": "9f8b0104-bd5c-47ad-aa64-664481aec26c",
   "metadata": {},
   "source": [
    "Raw strings appears so that backslashes don't escape"
   ]
  },
  {
   "cell_type": "markdown",
   "id": "4aada2f1-1ea4-4264-872b-a5b2eb36a191",
   "metadata": {},
   "source": [
    "Ans3:"
   ]
  },
  {
   "cell_type": "markdown",
   "id": "a3a73115-1dd8-4462-85d1-b0898b4be3d5",
   "metadata": {},
   "source": [
    "search() method retuerns Match objects"
   ]
  },
  {
   "cell_type": "markdown",
   "id": "7b7e3401-a16c-4917-9e1a-d64e2d1cdd5c",
   "metadata": {},
   "source": [
    "Ans4:"
   ]
  },
  {
   "cell_type": "code",
   "execution_count": null,
   "id": "e3fb5977-accc-42ce-bf61-45413854258b",
   "metadata": {},
   "outputs": [],
   "source": [
    "By using group() method, it returns strings of matched pattern "
   ]
  }
 ],
 "metadata": {
  "kernelspec": {
   "display_name": "Python 3 (ipykernel)",
   "language": "python",
   "name": "python3"
  },
  "language_info": {
   "codemirror_mode": {
    "name": "ipython",
    "version": 3
   },
   "file_extension": ".py",
   "mimetype": "text/x-python",
   "name": "python",
   "nbconvert_exporter": "python",
   "pygments_lexer": "ipython3",
   "version": "3.12.4"
  }
 },
 "nbformat": 4,
 "nbformat_minor": 5
}
