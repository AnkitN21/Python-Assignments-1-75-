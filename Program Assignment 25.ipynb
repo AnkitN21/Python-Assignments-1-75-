{
 "cells": [
  {
   "cell_type": "markdown",
   "id": "bb269091-46a9-4d80-8772-4fa6ef246626",
   "metadata": {},
   "source": [
    "PROGRAM ASSIGNMENT 25"
   ]
  },
  {
   "cell_type": "markdown",
   "id": "0f9f7ba3-b091-401d-a760-0c56dc39c527",
   "metadata": {},
   "source": [
    "Q1. Create a function that takes three integer arguments (a, b, c) and returns the amount of\n",
    "integers which are of equal value.\n",
    "Examples\n",
    "equal(3, 4, 3) ➞ 2\n",
    "equal(1, 1, 1) ➞ 3\n",
    "equal(3, 4, 1) ➞ 0\n",
    "Notes\n",
    "Your function must return 0, 2 or 3."
   ]
  },
  {
   "cell_type": "markdown",
   "id": "29988ee3-ae4a-4266-bea7-412d41fc2f2c",
   "metadata": {},
   "source": [
    "Ans1:"
   ]
  },
  {
   "cell_type": "code",
   "execution_count": 1,
   "id": "361f538b-aa3a-4553-95a0-bbeff1e636ce",
   "metadata": {},
   "outputs": [
    {
     "data": {
      "text/plain": [
       "2"
      ]
     },
     "execution_count": 1,
     "metadata": {},
     "output_type": "execute_result"
    }
   ],
   "source": [
    "def equal(a,b,c):\n",
    "    if a == b and a == c:\n",
    "        return 3\n",
    "    elif a == b or a == c:\n",
    "        return 2\n",
    "    else:\n",
    "        return 0\n",
    "\n",
    "equal(3,4,3)"
   ]
  },
  {
   "cell_type": "markdown",
   "id": "42de7766-bf75-4e65-8bd5-ff6949696cf0",
   "metadata": {},
   "source": [
    "Q2. Write a function that converts a dictionary into a list of keys-values tuples.\n",
    "Examples\n",
    "dict_to_list({\n",
    "'D': 1,\n",
    "'B': 2,\n",
    "'C': 3\n",
    "}) ➞ [('B', 2), ('C', 3), ('D', 1)]\n",
    "dict_to_list({\n",
    "'likes': 2,\n",
    "'dislikes': 3,\n",
    "'followers': 10\n",
    "}) ➞ [('dislikes', 3), ('followers', 10), ('likes', 2)]\n",
    "Notes\n",
    "Return the elements in the list in alphabetical order."
   ]
  },
  {
   "cell_type": "markdown",
   "id": "dfac9d12-875b-4e69-b178-65fe35b0c50a",
   "metadata": {},
   "source": [
    "Ans2:"
   ]
  },
  {
   "cell_type": "code",
   "execution_count": 12,
   "id": "63c9a866-1706-412f-8da1-af59d7e8e1b7",
   "metadata": {},
   "outputs": [
    {
     "data": {
      "text/plain": [
       "[('B', 2), ('C', 3), ('D', 1)]"
      ]
     },
     "execution_count": 12,
     "metadata": {},
     "output_type": "execute_result"
    }
   ],
   "source": [
    "def dict_list(dl):\n",
    "    return list(sorted(dl.items()))\n",
    "\n",
    "dict_list({'D': 1, 'B': 2, 'C': 3})"
   ]
  },
  {
   "cell_type": "markdown",
   "id": "40f1dcd6-f74e-4ffd-92e3-d64edb3ae30c",
   "metadata": {},
   "source": [
    "Q3. Write a function that creates a dictionary with each (key, value) pair being the \n",
    "(lower case, upper case) versions of a letter, respectively.\n",
    "Examples\n",
    "mapping(['p', 's']) ➞ { 'p': 'P', 's': 'S' }\n",
    "mapping(['a', 'b', 'c']) ➞ { 'a': 'A', 'b': 'B', 'c': 'C' }\n",
    "mapping(['a', 'v', 'y', 'z']) ➞ { 'a': 'A', 'v': 'V', 'y': 'Y', 'z': 'Z'}\n",
    "Notes\n",
    "All of the letters in the input list will always be lowercase."
   ]
  },
  {
   "cell_type": "markdown",
   "id": "a6e78582-58b3-4834-adac-c30a410717fe",
   "metadata": {},
   "source": [
    "Ans3:"
   ]
  },
  {
   "cell_type": "code",
   "execution_count": 1,
   "id": "5f9a0861-6f11-4a96-bdc5-026651ce5461",
   "metadata": {},
   "outputs": [
    {
     "name": "stdout",
     "output_type": "stream",
     "text": [
      "{'p': 'P', 's': 'S'}\n"
     ]
    },
    {
     "data": {
      "text/plain": [
       "{'a': 'A', 'b': 'B', 'c': 'C'}"
      ]
     },
     "execution_count": 1,
     "metadata": {},
     "output_type": "execute_result"
    }
   ],
   "source": [
    "def mapping(lt):\n",
    "    case_dict = {i:i.upper() for i in lt}\n",
    "    return case_dict\n",
    "\n",
    "print(mapping(['p', 's']))\n",
    "mapping(['a', 'b', 'c'])"
   ]
  },
  {
   "cell_type": "markdown",
   "id": "9d8dd7ea-87c0-4473-adba-67eacb3807c9",
   "metadata": {},
   "source": [
    "Q4. Write a function, that replaces all vowels in a string with a specified vowel.\n",
    "Examples\n",
    "vow_replace('apples and bananas', 'u') ➞ 'upplus und bununus'\n",
    "vow_replace('cheese casserole', 'o') ➞ 'chooso cossorolo'\n",
    "vow_replace('stuffed jalapeno poppers', 'e') ➞ 'steffed jelepene peppers'\n",
    "Notes\n",
    "All words will be lowercase. Y is not considered a vowel."
   ]
  },
  {
   "cell_type": "markdown",
   "id": "717c15ee-8671-4028-842c-7b229d37d997",
   "metadata": {},
   "source": [
    "Ans4:"
   ]
  },
  {
   "cell_type": "code",
   "execution_count": 3,
   "id": "dddb0719-a466-4953-95af-ad385269ef4e",
   "metadata": {},
   "outputs": [
    {
     "data": {
      "text/plain": [
       "'upplus und bununus'"
      ]
     },
     "execution_count": 3,
     "metadata": {},
     "output_type": "execute_result"
    }
   ],
   "source": [
    "def vow_repl(s,x):\n",
    "    vowel = \"AEIOUaeiou\"\n",
    "    str1 = \"\"\n",
    "    for i in range(len(s)):\n",
    "        if s[i] in vowel:\n",
    "            str1 = str1 + x\n",
    "        else:\n",
    "            str1 = str1 + s[i]\n",
    "    return str1\n",
    "\n",
    "vow_repl('apples and bananas', 'u')"
   ]
  },
  {
   "cell_type": "markdown",
   "id": "10bf4abe-466e-4cd0-9a4f-15248f0735c1",
   "metadata": {},
   "source": [
    "Q5. Create a function that takes a string as input and capitalizes a letter if its ASCII code \n",
    "is even and returns its lower case version if its ASCII code is odd.\n",
    "Examples\n",
    "ascii_capitalize('to be or not to be!') ➞ 'To Be oR NoT To Be!'\n",
    "ascii_capitalize('THE LITTLE MERMAID') ➞ 'THe LiTTLe meRmaiD'\n",
    "ascii_capitalize('Oh what a beautiful morning.') ➞ 'oH wHaT a BeauTiFuL moRNiNg.'"
   ]
  },
  {
   "cell_type": "markdown",
   "id": "8bf53dec-fe2d-43db-80d4-7e98f8c6bbd1",
   "metadata": {},
   "source": [
    "Ans5:"
   ]
  },
  {
   "cell_type": "code",
   "execution_count": 19,
   "id": "50dc302c-7efc-43ef-a103-c4fd73301064",
   "metadata": {},
   "outputs": [
    {
     "data": {
      "text/plain": [
       "'To Be oR NoT To Be'"
      ]
     },
     "execution_count": 19,
     "metadata": {},
     "output_type": "execute_result"
    }
   ],
   "source": [
    "def ascii_capt(s):\n",
    "    s1 = \"\"\n",
    "    for i in range(len(s)):\n",
    "        if ord(s[i])%2 == 0:\n",
    "            s1 = s1 + s[i].upper()\n",
    "        else:\n",
    "            s1 = s1 + s[i].lower()\n",
    "    return s1\n",
    "\n",
    "ascii_capt(\"to be or not to be\")"
   ]
  }
 ],
 "metadata": {
  "kernelspec": {
   "display_name": "Python 3 (ipykernel)",
   "language": "python",
   "name": "python3"
  },
  "language_info": {
   "codemirror_mode": {
    "name": "ipython",
    "version": 3
   },
   "file_extension": ".py",
   "mimetype": "text/x-python",
   "name": "python",
   "nbconvert_exporter": "python",
   "pygments_lexer": "ipython3",
   "version": "3.12.4"
  }
 },
 "nbformat": 4,
 "nbformat_minor": 5
}
