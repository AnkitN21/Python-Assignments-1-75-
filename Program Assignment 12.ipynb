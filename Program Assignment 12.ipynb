{
 "cells": [
  {
   "cell_type": "markdown",
   "id": "93f48b5a-6e5c-4d99-8e6a-edadae496dd7",
   "metadata": {},
   "source": [
    "PROGRAM ASSIGNMENT 12:"
   ]
  },
  {
   "cell_type": "markdown",
   "id": "4ca8ce24-9f8f-4419-9a11-49843bd3abdd",
   "metadata": {},
   "source": [
    "Ans1:"
   ]
  },
  {
   "cell_type": "code",
   "execution_count": 1,
   "id": "52b4875a-5d7f-417e-8285-43e3dea81012",
   "metadata": {},
   "outputs": [
    {
     "name": "stdout",
     "output_type": "stream",
     "text": [
      "tendulkar\n",
      "sharma\n",
      "singh\n",
      "kumar\n"
     ]
    }
   ],
   "source": [
    "a= {\"sachin\":\"tendulkar\",\"rohit\":\"sharma\",\"ramesh\":\"singh\",\"mohit\":\"kumar\"}\n",
    "\n",
    "for i in a.values():\n",
    "    print(i)"
   ]
  },
  {
   "cell_type": "markdown",
   "id": "ee655fc7-4dff-44f9-b81b-f052058a7024",
   "metadata": {},
   "source": [
    "Ans2:"
   ]
  },
  {
   "cell_type": "code",
   "execution_count": 2,
   "id": "9c7c2e28-7fa7-44fc-8b9d-823d0c074619",
   "metadata": {},
   "outputs": [
    {
     "name": "stdout",
     "output_type": "stream",
     "text": [
      "32\n"
     ]
    }
   ],
   "source": [
    "b = {2:4, 5:6, 6:9}\n",
    "s = 0\n",
    "\n",
    "for i, j in b.items():\n",
    "    s += i+j\n",
    "    \n",
    "print(s)"
   ]
  },
  {
   "cell_type": "markdown",
   "id": "c18194dc-c5e7-43e8-9b3b-63c3f092a626",
   "metadata": {},
   "source": [
    "Ans3:"
   ]
  },
  {
   "cell_type": "code",
   "execution_count": 3,
   "id": "d55c9367-78dc-479a-a9dc-ce31a9b5d7d3",
   "metadata": {},
   "outputs": [
    {
     "name": "stdout",
     "output_type": "stream",
     "text": [
      "{'abc': 'efg', 'hij': 'klm', 'pqr': 'stq', 'uvw': 'xyz'}\n"
     ]
    }
   ],
   "source": [
    "c = {'abc':'efg', 'hij':'klm'}\n",
    "d = {'pqr':'stq', 'uvw':'xyz'}\n",
    "\n",
    "c.update(d)    #merging 'd' dict on 'c' dict \n",
    "print(c)"
   ]
  },
  {
   "cell_type": "markdown",
   "id": "0a3c4298-9e64-4609-9e0c-863faf4898b9",
   "metadata": {},
   "source": [
    "Ans4:"
   ]
  },
  {
   "cell_type": "code",
   "execution_count": 4,
   "id": "c3785f8d-f86d-4bc1-9e42-312f9ea8b3fd",
   "metadata": {},
   "outputs": [
    {
     "name": "stdout",
     "output_type": "stream",
     "text": [
      "Flat Dictionary: {1: 'mon', 2: 'tues', 3: 'wed', 4: 'thur', 5: 'fri', 6: 'sat', 7: 'sun'}\n"
     ]
    }
   ],
   "source": [
    "m = {\"num1\":[1,2,3,4,5,6,7], \"days\":['mon','tues','wed','thur','fri','sat','sun']}\n",
    "flat_dict = dict(zip(m[\"num1\"], m[\"days\"]))\n",
    "\n",
    "print(\"Flat Dictionary:\", flat_dict)\n"
   ]
  },
  {
   "cell_type": "markdown",
   "id": "1c1456a2-4777-45b0-8b66-1dcebd36d120",
   "metadata": {},
   "source": [
    "Ans5:"
   ]
  },
  {
   "cell_type": "code",
   "execution_count": 3,
   "id": "a61586d1-4fe1-4069-901c-d5be0f60f24b",
   "metadata": {},
   "outputs": [
    {
     "name": "stdout",
     "output_type": "stream",
     "text": [
      "{'d': 7, 'a': 3, 'b': 1, 'c': 4}\n"
     ]
    }
   ],
   "source": [
    "from collections import OrderedDict\n",
    "\n",
    "od = OrderedDict()\n",
    "od['a'] = 3\n",
    "od['b'] = 1\n",
    "od['c'] = 4\n",
    "\n",
    "od1 = {'d':7}\n",
    "od1.update(od)\n",
    "print(od1)"
   ]
  },
  {
   "cell_type": "markdown",
   "id": "7de3bf6a-8a56-46a3-9fda-3efe7de6a5d4",
   "metadata": {},
   "source": [
    "Ans6:"
   ]
  },
  {
   "cell_type": "code",
   "execution_count": 3,
   "id": "00a3a12a-b66b-4e22-b2d8-119b892fbc29",
   "metadata": {},
   "outputs": [
    {
     "name": "stdin",
     "output_type": "stream",
     "text": [
      "Enter any words: study tonight\n",
      "Enter input to check order: stu\n"
     ]
    },
    {
     "name": "stdout",
     "output_type": "stream",
     "text": [
      "True\n"
     ]
    }
   ],
   "source": [
    "from collections import OrderedDict\n",
    "\n",
    "def check_ord(x,n):\n",
    "    dict1 = OrderedDict.fromkeys(x)\n",
    "    nlen = 0\n",
    "    for i, j in dict1.items():\n",
    "        if i == n[nlen]:\n",
    "            nlen += 1\n",
    "        if nlen == len(n):\n",
    "            return \"True\"\n",
    "    return \"False\"\n",
    "        \n",
    "x = input(\"Enter any words:\")\n",
    "n = input(\"Enter input to check order:\")\n",
    "\n",
    "print(check_ord(x,n))"
   ]
  },
  {
   "cell_type": "markdown",
   "id": "6c6034b7-ff46-422e-9110-73da92af6111",
   "metadata": {},
   "source": [
    "Ans7:"
   ]
  },
  {
   "cell_type": "code",
   "execution_count": 6,
   "id": "0b0a6dd2-d326-42d4-baa1-2781404254a2",
   "metadata": {},
   "outputs": [
    {
     "name": "stdout",
     "output_type": "stream",
     "text": [
      "{'a': 2, 'b': 4, 'd': 7, 'e': 1}\n",
      "{'e': 1, 'a': 2, 'b': 4, 'd': 7}\n"
     ]
    }
   ],
   "source": [
    "dict1 = {'b':4, 'd':7, 'a':2, 'e':1}\n",
    "\n",
    "sort_dict1 = dict(sorted(dict1.items()))\n",
    "print(sort_dict1)           #sort by keys \n",
    "sort_dict2 = dict(sorted(dict1.items(), key=lambda item: item[1])) # sort by values\n",
    "print(sort_dict2)\n"
   ]
  },
  {
   "cell_type": "code",
   "execution_count": null,
   "id": "9e0ba108-8605-40ed-b417-05e962400ac3",
   "metadata": {},
   "outputs": [],
   "source": []
  }
 ],
 "metadata": {
  "kernelspec": {
   "display_name": "Python 3 (ipykernel)",
   "language": "python",
   "name": "python3"
  },
  "language_info": {
   "codemirror_mode": {
    "name": "ipython",
    "version": 3
   },
   "file_extension": ".py",
   "mimetype": "text/x-python",
   "name": "python",
   "nbconvert_exporter": "python",
   "pygments_lexer": "ipython3",
   "version": "3.12.4"
  }
 },
 "nbformat": 4,
 "nbformat_minor": 5
}
