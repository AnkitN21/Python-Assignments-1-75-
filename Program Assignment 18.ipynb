{
 "cells": [
  {
   "cell_type": "markdown",
   "id": "ff09f497-b7f7-4fde-83fb-37031e4187c6",
   "metadata": {},
   "source": [
    "PROGRAM ASSIGNMENT 18"
   ]
  },
  {
   "cell_type": "markdown",
   "id": "4fd5252a-b388-4036-b69f-ade3cb9b66b7",
   "metadata": {},
   "source": [
    "Q1. Create a function that takes a list of non-negative integers and strings and return a new list\n",
    "without the strings.\n",
    "Examples\n",
    "filter_list([1, 2, 'a', 'b']) ➞ [1, 2]\n",
    "filter_list([1, 'a', 'b', 0, 15]) ➞ [1, 0, 15]\n",
    "filter_list([1, 2, 'aasf', '1', '123', 123]) ➞ [1, 2, 123]"
   ]
  },
  {
   "cell_type": "markdown",
   "id": "ee0bf8a3-36f2-4d2b-a61d-808f3ff52af8",
   "metadata": {},
   "source": [
    "Ans1:"
   ]
  },
  {
   "cell_type": "code",
   "execution_count": 6,
   "id": "c5945113-729d-4295-8e04-8856bfb75e34",
   "metadata": {},
   "outputs": [
    {
     "name": "stdout",
     "output_type": "stream",
     "text": [
      "[1, 2]\n"
     ]
    }
   ],
   "source": [
    "def filt_list(x):\n",
    "    fil_lst = []\n",
    "    for i in x:\n",
    "        if type(i) == int:\n",
    "            fil_lst.append(i)\n",
    "    return fil_lst\n",
    "\n",
    "list1 = [1, 2, \"a\", \"b\"]\n",
    "print(filt_list(list1))\n"
   ]
  },
  {
   "cell_type": "markdown",
   "id": "f5ad0358-ce06-4ea6-adb6-342d42eb5334",
   "metadata": {},
   "source": [
    "Q2. The \"Reverse\" takes a string as input and returns that string in reverse order, with the opposite case.\n",
    "Examples\n",
    "reverse('Hello World') ➞ 'DLROw OLLEh'\n",
    "reverse('ReVeRsE') ➞ 'eSrEvEr'\n",
    "reverse('Radar') ➞ 'RADAr'"
   ]
  },
  {
   "cell_type": "markdown",
   "id": "c1d4643c-b6f4-44d2-8876-d8bd520ffa8e",
   "metadata": {},
   "source": [
    "Ans2:"
   ]
  },
  {
   "cell_type": "code",
   "execution_count": 1,
   "id": "b3160bd3-7b57-48a5-b351-2e59524d5a7a",
   "metadata": {},
   "outputs": [
    {
     "name": "stdin",
     "output_type": "stream",
     "text": [
      "Enter string: Hello World\n"
     ]
    },
    {
     "data": {
      "text/plain": [
       "'DLROw OLLEh'"
      ]
     },
     "execution_count": 1,
     "metadata": {},
     "output_type": "execute_result"
    }
   ],
   "source": [
    "def reverse(s):\n",
    "    s1 = s[::-1]\n",
    "    return s1.swapcase()\n",
    "\n",
    "st1 = input(\"Enter string:\")\n",
    "reverse(st1)"
   ]
  },
  {
   "cell_type": "markdown",
   "id": "d9386ea0-168a-4e1f-ae62-24e070644382",
   "metadata": {},
   "source": [
    "Q3. You can assign variables from lists like this:\n",
    "lst = [1, 2, 3, 4, 5, 6]\n",
    "first = lst[0]\n",
    "middle = lst[1:-1]\n",
    "last = lst[-1]\n",
    "print(first) ➞ outputs 1\n",
    "print(middle) ➞ outputs [2, 3, 4, 5]\n",
    "print(last) ➞ outputs 6\n",
    "With Python 3, you can assign variables from lists in a much more succinct way. \n",
    "Create variables first, middle and last from the given list using destructuring assignment\n",
    "(check the Resources tab for some examples), where:\n",
    "first ➞ 1\n",
    "middle ➞ [2, 3, 4, 5]\n",
    "last ➞ 6\n",
    "Your task is to unpack the list writeyourcodehere into three variables, being first,\n",
    "middle, and last, with middle being everything in between the first and last element. Then\n",
    "print all three variables."
   ]
  },
  {
   "cell_type": "markdown",
   "id": "3813562e-de68-4084-9255-90f4582f3c65",
   "metadata": {},
   "source": [
    "Ans3:"
   ]
  },
  {
   "cell_type": "code",
   "execution_count": 13,
   "id": "0ddaa284-458c-4c72-8747-81d5140509b5",
   "metadata": {},
   "outputs": [
    {
     "name": "stdout",
     "output_type": "stream",
     "text": [
      "First: 1 \n",
      "Middle: [2, 3, 4, 5] \n",
      "Last: 6\n"
     ]
    }
   ],
   "source": [
    "lst1 = [1, 2, 3, 4, 5, 6]\n",
    "fst1 = lst1[0]\n",
    "mid1 = lst1[1:-1]\n",
    "las1 = lst1[-1]\n",
    "print(\"First:\", fst1,\"\\nMiddle:\", mid1, \"\\nLast:\", las1)"
   ]
  },
  {
   "cell_type": "markdown",
   "id": "f62dad8c-a197-4d24-bcb0-36ba873219b9",
   "metadata": {},
   "source": [
    "Q5. Write a function that moves all elements of one type to the end of the list.\n",
    "Examples\n",
    "move_to_end([1, 3, 2, 4, 4, 1], 1) ➞ [3, 2, 4, 4, 1, 1]\n",
    "# Move all the 1s to the end of the array.\n",
    "move_to_end([7, 8, 9, 1, 2, 3, 4], 9) ➞ [7, 8, 1, 2, 3, 4, 9]\n",
    "move_to_end(['a', 'a', 'a', 'b'], 'a') ➞ ['b', 'a', 'a', 'a']"
   ]
  },
  {
   "cell_type": "markdown",
   "id": "efe53f55-a7fa-4cfc-82a5-15a9baad82d9",
   "metadata": {},
   "source": [
    "Ans5:"
   ]
  },
  {
   "cell_type": "code",
   "execution_count": 16,
   "id": "90749e6b-2344-4aa8-989a-25d541082fa0",
   "metadata": {},
   "outputs": [
    {
     "name": "stdout",
     "output_type": "stream",
     "text": [
      "4 3 2 4 1 1 "
     ]
    }
   ],
   "source": [
    "def move_to_end(lst, num):\n",
    "    i = 0\n",
    "    j = len(lst) - 1\n",
    "    while i < j:\n",
    "        while i < j and lst[j] == num:\n",
    "            j -= 1\n",
    "        if lst[i] == num:\n",
    "            lst[i], lst[j] = lst[j] , lst[i]\n",
    "        i += 1\n",
    "    return lst\n",
    "\n",
    "lst2 = [1, 3, 2, 4, 4, 1]\n",
    "mov_end = 1\n",
    "new_list2 = move_to_end(lst2, mov_end)\n",
    "\n",
    "for i in new_list2:\n",
    "    print(i, end= \" \")\n"
   ]
  },
  {
   "cell_type": "code",
   "execution_count": null,
   "id": "168c040a-6dac-48ca-9166-3de7c7aad21c",
   "metadata": {},
   "outputs": [],
   "source": []
  }
 ],
 "metadata": {
  "kernelspec": {
   "display_name": "Python 3 (ipykernel)",
   "language": "python",
   "name": "python3"
  },
  "language_info": {
   "codemirror_mode": {
    "name": "ipython",
    "version": 3
   },
   "file_extension": ".py",
   "mimetype": "text/x-python",
   "name": "python",
   "nbconvert_exporter": "python",
   "pygments_lexer": "ipython3",
   "version": "3.12.4"
  }
 },
 "nbformat": 4,
 "nbformat_minor": 5
}
