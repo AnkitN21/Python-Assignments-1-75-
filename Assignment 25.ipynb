{
 "cells": [
  {
   "cell_type": "markdown",
   "id": "32be79ef-e84d-4172-a1b1-0cdd18d35a8b",
   "metadata": {},
   "source": [
    "ASSIGNMENT 25"
   ]
  },
  {
   "cell_type": "markdown",
   "id": "b153fce1-e925-43e0-8453-ec76fe6cffaa",
   "metadata": {},
   "source": [
    "Q1. What is the difference between enclosing a list comprehension in square brackets \n",
    "    and parentheses?"
   ]
  },
  {
   "cell_type": "markdown",
   "id": "9ef95255-d734-481c-bd98-da234c992b0b",
   "metadata": {},
   "source": [
    "Ans1:"
   ]
  },
  {
   "cell_type": "code",
   "execution_count": 4,
   "id": "a24ff9b6-091b-480e-9eb8-3c2d2259413d",
   "metadata": {},
   "outputs": [
    {
     "name": "stdout",
     "output_type": "stream",
     "text": [
      "[0, 1, 2, 3, 4, 5, 6, 7, 8, 9]\n",
      "<generator object <genexpr> at 0x00000225DAF52A40>\n",
      "[0, 1, 2, 3, 4, 5, 6, 7, 8, 9]\n"
     ]
    }
   ],
   "source": [
    "lstSquare = [i for i in range(10)]\n",
    "lstParantheses = (i for i in range(10))\n",
    "print(lstSquare)\n",
    "print(lstParantheses)\n",
    "print(list(lstParantheses))\n",
    "#List Comprehension with square brackets produces list.\n",
    "#List Comprehension with parentheses creates generators"
   ]
  },
  {
   "cell_type": "code",
   "execution_count": null,
   "id": "29344b07-2a77-4d93-a5d3-7f4d13d8a4d2",
   "metadata": {},
   "outputs": [],
   "source": [
    "Q2. What is the relationship between generators and iterators?"
   ]
  },
  {
   "cell_type": "markdown",
   "id": "853e1aeb-ad6a-4991-802f-21f18850f0e0",
   "metadata": {},
   "source": [
    "Ans2:"
   ]
  },
  {
   "cell_type": "markdown",
   "id": "b6385ebd-b45a-4df3-bd2a-a44ccebd4c10",
   "metadata": {},
   "source": [
    "An iterator is an object which contains a countable number of values and it is used to iterate over \n",
    "iterable objects like list, tuples etc Using an iterator- iter() keyword is used to create an iterator \n",
    "containing an iterable object. next() keyword is used to call the next element in the iterable object.\n",
    "\n",
    "Generator is another way of creating iterators in a simple way where it uses the keyword “yield” instead \n",
    "of returning it in a defined function Generators are implemented using a function. Here, the yield function \n",
    "returns the data without affecting or exiting the function. It will return a sequence of data in \n",
    "an iterable format where we need to iterate over the sequence to use the data as they won’t \n",
    "store the entire sequence in the memory By using next() function we can iterate the output of generator function"
   ]
  },
  {
   "cell_type": "markdown",
   "id": "1bde885f-e2fd-4164-8000-66fc1e521723",
   "metadata": {},
   "source": [
    "Q3. What are the signs that a function is a generator function?"
   ]
  },
  {
   "cell_type": "markdown",
   "id": "1b44df45-70fe-485e-8b64-055d770bff95",
   "metadata": {},
   "source": [
    "Ans3:"
   ]
  },
  {
   "cell_type": "markdown",
   "id": "fc0403b3-1ea3-4172-9183-2a9b0da53ccd",
   "metadata": {},
   "source": [
    "If a function contains at least one yield statement (it may contain other yield or return statements), \n",
    "it becomes a generator function. Both yield and return will return some value from a function."
   ]
  },
  {
   "cell_type": "markdown",
   "id": "17998f9d-96ca-4f27-98a3-9d8508c9bcec",
   "metadata": {},
   "source": [
    "Q4. What is the purpose of a yield statement?"
   ]
  },
  {
   "cell_type": "markdown",
   "id": "b08d8a9d-3068-4d89-819f-ac6ce070c1ca",
   "metadata": {},
   "source": [
    "Ans4:"
   ]
  },
  {
   "cell_type": "markdown",
   "id": "a8af3f50-3c01-41ea-ad01-d45b81729f04",
   "metadata": {},
   "source": [
    "A yield statement looks much like a return statement, except that instead of stopping execution of the function \n",
    "and returning, yield instead provides a value to the code looping over the generator and pauses execution \n",
    "of the generator function."
   ]
  },
  {
   "cell_type": "markdown",
   "id": "2fbd74cb-0c16-4175-a6ef-e65f8d30c29d",
   "metadata": {},
   "source": [
    "Q5. What is the relationship between map calls and list comprehensions? Make a comparison \n",
    "    and contrast between the two."
   ]
  },
  {
   "cell_type": "markdown",
   "id": "3069e95f-5b13-4241-a571-dc34a3d42ac8",
   "metadata": {},
   "source": [
    "Ans5:"
   ]
  },
  {
   "cell_type": "markdown",
   "id": "6926be7c-fe3f-4541-9204-036fabdaeef3",
   "metadata": {},
   "source": [
    "map() function returns a map object(which is an iterator) of the results after applying the given function\n",
    "to each item of a given iterable (list, tuple etc.)\n",
    "List Comprehension: It is a substitute for the lambda function, map(), filter() and reduce()\n",
    "\n",
    "Comparision :\n",
    "1. \r\n",
    "List comprehension is more concise and easier to read as compared to ma2. p\r\n",
    "List comprehension allows filtering. In map, we have no such facil.\n",
    "ty For example, to print all even numbers in range of 100, we can wri\n",
    "te [n for n in range(100) if n%2 == 0]. There is no alternate for it in m3. ap\r\n",
    "List comprehension are used when a list of results is required, where as\n",
    "map only returns a map object and does not return any li4. st.\r\n",
    "List comprehension is faster than map when we need to evaluate expressions tha\n",
    " are too long or complicated to ex\n",
    "5. ress\r\n",
    "Map is faster in case of calling an already defined function (as no lambda is required)"
   ]
  }
 ],
 "metadata": {
  "kernelspec": {
   "display_name": "Python 3 (ipykernel)",
   "language": "python",
   "name": "python3"
  },
  "language_info": {
   "codemirror_mode": {
    "name": "ipython",
    "version": 3
   },
   "file_extension": ".py",
   "mimetype": "text/x-python",
   "name": "python",
   "nbconvert_exporter": "python",
   "pygments_lexer": "ipython3",
   "version": "3.12.4"
  }
 },
 "nbformat": 4,
 "nbformat_minor": 5
}
