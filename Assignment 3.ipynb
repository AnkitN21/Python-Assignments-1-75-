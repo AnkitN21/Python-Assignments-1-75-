{
 "cells": [
  {
   "cell_type": "markdown",
   "id": "e1c98c7c-81e8-443c-95a9-68b0f139932b",
   "metadata": {},
   "source": [
    "ASSIGNMENT 3:"
   ]
  },
  {
   "cell_type": "markdown",
   "id": "b7a75744-0702-4251-a411-aff443a5235c",
   "metadata": {},
   "source": [
    "Q1. Why are functions advantageous to have in your programs?"
   ]
  },
  {
   "cell_type": "markdown",
   "id": "1dd61bcd-23a4-4b9e-8c93-10b354f86836",
   "metadata": {},
   "source": [
    "Ans1:"
   ]
  },
  {
   "cell_type": "markdown",
   "id": "f35252de-0745-4b3e-8c15-bbefa112157e",
   "metadata": {},
   "source": [
    "Function provides advantages like increase code reusability, improves readability, makes code organised etc. Function can be called multiple times throughout the program."
   ]
  },
  {
   "cell_type": "markdown",
   "id": "6e6cba2b-843e-4f4e-addd-9fe57ccfa286",
   "metadata": {},
   "source": [
    "Q2. When does the code in a function run: when it's specified or when it's called?"
   ]
  },
  {
   "cell_type": "markdown",
   "id": "1ad5f7e7-46e4-4dfd-9ae8-a3a3d808f663",
   "metadata": {},
   "source": [
    "Ans2:"
   ]
  },
  {
   "cell_type": "markdown",
   "id": "33a52461-659a-475e-9247-f9a4570e1b52",
   "metadata": {},
   "source": [
    "The code in function runs when it's called"
   ]
  },
  {
   "cell_type": "markdown",
   "id": "3ec664c4-b379-4c81-81df-3afbcf0859b7",
   "metadata": {},
   "source": [
    "Q3. What statement creates a function?"
   ]
  },
  {
   "cell_type": "markdown",
   "id": "e5b2a2b0-fe8f-4d07-8eb0-faacb58db932",
   "metadata": {},
   "source": [
    "Ans3:"
   ]
  },
  {
   "cell_type": "markdown",
   "id": "3808fb38-e54d-469f-869f-76b3123d34df",
   "metadata": {},
   "source": [
    "The def statement creates a function"
   ]
  },
  {
   "cell_type": "markdown",
   "id": "2d596954-c572-4036-b520-358c761b39f0",
   "metadata": {},
   "source": [
    "Q4. What is the difference between a function and a function call?"
   ]
  },
  {
   "cell_type": "markdown",
   "id": "bc5fea63-f649-48ec-83ba-f072e37e08c7",
   "metadata": {},
   "source": [
    "Ans4:"
   ]
  },
  {
   "cell_type": "markdown",
   "id": "d8db0eff-a710-4676-8930-db1d6510fd49",
   "metadata": {},
   "source": [
    "The function consist of the def statement and the code.\n",
    "A function call when the program moves into the function and it evaluates and returns the value"
   ]
  },
  {
   "cell_type": "markdown",
   "id": "948d60d0-7350-43e1-910a-38cad3890eef",
   "metadata": {},
   "source": [
    "Q5. How many global scopes are there in a Python program? How many local scopes?"
   ]
  },
  {
   "cell_type": "markdown",
   "id": "33b0f123-c7e8-49ef-80c8-749be483b9f8",
   "metadata": {},
   "source": [
    "Ans5:"
   ]
  },
  {
   "cell_type": "markdown",
   "id": "145d182c-e3bf-4315-8323-1bf6c6d8f3f6",
   "metadata": {},
   "source": [
    "There is one global scope in python program,\n",
    "local scope is created whenever function is called."
   ]
  },
  {
   "cell_type": "markdown",
   "id": "799ab30f-52f7-450c-9569-52f16dd2c149",
   "metadata": {},
   "source": [
    "Q6. What happens to variables in a local scope when the function call returns?"
   ]
  },
  {
   "cell_type": "markdown",
   "id": "465a0431-0f46-464b-a1e0-b333ce0c1cb4",
   "metadata": {},
   "source": [
    "Ans6:"
   ]
  },
  {
   "cell_type": "markdown",
   "id": "40e24664-e56c-4260-8b7c-31789daa9e00",
   "metadata": {},
   "source": [
    "Local scope is destroyed and all variables are forgotten"
   ]
  },
  {
   "cell_type": "markdown",
   "id": "b775fe5c-56f3-489d-9127-2f12cde8feb2",
   "metadata": {},
   "source": [
    "Q7. What is the concept of a return value? Is it possible to have a return value in an expression?"
   ]
  },
  {
   "cell_type": "markdown",
   "id": "04f7141d-3435-4f22-9bc7-7f686e267d6a",
   "metadata": {},
   "source": [
    "Ans7:"
   ]
  },
  {
   "cell_type": "markdown",
   "id": "6b2b7c99-381b-41c6-9ba5-964154d25a0a",
   "metadata": {},
   "source": [
    "The value in function after evaluation is called to return value. Return value is a part of expression so yes"
   ]
  },
  {
   "cell_type": "markdown",
   "id": "086f1bbb-e17a-4cc8-bf2b-3133d3358545",
   "metadata": {},
   "source": [
    "Q8. If a function does not have a return statement, what is the return value of a call to that function?"
   ]
  },
  {
   "cell_type": "markdown",
   "id": "c980a3e6-3456-458f-8e83-63456177779a",
   "metadata": {},
   "source": [
    "Ans8:"
   ]
  },
  {
   "cell_type": "markdown",
   "id": "5122ec84-bd08-4d63-83f4-96249de216ad",
   "metadata": {},
   "source": [
    "The return value is None as there is no return statement"
   ]
  },
  {
   "cell_type": "markdown",
   "id": "c2caaec3-08b2-4870-a010-5b8db1e5009b",
   "metadata": {},
   "source": [
    "Q9. How do you make a function variable refer to the global variable?"
   ]
  },
  {
   "cell_type": "markdown",
   "id": "241f55b5-a5aa-479e-860f-c7ab56879ee6",
   "metadata": {},
   "source": [
    "Ans9:"
   ]
  },
  {
   "cell_type": "markdown",
   "id": "1b6a535f-9913-4789-909b-5ff1982fb785",
   "metadata": {},
   "source": [
    "A global statement will force a variable in a function refers to global variable "
   ]
  },
  {
   "cell_type": "markdown",
   "id": "201533e7-3d46-45bb-9145-57ea28b372c2",
   "metadata": {},
   "source": [
    "Q10. What is the data type of None?"
   ]
  },
  {
   "cell_type": "markdown",
   "id": "d48d13ec-93c8-4a0e-bab0-d2ffd1688636",
   "metadata": {},
   "source": [
    "Ans10:"
   ]
  },
  {
   "cell_type": "markdown",
   "id": "ffbf9674-c551-4082-9699-73d6cbccaab9",
   "metadata": {},
   "source": [
    "None is NoneType"
   ]
  },
  {
   "cell_type": "markdown",
   "id": "b6a5d083-ff10-489e-858d-6c5feae39e41",
   "metadata": {},
   "source": [
    "Q11. What does the sentence import areallyourpetsnamederic do?"
   ]
  },
  {
   "cell_type": "markdown",
   "id": "560268e9-1d56-4819-9e30-54a789010bf6",
   "metadata": {},
   "source": [
    "Ans11:"
   ]
  },
  {
   "cell_type": "markdown",
   "id": "7b72d962-0ca8-4527-9733-32133514ff43",
   "metadata": {},
   "source": [
    "It imports module of named areallyourpetsnamederic"
   ]
  },
  {
   "cell_type": "markdown",
   "id": "d3a96837-075d-460d-a465-72e60a9d8963",
   "metadata": {},
   "source": [
    "Q12. If you had a bacon() feature in a spam module, what would you call it after importing spam?"
   ]
  },
  {
   "cell_type": "markdown",
   "id": "2a47f2bb-03f2-403a-a8f1-907b2901d22d",
   "metadata": {},
   "source": [
    "Ans12:"
   ]
  },
  {
   "cell_type": "markdown",
   "id": "475af498-d480-4184-b193-377fadd40bf6",
   "metadata": {},
   "source": [
    "spam.bacon()"
   ]
  },
  {
   "cell_type": "markdown",
   "id": "c7f8f24f-4c78-485b-ba66-7dd548c6b398",
   "metadata": {},
   "source": [
    "Q13. What can you do to save a programme from crashing if it encounters an error?"
   ]
  },
  {
   "cell_type": "markdown",
   "id": "eb077c79-0e39-40ae-b8ac-6a19f3055327",
   "metadata": {},
   "source": [
    "Ans13:"
   ]
  },
  {
   "cell_type": "markdown",
   "id": "4d11ff08-1347-402f-b3c2-ccf312f80256",
   "metadata": {},
   "source": [
    "By using try block"
   ]
  },
  {
   "cell_type": "markdown",
   "id": "c5e2ec4a-ca96-41de-b6b2-9fd8e85b78b8",
   "metadata": {},
   "source": [
    "Q14. What is the purpose of the try clause? What is the purpose of the except clause?"
   ]
  },
  {
   "cell_type": "markdown",
   "id": "a0329557-5668-4c0a-8120-a552462ea018",
   "metadata": {},
   "source": [
    "Ans14:"
   ]
  },
  {
   "cell_type": "markdown",
   "id": "d8e789f5-5c99-49ea-ac3b-33e619c08973",
   "metadata": {},
   "source": [
    "To avoid errors in the program, we use try block.\n",
    "If the program have errors, except block is used. "
   ]
  }
 ],
 "metadata": {
  "kernelspec": {
   "display_name": "Python 3 (ipykernel)",
   "language": "python",
   "name": "python3"
  },
  "language_info": {
   "codemirror_mode": {
    "name": "ipython",
    "version": 3
   },
   "file_extension": ".py",
   "mimetype": "text/x-python",
   "name": "python",
   "nbconvert_exporter": "python",
   "pygments_lexer": "ipython3",
   "version": "3.12.4"
  }
 },
 "nbformat": 4,
 "nbformat_minor": 5
}
