{
 "cells": [
  {
   "cell_type": "markdown",
   "id": "b695e891-6e6a-47ae-8172-8db0704053a2",
   "metadata": {},
   "source": [
    "PROGRAM ASSIGNMENT 4:"
   ]
  },
  {
   "cell_type": "markdown",
   "id": "4f48a405-2a07-417e-bb17-1a3b8cb6f5ce",
   "metadata": {},
   "source": [
    "Q1. Write a Python Program to Find the Factorial of a Number?"
   ]
  },
  {
   "cell_type": "markdown",
   "id": "a5d71d42-0690-4f3e-b587-a287d9320728",
   "metadata": {},
   "source": [
    "Ans1:"
   ]
  },
  {
   "cell_type": "code",
   "execution_count": 1,
   "id": "06729320-7e7f-4e3e-ab77-eb06ba039dd4",
   "metadata": {},
   "outputs": [
    {
     "name": "stdin",
     "output_type": "stream",
     "text": [
      "Enter number: 5\n"
     ]
    },
    {
     "name": "stdout",
     "output_type": "stream",
     "text": [
      "The factorial of 5 is 120\n"
     ]
    }
   ],
   "source": [
    "num = int(input(\"Enter number:\"))\n",
    "fact = 1\n",
    "\n",
    "for i in range(1,num+1):\n",
    "    fact *= i\n",
    "\n",
    "print(f\"The factorial of {num} is {fact}\")"
   ]
  },
  {
   "cell_type": "markdown",
   "id": "49e6e7f8-781c-4768-97f1-45a63ecec990",
   "metadata": {},
   "source": [
    "Q2. Write a Python Program to Display the multiplication Table?"
   ]
  },
  {
   "cell_type": "markdown",
   "id": "dab35a7e-484e-4b5e-8edf-b958b672f35e",
   "metadata": {},
   "source": [
    "Ans2:"
   ]
  },
  {
   "cell_type": "code",
   "execution_count": 3,
   "id": "1a8c4f20-e870-4bc1-adf8-58558ba82b90",
   "metadata": {},
   "outputs": [
    {
     "name": "stdin",
     "output_type": "stream",
     "text": [
      "Enter the number for the multiplication table: 6\n"
     ]
    },
    {
     "name": "stdout",
     "output_type": "stream",
     "text": [
      "Multiplication table of :6\n",
      "6 x 1 = 6\n",
      "6 x 2 = 12\n",
      "6 x 3 = 18\n",
      "6 x 4 = 24\n",
      "6 x 5 = 30\n",
      "6 x 6 = 36\n",
      "6 x 7 = 42\n",
      "6 x 8 = 48\n",
      "6 x 9 = 54\n",
      "6 x 10 = 60\n"
     ]
    }
   ],
   "source": [
    "n = int(input(\"Enter the number for the multiplication table:\"))\n",
    "\n",
    "print(f\"Multiplication table of :{n}\")\n",
    "for i in range(1,11):\n",
    "    print(n,\"x\",i,\"=\",n*i)\n",
    "    "
   ]
  },
  {
   "cell_type": "markdown",
   "id": "fc4f81d5-c762-4853-bc39-e2c7eba01e4d",
   "metadata": {},
   "source": [
    "Q3. Write a Python Program to Print the Fibonacci sequence?"
   ]
  },
  {
   "cell_type": "markdown",
   "id": "cb3f324e-97d9-46f1-8c16-21bc28360ba4",
   "metadata": {},
   "source": [
    "Ans3:"
   ]
  },
  {
   "cell_type": "code",
   "execution_count": 16,
   "id": "46c189dc-296b-4ae2-bbee-34adbb2acb96",
   "metadata": {},
   "outputs": [
    {
     "name": "stdin",
     "output_type": "stream",
     "text": [
      "Enter the terms: 5\n"
     ]
    },
    {
     "name": "stdout",
     "output_type": "stream",
     "text": [
      "The Fibonacci series of 5 are:\n",
      "0\n",
      "1\n",
      "1\n",
      "2\n",
      "3\n"
     ]
    }
   ],
   "source": [
    "num1 = int(input(\"Enter the terms:\"))\n",
    "a = 0\n",
    "b = 1\n",
    "\n",
    "if num1 == 1:\n",
    "    print(f\"The Fibonacci series of {num1} is:\")\n",
    "    print(a)\n",
    "else:\n",
    "    print(f\"The Fibonacci series of {num1} are:\")\n",
    "    print(a)\n",
    "    print(b)\n",
    "\n",
    "if num > 1:\n",
    "    for i in range(1,num1-1):\n",
    "        c=a+b\n",
    "        print(c)\n",
    "        a,b=b,c\n",
    "    "
   ]
  },
  {
   "cell_type": "markdown",
   "id": "38fa2a9d-41be-4b70-a215-cdca2187afe2",
   "metadata": {},
   "source": [
    "Q4. Write a Python Program to Check Armstrong Number?"
   ]
  },
  {
   "cell_type": "markdown",
   "id": "f2ef0b57-7e73-4288-990c-7e546f1cd10d",
   "metadata": {},
   "source": [
    "Ans4:"
   ]
  },
  {
   "cell_type": "code",
   "execution_count": 17,
   "id": "7882b51d-7797-4e11-a7cd-1539afeb2af5",
   "metadata": {},
   "outputs": [
    {
     "name": "stdin",
     "output_type": "stream",
     "text": [
      "Enter a number: 407\n"
     ]
    },
    {
     "name": "stdout",
     "output_type": "stream",
     "text": [
      "407 is an Armstrong Number\n"
     ]
    }
   ],
   "source": [
    "n1 = int(input(\"Enter a number:\"))\n",
    "p = len(str(n1))\n",
    "sums = 0\n",
    "a = n1\n",
    "\n",
    "while a > 0:\n",
    "    dig = a % 10\n",
    "    sums += dig**p\n",
    "    a = a //10\n",
    "\n",
    "if n1 == sums:\n",
    "    print(n1,\"is an Armstrong Number\")\n",
    "else:\n",
    "    print(n1,\"is not Armstrong Number\")"
   ]
  },
  {
   "cell_type": "markdown",
   "id": "439ed82c-6d19-4675-b546-35feb1998309",
   "metadata": {},
   "source": [
    "Q5. Write a Python Program to Find Armstrong Number in an Interval?"
   ]
  },
  {
   "cell_type": "markdown",
   "id": "0562b3a8-0d61-4562-b4e2-4a8c8e352b89",
   "metadata": {},
   "source": [
    "Ans5:"
   ]
  },
  {
   "cell_type": "code",
   "execution_count": 21,
   "id": "93172dbf-fc11-4ac7-bcd5-88a008ee643f",
   "metadata": {},
   "outputs": [
    {
     "name": "stdin",
     "output_type": "stream",
     "text": [
      "Enter an interval from 1 to ?: 500\n"
     ]
    },
    {
     "name": "stdout",
     "output_type": "stream",
     "text": [
      "The Armstrong Numbers in an interval from 1 to 500 are:\n",
      "1,2,3,4,5,6,7,8,9,153,370,371,407,"
     ]
    }
   ],
   "source": [
    "n2 = int(input(\"Enter an interval from 1 to ?:\"))\n",
    "print(f\"The Armstrong Numbers in an interval from 1 to {n2} are:\")\n",
    "for i in range(1, n2):\n",
    "    p = len(str(i))\n",
    "    sums = 0\n",
    "    a = i\n",
    "    while a > 0:\n",
    "        dig = a % 10\n",
    "        sums += dig**p\n",
    "        a = a //10\n",
    "    if i == sums:\n",
    "        print(i, end= \",\")\n",
    "        "
   ]
  },
  {
   "cell_type": "markdown",
   "id": "c6b11605-0e93-42ac-9d52-f23e84c626d9",
   "metadata": {},
   "source": [
    "Q6. Write a Python Program to Find the Sum of Natural Numbers?"
   ]
  },
  {
   "cell_type": "markdown",
   "id": "ce071377-9c51-4926-a4ba-5dd3090a1928",
   "metadata": {},
   "source": [
    "Ans6:"
   ]
  },
  {
   "cell_type": "code",
   "execution_count": 22,
   "id": "defe2e72-4c94-4996-b0ed-0e2d6f929c4d",
   "metadata": {},
   "outputs": [
    {
     "name": "stdin",
     "output_type": "stream",
     "text": [
      "Enter the natural number: 9\n"
     ]
    },
    {
     "name": "stdout",
     "output_type": "stream",
     "text": [
      "The sum of 9 natural number is 45\n"
     ]
    }
   ],
   "source": [
    "nn = int(input(\"Enter the natural number:\"))\n",
    "sums = 0\n",
    "\n",
    "for i in range(1,nn+1):\n",
    "    sums += i\n",
    "    \n",
    "print(f\"The sum of {nn} natural number is {sums}\")\n"
   ]
  },
  {
   "cell_type": "code",
   "execution_count": null,
   "id": "43055507-4a71-4543-8448-a14f162b2e89",
   "metadata": {},
   "outputs": [],
   "source": []
  }
 ],
 "metadata": {
  "kernelspec": {
   "display_name": "Python 3 (ipykernel)",
   "language": "python",
   "name": "python3"
  },
  "language_info": {
   "codemirror_mode": {
    "name": "ipython",
    "version": 3
   },
   "file_extension": ".py",
   "mimetype": "text/x-python",
   "name": "python",
   "nbconvert_exporter": "python",
   "pygments_lexer": "ipython3",
   "version": "3.12.4"
  }
 },
 "nbformat": 4,
 "nbformat_minor": 5
}
