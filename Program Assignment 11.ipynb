{
 "cells": [
  {
   "cell_type": "markdown",
   "id": "ef67039e-ebed-4948-86ce-47f0e23e8e9a",
   "metadata": {},
   "source": [
    "PROGRAM ASSIGNMENT 11"
   ]
  },
  {
   "cell_type": "markdown",
   "id": "00a2b250-5508-4e8e-992b-3e68d7b04c6b",
   "metadata": {},
   "source": [
    "Ans1:"
   ]
  },
  {
   "cell_type": "code",
   "execution_count": 1,
   "id": "48914799-68a9-4692-aec5-3bf447c0d3b4",
   "metadata": {},
   "outputs": [
    {
     "name": "stdin",
     "output_type": "stream",
     "text": [
      "Enter strings: hey this is python\n"
     ]
    },
    {
     "name": "stdout",
     "output_type": "stream",
     "text": [
      "this python\n"
     ]
    }
   ],
   "source": [
    "def string_greater(k,str1):\n",
    "    str2 = []\n",
    "    text = str1.split(\" \")\n",
    "    \n",
    "    for i in text:\n",
    "        if len(i) > k:\n",
    "            str2.append(i)\n",
    "    \n",
    "    return str2\n",
    "    \n",
    "\n",
    "str1 = input(\"Enter strings:\")\n",
    "k = 3\n",
    "text1 = string_greater(k,str1)\n",
    "print(\" \".join(text1))\n"
   ]
  },
  {
   "cell_type": "markdown",
   "id": "29d3febc-fb50-46be-b268-a5c50c25022b",
   "metadata": {},
   "source": [
    "Ans2:"
   ]
  },
  {
   "cell_type": "code",
   "execution_count": 3,
   "id": "d1914d59-654b-4d73-90ef-61e31a8955c1",
   "metadata": {},
   "outputs": [
    {
     "name": "stdin",
     "output_type": "stream",
     "text": [
      "Enter a string: pyhton\n"
     ]
    },
    {
     "name": "stdout",
     "output_type": "stream",
     "text": [
      "String after removing 3rd character: pyton\n"
     ]
    }
   ],
   "source": [
    "def remove_char(s,j):\n",
    "    b = s[:j]\n",
    "    c = s[j+1:]\n",
    "    return b + c\n",
    "\n",
    "a = input(\"Enter a string:\")\n",
    "i = 3\n",
    "if len(a) > 3:\n",
    "    print(\"String after removing 3rd character:\",remove_char(a,i-1))\n",
    "else:\n",
    "    print(\"String should be greater than 3 letters\")"
   ]
  },
  {
   "cell_type": "markdown",
   "id": "a03ab0a5-6106-4d1c-b98f-7a2cfdc6fb3f",
   "metadata": {},
   "source": [
    "Ans3:"
   ]
  },
  {
   "cell_type": "code",
   "execution_count": 4,
   "id": "f9c40e3d-38a1-4ed5-8439-d32ff09616d6",
   "metadata": {},
   "outputs": [
    {
     "name": "stdin",
     "output_type": "stream",
     "text": [
      "Enter strings: this is pyhton\n"
     ]
    },
    {
     "name": "stdout",
     "output_type": "stream",
     "text": [
      "String after splitting: ['this', 'is', 'pyhton']\n",
      "String after joining: this is pyhton\n"
     ]
    }
   ],
   "source": [
    "x = input(\"Enter strings:\").split()\n",
    "print(\"String after splitting:\",x)\n",
    "\n",
    "y = \" \".join(x)\n",
    "print(\"String after joining:\",y)\n"
   ]
  },
  {
   "cell_type": "markdown",
   "id": "39a6c8dd-51fe-4630-ac80-b311e33ecd69",
   "metadata": {},
   "source": [
    "Ans4:"
   ]
  },
  {
   "cell_type": "code",
   "execution_count": 9,
   "id": "0fadd042-9e7a-486a-9cd0-aa2403a0cb3a",
   "metadata": {},
   "outputs": [
    {
     "name": "stdin",
     "output_type": "stream",
     "text": [
      "Enter string for binary check: 011011100\n"
     ]
    },
    {
     "name": "stdout",
     "output_type": "stream",
     "text": [
      "String is binary\n"
     ]
    }
   ],
   "source": [
    "def bin_check(s):\n",
    "    a = set(s)\n",
    "    s2 = {'0','1'}\n",
    "    if s2 == a or a == {'0'} or a == {'1'}:\n",
    "        print(\"String is binary\")\n",
    "    else:\n",
    "        print(\"String is non-binary\")\n",
    "        \n",
    "s1 = input(\"Enter string for binary check:\")\n",
    "bin_check(s1)"
   ]
  },
  {
   "cell_type": "markdown",
   "id": "ca36c983-143f-48a3-8445-7ba2a2482bd2",
   "metadata": {},
   "source": [
    "Ans5:"
   ]
  },
  {
   "cell_type": "code",
   "execution_count": 17,
   "id": "c321bb94-a074-44f9-baf5-68aa2dc17e06",
   "metadata": {},
   "outputs": [
    {
     "name": "stdin",
     "output_type": "stream",
     "text": [
      "Enter strings this is python\n",
      "Enter another strings i m learning this python\n"
     ]
    },
    {
     "name": "stdout",
     "output_type": "stream",
     "text": [
      "The uncommon words are: is i m learning\n"
     ]
    }
   ],
   "source": [
    "def uncom_words(a,b):\n",
    "    unwords = {}\n",
    "    for i in a.split():\n",
    "        unwords[i] = unwords.get(i, 0) + 1\n",
    "    for i in b.split():\n",
    "        unwords[i] = unwords.get(i, 0) + 1\n",
    "    return [j for j in unwords if unwords[j] == 1]\n",
    "    \n",
    "a1 = input(\"Enter strings\")\n",
    "b1 = input(\"Enter another strings\")\n",
    "\n",
    "un_word = uncom_words(a1,b1)\n",
    "print(\"The uncommon words are:\", \" \".join(un_word))"
   ]
  },
  {
   "cell_type": "markdown",
   "id": "afe3a1fe-d31d-4bfe-b168-b69cfb2ad549",
   "metadata": {},
   "source": [
    "Ans6:"
   ]
  },
  {
   "cell_type": "code",
   "execution_count": 26,
   "id": "016418e1-70f4-4370-a0c1-d524dc275169",
   "metadata": {},
   "outputs": [
    {
     "name": "stdin",
     "output_type": "stream",
     "text": [
      "Enter strings: languages\n"
     ]
    },
    {
     "name": "stdout",
     "output_type": "stream",
     "text": [
      "['a', 'g']\n"
     ]
    }
   ],
   "source": [
    "def dupli_char(x):\n",
    "    chars = {}\n",
    "    for i in x:\n",
    "        if i not in chars:\n",
    "            chars[i] = 1\n",
    "        else:\n",
    "            chars[i] += 1\n",
    "    duplicates = []\n",
    "    for i,j in chars.items():\n",
    "        if j > 1:\n",
    "            duplicates.append(i)\n",
    "    return duplicates       \n",
    "\n",
    "x1 = input(\"Enter strings:\")\n",
    "\n",
    "y1 = dupli_char(x1)\n",
    "if len(y1) < 1:\n",
    "    print(\"No duplicate characters in strings \")\n",
    "else:\n",
    "    print(y1)"
   ]
  },
  {
   "cell_type": "markdown",
   "id": "53e1abe7-b723-49d5-91f2-4654d0637222",
   "metadata": {},
   "source": [
    "Ans7:"
   ]
  },
  {
   "cell_type": "code",
   "execution_count": 30,
   "id": "8ec6881b-cdd4-45aa-a0c6-71b71a9bde4b",
   "metadata": {},
   "outputs": [
    {
     "name": "stdout",
     "output_type": "stream",
     "text": [
      "Welcome! to Python has the special characters in it\n"
     ]
    }
   ],
   "source": [
    "import string\n",
    "\n",
    "def spec_char(s):\n",
    "   result = any(c in string.punctuation for c in s)\n",
    "   if result == True:\n",
    "      print(s, \"has the special characters in it\") \n",
    "   else:\n",
    "      print(s, \"has no special characters in it\")\n",
    "\n",
    "s1 = \"Welcome! to Python\"\n",
    "spec_char(s1)"
   ]
  }
 ],
 "metadata": {
  "kernelspec": {
   "display_name": "Python 3 (ipykernel)",
   "language": "python",
   "name": "python3"
  },
  "language_info": {
   "codemirror_mode": {
    "name": "ipython",
    "version": 3
   },
   "file_extension": ".py",
   "mimetype": "text/x-python",
   "name": "python",
   "nbconvert_exporter": "python",
   "pygments_lexer": "ipython3",
   "version": "3.12.4"
  }
 },
 "nbformat": 4,
 "nbformat_minor": 5
}
