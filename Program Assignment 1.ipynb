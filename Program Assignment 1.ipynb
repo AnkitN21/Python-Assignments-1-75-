{
 "cells": [
  {
   "cell_type": "markdown",
   "id": "517d2b53-e263-4857-946f-83289baa969d",
   "metadata": {},
   "source": [
    "PROGRAM ASSIGNMENT 1:"
   ]
  },
  {
   "cell_type": "markdown",
   "id": "12e054a9-ab56-4586-acb3-c50e676d851b",
   "metadata": {},
   "source": [
    "Ans1:"
   ]
  },
  {
   "cell_type": "code",
   "execution_count": 1,
   "id": "aabe200f-c857-41b3-a20c-96a700ebfbee",
   "metadata": {},
   "outputs": [
    {
     "name": "stdout",
     "output_type": "stream",
     "text": [
      "Hello Python\n"
     ]
    }
   ],
   "source": [
    "print('Hello Python')"
   ]
  },
  {
   "cell_type": "markdown",
   "id": "c8c7c45e-743e-4d20-a346-3f1853f8a546",
   "metadata": {},
   "source": [
    "Ans2:"
   ]
  },
  {
   "cell_type": "code",
   "execution_count": 2,
   "id": "12e75b52-f894-471a-ad67-ed4d9c4310d2",
   "metadata": {},
   "outputs": [
    {
     "name": "stdin",
     "output_type": "stream",
     "text": [
      "Enter 1st number 12\n",
      "Enter 2nd number 3\n"
     ]
    },
    {
     "name": "stdout",
     "output_type": "stream",
     "text": [
      "15\n",
      "4.0\n"
     ]
    }
   ],
   "source": [
    "a = int(input('Enter 1st number'))\n",
    "b = int(input('Enter 2nd number'))\n",
    "\n",
    "c = a+b    # addition\n",
    "d = a/b    # division\n",
    "\n",
    "print(c)\n",
    "print(d)"
   ]
  },
  {
   "cell_type": "markdown",
   "id": "f0e2a9cd-a55b-4928-8bc4-bb7749438c8a",
   "metadata": {},
   "source": [
    "Ans3:"
   ]
  },
  {
   "cell_type": "code",
   "execution_count": 5,
   "id": "8e887460-199d-4260-9997-59b6c4558373",
   "metadata": {},
   "outputs": [
    {
     "name": "stdin",
     "output_type": "stream",
     "text": [
      "Enter 1st side 5\n",
      "Enter 2nd side 6\n",
      "Enter 3rd side 7\n"
     ]
    },
    {
     "name": "stdout",
     "output_type": "stream",
     "text": [
      "The area of the tringle is: 14.696938456699069\n"
     ]
    }
   ],
   "source": [
    "m = float(input('Enter 1st side'))\n",
    "n = float(input('Enter 2nd side'))\n",
    "o = float(input('Enter 3rd side'))\n",
    "\n",
    "s = (m+n+o)/2\n",
    "\n",
    "area = (s*(s-m)*(s-n)*(s-o))**0.5\n",
    "print('The area of the tringle is:', area)"
   ]
  },
  {
   "cell_type": "markdown",
   "id": "f287e10a-7e29-450b-80a9-75243e8119f6",
   "metadata": {},
   "source": [
    "Ans4:"
   ]
  },
  {
   "cell_type": "code",
   "execution_count": 7,
   "id": "d041ad2d-6c65-47c9-8011-44caf39aee79",
   "metadata": {},
   "outputs": [
    {
     "name": "stdout",
     "output_type": "stream",
     "text": [
      "x= 7\n",
      "y= 4\n"
     ]
    }
   ],
   "source": [
    "x = 4\n",
    "y = 7\n",
    "\n",
    "x, y = y, x\n",
    "print('x=', x)\n",
    "print('y=', y)"
   ]
  },
  {
   "cell_type": "markdown",
   "id": "e83db0a6-ea3a-4ef8-b4bb-9b0672e9eedc",
   "metadata": {},
   "source": [
    "Ans5:"
   ]
  },
  {
   "cell_type": "code",
   "execution_count": 9,
   "id": "804fb031-9f82-4828-9f93-b0a808dbb335",
   "metadata": {},
   "outputs": [
    {
     "name": "stdout",
     "output_type": "stream",
     "text": [
      "8\n"
     ]
    }
   ],
   "source": [
    "import random\n",
    "\n",
    "a = random.randint(1,12)\n",
    "print(a)"
   ]
  }
 ],
 "metadata": {
  "kernelspec": {
   "display_name": "Python 3 (ipykernel)",
   "language": "python",
   "name": "python3"
  },
  "language_info": {
   "codemirror_mode": {
    "name": "ipython",
    "version": 3
   },
   "file_extension": ".py",
   "mimetype": "text/x-python",
   "name": "python",
   "nbconvert_exporter": "python",
   "pygments_lexer": "ipython3",
   "version": "3.12.4"
  }
 },
 "nbformat": 4,
 "nbformat_minor": 5
}
