{
 "cells": [
  {
   "cell_type": "markdown",
   "id": "70f1dbc0-2644-461c-ab96-0438df11a144",
   "metadata": {},
   "source": [
    "PROGRAM ASSIGNMENT 9:"
   ]
  },
  {
   "cell_type": "markdown",
   "id": "953760f5-e40e-4d4e-a9b3-16d7b0cf0334",
   "metadata": {},
   "source": [
    "Q1. Write a Python program to check if the given number is a Disarium Number?"
   ]
  },
  {
   "cell_type": "markdown",
   "id": "faa72bce-cb24-4cec-ba95-8c0f230d3911",
   "metadata": {},
   "source": [
    "Ans1:"
   ]
  },
  {
   "cell_type": "code",
   "execution_count": 3,
   "id": "2259589b-1cfb-402f-a712-0abe3683a5a3",
   "metadata": {},
   "outputs": [
    {
     "name": "stdin",
     "output_type": "stream",
     "text": [
      "Enter a number: 89\n"
     ]
    },
    {
     "name": "stdout",
     "output_type": "stream",
     "text": [
      "89 is an Disarium Number\n"
     ]
    }
   ],
   "source": [
    "n1 = int(input(\"Enter a number:\"))\n",
    "p = len(str(n1))\n",
    "sums = 0\n",
    "a = n1\n",
    "\n",
    "while a != 0:\n",
    "    dig = a % 10\n",
    "    sums += dig**p\n",
    "    a = a //10\n",
    "    p -= 1\n",
    "\n",
    "if n1 == sums:\n",
    "    print(n1,\"is an Disarium Number\")\n",
    "else:\n",
    "    print(n1,\"is not Disarium Number\")"
   ]
  },
  {
   "cell_type": "markdown",
   "id": "eaca3c19-3859-440d-ab17-85b1f6ab28f4",
   "metadata": {},
   "source": [
    "Q2. Write a Python program to print all disarium numbers between 1 to 100?"
   ]
  },
  {
   "cell_type": "markdown",
   "id": "f0f3ac8d-9df1-4800-9419-6bf2bfd1ca9e",
   "metadata": {},
   "source": [
    "Ans2:"
   ]
  },
  {
   "cell_type": "code",
   "execution_count": 23,
   "id": "1259c776-3927-4f25-8922-6bc12df438b7",
   "metadata": {},
   "outputs": [
    {
     "name": "stdout",
     "output_type": "stream",
     "text": [
      "1,2,3,4,5,6,7,8,9,89,"
     ]
    }
   ],
   "source": [
    "def dis_num(a):\n",
    "    sums = 0\n",
    "    p = len(str(i))\n",
    "    \n",
    "    while a != 0:\n",
    "        dig = a % 10\n",
    "        sums += dig**p\n",
    "        a = a //10\n",
    "        p -= 1\n",
    "    return sums\n",
    "    \n",
    "for i in range(1,100):\n",
    "    b = dis_num(i)\n",
    "        \n",
    "    if i == b:\n",
    "       print(i, end=',')"
   ]
  },
  {
   "cell_type": "markdown",
   "id": "a39271c4-a14c-4b44-8e3b-2787afb620db",
   "metadata": {},
   "source": [
    "Q3. Write a Python program to check if the given number is Happy Number?"
   ]
  },
  {
   "cell_type": "markdown",
   "id": "f8fffb1d-47cf-48d8-9e5b-013ff698301d",
   "metadata": {},
   "source": [
    "Ans3:"
   ]
  },
  {
   "cell_type": "code",
   "execution_count": 9,
   "id": "59f73725-0b42-473f-aff0-4727f4f4532d",
   "metadata": {},
   "outputs": [
    {
     "name": "stdin",
     "output_type": "stream",
     "text": [
      "Enter a number: 34\n"
     ]
    },
    {
     "name": "stdout",
     "output_type": "stream",
     "text": [
      "34  is not a happy number\n"
     ]
    }
   ],
   "source": [
    "def hap_num(num):    \n",
    "    sums = 0    \n",
    "\n",
    "    while num > 0:    \n",
    "        rem = num%10    \n",
    "        sums = sums + (rem*rem)   \n",
    "        num = num//10;    \n",
    "    return sums    \n",
    "        \n",
    "num = int(input(\"Enter a number:\"))    \n",
    "x = num\n",
    "     \n",
    "while x != 1 and x != 4:    \n",
    "    x = hap_num(x)  \n",
    "        \n",
    "if x == 1:    \n",
    "    print(num,\" is a happy number\")   \n",
    "\n",
    "elif x == 4:    \n",
    "    print(num,\" is not a happy number\")\n"
   ]
  },
  {
   "cell_type": "markdown",
   "id": "b1f368ef-8b43-44a1-b0d8-95bb440ea73b",
   "metadata": {},
   "source": [
    "Q4. Write a Python program to print all happy numbers between 1 and 100?"
   ]
  },
  {
   "cell_type": "markdown",
   "id": "0f7493a9-f5b9-4772-b928-397bee17d414",
   "metadata": {},
   "source": [
    "Ans4:"
   ]
  },
  {
   "cell_type": "code",
   "execution_count": 22,
   "id": "2b410323-20d3-47b2-8d78-510b489d4240",
   "metadata": {},
   "outputs": [
    {
     "name": "stdout",
     "output_type": "stream",
     "text": [
      "1,7,10,13,19,23,28,31,32,44,49,68,70,79,82,86,91,94,97,"
     ]
    }
   ],
   "source": [
    "def hap_num(num):    \n",
    "    sums = 0    \n",
    "\n",
    "    while num > 0:    \n",
    "        rem = num%10    \n",
    "        sums = sums + (rem*rem)   \n",
    "        num = num//10;    \n",
    "    return sums    \n",
    "        \n",
    "for i in range(1,100):   \n",
    "    x = i\n",
    "    \n",
    "    while x != 1 and x != 4:    \n",
    "        x = hap_num(x)  \n",
    "    \n",
    "    if x == 1:    \n",
    "        print(i, end=',')   \n"
   ]
  },
  {
   "cell_type": "markdown",
   "id": "5ed92f4f-e2ed-4774-9ee1-e1e1b03bc3cd",
   "metadata": {},
   "source": [
    "Q5. Write a Python program to determine whether the given number is a Harshad Number?"
   ]
  },
  {
   "cell_type": "markdown",
   "id": "e6a9d68e-a8c7-4acb-a4fc-53be3c925ff2",
   "metadata": {},
   "source": [
    "Ans5:"
   ]
  },
  {
   "cell_type": "code",
   "execution_count": 3,
   "id": "5d1c92ab-562a-45f6-91ad-ba83932c657f",
   "metadata": {},
   "outputs": [
    {
     "name": "stdin",
     "output_type": "stream",
     "text": [
      "Enter a number: 18\n"
     ]
    },
    {
     "name": "stdout",
     "output_type": "stream",
     "text": [
      "18 is a Harshad Number\n"
     ]
    }
   ],
   "source": [
    "num1 = int(input(\"Enter a number:\"))\n",
    "sums = 0\n",
    "a = num1\n",
    "\n",
    "while a != 0:\n",
    "    dig = a % 10\n",
    "    sums += dig\n",
    "    a = a //10\n",
    "\n",
    "if num1%sums == 0:\n",
    "    print(num1,\"is a Harshad Number\")\n",
    "else:\n",
    "    print(num1,\"is not Harshad Number\")"
   ]
  },
  {
   "cell_type": "markdown",
   "id": "cf8c4e5e-d4b8-4ea2-af68-e9e627fdf49b",
   "metadata": {},
   "source": [
    "Q6. Write a Python program to print all pronic numbers between 1 and 100?"
   ]
  },
  {
   "cell_type": "markdown",
   "id": "730fcbd3-19c8-454b-8dbf-771f3611ea78",
   "metadata": {},
   "source": [
    "Ans6:"
   ]
  },
  {
   "cell_type": "code",
   "execution_count": 8,
   "id": "d22614ec-f946-4cd2-bad8-fb2dd0b326f7",
   "metadata": {},
   "outputs": [
    {
     "name": "stdout",
     "output_type": "stream",
     "text": [
      "Pronic number between 1 to 100 are:\n",
      "2,6,12,20,30,42,56,72,90,"
     ]
    }
   ],
   "source": [
    "import math\n",
    "\n",
    "def pronic(x):\n",
    "    a = int(math.sqrt(x))\n",
    "    if x == a*(a+1):\n",
    "        print(x, end= \",\")\n",
    "\n",
    "print(\"Pronic number between 1 to 100 are:\")\n",
    "for i in range(1,100):\n",
    "    pronic(i)"
   ]
  }
 ],
 "metadata": {
  "kernelspec": {
   "display_name": "Python 3 (ipykernel)",
   "language": "python",
   "name": "python3"
  },
  "language_info": {
   "codemirror_mode": {
    "name": "ipython",
    "version": 3
   },
   "file_extension": ".py",
   "mimetype": "text/x-python",
   "name": "python",
   "nbconvert_exporter": "python",
   "pygments_lexer": "ipython3",
   "version": "3.12.4"
  }
 },
 "nbformat": 4,
 "nbformat_minor": 5
}
