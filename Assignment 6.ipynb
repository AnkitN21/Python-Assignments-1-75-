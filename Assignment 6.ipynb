{
 "cells": [
  {
   "cell_type": "markdown",
   "id": "07e47754-d550-48ab-8c85-c4ab15e56bf3",
   "metadata": {},
   "source": [
    "ASSIGNMENT 6:"
   ]
  },
  {
   "cell_type": "markdown",
   "id": "d8bf087c-db02-47bd-892f-50a28594d7fa",
   "metadata": {},
   "source": [
    "Q1. What are escape characters, and how do you use them?"
   ]
  },
  {
   "cell_type": "markdown",
   "id": "ab35bd36-1175-4f79-a6c0-2d0bcea0379e",
   "metadata": {},
   "source": [
    "Ans1:"
   ]
  },
  {
   "cell_type": "markdown",
   "id": "fbafe6cf-22de-4e9b-af45-ee108454a56d",
   "metadata": {},
   "source": [
    "Escape character is followed by backslash (\\), which escapes out from the string into another mode."
   ]
  },
  {
   "cell_type": "markdown",
   "id": "dc086085-9030-440f-8271-d3c4ee1bc12b",
   "metadata": {},
   "source": [
    "Q2. What do the escape characters n and t stand for?"
   ]
  },
  {
   "cell_type": "markdown",
   "id": "c52e1aa0-6e4a-422e-84b2-4f51530a8168",
   "metadata": {},
   "source": [
    "Ans2:"
   ]
  },
  {
   "cell_type": "markdown",
   "id": "bb4a1de6-cb18-400b-bd2e-c38459c01073",
   "metadata": {},
   "source": [
    "\\n is new line and \\t is tab"
   ]
  },
  {
   "cell_type": "markdown",
   "id": "78813340-857b-46b6-a59a-b056bd4f2d2d",
   "metadata": {},
   "source": [
    "Q3. What is the way to include backslash characters in a string?"
   ]
  },
  {
   "cell_type": "markdown",
   "id": "70f147d9-86d6-4f8d-a1a8-c4162aadb819",
   "metadata": {},
   "source": [
    "Ans3:"
   ]
  },
  {
   "cell_type": "markdown",
   "id": "ea18637e-3eca-44ac-ad29-0a7cdd6a9dc4",
   "metadata": {},
   "source": [
    "\\\\ in a string will include it"
   ]
  },
  {
   "cell_type": "markdown",
   "id": "d458c7a0-7894-4f59-8cc3-0a1566e51a26",
   "metadata": {},
   "source": [
    "4. The string \"Howl's Moving Castle\" is a correct value. Why isn't the single quote character in the\n",
    "word Howl's not escaped a problem?"
   ]
  },
  {
   "cell_type": "markdown",
   "id": "086a5efd-eef8-4dbe-97fa-7f4490060eee",
   "metadata": {},
   "source": [
    "Ans4:"
   ]
  },
  {
   "cell_type": "markdown",
   "id": "3a4dc323-c7a0-4c92-9d22-ed56004ab8c8",
   "metadata": {},
   "source": [
    "single quote will work because of having double quote but not vice versa"
   ]
  },
  {
   "cell_type": "markdown",
   "id": "0653ba55-d74f-47b8-8c27-b9df119b7e70",
   "metadata": {},
   "source": [
    "Q5. How do you write a string of newlines if you don't want to use the n character?"
   ]
  },
  {
   "cell_type": "markdown",
   "id": "7eb536dd-222a-42b2-a2c9-817873c2ba92",
   "metadata": {},
   "source": [
    "Ans5"
   ]
  },
  {
   "cell_type": "markdown",
   "id": "c49c5535-121c-4ea9-a390-90c0bfad0ebb",
   "metadata": {},
   "source": [
    "By using multiline strings"
   ]
  },
  {
   "cell_type": "markdown",
   "id": "419cf12d-21dc-4480-9ec0-6dd687b3c8bc",
   "metadata": {},
   "source": [
    "Q6. What are the values of the given expressions?\n",
    "'Hello, world'[1]\n",
    "'Hello, world!'[0:5]\n",
    "'Hello, world!'[:5]\n",
    "'Hello, world!'[3:]"
   ]
  },
  {
   "cell_type": "markdown",
   "id": "9396c574-26af-44a8-90ef-1797f43b23fc",
   "metadata": {},
   "source": [
    "Ans6:"
   ]
  },
  {
   "cell_type": "code",
   "execution_count": 8,
   "id": "9606fe50-38ea-493b-a31a-e3c236b1b11a",
   "metadata": {},
   "outputs": [
    {
     "name": "stdout",
     "output_type": "stream",
     "text": [
      "e\n",
      "Hello\n",
      "Hello\n",
      "lo, world!\n"
     ]
    }
   ],
   "source": [
    "print('Hello, world!'[1])        #index[1] ie 'e'\n",
    "print('Hello, world!'[0:5])      #from index 0 to 5\n",
    "print('Hello, world!'[:5])       #to index[5]\n",
    "print('Hello, world!'[3:])       #from index[3]"
   ]
  },
  {
   "cell_type": "markdown",
   "id": "faff74c1-cd42-44e2-a190-004406f734fe",
   "metadata": {},
   "source": [
    "Q7. What are the values of the following expressions?\n",
    "'Hello'.upper()\n",
    "'Hello'.upper().isupper()\n",
    "'Hello'.upper().lower()"
   ]
  },
  {
   "cell_type": "markdown",
   "id": "6dca9c2a-2cbb-4cb7-b2ef-bd58a7fbb19f",
   "metadata": {},
   "source": [
    "Ans7"
   ]
  },
  {
   "cell_type": "code",
   "execution_count": 9,
   "id": "c5c5ad06-6cb0-47f9-a7e0-5e8979cb1582",
   "metadata": {},
   "outputs": [
    {
     "name": "stdout",
     "output_type": "stream",
     "text": [
      "HELLO\n",
      "True\n",
      "hello\n"
     ]
    }
   ],
   "source": [
    "print('Hello'.upper())            #makes all char uppercase\n",
    "print('Hello'.upper().isupper())  #    \"\"       \"\"       and checks if all char are uppercase\n",
    "print('Hello'.upper().lower())    #    \"\"       \"\"       and then makes all char lowercase"
   ]
  },
  {
   "cell_type": "markdown",
   "id": "cd579178-1a34-4623-9ef1-e9a45970806e",
   "metadata": {},
   "source": [
    "Q8. What are the values of the following expressions?\n",
    "'Remember, remember, the fifth of July.'.split()\n",
    "'-'.join('There can only one.'.split())"
   ]
  },
  {
   "cell_type": "markdown",
   "id": "4292d0b7-caf1-4058-9a34-a89fe7665219",
   "metadata": {},
   "source": [
    "Ans8:"
   ]
  },
  {
   "cell_type": "code",
   "execution_count": 12,
   "id": "5618f7ef-784b-42f8-98a2-fe1dc99d8540",
   "metadata": {},
   "outputs": [
    {
     "name": "stdout",
     "output_type": "stream",
     "text": [
      "['Remember,', 'remember,', 'the', 'fifth', 'of', 'July']\n",
      "There-can-only-one\n"
     ]
    }
   ],
   "source": [
    "print('Remember, remember, the fifth of July'.split())   #it splits into each words\n",
    "print('-'.join('There can only one'.split()))            #     \"\"      \"\"     and then join them with '-'"
   ]
  },
  {
   "cell_type": "markdown",
   "id": "a8a49dcd-a0c0-4977-9093-02e1c5e40104",
   "metadata": {},
   "source": [
    "Q9. What are the methods for right-justifying, left-justifying, and centering a string?"
   ]
  },
  {
   "cell_type": "markdown",
   "id": "45cf1231-9930-4ff9-80f4-cf3ef6955cf0",
   "metadata": {},
   "source": [
    "Ans9:"
   ]
  },
  {
   "cell_type": "markdown",
   "id": "e64584a8-f05c-423c-94cf-91588a728d62",
   "metadata": {},
   "source": [
    "rjust(), ljust(), center() respectively"
   ]
  },
  {
   "cell_type": "markdown",
   "id": "4880841d-732a-414d-a242-d0a435d2501d",
   "metadata": {},
   "source": [
    "Q10. What is the best way to remove whitespace characters from the start or end?"
   ]
  },
  {
   "cell_type": "markdown",
   "id": "0eb006cf-0363-4919-be19-9c84d427c352",
   "metadata": {},
   "source": [
    "Ans10:"
   ]
  },
  {
   "cell_type": "markdown",
   "id": "921e50a3-63f4-44bf-afe9-3b680d59b846",
   "metadata": {},
   "source": [
    "By using remove()  "
   ]
  }
 ],
 "metadata": {
  "kernelspec": {
   "display_name": "Python 3 (ipykernel)",
   "language": "python",
   "name": "python3"
  },
  "language_info": {
   "codemirror_mode": {
    "name": "ipython",
    "version": 3
   },
   "file_extension": ".py",
   "mimetype": "text/x-python",
   "name": "python",
   "nbconvert_exporter": "python",
   "pygments_lexer": "ipython3",
   "version": "3.12.4"
  }
 },
 "nbformat": 4,
 "nbformat_minor": 5
}
