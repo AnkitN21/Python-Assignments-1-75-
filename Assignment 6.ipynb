{
 "cells": [
  {
   "cell_type": "markdown",
   "id": "07e47754-d550-48ab-8c85-c4ab15e56bf3",
   "metadata": {},
   "source": [
    "ASSIGNMENT 6:"
   ]
  },
  {
   "cell_type": "markdown",
   "id": "ab35bd36-1175-4f79-a6c0-2d0bcea0379e",
   "metadata": {},
   "source": [
    "Ans1:"
   ]
  },
  {
   "cell_type": "markdown",
   "id": "fbafe6cf-22de-4e9b-af45-ee108454a56d",
   "metadata": {},
   "source": [
    "Escape character is followed by backslash (\\), which escapes out from the string into another mode."
   ]
  },
  {
   "cell_type": "markdown",
   "id": "c52e1aa0-6e4a-422e-84b2-4f51530a8168",
   "metadata": {},
   "source": [
    "Ans2:"
   ]
  },
  {
   "cell_type": "markdown",
   "id": "bb4a1de6-cb18-400b-bd2e-c38459c01073",
   "metadata": {},
   "source": [
    "\\n is new line and \\t is tab"
   ]
  },
  {
   "cell_type": "markdown",
   "id": "70f147d9-86d6-4f8d-a1a8-c4162aadb819",
   "metadata": {},
   "source": [
    "Ans3:"
   ]
  },
  {
   "cell_type": "markdown",
   "id": "ea18637e-3eca-44ac-ad29-0a7cdd6a9dc4",
   "metadata": {},
   "source": [
    "\\\\ in a string will include it"
   ]
  },
  {
   "cell_type": "markdown",
   "id": "086a5efd-eef8-4dbe-97fa-7f4490060eee",
   "metadata": {},
   "source": [
    "Ans4:"
   ]
  },
  {
   "cell_type": "markdown",
   "id": "3a4dc323-c7a0-4c92-9d22-ed56004ab8c8",
   "metadata": {},
   "source": [
    "single quote is fine because of having double quote "
   ]
  },
  {
   "cell_type": "markdown",
   "id": "7eb536dd-222a-42b2-a2c9-817873c2ba92",
   "metadata": {},
   "source": [
    "Ans5"
   ]
  },
  {
   "cell_type": "markdown",
   "id": "c49c5535-121c-4ea9-a390-90c0bfad0ebb",
   "metadata": {},
   "source": [
    "By using multiline strings"
   ]
  },
  {
   "cell_type": "markdown",
   "id": "9396c574-26af-44a8-90ef-1797f43b23fc",
   "metadata": {},
   "source": [
    "Ans6:"
   ]
  },
  {
   "cell_type": "code",
   "execution_count": 8,
   "id": "9606fe50-38ea-493b-a31a-e3c236b1b11a",
   "metadata": {},
   "outputs": [
    {
     "name": "stdout",
     "output_type": "stream",
     "text": [
      "e\n",
      "Hello\n",
      "Hello\n",
      "lo, world!\n"
     ]
    }
   ],
   "source": [
    "print('Hello, world!'[1])        #index[1] ie 'e'\n",
    "print('Hello, world!'[0:5])      #from index 0 to 5\n",
    "print('Hello, world!'[:5])       #to index[5]\n",
    "print('Hello, world!'[3:])       #from index[3]"
   ]
  },
  {
   "cell_type": "markdown",
   "id": "6dca9c2a-2cbb-4cb7-b2ef-bd58a7fbb19f",
   "metadata": {},
   "source": [
    "Ans7"
   ]
  },
  {
   "cell_type": "code",
   "execution_count": 9,
   "id": "c5c5ad06-6cb0-47f9-a7e0-5e8979cb1582",
   "metadata": {},
   "outputs": [
    {
     "name": "stdout",
     "output_type": "stream",
     "text": [
      "HELLO\n",
      "True\n",
      "hello\n"
     ]
    }
   ],
   "source": [
    "print('Hello'.upper())            #makes all char uppercase\n",
    "print('Hello'.upper().isupper())  #    \"\"       \"\"       and checks if all char are uppercase\n",
    "print('Hello'.upper().lower())    #    \"\"       \"\"       and then makes all char lowercase"
   ]
  },
  {
   "cell_type": "markdown",
   "id": "4292d0b7-caf1-4058-9a34-a89fe7665219",
   "metadata": {},
   "source": [
    "Ans8:"
   ]
  },
  {
   "cell_type": "code",
   "execution_count": 12,
   "id": "5618f7ef-784b-42f8-98a2-fe1dc99d8540",
   "metadata": {},
   "outputs": [
    {
     "name": "stdout",
     "output_type": "stream",
     "text": [
      "['Remember,', 'remember,', 'the', 'fifth', 'of', 'July']\n",
      "There-can-only-one\n"
     ]
    }
   ],
   "source": [
    "print('Remember, remember, the fifth of July'.split())   #it splits into each words\n",
    "print('-'.join('There can only one'.split()))            #     \"\"      \"\"     and then join them with '-'"
   ]
  },
  {
   "cell_type": "markdown",
   "id": "45cf1231-9930-4ff9-80f4-cf3ef6955cf0",
   "metadata": {},
   "source": [
    "Ans9:"
   ]
  },
  {
   "cell_type": "markdown",
   "id": "e64584a8-f05c-423c-94cf-91588a728d62",
   "metadata": {},
   "source": [
    "rjust(), ljust(), center() respectively"
   ]
  },
  {
   "cell_type": "markdown",
   "id": "0eb006cf-0363-4919-be19-9c84d427c352",
   "metadata": {},
   "source": [
    "Ans10:"
   ]
  },
  {
   "cell_type": "markdown",
   "id": "921e50a3-63f4-44bf-afe9-3b680d59b846",
   "metadata": {},
   "source": [
    "By using remove()  "
   ]
  }
 ],
 "metadata": {
  "kernelspec": {
   "display_name": "Python 3 (ipykernel)",
   "language": "python",
   "name": "python3"
  },
  "language_info": {
   "codemirror_mode": {
    "name": "ipython",
    "version": 3
   },
   "file_extension": ".py",
   "mimetype": "text/x-python",
   "name": "python",
   "nbconvert_exporter": "python",
   "pygments_lexer": "ipython3",
   "version": "3.12.4"
  }
 },
 "nbformat": 4,
 "nbformat_minor": 5
}
