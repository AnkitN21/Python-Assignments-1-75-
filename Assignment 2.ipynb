{
 "cells": [
  {
   "cell_type": "markdown",
   "id": "e126e3a8-b93b-4ab8-b79c-8a7126367e63",
   "metadata": {},
   "source": [
    "ASSIGNMENT 2:"
   ]
  },
  {
   "cell_type": "markdown",
   "id": "5ec93bac-a479-42a8-81b8-3ae943090ec8",
   "metadata": {},
   "source": [
    "Ans1:"
   ]
  },
  {
   "cell_type": "markdown",
   "id": "8c586b60-7c2c-4e18-ad12-363d33893335",
   "metadata": {},
   "source": [
    "2 values of Boolean are True and False. True represent 1 and False 0"
   ]
  },
  {
   "cell_type": "markdown",
   "id": "3e590ea6-1a14-4da7-8e35-d3e900025969",
   "metadata": {},
   "source": [
    "Ans2:"
   ]
  },
  {
   "cell_type": "markdown",
   "id": "f9ead83a-394f-4fcf-81af-928ae58d57e1",
   "metadata": {},
   "source": [
    "3 different types of boolean operators:\n",
    "AND - Checks all statements are True else False\n",
    "OR - Checks only one statement is True else False\n",
    "NOT - Reverse the results"
   ]
  },
  {
   "cell_type": "markdown",
   "id": "03c3b896-5967-4a15-91fe-f9ccf1918285",
   "metadata": {},
   "source": [
    "Ans3:"
   ]
  },
  {
   "cell_type": "markdown",
   "id": "a839e4d8-05f2-4bd9-b530-32145f759011",
   "metadata": {},
   "source": [
    "AND Table\n",
    "  a     b     a and b\n",
    "True   True    True\n",
    "True   False   False\n",
    "False  True    False\n",
    "False  False   False\n",
    "\n",
    "OR Table\n",
    "  a     b     a or b\n",
    "True   True    True\n",
    "True   False   True\n",
    "False  True    True\n",
    "False  False   False\n",
    "\n",
    "NOT Table\n",
    "  a    not a\n",
    "True   False\n",
    "False  True\n",
    " "
   ]
  },
  {
   "cell_type": "markdown",
   "id": "efc6dbae-6108-46db-bb7a-cb80c618441c",
   "metadata": {},
   "source": [
    "Ans4:"
   ]
  },
  {
   "cell_type": "code",
   "execution_count": 10,
   "id": "63a3d65d-b936-4712-bd71-98959cc46487",
   "metadata": {},
   "outputs": [
    {
     "name": "stdout",
     "output_type": "stream",
     "text": [
      "False\n",
      "False\n",
      "True\n",
      "False\n",
      "False\n",
      "True\n"
     ]
    }
   ],
   "source": [
    "print((5 > 4) and (3 == 5))\n",
    "print(not (5 > 4))\n",
    "print((5 > 4) or (3 == 5))\n",
    "print(not ((5 > 4) or (3 == 5)))\n",
    "print((True and True) and (True == False))\n",
    "print((not False) or (not True))"
   ]
  },
  {
   "cell_type": "markdown",
   "id": "7f9e8d79-2aac-4a93-beec-a43bd221280b",
   "metadata": {},
   "source": [
    "Ans5:"
   ]
  },
  {
   "cell_type": "markdown",
   "id": "b5cdf9f0-21e1-42c6-8369-9f5192644da2",
   "metadata": {},
   "source": [
    "   > , >=, < , <=, ==, !="
   ]
  },
  {
   "cell_type": "markdown",
   "id": "a775e9c8-f65c-4dd4-870c-41acb5b5afe9",
   "metadata": {},
   "source": [
    "Ans6:"
   ]
  },
  {
   "cell_type": "markdown",
   "id": "dfa1dcbc-f22b-4223-b9b2-6c7545b8daec",
   "metadata": {},
   "source": [
    "'=' is an assignment operator whereas '==' is comparison operator "
   ]
  },
  {
   "cell_type": "code",
   "execution_count": 11,
   "id": "042bcbc8-bcd5-4e3e-aa87-f5493ae1a50d",
   "metadata": {},
   "outputs": [
    {
     "name": "stdout",
     "output_type": "stream",
     "text": [
      "false\n"
     ]
    }
   ],
   "source": [
    "a=2   # assignment operator\n",
    "if a == 3:   # comparison operator\n",
    "    print('true')\n",
    "else:\n",
    "    print('false')\n"
   ]
  },
  {
   "cell_type": "markdown",
   "id": "3f1676d1-6657-4d97-ae0b-9fc49cdf1e95",
   "metadata": {},
   "source": [
    "Ans7:"
   ]
  },
  {
   "cell_type": "code",
   "execution_count": 9,
   "id": "c2263230-50db-4d6e-9410-4a5f1709c841",
   "metadata": {},
   "outputs": [
    {
     "name": "stdout",
     "output_type": "stream",
     "text": [
      "ham\n",
      "spam\n",
      "spams\n"
     ]
    }
   ],
   "source": [
    "spam = 0\n",
    "if spam == 10:   #block 1\n",
    "    print('eggs')  \n",
    "if spam > 5:     #block 2\n",
    "    print('bacon') \n",
    "else:            #block 3\n",
    "    print('ham')\n",
    "    print('spam')\n",
    "    print('spams')"
   ]
  },
  {
   "cell_type": "markdown",
   "id": "e5b19c2f-159c-4b97-a2c2-cac142f8cc3d",
   "metadata": {},
   "source": [
    "Ans8:"
   ]
  },
  {
   "cell_type": "code",
   "execution_count": 12,
   "id": "8487dc48-8c6d-484c-97eb-7536a5a5c877",
   "metadata": {},
   "outputs": [
    {
     "name": "stdin",
     "output_type": "stream",
     "text": [
      "Enter a number 6\n"
     ]
    },
    {
     "name": "stdout",
     "output_type": "stream",
     "text": [
      "Greetings\n"
     ]
    }
   ],
   "source": [
    "spam= int(input(\"Enter a number\"))\n",
    "if spam == 1:\n",
    "    print('Hello')\n",
    "if spam == 2:\n",
    "    print('Howdy')\n",
    "else:\n",
    "    print('Greetings')"
   ]
  },
  {
   "cell_type": "markdown",
   "id": "3e8b9cd1-787d-4225-b373-514cfc95736b",
   "metadata": {},
   "source": [
    "Ans9:"
   ]
  },
  {
   "cell_type": "markdown",
   "id": "93503c8a-3f25-4e9f-8e37-0d7d288fc0e4",
   "metadata": {},
   "source": [
    "Press ctrl+c "
   ]
  },
  {
   "cell_type": "markdown",
   "id": "0b25d37e-d5a3-4177-a9f0-a6b2c1534a1a",
   "metadata": {},
   "source": [
    "Ans10:"
   ]
  },
  {
   "cell_type": "code",
   "execution_count": 13,
   "id": "64319007-206e-4729-89b9-3f6dec013afa",
   "metadata": {},
   "outputs": [
    {
     "name": "stdout",
     "output_type": "stream",
     "text": [
      "1\n",
      "2\n",
      "3\n",
      "4\n",
      "xxxxxx\n",
      "1\n",
      "2\n",
      "3\n",
      "4\n",
      "6\n",
      "7\n",
      "8\n",
      "9\n"
     ]
    }
   ],
   "source": [
    "for i in range(1,10):\n",
    "    if i == 5:\n",
    "        break\n",
    "    print(i)\n",
    "\n",
    "print('xxxxxx')\n",
    "\n",
    "for i in range(1,10):\n",
    "    if i == 5:\n",
    "        continue\n",
    "    print(i)\n"
   ]
  },
  {
   "cell_type": "markdown",
   "id": "01c1f9b5-e2a0-4d38-8f04-5663e3462c5b",
   "metadata": {},
   "source": [
    "in Break, when the condition is true, it will end the loop.\n",
    "in Continue, where the condition is true, it will skip the range and continue the loop"
   ]
  },
  {
   "cell_type": "markdown",
   "id": "f504b0bb-e8f6-4e54-971f-8b2d18c0ea5f",
   "metadata": {},
   "source": [
    "Ans11:"
   ]
  },
  {
   "cell_type": "markdown",
   "id": "59532838-c4a5-4681-978e-f206c5e0110c",
   "metadata": {},
   "source": [
    "In range(10), the loop will start from 0(i.e default) to 10(but not include the no. 10),\n",
    "in range(0,10), it tells the loop to start from 0,\n",
    "in range(0,10,1), it tells the loop to increase the variable by 1 on each iteration"
   ]
  },
  {
   "cell_type": "markdown",
   "id": "dea9f106-bbf0-42a5-8242-4d8de073da97",
   "metadata": {},
   "source": [
    "Ans12:"
   ]
  },
  {
   "cell_type": "code",
   "execution_count": 2,
   "id": "f2c3b9d4-492c-4281-8268-8ae76bb98b61",
   "metadata": {},
   "outputs": [
    {
     "name": "stdout",
     "output_type": "stream",
     "text": [
      "1\n",
      "2\n",
      "3\n",
      "4\n",
      "5\n",
      "6\n",
      "7\n",
      "8\n",
      "9\n",
      "10\n",
      "xxxxxx\n",
      "1\n",
      "2\n",
      "3\n",
      "4\n",
      "5\n",
      "6\n",
      "7\n",
      "8\n",
      "9\n",
      "10\n"
     ]
    }
   ],
   "source": [
    "for i in range(1,11):\n",
    "    print(i)\n",
    "\n",
    "print('xxxxxx')\n",
    "\n",
    "a = 1\n",
    "while a < 11:\n",
    "    print(a)\n",
    "    a+=1"
   ]
  },
  {
   "cell_type": "markdown",
   "id": "be4d67e6-372f-4990-aeac-88849ab7033f",
   "metadata": {},
   "source": [
    "Ans13:"
   ]
  },
  {
   "cell_type": "markdown",
   "id": "35a404e7-ddcd-4e11-9064-30b82eff94fc",
   "metadata": {},
   "source": [
    "spam.bacon()"
   ]
  }
 ],
 "metadata": {
  "kernelspec": {
   "display_name": "Python 3 (ipykernel)",
   "language": "python",
   "name": "python3"
  },
  "language_info": {
   "codemirror_mode": {
    "name": "ipython",
    "version": 3
   },
   "file_extension": ".py",
   "mimetype": "text/x-python",
   "name": "python",
   "nbconvert_exporter": "python",
   "pygments_lexer": "ipython3",
   "version": "3.12.4"
  }
 },
 "nbformat": 4,
 "nbformat_minor": 5
}
