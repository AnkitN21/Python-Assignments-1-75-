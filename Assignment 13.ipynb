{
 "cells": [
  {
   "cell_type": "markdown",
   "id": "5de7e05c-ebcc-406e-836c-13b9a253afe3",
   "metadata": {},
   "source": [
    "ASSIGNMENT 13"
   ]
  },
  {
   "cell_type": "markdown",
   "id": "7a2a3424-8b7a-4718-af75-86a15cf6dfe7",
   "metadata": {},
   "source": [
    "Q1. What advantages do Excel spreadsheets have over CSV spreadsheets?"
   ]
  },
  {
   "cell_type": "markdown",
   "id": "e8cc06ae-9edb-4894-b810-b25200e8cb76",
   "metadata": {},
   "source": [
    "Ans1:"
   ]
  },
  {
   "cell_type": "markdown",
   "id": "d0e576dc-26f3-4d07-a5e3-244b7063c924",
   "metadata": {},
   "source": [
    "In Excel, the values of data types in cells can be in different fonts, sizes or color. \n",
    "Cells can vary in width and length, and adjacent cells can be merged."
   ]
  },
  {
   "cell_type": "markdown",
   "id": "7b89c89f-3bf7-42d9-ac4a-3b265c6fdde5",
   "metadata": {},
   "source": [
    "Q2. What do you pass to csv.reader() and csv.writer() to create reader and writer objects?"
   ]
  },
  {
   "cell_type": "markdown",
   "id": "e6505436-16dd-48c3-a7fe-8208e4f0d9ba",
   "metadata": {},
   "source": [
    "Ans2:"
   ]
  },
  {
   "cell_type": "markdown",
   "id": "faedbc3c-4430-461a-af3b-37ffdb3ad1ad",
   "metadata": {},
   "source": [
    "By calling open(), you can pass file object"
   ]
  },
  {
   "cell_type": "markdown",
   "id": "8feb9771-fe45-47b3-ad35-9712cbcec828",
   "metadata": {},
   "source": [
    "Q3. What modes do File objects for reader and writer objects need to be opened in?"
   ]
  },
  {
   "cell_type": "markdown",
   "id": "3e3ed81d-6ca0-4bb0-a590-921f6f98d85f",
   "metadata": {},
   "source": [
    "Ans3:"
   ]
  },
  {
   "cell_type": "markdown",
   "id": "b11c96df-b50c-4274-a355-5af6cb0e69ad",
   "metadata": {},
   "source": [
    "mode = \"rb\" for reading, \"wb\" for writing "
   ]
  },
  {
   "cell_type": "markdown",
   "id": "ccf1d013-6b9a-40ca-8d44-e901d0a0cefe",
   "metadata": {},
   "source": [
    "Q4. What method takes a list argument and writes it to a CSV file?"
   ]
  },
  {
   "cell_type": "markdown",
   "id": "a0bdc845-f34c-4e59-8f93-33cb9542f053",
   "metadata": {},
   "source": [
    "Ans4:"
   ]
  },
  {
   "cell_type": "markdown",
   "id": "2e903ce8-e88e-4b66-936b-1ab4e6e2c041",
   "metadata": {},
   "source": [
    "writerow() method"
   ]
  },
  {
   "cell_type": "markdown",
   "id": "f150a08b-6c68-414c-9a31-a8138afdfa38",
   "metadata": {},
   "source": [
    "Q5. What do the keyword arguments delimiter and line terminator do?"
   ]
  },
  {
   "cell_type": "markdown",
   "id": "c2c28bfe-99f8-4759-a71e-fb9e1fa493e1",
   "metadata": {},
   "source": [
    "Ans5:"
   ]
  },
  {
   "cell_type": "markdown",
   "id": "ca7d8bdf-d8d6-4626-bbf4-d1a337e807f0",
   "metadata": {},
   "source": [
    "Delimiter changes string used to seperate cells in a row whereas lineterminator changes string used to seperate rows "
   ]
  },
  {
   "cell_type": "markdown",
   "id": "a1c15f98-312f-4167-8376-f87bd2d179e5",
   "metadata": {},
   "source": [
    "Q6. What function takes a string of JSON data and returns a Python data structure?"
   ]
  },
  {
   "cell_type": "markdown",
   "id": "1bf1ea8f-41f2-4671-b07f-28330391dc3d",
   "metadata": {},
   "source": [
    "Ans6:"
   ]
  },
  {
   "cell_type": "markdown",
   "id": "d24edda4-7960-4e24-bcb5-96c1c859cb61",
   "metadata": {},
   "source": [
    "json.loads()"
   ]
  },
  {
   "cell_type": "markdown",
   "id": "c3623172-146e-43da-8aec-bf0f80ebd5d4",
   "metadata": {},
   "source": [
    "Q7. What function takes a Python data structure and returns a string of JSON data?"
   ]
  },
  {
   "cell_type": "markdown",
   "id": "de2e23f2-2d28-4f30-853d-263b2c66f56a",
   "metadata": {},
   "source": [
    "Ans7:"
   ]
  },
  {
   "cell_type": "markdown",
   "id": "d4e4d278-22c8-4dd6-91f4-3df8a38c0d0d",
   "metadata": {},
   "source": [
    "json.dumps()"
   ]
  }
 ],
 "metadata": {
  "kernelspec": {
   "display_name": "Python 3 (ipykernel)",
   "language": "python",
   "name": "python3"
  },
  "language_info": {
   "codemirror_mode": {
    "name": "ipython",
    "version": 3
   },
   "file_extension": ".py",
   "mimetype": "text/x-python",
   "name": "python",
   "nbconvert_exporter": "python",
   "pygments_lexer": "ipython3",
   "version": "3.12.4"
  }
 },
 "nbformat": 4,
 "nbformat_minor": 5
}
