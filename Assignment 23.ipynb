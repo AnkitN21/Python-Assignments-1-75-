{
 "cells": [
  {
   "cell_type": "markdown",
   "id": "75d8ab7e-857a-45a5-95f9-805cac748f06",
   "metadata": {},
   "source": [
    "ASSIGNMENT 23"
   ]
  },
  {
   "cell_type": "markdown",
   "id": "57c52365-cd4c-4756-800f-91228a68549b",
   "metadata": {},
   "source": [
    "Q1. What is the result of the code, and why?\n",
    "    def func(a, b=6, c=8):\n",
    "    print(a, b, c)\n",
    "    func(1, 2)"
   ]
  },
  {
   "cell_type": "markdown",
   "id": "dbc8a860-3676-4afb-80b0-f0d1be0bf645",
   "metadata": {},
   "source": [
    "Ans1:"
   ]
  },
  {
   "cell_type": "code",
   "execution_count": 1,
   "id": "e7962699-cdb6-45aa-b0a6-eb8a1742f64e",
   "metadata": {},
   "outputs": [
    {
     "name": "stdout",
     "output_type": "stream",
     "text": [
      "1 2 8\n"
     ]
    }
   ],
   "source": [
    "def func(a, b=6, c=8):\n",
    "    print(a, b, c)\n",
    "func(1, 2)"
   ]
  },
  {
   "cell_type": "markdown",
   "id": "cadb5e3c-2652-4e1b-b50c-dafde73c2fdc",
   "metadata": {},
   "source": [
    "The funtion has 'a' as positional and 'b''c' as default argument. When function call parameter passed \n",
    "are a=1,b=2 and c=8 by default : 1,2,8"
   ]
  },
  {
   "cell_type": "markdown",
   "id": "49e11a23-5d7a-4c2f-9463-3a34a7bad04f",
   "metadata": {},
   "source": [
    "Q2. What is the result of this code, and why?\n",
    "    def func(a, b, c=5):\n",
    "    print(a, b, c)\n",
    "    func(1, c=3, b=2)"
   ]
  },
  {
   "cell_type": "markdown",
   "id": "e942ccf3-b0f3-4b27-8403-a455053df53a",
   "metadata": {},
   "source": [
    "Ans2:"
   ]
  },
  {
   "cell_type": "code",
   "execution_count": 2,
   "id": "de3b1d59-4249-47ab-8671-7c9462c77d1a",
   "metadata": {},
   "outputs": [
    {
     "name": "stdout",
     "output_type": "stream",
     "text": [
      "1 2 3\n"
     ]
    }
   ],
   "source": [
    "def func(a, b, c=5):\n",
    "    print(a, b, c)\n",
    "func(1, c=3, b=2)"
   ]
  },
  {
   "cell_type": "markdown",
   "id": "d1856b10-8945-489a-abc6-7945feb3d31c",
   "metadata": {},
   "source": [
    "parameter passed are a=1,b=2 and c=3 : 1,2,3"
   ]
  },
  {
   "cell_type": "markdown",
   "id": "6388f791-4a6e-4b47-b03f-ac748e0f211a",
   "metadata": {},
   "source": [
    "Q3. How about this code: what is its result, and why?\n",
    "    def func(a, *pargs):\n",
    "    print(a, pargs)\n",
    "    func(1, 2, 3)"
   ]
  },
  {
   "cell_type": "markdown",
   "id": "76a75c09-c11b-4206-a7d7-ba5120ba7524",
   "metadata": {},
   "source": [
    "Ans3:"
   ]
  },
  {
   "cell_type": "code",
   "execution_count": 3,
   "id": "b1214e24-1efc-466f-b4b1-aa96a133e2bc",
   "metadata": {},
   "outputs": [
    {
     "name": "stdout",
     "output_type": "stream",
     "text": [
      "1 (2, 3)\n"
     ]
    }
   ],
   "source": [
    "def func(a, *pargs):\n",
    "    print(a, pargs)\n",
    "func(1, 2, 3)"
   ]
  },
  {
   "cell_type": "markdown",
   "id": "a3c8ef26-1e76-4b23-bcff-d5ec1230ae2b",
   "metadata": {},
   "source": [
    "The fuction has 'a' has postional and arbitory agrument which is in tuple form.\n",
    "As result parameter passed are a=1 and (2,3) as tuple: 1 (2,3)"
   ]
  },
  {
   "cell_type": "markdown",
   "id": "03b86e9a-fdf4-41da-aca9-a5fa3fb78634",
   "metadata": {},
   "source": [
    "Q4. What does this code print, and why?\n",
    "    def func(a, **kargs):\n",
    "    print(a, kargs)\n",
    "    func(a=1, c=3, b=2)"
   ]
  },
  {
   "cell_type": "markdown",
   "id": "dd8754c6-4876-4283-8cb7-5b6e27242bd2",
   "metadata": {},
   "source": [
    "Ans4:"
   ]
  },
  {
   "cell_type": "code",
   "execution_count": 4,
   "id": "ed77aa6b-1d29-47d6-81b9-a37ad37af5f7",
   "metadata": {},
   "outputs": [
    {
     "name": "stdout",
     "output_type": "stream",
     "text": [
      "1 {'c': 3, 'b': 2}\n"
     ]
    }
   ],
   "source": [
    "def func(a, **kargs):\n",
    "    print(a, kargs)\n",
    "func(a=1, c=3, b=2)"
   ]
  },
  {
   "cell_type": "markdown",
   "id": "c094d723-c7ca-4c4a-bb37-edfe46447b20",
   "metadata": {},
   "source": [
    "The fuction has 'a' has postional and keyword agrument which is in dictionary form.\n",
    "As result parameter passed are a=1 and dict: 1 {'c':3, 'b':2}"
   ]
  },
  {
   "cell_type": "markdown",
   "id": "349a8348-d511-4a5f-9f1c-97faa17b441b",
   "metadata": {},
   "source": [
    "Q5. What gets printed by this, and explain?\n",
    "    def func(a, b, c=8, d=5): print(a, b, c, d)\n",
    "    func(1, *(5, 6))"
   ]
  },
  {
   "cell_type": "markdown",
   "id": "394fdd94-c1be-4a7d-ac3c-56b69a43f77d",
   "metadata": {},
   "source": [
    "Ans5:"
   ]
  },
  {
   "cell_type": "code",
   "execution_count": 5,
   "id": "8b1d4015-b788-4c9b-80e1-8dee8d26a32a",
   "metadata": {},
   "outputs": [
    {
     "name": "stdout",
     "output_type": "stream",
     "text": [
      "1 5 6 5\n"
     ]
    }
   ],
   "source": [
    "def func(a, b, c=8, d=5): \n",
    "    print(a, b, c, d)\n",
    "func(1, *(5, 6))"
   ]
  },
  {
   "cell_type": "markdown",
   "id": "7a079d33-2c20-40bc-8d24-79b7ebebe0f1",
   "metadata": {},
   "source": [
    "'*' operator can be used on any iterable while the double asterisk operator ** can only be used on dictionaries. \n",
    "parameter are a=1, the value *(5,6) will be unpacked and will be assigned to b and c,d =5 by defaults. \n",
    "As result: 1,5,6,5"
   ]
  },
  {
   "cell_type": "markdown",
   "id": "1cb7a6a5-59e9-4cf5-acbd-d294df82b852",
   "metadata": {},
   "source": [
    "Q6. what is the result of this, and explain?\n",
    "    def func(a, b, c): a = 2; b[0] = \"x\"; c[\"a\"] = \"y\"\n",
    "    l=1; m=[1]; n={\"a\":0}\n",
    "    func(l, m, n)\n",
    "    l, m, n"
   ]
  },
  {
   "cell_type": "markdown",
   "id": "f5b2ebc8-122c-4826-8e05-02cd1ad708b1",
   "metadata": {},
   "source": [
    "Ans6:"
   ]
  },
  {
   "cell_type": "code",
   "execution_count": 12,
   "id": "9a431484-f7d5-4cdf-a98d-ddb3563e6e0b",
   "metadata": {},
   "outputs": [
    {
     "data": {
      "text/plain": [
       "(1, ['x'], {'a': 'y'})"
      ]
     },
     "execution_count": 12,
     "metadata": {},
     "output_type": "execute_result"
    }
   ],
   "source": [
    "def func(a, b, c): \n",
    "    a = 2; b[0] = 'x'; c['a'] = 'y'\n",
    "    \n",
    "l=1; m=[1]; n={'a':0}\n",
    "func(l, m, n)\n",
    "\n",
    "l, m, n"
   ]
  },
  {
   "cell_type": "markdown",
   "id": "0c310d59-195d-4eaf-9fdf-18e06a011cd1",
   "metadata": {},
   "source": [
    "The fuction has a has integer, b as list and c as dict. In which l,m,n are same as respectively\n",
    "As result parameter passed are l=1, m as list but update as 'x' and  n as dict but update value as 'y'.\n",
    "As result: 1, ['x'], {'a': 'y'}"
   ]
  }
 ],
 "metadata": {
  "kernelspec": {
   "display_name": "Python 3 (ipykernel)",
   "language": "python",
   "name": "python3"
  },
  "language_info": {
   "codemirror_mode": {
    "name": "ipython",
    "version": 3
   },
   "file_extension": ".py",
   "mimetype": "text/x-python",
   "name": "python",
   "nbconvert_exporter": "python",
   "pygments_lexer": "ipython3",
   "version": "3.12.4"
  }
 },
 "nbformat": 4,
 "nbformat_minor": 5
}
