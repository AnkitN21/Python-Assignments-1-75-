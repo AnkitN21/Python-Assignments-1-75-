{
 "cells": [
  {
   "cell_type": "markdown",
   "id": "a8faa154-d5cb-40c7-8960-35d4a7dcbcfb",
   "metadata": {},
   "source": [
    "ASSIGNMENT 1:"
   ]
  },
  {
   "cell_type": "markdown",
   "id": "f5e7ca7a-6f7a-4866-934d-28d8ae8c443f",
   "metadata": {},
   "source": [
    "Ans1:"
   ]
  },
  {
   "cell_type": "markdown",
   "id": "a40cb787-caea-4c88-b64e-7b9c651ba2db",
   "metadata": {},
   "source": [
    "Operators:- *,-,/,+\n",
    "Valus:- 'hello'(str),-87.8(float),6(int)"
   ]
  },
  {
   "cell_type": "markdown",
   "id": "4ff69e7a-3098-4f34-81aa-b27992f45122",
   "metadata": {},
   "source": [
    "Ans2:"
   ]
  },
  {
   "cell_type": "markdown",
   "id": "2238288d-fa85-4fa3-91b1-cc159addeec7",
   "metadata": {},
   "source": [
    "Variable is name that refers the values. It stores the information.\n",
    "String is usually word or text enclosed with \"\". It is type of data stored in variable."
   ]
  },
  {
   "cell_type": "code",
   "execution_count": null,
   "id": "bbf68201-a04c-453e-83c6-64a29280a350",
   "metadata": {},
   "outputs": [],
   "source": [
    "An3:"
   ]
  },
  {
   "cell_type": "markdown",
   "id": "935fdc25-afdf-48ce-8504-79794abb7e8b",
   "metadata": {},
   "source": [
    "3 Datatype:\n",
    "integer: it is number(whole, natural n negative)\n",
    "float: it's number but with decimal\n",
    "boolean: if statement is True else False"
   ]
  },
  {
   "cell_type": "markdown",
   "id": "a3fece4e-c9eb-494a-8062-d537ae50911e",
   "metadata": {},
   "source": [
    "Ans4:"
   ]
  },
  {
   "cell_type": "markdown",
   "id": "cdba937f-5756-4b15-a69b-9a573682a074",
   "metadata": {},
   "source": [
    "Expression is combination of variables, operators and calls to function. \n",
    "It evaluates and display the result."
   ]
  },
  {
   "cell_type": "markdown",
   "id": "5fdc3e23-ac55-4020-b480-4fbccd0107dc",
   "metadata": {},
   "source": [
    "Ans5:"
   ]
  },
  {
   "cell_type": "markdown",
   "id": "df8224b8-2194-458c-ad93-31aa08453016",
   "metadata": {},
   "source": [
    "Expression produces he values. It includes variables, operators and call functions\n",
    "Statement performs an action. It includes variable assignment, loops and conditions"
   ]
  },
  {
   "cell_type": "markdown",
   "id": "19180403-0067-42a5-bf93-48026e771267",
   "metadata": {},
   "source": [
    "Ans6:"
   ]
  },
  {
   "cell_type": "code",
   "execution_count": 7,
   "id": "9fcf1df6-92d5-4e25-adb3-e3f910012868",
   "metadata": {},
   "outputs": [
    {
     "data": {
      "text/plain": [
       "23"
      ]
     },
     "execution_count": 7,
     "metadata": {},
     "output_type": "execute_result"
    }
   ],
   "source": [
    "bacon=22\n",
    "bacon+1"
   ]
  },
  {
   "cell_type": "markdown",
   "id": "47230295-e0f1-48ca-9823-234bac6a9cd8",
   "metadata": {},
   "source": [
    "Ans7:"
   ]
  },
  {
   "cell_type": "code",
   "execution_count": 11,
   "id": "851b4f18-2e31-48c1-9fa3-3df25acc95ba",
   "metadata": {},
   "outputs": [
    {
     "data": {
      "text/plain": [
       "'spamspamspam'"
      ]
     },
     "execution_count": 11,
     "metadata": {},
     "output_type": "execute_result"
    }
   ],
   "source": [
    "'spam' + 'spamspam' #it will join two strings"
   ]
  },
  {
   "cell_type": "code",
   "execution_count": 15,
   "id": "0f2f3587-f7fc-42e2-97ff-76ff010b7ecb",
   "metadata": {},
   "outputs": [
    {
     "data": {
      "text/plain": [
       "'spamspamspam'"
      ]
     },
     "execution_count": 15,
     "metadata": {},
     "output_type": "execute_result"
    }
   ],
   "source": [
    "'spam'*3 # it will print the string thrice"
   ]
  },
  {
   "cell_type": "markdown",
   "id": "46469a99-9ca3-4ee0-bbba-1167c51b1e3d",
   "metadata": {},
   "source": [
    "Ans8:"
   ]
  },
  {
   "cell_type": "markdown",
   "id": "086e5b87-b846-46fa-8000-9d1997f80d9a",
   "metadata": {},
   "source": [
    "Egg is a word which is variable name whereas 100 is integer"
   ]
  },
  {
   "cell_type": "markdown",
   "id": "56a9869d-623f-4702-98bd-3ca737864b3c",
   "metadata": {},
   "source": [
    "Ans9:"
   ]
  },
  {
   "cell_type": "markdown",
   "id": "d98f8f7c-a4e0-4667-8cde-9e5ba29f8256",
   "metadata": {},
   "source": [
    "int()\n",
    "float()\n",
    "str()"
   ]
  },
  {
   "cell_type": "markdown",
   "id": "4550f2bc-2a6f-4a29-9f2f-ca357e89e635",
   "metadata": {},
   "source": [
    "Ans10:"
   ]
  },
  {
   "cell_type": "code",
   "execution_count": 22,
   "id": "dd985c4d-d229-4972-b029-af753936896d",
   "metadata": {},
   "outputs": [
    {
     "data": {
      "text/plain": [
       "'I have eaten 99 burritos'"
      ]
     },
     "execution_count": 22,
     "metadata": {},
     "output_type": "execute_result"
    }
   ],
   "source": [
    "'I have eaten ' + '99 ' + 'burritos' # error caused 99 integer can't operate with string, we fix it by making 99 a string"
   ]
  },
  {
   "cell_type": "code",
   "execution_count": null,
   "id": "03b196b7-fd91-4a4a-99e5-b43e4e76c9a8",
   "metadata": {},
   "outputs": [],
   "source": []
  }
 ],
 "metadata": {
  "kernelspec": {
   "display_name": "Python 3 (ipykernel)",
   "language": "python",
   "name": "python3"
  },
  "language_info": {
   "codemirror_mode": {
    "name": "ipython",
    "version": 3
   },
   "file_extension": ".py",
   "mimetype": "text/x-python",
   "name": "python",
   "nbconvert_exporter": "python",
   "pygments_lexer": "ipython3",
   "version": "3.12.4"
  }
 },
 "nbformat": 4,
 "nbformat_minor": 5
}
