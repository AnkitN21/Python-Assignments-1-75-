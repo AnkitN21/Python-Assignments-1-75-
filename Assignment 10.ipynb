{
 "cells": [
  {
   "cell_type": "markdown",
   "id": "1d76df34-6fd1-4a42-bfe9-2cd029f4802e",
   "metadata": {},
   "source": [
    "ASSIGNMENT 10"
   ]
  },
  {
   "cell_type": "markdown",
   "id": "e455d100-ec7e-46b3-bf81-8d2dbf605836",
   "metadata": {},
   "source": [
    "Q1. How do you distinguish between shutil.copy() and shutil.copytree()?"
   ]
  },
  {
   "cell_type": "markdown",
   "id": "1651ae11-6635-4b5d-b554-1a2883b550e0",
   "metadata": {},
   "source": [
    "Ans1:"
   ]
  },
  {
   "cell_type": "markdown",
   "id": "a36742e5-b016-47e5-8b94-4ac867b20673",
   "metadata": {},
   "source": [
    "shutil.copy() will copy a single file, while shutil.copytree() will copy the entire folder, along with its contents"
   ]
  },
  {
   "cell_type": "markdown",
   "id": "ea3ff933-1298-4389-a2bd-1af980886d4b",
   "metadata": {},
   "source": [
    "Q2. What function is used to rename files??"
   ]
  },
  {
   "cell_type": "markdown",
   "id": "fce2bf19-e677-4b17-a6d4-de427057121e",
   "metadata": {},
   "source": [
    "Ans2:"
   ]
  },
  {
   "cell_type": "markdown",
   "id": "cbd0739c-ccd5-4507-b9d3-2b00a13131ba",
   "metadata": {},
   "source": [
    "shutil.move() for renaming, as well as moving them"
   ]
  },
  {
   "cell_type": "markdown",
   "id": "d83f4ddd-5823-46b0-8ecb-589551e3afe6",
   "metadata": {},
   "source": [
    "Q3. What is the difference between the delete functions in the send2trash and shutil modules?"
   ]
  },
  {
   "cell_type": "markdown",
   "id": "23495b55-0922-4d1e-9512-cf6b2b823c24",
   "metadata": {},
   "source": [
    "Ans3:"
   ]
  },
  {
   "cell_type": "markdown",
   "id": "f7ed1bc5-ccfc-4f09-88c6-24e07b98fb9d",
   "metadata": {},
   "source": [
    "send2trash will move the file or folder to recycle bin whereas shutil will permenantly delete files or folders"
   ]
  },
  {
   "cell_type": "markdown",
   "id": "c104a276-68cf-48c2-8ebe-983124a80895",
   "metadata": {},
   "source": [
    "Q4. ZipFile objects have a close() method just like File objects’ close() method. What ZipFile method is\n",
    "equivalent to File objects’ open() method?"
   ]
  },
  {
   "cell_type": "markdown",
   "id": "f0bfdbcf-9bc7-414b-a65f-ab5642190e9d",
   "metadata": {},
   "source": [
    "Ans4:"
   ]
  },
  {
   "cell_type": "markdown",
   "id": "74fcc985-4856-4266-a6f6-12aabce583dd",
   "metadata": {},
   "source": [
    "zipfile.ZipFile() is same as open() function. The first arguement is the filename and second arg is the mode to open the Zip file(read, write or append) "
   ]
  },
  {
   "cell_type": "markdown",
   "id": "a837b443-4156-463b-8614-ff6f0e8f7121",
   "metadata": {},
   "source": [
    "Q5. Create a programme that searches a folder tree for files with a certain file extension (such as .pdf\n",
    "or .jpg). Copy these files from whatever location they are in to a new folder."
   ]
  },
  {
   "cell_type": "markdown",
   "id": "dda6898e-7b38-4e4f-a936-38c83b6a32ec",
   "metadata": {},
   "source": [
    "Ans5:"
   ]
  },
  {
   "cell_type": "code",
   "execution_count": null,
   "id": "59fbd418-b2a7-4092-852c-ada77ef57c28",
   "metadata": {},
   "outputs": [],
   "source": [
    "import os, shutil\n",
    "sourcePath =input(\"Enter the path of the source folder:\")\n",
    "fileExtType = input(\"Enter the type of file to copy (i.e .pdf or .jpg):\").lower()\n",
    "destPath = input(\"Enter the path of the destination folder:\")\n",
    "for foldername, subfolders, filenames in os.walk(sourcePath):\n",
    "    for filename in filenames:\n",
    "        if filename.endswith(fileExtType):\n",
    "            print(foldername +'\\\\' + filename)\n",
    "            copySourcePath = os.path.join(foldername, filename)\n",
    "            print(copySourcePath)\n",
    "            shutil.copy(copySourcePath, destPath)\n",
    "        else: \n",
    "            continue"
   ]
  }
 ],
 "metadata": {
  "kernelspec": {
   "display_name": "Python 3 (ipykernel)",
   "language": "python",
   "name": "python3"
  },
  "language_info": {
   "codemirror_mode": {
    "name": "ipython",
    "version": 3
   },
   "file_extension": ".py",
   "mimetype": "text/x-python",
   "name": "python",
   "nbconvert_exporter": "python",
   "pygments_lexer": "ipython3",
   "version": "3.12.4"
  }
 },
 "nbformat": 4,
 "nbformat_minor": 5
}
