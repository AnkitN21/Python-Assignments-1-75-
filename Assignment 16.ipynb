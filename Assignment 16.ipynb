{
 "cells": [
  {
   "cell_type": "markdown",
   "id": "3c968ce4-4d17-437a-a8f9-1a37e5b1ac17",
   "metadata": {},
   "source": [
    "ASSIGNMENT 16"
   ]
  },
  {
   "cell_type": "markdown",
   "id": "6bea0df9-af1f-4db0-99b9-4f8d05bf8d4a",
   "metadata": {},
   "source": [
    "Q1. Create a list called years_list, starting with the year of your birth, and each year thereafter until\n",
    "the year of your fifth birthday. For example, if you were born in 1980. the list would be years_list =\n",
    "[1980, 1981, 1982, 1983, 1984, 1985]."
   ]
  },
  {
   "cell_type": "markdown",
   "id": "f4d7a4b4-90b4-4f7a-9514-9487b3be6422",
   "metadata": {},
   "source": [
    "Ans1:"
   ]
  },
  {
   "cell_type": "code",
   "execution_count": 1,
   "id": "d2f90a8b-0bc2-4e87-bb73-831778a76d98",
   "metadata": {},
   "outputs": [
    {
     "name": "stdout",
     "output_type": "stream",
     "text": [
      "[1980, 1981, 1982, 1983, 1984, 1985]\n"
     ]
    }
   ],
   "source": [
    "year_list = list(i for i in range(1980,1986))\n",
    "print(year_list)"
   ]
  },
  {
   "cell_type": "markdown",
   "id": "6dc34e2b-ae2f-4cf2-a588-e9d09777244f",
   "metadata": {},
   "source": [
    "Q2. In which year in years_list was your third birthday? Remember, you were 0 years of age for your\n",
    "first year."
   ]
  },
  {
   "cell_type": "markdown",
   "id": "ef4b85fb-f08e-409f-bdf1-6be1ac803b83",
   "metadata": {},
   "source": [
    "Ans2:"
   ]
  },
  {
   "cell_type": "markdown",
   "id": "a5c1f50d-ef56-4db3-b37b-70b53fa20c5c",
   "metadata": {},
   "source": [
    "4th year"
   ]
  },
  {
   "cell_type": "markdown",
   "id": "bef67a67-f591-48b6-b904-a79d6539bab9",
   "metadata": {},
   "source": [
    "Q3. In the years list, which year were you the oldest?"
   ]
  },
  {
   "cell_type": "markdown",
   "id": "8a4bb1ff-b671-44b3-9d2f-7ad034bd548d",
   "metadata": {},
   "source": [
    "Ans3:"
   ]
  },
  {
   "cell_type": "markdown",
   "id": "628b276f-22c3-4398-8658-8ba68dd5b279",
   "metadata": {},
   "source": [
    "last element of the year_list will be the oldest"
   ]
  },
  {
   "cell_type": "markdown",
   "id": "41abc05a-7ae7-4cfd-8584-897ebd3bae36",
   "metadata": {},
   "source": [
    "Q4. Make a list called things with these three strings as elements: \n",
    "    \"mozzarella\", \"cinderella\", \"salmonella\"."
   ]
  },
  {
   "cell_type": "markdown",
   "id": "4c99313f-526d-44af-aaac-047d7a48cb29",
   "metadata": {},
   "source": [
    "Ans4:"
   ]
  },
  {
   "cell_type": "code",
   "execution_count": 2,
   "id": "7361b726-e09b-4e11-9a9d-5cea9c7c4f69",
   "metadata": {},
   "outputs": [],
   "source": [
    "things = [\"mozzarella\", \"cinderella\", \"salmonella\"]"
   ]
  },
  {
   "cell_type": "markdown",
   "id": "c786075c-5cb2-494f-99f4-ae8ea4c2e7c9",
   "metadata": {},
   "source": [
    "Q5. Capitalize the element in things that refers to a person and then print the list. \n",
    "Did it change the element in the list?"
   ]
  },
  {
   "cell_type": "markdown",
   "id": "0d90e235-0e6e-4d99-99e4-2b810baecf72",
   "metadata": {},
   "source": [
    "Ans5:"
   ]
  },
  {
   "cell_type": "code",
   "execution_count": 6,
   "id": "f4b1791a-7f97-4508-9474-cd62e295b821",
   "metadata": {},
   "outputs": [
    {
     "name": "stdout",
     "output_type": "stream",
     "text": [
      "['Mozzarella', 'Cinderella', 'Salmonella']\n"
     ]
    }
   ],
   "source": [
    "cap_things = list(i.capitalize() for i in things)\n",
    "print(cap_things)"
   ]
  },
  {
   "cell_type": "markdown",
   "id": "27f0e5d2-a743-483a-ae50-21b6476aa7b0",
   "metadata": {},
   "source": [
    "Q6. Make a surprise list with the elements \"Groucho\",\"Chico\" and \"Harpo\"."
   ]
  },
  {
   "cell_type": "markdown",
   "id": "f252f6f2-318e-4e34-8fb9-3db3fc307afe",
   "metadata": {},
   "source": [
    "Ans6:"
   ]
  },
  {
   "cell_type": "code",
   "execution_count": 18,
   "id": "9f267361-f487-4054-b9ef-b6d52d1394e1",
   "metadata": {},
   "outputs": [],
   "source": [
    "surprise_list = [\"Groucho\", \"Chico\",\"Harpo\"]"
   ]
  },
  {
   "cell_type": "markdown",
   "id": "1bb526d3-c95f-4eb8-94db-5d5c1d051a2d",
   "metadata": {},
   "source": [
    "Q7. Lowercase the last element of the surprise list, reverse it, and then capitalize it."
   ]
  },
  {
   "cell_type": "markdown",
   "id": "49d023c7-79af-41ce-9bfa-be07eb4b5d25",
   "metadata": {},
   "source": [
    "Ans7:"
   ]
  },
  {
   "cell_type": "code",
   "execution_count": 17,
   "id": "8e5f358b-14e3-4d5f-a5b5-095d3b23a964",
   "metadata": {},
   "outputs": [
    {
     "name": "stdout",
     "output_type": "stream",
     "text": [
      "Oprah\n"
     ]
    }
   ],
   "source": [
    "a = surprise_list[2][::-1].capitalize()\n",
    "print(a)"
   ]
  },
  {
   "cell_type": "markdown",
   "id": "9f25e2f6-0c19-4574-aae4-3635f03b14bf",
   "metadata": {},
   "source": [
    "Q8. Make an English-to-French dictionary called e2f and print it. Here are your starter words: \n",
    "dog is chien, cat is chat, and walrus is morse."
   ]
  },
  {
   "cell_type": "markdown",
   "id": "8a656d42-4346-4b1f-83fe-82e4bc87248b",
   "metadata": {},
   "source": [
    "Ans8:"
   ]
  },
  {
   "cell_type": "code",
   "execution_count": 1,
   "id": "231a0737-6eca-4e1b-8ce0-1310597e456d",
   "metadata": {},
   "outputs": [],
   "source": [
    "eng_fren = {\"dog\":\"chien\", \"cat\":\"chat\", \"walrus\":\"morse\"}"
   ]
  },
  {
   "cell_type": "markdown",
   "id": "27143058-f0dc-440b-b0e1-782ebd124121",
   "metadata": {},
   "source": [
    "Q9. Write the French word for walrus in your three-word dictionary e2f."
   ]
  },
  {
   "cell_type": "markdown",
   "id": "6066f2ee-8902-4211-9bca-4c30a992894e",
   "metadata": {},
   "source": [
    "Ans9:"
   ]
  },
  {
   "cell_type": "code",
   "execution_count": 10,
   "id": "034ffcb4-ac0c-47d1-8c0b-770e5ee278a1",
   "metadata": {},
   "outputs": [
    {
     "data": {
      "text/plain": [
       "'morse'"
      ]
     },
     "execution_count": 10,
     "metadata": {},
     "output_type": "execute_result"
    }
   ],
   "source": [
    "eng_fren[\"walrus\"]"
   ]
  },
  {
   "cell_type": "markdown",
   "id": "08255894-48a8-4594-8001-c8ec625b62a9",
   "metadata": {},
   "source": [
    "Q10. Make a French-to-English dictionary called f2e from e2f. Use the items method."
   ]
  },
  {
   "cell_type": "markdown",
   "id": "2e436f0d-bd82-4239-ad2f-ba911255765a",
   "metadata": {},
   "source": [
    "Ans10:"
   ]
  },
  {
   "cell_type": "code",
   "execution_count": 16,
   "id": "388f7886-ef35-47d7-b42a-cca451c20068",
   "metadata": {},
   "outputs": [
    {
     "name": "stdout",
     "output_type": "stream",
     "text": [
      "{'chien': 'dog', 'chat': 'cat', 'morse': 'walrus'}\n"
     ]
    }
   ],
   "source": [
    "fren_eng = {value:key for key,value in eng_fren.items()}\n",
    "print(fren_eng)"
   ]
  },
  {
   "cell_type": "markdown",
   "id": "ca201681-03f9-4447-933c-871efbc2ab19",
   "metadata": {},
   "source": [
    "Q11. Print the English version of the French word chien using f2e."
   ]
  },
  {
   "cell_type": "markdown",
   "id": "036037f4-c41e-4364-9ac8-250cbf42efe8",
   "metadata": {},
   "source": [
    "Ans11:"
   ]
  },
  {
   "cell_type": "code",
   "execution_count": 19,
   "id": "f9d351de-e4f9-4645-ba50-284ec4ece40b",
   "metadata": {},
   "outputs": [
    {
     "data": {
      "text/plain": [
       "'dog'"
      ]
     },
     "execution_count": 19,
     "metadata": {},
     "output_type": "execute_result"
    }
   ],
   "source": [
    "fren_eng[\"chien\"]"
   ]
  },
  {
   "cell_type": "markdown",
   "id": "74c1cd05-5a6e-4806-8f55-e71b6b5342d4",
   "metadata": {},
   "source": [
    "Q12. Make and print a set of English words from the keys in e2f."
   ]
  },
  {
   "cell_type": "markdown",
   "id": "f164dd22-e7b5-4737-a39a-2338c3bfcfab",
   "metadata": {},
   "source": [
    "Ans12:"
   ]
  },
  {
   "cell_type": "code",
   "execution_count": 2,
   "id": "689e6ffe-e002-4241-9a6c-706178d6b699",
   "metadata": {},
   "outputs": [
    {
     "name": "stdout",
     "output_type": "stream",
     "text": [
      "{'dog', 'cat', 'walrus'}\n"
     ]
    }
   ],
   "source": [
    "set1 = {i for i in eng_fren.keys()}\n",
    "print(set1)"
   ]
  },
  {
   "cell_type": "markdown",
   "id": "5dd0ac7c-021f-4083-91d7-3acf1151b64c",
   "metadata": {},
   "source": [
    "Q13. Make a multilevel dictionary called life. Use these strings for the topmost keys:\n",
    "    \"animals\",\"plants\" and \"other\". Make the \"animals\" key refer to another dictionary with the keys \n",
    "    \"cats\",\"octopi\" and \"emus\". Make the \"cats\" key refer to a list of strings with the values \n",
    "    \"Henri\",\"Grumpy\" and \"Lucy\". Make all the other keys refer to empty dictionaries."
   ]
  },
  {
   "cell_type": "markdown",
   "id": "fba568d0-fdc4-4c1d-a515-b444e883a822",
   "metadata": {},
   "source": [
    "Ans13:"
   ]
  },
  {
   "cell_type": "code",
   "execution_count": 24,
   "id": "965e8d18-2bb5-47d1-a9fb-fd62718ba70b",
   "metadata": {},
   "outputs": [],
   "source": [
    "life = {\"animals\":{\"cats\":[\"Henri\",\"Grumpy\",\"Lucy\"],\"octopi\":{},\"emus\":{}},\"plants\":{},\"others\":{}}"
   ]
  },
  {
   "cell_type": "markdown",
   "id": "9d8132f6-94c0-4908-8b8a-8de4623d3db3",
   "metadata": {},
   "source": [
    "Q14. Print the top-level keys of life."
   ]
  },
  {
   "cell_type": "markdown",
   "id": "4f8bd4e3-d09c-405b-8b45-ba96eecd7680",
   "metadata": {},
   "source": [
    "Ans14:"
   ]
  },
  {
   "cell_type": "code",
   "execution_count": 25,
   "id": "356840d2-0f7b-4786-8a3b-189d0da021f8",
   "metadata": {},
   "outputs": [
    {
     "name": "stdout",
     "output_type": "stream",
     "text": [
      "animals\n",
      "plants\n",
      "others\n"
     ]
    }
   ],
   "source": [
    "for i in life.keys():\n",
    "    print(i)"
   ]
  },
  {
   "cell_type": "markdown",
   "id": "10feaf28-37e6-4b82-9576-fb38ef32b621",
   "metadata": {},
   "source": [
    "Q15. Print the keys for life['animals']."
   ]
  },
  {
   "cell_type": "markdown",
   "id": "d6780b54-0906-4141-be87-7dcf9ee1f22e",
   "metadata": {},
   "source": [
    "Ans15:"
   ]
  },
  {
   "cell_type": "code",
   "execution_count": 26,
   "id": "332854fa-6bb7-43aa-96c1-e9297fd657fb",
   "metadata": {},
   "outputs": [
    {
     "name": "stdout",
     "output_type": "stream",
     "text": [
      "cats\n",
      "octopi\n",
      "emus\n"
     ]
    }
   ],
   "source": [
    "for i in life[\"animals\"].keys():\n",
    "    print(i)"
   ]
  },
  {
   "cell_type": "markdown",
   "id": "159f5703-d4a6-431d-9b5b-2187b9d16106",
   "metadata": {},
   "source": [
    "Q16. Print the values for life['animals']['cats']"
   ]
  },
  {
   "cell_type": "markdown",
   "id": "0ff0ea41-dcfc-4197-a1de-1369521fb4b0",
   "metadata": {},
   "source": [
    "Ans16:"
   ]
  },
  {
   "cell_type": "code",
   "execution_count": 29,
   "id": "b8a86055-af2c-442c-adbc-de93d9150aad",
   "metadata": {},
   "outputs": [
    {
     "name": "stdout",
     "output_type": "stream",
     "text": [
      "Henri\n",
      "Grumpy\n",
      "Lucy\n"
     ]
    }
   ],
   "source": [
    "for i in life[\"animals\"][\"cats\"]:\n",
    "    print(i)"
   ]
  },
  {
   "cell_type": "code",
   "execution_count": null,
   "id": "72b70cc5-60d5-4c21-b6f4-66cf72fb67a0",
   "metadata": {},
   "outputs": [],
   "source": []
  }
 ],
 "metadata": {
  "kernelspec": {
   "display_name": "Python 3 (ipykernel)",
   "language": "python",
   "name": "python3"
  },
  "language_info": {
   "codemirror_mode": {
    "name": "ipython",
    "version": 3
   },
   "file_extension": ".py",
   "mimetype": "text/x-python",
   "name": "python",
   "nbconvert_exporter": "python",
   "pygments_lexer": "ipython3",
   "version": "3.12.4"
  }
 },
 "nbformat": 4,
 "nbformat_minor": 5
}
