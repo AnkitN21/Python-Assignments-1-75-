{
 "cells": [
  {
   "cell_type": "markdown",
   "id": "a34f72fe-51d1-4e45-82db-353a0f388b3a",
   "metadata": {},
   "source": [
    "PROGRAM ASSIGNMENT 21"
   ]
  },
  {
   "cell_type": "markdown",
   "id": "1c294e40-5f4f-457c-a05f-064f1d364d77",
   "metadata": {},
   "source": [
    "Q1. Write a function that takes a list and a number as arguments. Add the number to the end of\n",
    "the list, then remove the first element of the list. The function should then return the updated list.\n",
    "Examples\n",
    "next_in_line([5, 6, 7, 8, 9], 1) ➞ [6, 7, 8, 9, 1]\n",
    "next_in_line([7, 6, 3, 23, 17], 10) ➞ [6, 3, 23, 17, 10]\n",
    "next_in_line([1, 10, 20, 42 ], 6) ➞ [10, 20, 42, 6]\n",
    "next_in_line([], 6) ➞ 'No list has been selected'"
   ]
  },
  {
   "cell_type": "markdown",
   "id": "6e010d2a-16d4-4b1a-ba92-a7efa6cbe5fa",
   "metadata": {},
   "source": [
    "Ans1:"
   ]
  },
  {
   "cell_type": "code",
   "execution_count": 5,
   "id": "8a677075-e083-4e73-9aaa-3d205a1d0d1a",
   "metadata": {},
   "outputs": [
    {
     "name": "stdout",
     "output_type": "stream",
     "text": [
      "[6, 8, 9, 10, 5]\n"
     ]
    }
   ],
   "source": [
    "def next_in_line(l,a):\n",
    "    if len(l) == 0:\n",
    "        return \"No list has been selected\"\n",
    "    else:\n",
    "        l.pop(0)\n",
    "        l.append(a)\n",
    "        return l\n",
    "        \n",
    "list1 = [7,6,8,9,10]\n",
    "a = 5\n",
    "print(next_in_line(list1,a))"
   ]
  },
  {
   "cell_type": "markdown",
   "id": "885783bc-487f-45cd-a255-687488c929ae",
   "metadata": {},
   "source": [
    "Q2. Create the function that takes a list of dictionaries and returns the sum of people's budgets.\n",
    "Examples\n",
    "get_budgets([\n",
    "{ 'name':'John', 'age':21, 'budget':23000 },\n",
    "{ 'name':'Steve', 'age':32, 'budget':40000 },\n",
    "{ 'name':'Martin', 'age':16, 'budget':2700 }\n",
    "]) ➞ 65700\n",
    "get_budgets([\n",
    "{ 'name':'John', 'age':21, 'budget':29000 },\n",
    "{ 'name':'Steve', 'age':32, 'budget':32000 },\n",
    "{ 'name':'Martin', 'age':16, 'budget':1600 }\n",
    "]) ➞ 62600"
   ]
  },
  {
   "cell_type": "markdown",
   "id": "e011f821-0119-457b-bb62-e2ed197a689c",
   "metadata": {},
   "source": [
    "Ans2:"
   ]
  },
  {
   "cell_type": "code",
   "execution_count": 12,
   "id": "ab4bd87c-ad77-4480-9284-8bef54d7b9a6",
   "metadata": {},
   "outputs": [
    {
     "name": "stdout",
     "output_type": "stream",
     "text": [
      "65700\n"
     ]
    }
   ],
   "source": [
    "def total_budgets(bdgts):\n",
    "    sums = 0\n",
    "    for i in bdgts:\n",
    "        sums += i[\"budget\"]\n",
    "    return sums\n",
    "\n",
    "lst2 = [{\"name\":\"John\",\"age\":21,\"budget\":23000},\n",
    "{\"name\":\"Steve\",\"age\":32,\"budget\":40000},\n",
    "{\"name\":\"Martin\",\"age\":16,\"budget\":2700 }]\n",
    "print(total_budgets(lst2))"
   ]
  },
  {
   "cell_type": "markdown",
   "id": "1c790315-62e0-499a-b30a-23a72f9a70a6",
   "metadata": {},
   "source": [
    "Q3. Create a function that takes a string and returns a string with its letters in alphabetical order.\n",
    "Examples\n",
    "alphabet_soup('hello') ➞ 'ehllo'\n",
    "alphabet_soup('edabit') ➞ 'abdeit'\n",
    "alphabet_soup('hacker') ➞ 'acehkr'\n",
    "alphabet_soup('geek') ➞ 'eegk'\n",
    "alphabet_soup('javascript') ➞ 'aacijprstv'"
   ]
  },
  {
   "cell_type": "markdown",
   "id": "92b3db67-c9a8-4245-a202-fe4eaf909a31",
   "metadata": {},
   "source": [
    "Ans3:"
   ]
  },
  {
   "cell_type": "code",
   "execution_count": 2,
   "id": "7dc5107d-3edd-496b-95d6-b4e5870d2fbb",
   "metadata": {},
   "outputs": [
    {
     "name": "stdout",
     "output_type": "stream",
     "text": [
      "ehllo\n"
     ]
    },
    {
     "data": {
      "text/plain": [
       "'aacijprstv'"
      ]
     },
     "execution_count": 2,
     "metadata": {},
     "output_type": "execute_result"
    }
   ],
   "source": [
    "def alpha_soup(a):\n",
    "    b = ''.join(sorted(a))\n",
    "    return b\n",
    "\n",
    "str1 = \"hello\"\n",
    "print(alpha_soup(str1))\n",
    "str2 = \"javascript\"\n",
    "alpha_soup(str2)"
   ]
  },
  {
   "cell_type": "markdown",
   "id": "2aa126ac-b2fc-4d24-8a09-18d7f003c9d5",
   "metadata": {},
   "source": [
    "Q4. Suppose that you invest $10,000 for 10 years at an interest rate of 6% compounded monthly.\n",
    "What will be the value of your investment at the end of the 10 year period?\n",
    "Create a function that accepts the principal p, the term in years t, the interest rate r, and the\n",
    "number of compounding periods per year n. The function returns the value at the end of term\n",
    "rounded to the nearest cent. For the example above:\n",
    "compound_interest(10000, 10, 0.06, 12) ➞ 18193.97\n",
    "Note that the interest rate is given as a decimal and n=12 because with monthly compounding\n",
    "there are 12 periods per year. Compounding can also be done annually, quarterly, weekly, or daily.\n",
    "Examples\n",
    "compound_interest(100, 1, 0.05, 1) ➞ 105.0\n",
    "compound_interest(3500, 15, 0.1, 4) ➞ 15399.26\n",
    "compound_interest(100000, 20, 0.15, 365) ➞ 2007316.26"
   ]
  },
  {
   "cell_type": "markdown",
   "id": "52428f38-feac-4d4d-90bd-849ccd05c2d9",
   "metadata": {},
   "source": [
    "Ans4:"
   ]
  },
  {
   "cell_type": "code",
   "execution_count": 24,
   "id": "16831e54-8f4c-4cff-9fb4-dc575e9ef287",
   "metadata": {},
   "outputs": [
    {
     "name": "stdout",
     "output_type": "stream",
     "text": [
      "18193.9673403229\n",
      "15399.264120852586\n"
     ]
    }
   ],
   "source": [
    "def comp_intrest(p,r,n,t):\n",
    "    sums = p*(1 + (r/n))**(n*t)\n",
    "    return sums\n",
    "\n",
    "P = 10000\n",
    "R = 6/100\n",
    "N = 12  #compounded monthly\n",
    "T = 10  #time period\n",
    "print(comp_intrest(P,R,N,T))\n",
    "print(comp_intrest(3500,0.1,4,15))"
   ]
  },
  {
   "cell_type": "markdown",
   "id": "b09ec0a0-2cf0-4fe6-a151-0ef71c247223",
   "metadata": {},
   "source": [
    "Q5. Write a function that takes a list of elements and returns only the integers.\n",
    "Examples\n",
    "return_only_integer([9, 2, 'space', 'car', 'lion', 16]) ➞ [9, 2, 16]\n",
    "return_only_integer(['hello', 81, 'basketball', 123, 'fox']) ➞ [81, 123]\n",
    "return_only_integer([10, '121', 56, 20, 'car', 3, 'lion']) ➞ [10, 56, 20, 3]\n",
    "return_only_integer(['String', True, 3.3, 1]) ➞ [1]"
   ]
  },
  {
   "cell_type": "markdown",
   "id": "2a952136-49fd-4a7a-bc70-a36f725f294e",
   "metadata": {},
   "source": [
    "Ans5:"
   ]
  },
  {
   "cell_type": "code",
   "execution_count": 26,
   "id": "be5e5ae7-7946-40a9-bde0-9c4e2f670c9a",
   "metadata": {},
   "outputs": [
    {
     "name": "stdout",
     "output_type": "stream",
     "text": [
      "[9, 2, 16]\n",
      "[81, 123]\n"
     ]
    }
   ],
   "source": [
    "def int_only(l):\n",
    "    lt = []\n",
    "    for i in l:\n",
    "        if type(i) == int:\n",
    "            lt.append(i)\n",
    "    return lt   \n",
    "\n",
    "print(int_only([9, 2, \"space\", \"car\", \"lion\", 16]))\n",
    "print(int_only([\"hello\", 81, \"basketball\", 123, \"fox\"]))"
   ]
  },
  {
   "cell_type": "code",
   "execution_count": null,
   "id": "9a764e03-8bd3-4022-90e8-13f18d819350",
   "metadata": {},
   "outputs": [],
   "source": []
  }
 ],
 "metadata": {
  "kernelspec": {
   "display_name": "Python 3 (ipykernel)",
   "language": "python",
   "name": "python3"
  },
  "language_info": {
   "codemirror_mode": {
    "name": "ipython",
    "version": 3
   },
   "file_extension": ".py",
   "mimetype": "text/x-python",
   "name": "python",
   "nbconvert_exporter": "python",
   "pygments_lexer": "ipython3",
   "version": "3.12.4"
  }
 },
 "nbformat": 4,
 "nbformat_minor": 5
}
