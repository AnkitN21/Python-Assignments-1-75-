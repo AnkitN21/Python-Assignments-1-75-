{
 "cells": [
  {
   "cell_type": "markdown",
   "id": "6eb25e5c-8bf6-4ded-bf7b-022a642685f3",
   "metadata": {},
   "source": [
    "PROGRAM ASSIGNMENT 8:"
   ]
  },
  {
   "cell_type": "markdown",
   "id": "819f0510-894b-4a5e-83ce-f91309e5b0cc",
   "metadata": {},
   "source": [
    "Ans1:"
   ]
  },
  {
   "cell_type": "code",
   "execution_count": 2,
   "id": "6ea29da5-c393-4978-b09b-b3200db1c69d",
   "metadata": {},
   "outputs": [
    {
     "name": "stdout",
     "output_type": "stream",
     "text": [
      "[3, 9]\n",
      "[9, 14]\n"
     ]
    }
   ],
   "source": [
    "a = [[1,4],\n",
    "     [4,6]]\n",
    "b = [[2,5],\n",
    "     [5,8]]\n",
    "x = [[0,0],\n",
    "     [0,0]]\n",
    "\n",
    "for i in range(len(a)):\n",
    "    for j in range(len(a[0])):\n",
    "        x[i][j] = a[i][j] + b[i][j]\n",
    "\n",
    "for k in x:\n",
    "    print(k)\n",
    "    "
   ]
  },
  {
   "cell_type": "markdown",
   "id": "49a9739d-9104-4079-98ae-2fa4c0beb880",
   "metadata": {},
   "source": [
    "Ans2:"
   ]
  },
  {
   "cell_type": "code",
   "execution_count": 3,
   "id": "563a9a04-2d37-4a8c-9ebc-6ee9afc8793c",
   "metadata": {},
   "outputs": [
    {
     "name": "stdout",
     "output_type": "stream",
     "text": [
      "[2, 20]\n",
      "[20, 48]\n"
     ]
    }
   ],
   "source": [
    "m = [[1,4],\n",
    "     [4,6]]\n",
    "n = [[2,5],\n",
    "     [5,8]]\n",
    "s = [[0,0],\n",
    "     [0,0]]\n",
    "\n",
    "for i in range(len(m)):\n",
    "    for j in range(len(m[0])):\n",
    "        s[i][j] = m[i][j] * n[i][j]\n",
    "\n",
    "for r in s:\n",
    "    print(r)\n",
    "    "
   ]
  },
  {
   "cell_type": "markdown",
   "id": "e4a48841-a7ef-49d6-97ae-4858caf07aeb",
   "metadata": {},
   "source": [
    "Ans3:"
   ]
  },
  {
   "cell_type": "code",
   "execution_count": 5,
   "id": "40fcbceb-3ab4-47a2-a316-e8037560813f",
   "metadata": {},
   "outputs": [
    {
     "name": "stdout",
     "output_type": "stream",
     "text": [
      "[2, 3, 5]\n",
      "[5, 8, 1]\n",
      "[7, 10, 14]\n"
     ]
    }
   ],
   "source": [
    "y = [[2,5,7],\n",
    "    [3,8,10],\n",
    "    [5,1,14]]\n",
    "z = [[0,0,0],\n",
    "    [0,0,0],\n",
    "    [0,0,0]]\n",
    "\n",
    "for i in range(len(y)):\n",
    "    for j in range(len(y[0])):\n",
    "        z[i][j] = y[j][i]\n",
    "\n",
    "for r in z:\n",
    "    print(r)"
   ]
  },
  {
   "cell_type": "markdown",
   "id": "4e2f4659-ea41-4285-a3aa-bc8c5cbb757a",
   "metadata": {},
   "source": [
    "Ans4:"
   ]
  },
  {
   "cell_type": "code",
   "execution_count": 8,
   "id": "199e35d3-67ec-4dc4-8621-13dd31c3c426",
   "metadata": {},
   "outputs": [
    {
     "name": "stdin",
     "output_type": "stream",
     "text": [
      "Enter some string: hello everyone this is python\n"
     ]
    },
    {
     "name": "stdout",
     "output_type": "stream",
     "text": [
      "everyone hello is python this "
     ]
    }
   ],
   "source": [
    "str1 = input(\"Enter some string:\").split()\n",
    "str1.sort()\n",
    "for i in str1:\n",
    "    print(i, end=\" \")"
   ]
  },
  {
   "cell_type": "markdown",
   "id": "b3a60a10-7f9c-4658-ad74-34e20c575d4e",
   "metadata": {},
   "source": [
    "Ans5:"
   ]
  },
  {
   "cell_type": "code",
   "execution_count": 10,
   "id": "5d5eac4f-9843-4a5f-95d8-725f47beccea",
   "metadata": {},
   "outputs": [
    {
     "name": "stdin",
     "output_type": "stream",
     "text": [
      "Enter some strings having punctuations: okay, @goodbye!\n"
     ]
    },
    {
     "name": "stdout",
     "output_type": "stream",
     "text": [
      "okay goodbye\n"
     ]
    }
   ],
   "source": [
    "punct = \"''!()[]-@#$&*/<>.,?:;\"\n",
    "str2 = input(\"Enter some strings having punctuations:\")\n",
    "s3 = \"\"\n",
    "\n",
    "for i in str2:\n",
    "    if i not in punct:\n",
    "        s3 = s3 + i\n",
    "print(s3)"
   ]
  },
  {
   "cell_type": "code",
   "execution_count": null,
   "id": "064f6255-1d63-40c6-a033-cbea3d327964",
   "metadata": {},
   "outputs": [],
   "source": []
  }
 ],
 "metadata": {
  "kernelspec": {
   "display_name": "Python 3 (ipykernel)",
   "language": "python",
   "name": "python3"
  },
  "language_info": {
   "codemirror_mode": {
    "name": "ipython",
    "version": 3
   },
   "file_extension": ".py",
   "mimetype": "text/x-python",
   "name": "python",
   "nbconvert_exporter": "python",
   "pygments_lexer": "ipython3",
   "version": "3.12.4"
  }
 },
 "nbformat": 4,
 "nbformat_minor": 5
}
