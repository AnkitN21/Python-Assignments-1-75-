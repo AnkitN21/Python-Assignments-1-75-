{
 "cells": [
  {
   "cell_type": "markdown",
   "id": "37fa9135-4862-455a-a8a1-e53571375a6a",
   "metadata": {},
   "source": [
    "ASSIGNMENT 19"
   ]
  },
  {
   "cell_type": "markdown",
   "id": "a838201d-5dc2-40a7-b2ff-e193ba5a7a16",
   "metadata": {},
   "source": [
    "Q1. Make a class called Thing with no contents and print it. Then, create an object called example\n",
    "from this class and also print it. Are the printed values the same or different?"
   ]
  },
  {
   "cell_type": "markdown",
   "id": "0ee7d656-012b-4b0e-a0ef-9265cd4b3eed",
   "metadata": {},
   "source": [
    "Ans1:"
   ]
  },
  {
   "cell_type": "code",
   "execution_count": 1,
   "id": "d2e61bfd-d8aa-4499-b21f-85553e29c23a",
   "metadata": {},
   "outputs": [
    {
     "name": "stdout",
     "output_type": "stream",
     "text": [
      "<class '__main__.Thing'>\n"
     ]
    }
   ],
   "source": [
    "class Thing:\n",
    "    pass\n",
    "print(Thing)"
   ]
  },
  {
   "cell_type": "code",
   "execution_count": 2,
   "id": "79bdc3c9-13f5-42b6-9a85-7a498fd9641b",
   "metadata": {},
   "outputs": [
    {
     "name": "stdout",
     "output_type": "stream",
     "text": [
      "<__main__.Thing object at 0x00000226B874B5C0>\n"
     ]
    }
   ],
   "source": [
    "example = Thing()\n",
    "print(example)"
   ]
  },
  {
   "cell_type": "markdown",
   "id": "d74b8640-f020-4bb6-b755-0a3587899db4",
   "metadata": {},
   "source": [
    "Printed values are different"
   ]
  },
  {
   "cell_type": "code",
   "execution_count": null,
   "id": "57863676-bdd7-4c19-ab1d-7c6b869b5826",
   "metadata": {},
   "outputs": [],
   "source": [
    "Q2. Create a new class called Thing2 and add the value 'abc' to the letters class attribute. \n",
    "Letters should be printed."
   ]
  },
  {
   "cell_type": "markdown",
   "id": "525fb9c3-9485-4ea4-8032-227c660fd9be",
   "metadata": {},
   "source": [
    "Ans2:"
   ]
  },
  {
   "cell_type": "code",
   "execution_count": 3,
   "id": "e681c6ce-d94c-4b49-9e00-51f307658efe",
   "metadata": {},
   "outputs": [
    {
     "data": {
      "text/plain": [
       "'abc'"
      ]
     },
     "execution_count": 3,
     "metadata": {},
     "output_type": "execute_result"
    }
   ],
   "source": [
    "class Thing2:\n",
    "    letters = \"abc\"\n",
    "Thing2.letters"
   ]
  },
  {
   "cell_type": "markdown",
   "id": "7ad73a89-af20-4f65-a05d-32b1fdc8832b",
   "metadata": {},
   "source": [
    "Q3. Make yet another class called, of course, Thing3. This time, assign the value 'xyz' to an instance\n",
    "(object) attribute called letters. Print letters. Do you need to make an object from the class to do this?"
   ]
  },
  {
   "cell_type": "markdown",
   "id": "129c495a-05f7-40f1-91b9-615e44039777",
   "metadata": {},
   "source": [
    "Ans3:"
   ]
  },
  {
   "cell_type": "code",
   "execution_count": 1,
   "id": "6f191562-2273-42de-bdc8-7057cf68e0ea",
   "metadata": {},
   "outputs": [
    {
     "name": "stdout",
     "output_type": "stream",
     "text": [
      "xyz\n"
     ]
    }
   ],
   "source": [
    "class Thing3:\n",
    "    def __init__(self, letter):\n",
    "        self.letter = letter\n",
    "    def lttr(self):\n",
    "        print(self.letter)\n",
    "Thing3('xyz').lttr()"
   ]
  },
  {
   "cell_type": "markdown",
   "id": "69072840-b69e-4dc8-bdf3-22cfd6cb0e72",
   "metadata": {},
   "source": [
    "Q4. Create an Element class with the instance attributes name, symbol, and number. \n",
    "Create a class object with the values 'Hydrogen', 'H' and 1."
   ]
  },
  {
   "cell_type": "markdown",
   "id": "2b1d4dee-d466-40e6-bde2-6a7d461cad26",
   "metadata": {},
   "source": [
    "Ans4:"
   ]
  },
  {
   "cell_type": "code",
   "execution_count": 1,
   "id": "585a4c50-ef26-4bdb-b72d-c669148530c2",
   "metadata": {},
   "outputs": [
    {
     "data": {
      "text/plain": [
       "'Hydrogen'"
      ]
     },
     "execution_count": 1,
     "metadata": {},
     "output_type": "execute_result"
    }
   ],
   "source": [
    "class Element:\n",
    "    def __init__(self,name,symbol,number):\n",
    "        self.name = name\n",
    "        self.symbol = symbol\n",
    "        self.number = number\n",
    "    def printit(self):\n",
    "        return self.name,self.symbol,self.number\n",
    "\n",
    "obj_ele = Element(\"Hydrogen\", \"H\", 1)\n",
    "obj_ele.name"
   ]
  },
  {
   "cell_type": "markdown",
   "id": "2ac6ffaa-5cbb-4bc6-809e-32aabede9076",
   "metadata": {},
   "source": [
    "Q5. Make a dictionary with these keys and values: 'name': 'Hydrogen', 'symbol': 'H', 'number': 1. \n",
    "Then, create an object called hydrogen from class Element using this dictionary."
   ]
  },
  {
   "cell_type": "markdown",
   "id": "497bd28c-ede3-447b-b6b0-2906fde2b04f",
   "metadata": {},
   "source": [
    "Ans5:"
   ]
  },
  {
   "cell_type": "code",
   "execution_count": 3,
   "id": "77b266ce-a207-4d8c-9e89-4fc81d22380e",
   "metadata": {},
   "outputs": [
    {
     "data": {
      "text/plain": [
       "'H'"
      ]
     },
     "execution_count": 3,
     "metadata": {},
     "output_type": "execute_result"
    }
   ],
   "source": [
    "dict_ele = {\"name\":\"Hydrogen\", \"symbol\":\"H\", \"number\":1}\n",
    "hydro = Element(**dict_ele)\n",
    "hydro.symbol"
   ]
  },
  {
   "cell_type": "markdown",
   "id": "35c71cd2-fe16-467e-b582-c3aa435bc7b0",
   "metadata": {},
   "source": [
    "Q6. For the Element class, define a method called dump() that prints the values of the object’s\n",
    "attributes (name, symbol, and number). Create the hydrogen object from this new definition and\n",
    "use dump() to print its attributes."
   ]
  },
  {
   "cell_type": "markdown",
   "id": "da686321-2721-476c-a055-4806aa1c897d",
   "metadata": {},
   "source": [
    "Ans6:"
   ]
  },
  {
   "cell_type": "code",
   "execution_count": 1,
   "id": "6d40f98b-318e-4fe4-8b62-349fdbad6446",
   "metadata": {},
   "outputs": [
    {
     "data": {
      "text/plain": [
       "('Hydrogen', 'H', 1)"
      ]
     },
     "execution_count": 1,
     "metadata": {},
     "output_type": "execute_result"
    }
   ],
   "source": [
    "class Element:\n",
    "    def __init__(self,name,symbol,number):\n",
    "        self.name = name\n",
    "        self.symbol = symbol\n",
    "        self.number = number\n",
    "    def dump(self):\n",
    "        return self.name,self.symbol,self.number\n",
    "\n",
    "hydrogen = Element('Hydrogen','H',1)\n",
    "hydrogen.dump()"
   ]
  },
  {
   "cell_type": "markdown",
   "id": "99eec1f5-8731-4eba-b082-b83285cc6ca9",
   "metadata": {},
   "source": [
    "Q7. Call print(hydrogen). In the definition of Element, change the name of method dump to __str__,\n",
    "create a new hydrogen object, and call print(hydrogen) again."
   ]
  },
  {
   "cell_type": "markdown",
   "id": "9064a70a-359e-4877-8c97-df6078bb888b",
   "metadata": {},
   "source": [
    "Ans7:"
   ]
  },
  {
   "cell_type": "code",
   "execution_count": 2,
   "id": "52d392fa-44d9-45d4-9c22-68261dcf6260",
   "metadata": {},
   "outputs": [
    {
     "name": "stdout",
     "output_type": "stream",
     "text": [
      "name=Hydrogen, symbol=H, number=1\n"
     ]
    }
   ],
   "source": [
    "class Element:\n",
    "    def __init__(self,name,symbol,number):\n",
    "        self.name = name\n",
    "        self.symbol = symbol\n",
    "        self.number = number\n",
    "    def __str__(self):\n",
    "        return f\"name={self.name}, symbol={self.symbol}, number={self.number}\"\n",
    "\n",
    "hydrogen = Element('Hydrogen','H',1)\n",
    "print(hydrogen)"
   ]
  },
  {
   "cell_type": "markdown",
   "id": "5ef7fe88-b943-4707-851a-5fdd1ab88249",
   "metadata": {},
   "source": [
    "Q8. Modify Element to make the attributes name, symbol, and number private. \n",
    "Define a getter property for each to return its value."
   ]
  },
  {
   "cell_type": "markdown",
   "id": "0df2aeda-c1a7-456d-a286-ba199ed48c27",
   "metadata": {},
   "source": [
    "Ans8:"
   ]
  },
  {
   "cell_type": "code",
   "execution_count": 3,
   "id": "8a805737-9029-4612-a640-3125572fd7b7",
   "metadata": {},
   "outputs": [
    {
     "data": {
      "text/plain": [
       "'Hydrogen'"
      ]
     },
     "execution_count": 3,
     "metadata": {},
     "output_type": "execute_result"
    }
   ],
   "source": [
    "class Element(): \n",
    "    def __init__(self ,name,symbol,number):\n",
    "        self.__name = name\n",
    "        self.__symbol = symbol\n",
    "        self.__number = number\n",
    "    @property\n",
    "    def name(self):\n",
    "        return (self.__name)\n",
    "    @property\n",
    "    def symbol(self):\n",
    "        return (self.__symbol)\n",
    "    @property\n",
    "    def number(self):\n",
    "        return (self.__number)\n",
    "\n",
    "hydrogen = Element('Hydrogen','H',1)\n",
    "hydrogen.name"
   ]
  },
  {
   "cell_type": "markdown",
   "id": "468fe20d-67d7-4628-8c28-5731dd85bd2a",
   "metadata": {},
   "source": [
    "Q9. Define three classes: Bear, Rabbit, and Octothorpe. For each, define only one method: eats(). \n",
    "This should return 'berries' (Bear), 'clover' (Rabbit), or 'campers' (Octothorpe). Create one object \n",
    "from each and print what it eats."
   ]
  },
  {
   "cell_type": "markdown",
   "id": "0625e3cf-7128-487f-84f6-c727067c1abb",
   "metadata": {},
   "source": [
    "Ans9:"
   ]
  },
  {
   "cell_type": "code",
   "execution_count": 4,
   "id": "29d40616-3bb9-48a7-b985-1377902bc7fb",
   "metadata": {},
   "outputs": [],
   "source": [
    "class Bear:\n",
    "    def eats():\n",
    "        return 'berries'\n",
    "\n",
    "class Rabbit:\n",
    "    def eats():\n",
    "        return 'clover'\n",
    "\n",
    "class Octothorpe:\n",
    "    def eats():\n",
    "        return 'campers'\n",
    " "
   ]
  },
  {
   "cell_type": "code",
   "execution_count": 5,
   "id": "486b98f4-0a3b-4ae8-8528-f0d02d8cd00a",
   "metadata": {},
   "outputs": [
    {
     "name": "stdout",
     "output_type": "stream",
     "text": [
      "berries\n",
      "clover\n",
      "campers\n"
     ]
    }
   ],
   "source": [
    "print(Bear.eats())\n",
    "print(Rabbit.eats())\n",
    "print(Octothorpe.eats())"
   ]
  },
  {
   "cell_type": "markdown",
   "id": "e83ae19a-5d93-4d97-8648-b11c6173c821",
   "metadata": {},
   "source": [
    "Q10. Define these classes: Laser, Claw, and SmartPhone. Each has only one method: does(). \n",
    "This returns 'disintegrate' (Laser), 'crush' (Claw), or 'ring' (SmartPhone). Then, define \n",
    "the class Robot that has one instance (object) of each of these. Define a does() method \n",
    "for the Robot that prints what its component objects do."
   ]
  },
  {
   "cell_type": "markdown",
   "id": "1d632a1f-b470-4132-858f-337a3b4ea1cf",
   "metadata": {},
   "source": [
    "Ans10:"
   ]
  },
  {
   "cell_type": "code",
   "execution_count": 2,
   "id": "dfa8652c-8737-4d5b-8f9e-7043aced7e23",
   "metadata": {},
   "outputs": [
    {
     "data": {
      "text/plain": [
       "'Laser is disintegrate , Claw is crush, SmartPhone is ring'"
      ]
     },
     "execution_count": 2,
     "metadata": {},
     "output_type": "execute_result"
    }
   ],
   "source": [
    "class Laser:\n",
    "    def does(self):\n",
    "        return 'disintegrate'\n",
    "class Claw:\n",
    "    def does(self):\n",
    "        return 'crush'\n",
    "class SmartPhone:\n",
    "    def does(self):\n",
    "        return 'ring'\n",
    "        \n",
    "class Robot:\n",
    "    def __init__(self):\n",
    "        self.laser = Laser()\n",
    "        self.claw = Claw()\n",
    "        self.smartphone = SmartPhone()\n",
    "    def does(self):\n",
    "        return f'Laser is {self.laser.does()} , Claw is {self.claw.does()}, SmartPhone is {self.smartphone.does()}'\n",
    "\n",
    "robo = Robot()\n",
    "robo.does()"
   ]
  },
  {
   "cell_type": "code",
   "execution_count": null,
   "id": "8b8ab037-0582-422b-b910-f82235fd581b",
   "metadata": {},
   "outputs": [],
   "source": []
  }
 ],
 "metadata": {
  "kernelspec": {
   "display_name": "Python 3 (ipykernel)",
   "language": "python",
   "name": "python3"
  },
  "language_info": {
   "codemirror_mode": {
    "name": "ipython",
    "version": 3
   },
   "file_extension": ".py",
   "mimetype": "text/x-python",
   "name": "python",
   "nbconvert_exporter": "python",
   "pygments_lexer": "ipython3",
   "version": "3.12.4"
  }
 },
 "nbformat": 4,
 "nbformat_minor": 5
}
