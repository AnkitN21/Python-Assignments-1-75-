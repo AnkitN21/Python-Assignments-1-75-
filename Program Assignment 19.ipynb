{
 "cells": [
  {
   "cell_type": "markdown",
   "id": "7839baf4-2a2b-415c-8c9e-ddb55a9e0f44",
   "metadata": {},
   "source": [
    "PROGRAM ASSIGNMENT 19"
   ]
  },
  {
   "cell_type": "markdown",
   "id": "74bd370f-b7e1-4511-985f-7254367aa53b",
   "metadata": {},
   "source": [
    "Q1. Create a function that takes a string and returns a string in which each character is repeated once.\n",
    "Examples\n",
    "double_char(\"String\") ➞ \"SSttrriinngg\"\n",
    "double_char(\"Hello World!\") ➞ \"HHeelllloo WWoorrlldd!!\"\n",
    "double_char(\"1234!_ \") ➞ \"11223344!!__\""
   ]
  },
  {
   "cell_type": "markdown",
   "id": "72135ce9-8670-4c00-910f-cf69b2ce4025",
   "metadata": {},
   "source": [
    "Ans1:"
   ]
  },
  {
   "cell_type": "code",
   "execution_count": 2,
   "id": "8ab98f59-c06a-4a8f-b5d8-4e145656b936",
   "metadata": {},
   "outputs": [
    {
     "name": "stdin",
     "output_type": "stream",
     "text": [
      "Enter string: 1245\n"
     ]
    },
    {
     "data": {
      "text/plain": [
       "'11224455'"
      ]
     },
     "execution_count": 2,
     "metadata": {},
     "output_type": "execute_result"
    }
   ],
   "source": [
    "def doub_char(s):\n",
    "    s1 = \"\"\n",
    "    for i in s:\n",
    "        s1 = s1 + 2*i\n",
    "    return s1\n",
    "\n",
    "str1 = input(\"Enter string:\")\n",
    "doub_char(str1)"
   ]
  },
  {
   "cell_type": "markdown",
   "id": "8cbd02f6-993d-4e1b-84ea-9a806263d5db",
   "metadata": {},
   "source": [
    "Q2. Create a function that reverses a boolean value and returns the string \"boolean expected\"\n",
    "if another variable type is given.\n",
    "Examples\n",
    "reverse(True) ➞ False\n",
    "reverse(False) ➞ True\n",
    "reverse(0) ➞ \"boolean expected\"\n",
    "reverse(None) ➞ \"boolean expected\""
   ]
  },
  {
   "cell_type": "markdown",
   "id": "9c43bfa0-645e-4557-8244-38ae742f6b96",
   "metadata": {},
   "source": [
    "Ans2:"
   ]
  },
  {
   "cell_type": "code",
   "execution_count": 4,
   "id": "2511f186-5901-4b50-9548-b6185b19720c",
   "metadata": {},
   "outputs": [
    {
     "name": "stdout",
     "output_type": "stream",
     "text": [
      "True\n"
     ]
    }
   ],
   "source": [
    "def rev_bool(arg= None):\n",
    "    if type(arg) == bool:\n",
    "        return not arg\n",
    "    else:\n",
    "        return \"boolean expected\"\n",
    "\n",
    "print(rev_bool(False))"
   ]
  },
  {
   "cell_type": "markdown",
   "id": "81cdcdc8-79cd-4c92-8a1d-60fd11f5d2ea",
   "metadata": {},
   "source": [
    "Q3. Create a function that returns the thickness (in meters) of a piece of paper after \n",
    "folding it n number of times. The paper starts off with a thickness of 0.5mm.\n",
    "Examples\n",
    "num_layers(1) ➞ '0.001'\n",
    "# Paper folded once is 1mm (equal to 0.001m)\n",
    "num_layers(4) ➞ \"0.008m\"\n",
    "# Paper folded 4 times is 8mm (equal to 0.008m)\n",
    "num_layers(21) ➞ \"1048.576m\"\n",
    "# Paper folded 21 times is 1048576mm (equal to 1048.576m)"
   ]
  },
  {
   "cell_type": "markdown",
   "id": "3417b21a-bb7b-49f6-958e-5d3b14f15579",
   "metadata": {},
   "source": [
    "Ans3:"
   ]
  },
  {
   "cell_type": "code",
   "execution_count": 12,
   "id": "1947c918-7604-45df-bc2b-9ba24f2726f4",
   "metadata": {},
   "outputs": [
    {
     "name": "stdout",
     "output_type": "stream",
     "text": [
      "Thickness(m) of paper folded 21 times is: 1048.576m\n"
     ]
    }
   ],
   "source": [
    "def num_lay(n):\n",
    "    th = 0.5\n",
    "    for i in range(n):\n",
    "        th *= 2\n",
    "    return str(th/1000)\n",
    "\n",
    "num = 21\n",
    "print(f\"Thickness(m) of paper folded {num} times is:\", num_lay(num) + \"m\")"
   ]
  },
  {
   "cell_type": "markdown",
   "id": "2de3d04d-0c49-4503-afdd-648bf5265d20",
   "metadata": {},
   "source": [
    "Q4. Create a function that takes a single string as argument and returns an ordered list \n",
    "containing the indices of all capital letters in the string.\n",
    "Examples\n",
    "index_of_caps(\"eDaBiT\") ➞ [1, 3, 5]\n",
    "index_of_caps(\"eQuINoX\") ➞ [1, 3, 4, 6]\n",
    "index_of_caps(\"determine\") ➞ []\n",
    "index_of_caps(\"STRIKE\") ➞ [0, 1, 2, 3, 4, 5]\n",
    "index_of_caps(\"sUn\") ➞ [1]"
   ]
  },
  {
   "cell_type": "markdown",
   "id": "05f90894-94ad-4e7e-a528-a185eb7c5364",
   "metadata": {},
   "source": [
    "Ans4:"
   ]
  },
  {
   "cell_type": "code",
   "execution_count": 15,
   "id": "07b464e6-9460-4e36-b121-8e7b8a874eab",
   "metadata": {},
   "outputs": [
    {
     "data": {
      "text/plain": [
       "[0, 2, 4, 6]"
      ]
     },
     "execution_count": 15,
     "metadata": {},
     "output_type": "execute_result"
    }
   ],
   "source": [
    "def ind_of_caps(s):\n",
    "    indx_cap = []\n",
    "    for i in range(len(s)):\n",
    "        if s[i].isupper():\n",
    "            indx_cap.append(i)\n",
    "    return indx_cap\n",
    "\n",
    "st1 = \"SuNrIsE\"\n",
    "ind_of_caps(st1)"
   ]
  },
  {
   "cell_type": "markdown",
   "id": "eb7915a4-74cd-4e1e-8bf9-10bd2da9fe60",
   "metadata": {},
   "source": [
    "Q5. Using list comprehensions, create a function that finds all even numbers \n",
    "from 1 to the given number.\n",
    "Examples\n",
    "find_even_nums(8) ➞ [2, 4, 6, 8]\n",
    "find_even_nums(4) ➞ [2, 4]\n",
    "find_even_nums(2) ➞ [2]"
   ]
  },
  {
   "cell_type": "markdown",
   "id": "53f6a5c3-da2e-4aea-a897-55a6b874b5e0",
   "metadata": {},
   "source": [
    "Ans5:"
   ]
  },
  {
   "cell_type": "code",
   "execution_count": 18,
   "id": "b259164a-571b-4bdb-aaac-e0cefcc0dfa1",
   "metadata": {},
   "outputs": [
    {
     "data": {
      "text/plain": [
       "[2, 4]"
      ]
     },
     "execution_count": 18,
     "metadata": {},
     "output_type": "execute_result"
    }
   ],
   "source": [
    "def find_even(x):\n",
    "    fin_even = []\n",
    "    for i in range(1,x+1):\n",
    "        if i%2 == 0:\n",
    "            fin_even.append(i)\n",
    "    return fin_even\n",
    "\n",
    "num = 4\n",
    "find_even(num)"
   ]
  },
  {
   "cell_type": "code",
   "execution_count": null,
   "id": "e1eb556b-5607-4a7a-acc8-7fea2d69be1b",
   "metadata": {},
   "outputs": [],
   "source": []
  }
 ],
 "metadata": {
  "kernelspec": {
   "display_name": "Python 3 (ipykernel)",
   "language": "python",
   "name": "python3"
  },
  "language_info": {
   "codemirror_mode": {
    "name": "ipython",
    "version": 3
   },
   "file_extension": ".py",
   "mimetype": "text/x-python",
   "name": "python",
   "nbconvert_exporter": "python",
   "pygments_lexer": "ipython3",
   "version": "3.12.4"
  }
 },
 "nbformat": 4,
 "nbformat_minor": 5
}
