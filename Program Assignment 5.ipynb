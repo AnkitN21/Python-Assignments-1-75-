{
 "cells": [
  {
   "cell_type": "markdown",
   "id": "c2585198-b174-416e-aade-5ac4fb5cab79",
   "metadata": {},
   "source": [
    "PROGRAM ASSIGNMENT 5:"
   ]
  },
  {
   "cell_type": "markdown",
   "id": "75e184d1-d13d-413d-a47c-fce8889efcfe",
   "metadata": {},
   "source": [
    "Ans1:"
   ]
  },
  {
   "cell_type": "code",
   "execution_count": 5,
   "id": "aa14ba9b-ec85-42b5-899a-4fc33c596d9d",
   "metadata": {},
   "outputs": [
    {
     "name": "stdin",
     "output_type": "stream",
     "text": [
      "Enter 1st number 12\n",
      "Enter 2nd number 15\n"
     ]
    },
    {
     "name": "stdout",
     "output_type": "stream",
     "text": [
      "LCM of 12 and 15 is 60.0\n"
     ]
    }
   ],
   "source": [
    "a = int(input(\"Enter 1st number\"))\n",
    "b = int(input(\"Enter 2nd number\"))\n",
    "x = 1\n",
    "\n",
    "for i in range(2,a+1):\n",
    "    if (a%i == 0 and b%i == 0):\n",
    "        x = i\n",
    "\n",
    "lcm = ((a*b)/x)\n",
    "print(f\"LCM of {a} and {b} is {lcm}\")"
   ]
  },
  {
   "cell_type": "markdown",
   "id": "9565ce65-7f31-4d1b-9638-59f8e2bfd192",
   "metadata": {},
   "source": [
    "Ans2:"
   ]
  },
  {
   "cell_type": "code",
   "execution_count": 2,
   "id": "2839e7b5-3f6f-4986-b157-75b276c64998",
   "metadata": {},
   "outputs": [
    {
     "name": "stdin",
     "output_type": "stream",
     "text": [
      "Enter 1st number 7\n",
      "Enter 2nd number 11\n"
     ]
    },
    {
     "name": "stdout",
     "output_type": "stream",
     "text": [
      "HCF of 7 and 11 is 1\n"
     ]
    }
   ],
   "source": [
    "m = int(input(\"Enter 1st number\"))\n",
    "n = int(input(\"Enter 2nd number\")) \n",
    "hcf=1\n",
    "\n",
    "for i in range(2,m+1):\n",
    "    if (m%i == 0 and n%i == 0):\n",
    "        hcf=i\n",
    "\n",
    "print(f\"HCF of {m} and {n} is {hcf}\")"
   ]
  },
  {
   "cell_type": "markdown",
   "id": "f3d167fb-67e1-4351-97f6-e5b8f328df62",
   "metadata": {},
   "source": [
    "Ans3:"
   ]
  },
  {
   "cell_type": "code",
   "execution_count": 18,
   "id": "64b830d3-ced1-4915-a92f-6a41aa13a121",
   "metadata": {},
   "outputs": [
    {
     "name": "stdin",
     "output_type": "stream",
     "text": [
      "Enter a number 21\n"
     ]
    },
    {
     "name": "stdout",
     "output_type": "stream",
     "text": [
      "0b10101 is Binary of 21\n",
      "0o25 is Octal of 21\n",
      "0x15 is Hexadecimal of 21\n"
     ]
    }
   ],
   "source": [
    "k = int(input(\"Enter a number\"))\n",
    "\n",
    "print(bin(k), \"is Binary of\",(k))\n",
    "print(oct(k), \"is Octal of\",(k))\n",
    "print(hex(k), \"is Hexadecimal of\",(k))"
   ]
  },
  {
   "cell_type": "markdown",
   "id": "eef8187b-bfe3-41bf-8c85-6d8ac99caabd",
   "metadata": {},
   "source": [
    "Ans4:"
   ]
  },
  {
   "cell_type": "code",
   "execution_count": 21,
   "id": "05b51035-058c-42c1-bd52-3522fcd703ef",
   "metadata": {},
   "outputs": [
    {
     "name": "stdin",
     "output_type": "stream",
     "text": [
      "Enter a character: f\n"
     ]
    },
    {
     "name": "stdout",
     "output_type": "stream",
     "text": [
      "The ASCII Value of f is 102\n"
     ]
    }
   ],
   "source": [
    "c = input(\"Enter a character:\")\n",
    "d = ord(c)\n",
    "\n",
    "print(\"The ASCII Value of %s is %s\"%(c,d))"
   ]
  },
  {
   "cell_type": "markdown",
   "id": "fbd9c5ac-756c-448d-90c5-d15bdb4efd67",
   "metadata": {},
   "source": [
    "Ans5:"
   ]
  },
  {
   "cell_type": "code",
   "execution_count": 30,
   "id": "6eb403a6-89ab-4b24-83da-79c197ea6e71",
   "metadata": {},
   "outputs": [
    {
     "name": "stdin",
     "output_type": "stream",
     "text": [
      "Enter 1st number 56\n",
      "Enter 2nd number 39\n",
      "Select your operator: \n",
      "1:Add\n",
      "2:Subtract\n",
      "3:Multipy\n",
      "4:Divide\n",
      " 7\n"
     ]
    },
    {
     "name": "stdout",
     "output_type": "stream",
     "text": [
      "Invalid Input\n"
     ]
    }
   ],
   "source": [
    "a1 = int(input(\"Enter 1st number\"))\n",
    "b1 = int(input(\"Enter 2nd number\"))\n",
    "m1 = int(input(\"Select your operator: \\n1:Add\\n2:Subtract\\n3:Multipy\\n4:Divide\\n\"))\n",
    "\n",
    "if m1 == 1:\n",
    "    print(\"The sum is :\",a1+b1)\n",
    "elif m1 == 2:\n",
    "    print(\"Note: Greater Number will be subtracted\")\n",
    "    if a1 > b1:\n",
    "        print(\"The subtraction value is :\",a1-b1)\n",
    "    else:\n",
    "        print(\"The subtraction value is :\",b1-a1)\n",
    "elif m1 == 3:\n",
    "    print(\"The multiplication value is:\",a1*b1)\n",
    "elif m1 == 4:\n",
    "    print(\"Note: Greater Number will be divided\")\n",
    "    if a1 > b1:\n",
    "        print(\"The division value is :\",a1/b1)\n",
    "    else:\n",
    "        print(\"The division value is :\",b1/a1)\n",
    "else:\n",
    "    print(\"Invalid Input\")\n",
    "    "
   ]
  },
  {
   "cell_type": "code",
   "execution_count": null,
   "id": "1e13691c-52e5-4dc9-8267-01de4077884e",
   "metadata": {},
   "outputs": [],
   "source": []
  }
 ],
 "metadata": {
  "kernelspec": {
   "display_name": "Python 3 (ipykernel)",
   "language": "python",
   "name": "python3"
  },
  "language_info": {
   "codemirror_mode": {
    "name": "ipython",
    "version": 3
   },
   "file_extension": ".py",
   "mimetype": "text/x-python",
   "name": "python",
   "nbconvert_exporter": "python",
   "pygments_lexer": "ipython3",
   "version": "3.12.4"
  }
 },
 "nbformat": 4,
 "nbformat_minor": 5
}
