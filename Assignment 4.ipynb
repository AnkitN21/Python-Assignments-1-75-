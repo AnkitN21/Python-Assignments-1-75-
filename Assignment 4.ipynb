{
 "cells": [
  {
   "cell_type": "markdown",
   "id": "e5e7e467-123e-42ae-a517-b1421b307765",
   "metadata": {},
   "source": [
    "ASSIGNMENT 4:"
   ]
  },
  {
   "cell_type": "markdown",
   "id": "512f26cb-26e5-42e1-9ca7-744760bb12e8",
   "metadata": {},
   "source": [
    "Ans1:"
   ]
  },
  {
   "cell_type": "markdown",
   "id": "7615673b-72d1-4e27-bd0b-1e0e64b4be34",
   "metadata": {},
   "source": [
    "  [] defines list which has empty value"
   ]
  },
  {
   "cell_type": "markdown",
   "id": "38e47604-86c3-4a00-acab-026243f56033",
   "metadata": {},
   "source": [
    "Ans2:"
   ]
  },
  {
   "cell_type": "code",
   "execution_count": 1,
   "id": "542a638b-9c44-4f47-a2c9-5af2cefe643c",
   "metadata": {},
   "outputs": [
    {
     "data": {
      "text/plain": [
       "[2, 4, 'hello', 6, 8, 10]"
      ]
     },
     "execution_count": 1,
     "metadata": {},
     "output_type": "execute_result"
    }
   ],
   "source": [
    "spam = [2, 4, 6, 8, 10]\n",
    "spam.insert(2,'hello')\n",
    "spam"
   ]
  },
  {
   "cell_type": "markdown",
   "id": "22dad153-6fb8-4138-9231-7e584817d2cf",
   "metadata": {},
   "source": [
    "Ans3:"
   ]
  },
  {
   "cell_type": "code",
   "execution_count": 2,
   "id": "1efa8dde-df51-4c06-8b3b-9b6b85843d13",
   "metadata": {},
   "outputs": [
    {
     "data": {
      "text/plain": [
       "'d'"
      ]
     },
     "execution_count": 2,
     "metadata": {},
     "output_type": "execute_result"
    }
   ],
   "source": [
    "spams = ['a','b','c','d']\n",
    "spams[int(int('3'*2) / 11)]"
   ]
  },
  {
   "cell_type": "markdown",
   "id": "254aa03e-09b8-4672-b916-023162db53d7",
   "metadata": {},
   "source": [
    "Ans4:"
   ]
  },
  {
   "cell_type": "code",
   "execution_count": 3,
   "id": "a8ef5add-385f-48b0-8d99-c5cd966745fe",
   "metadata": {},
   "outputs": [
    {
     "data": {
      "text/plain": [
       "'d'"
      ]
     },
     "execution_count": 3,
     "metadata": {},
     "output_type": "execute_result"
    }
   ],
   "source": [
    "spams[-1]"
   ]
  },
  {
   "cell_type": "markdown",
   "id": "39fb6487-5637-4584-a0f5-4e259411b121",
   "metadata": {},
   "source": [
    "Ans5:"
   ]
  },
  {
   "cell_type": "code",
   "execution_count": 4,
   "id": "b05aa603-25c4-4565-9167-945ddba23489",
   "metadata": {},
   "outputs": [
    {
     "data": {
      "text/plain": [
       "['a', 'b']"
      ]
     },
     "execution_count": 4,
     "metadata": {},
     "output_type": "execute_result"
    }
   ],
   "source": [
    "spams[:2]"
   ]
  },
  {
   "cell_type": "markdown",
   "id": "07862946-0416-4e8c-a045-31ce3ac42c00",
   "metadata": {},
   "source": [
    "Ans6:"
   ]
  },
  {
   "cell_type": "code",
   "execution_count": 5,
   "id": "c81486db-18c6-4714-ab76-1a9a91ce8e73",
   "metadata": {},
   "outputs": [
    {
     "data": {
      "text/plain": [
       "1"
      ]
     },
     "execution_count": 5,
     "metadata": {},
     "output_type": "execute_result"
    }
   ],
   "source": [
    "bacon = [3.14,'cat',11,'cat',True]\n",
    "bacon.index('cat')  #search cat(1st occurance) in the list"
   ]
  },
  {
   "cell_type": "markdown",
   "id": "83c16aed-edce-4c7d-be7d-8028557393c7",
   "metadata": {},
   "source": [
    "Ans7:"
   ]
  },
  {
   "cell_type": "code",
   "execution_count": 6,
   "id": "3d2908d9-cd53-439e-b9fd-df8917a12ed4",
   "metadata": {},
   "outputs": [
    {
     "data": {
      "text/plain": [
       "[3.14, 'cat', 11, 'cat', True, 99]"
      ]
     },
     "execution_count": 6,
     "metadata": {},
     "output_type": "execute_result"
    }
   ],
   "source": [
    "bacon.append(99)\n",
    "bacon        #it added in the list at end place"
   ]
  },
  {
   "cell_type": "markdown",
   "id": "456ea5dc-c529-4f62-bfaa-1fb3fafa4e49",
   "metadata": {},
   "source": [
    "Ans8:"
   ]
  },
  {
   "cell_type": "code",
   "execution_count": 7,
   "id": "84fd4ebb-275c-4975-9cb5-550ae4a692f4",
   "metadata": {},
   "outputs": [
    {
     "data": {
      "text/plain": [
       "[3.14, 11, 'cat', True, 99]"
      ]
     },
     "execution_count": 7,
     "metadata": {},
     "output_type": "execute_result"
    }
   ],
   "source": [
    "bacon.remove('cat')\n",
    "bacon        #remove 'cat' from the list but only 1st occurance"
   ]
  },
  {
   "cell_type": "markdown",
   "id": "a2843b03-d110-4ef6-85f5-ec7e40184cb8",
   "metadata": {},
   "source": [
    "Ans9:"
   ]
  },
  {
   "cell_type": "markdown",
   "id": "b33ef976-b50c-453e-aa38-207d867810b2",
   "metadata": {},
   "source": [
    "For list concatenation is +, while for list replication is *"
   ]
  },
  {
   "cell_type": "markdown",
   "id": "684272da-aef4-486f-9f48-79cc54b66475",
   "metadata": {},
   "source": [
    "Ans10:"
   ]
  },
  {
   "cell_type": "markdown",
   "id": "bae24f25-989d-4b9f-8064-56f7821345c0",
   "metadata": {},
   "source": [
    "append() will add the values only at the end whereas in insert() u can add anywhere in the list "
   ]
  },
  {
   "cell_type": "markdown",
   "id": "c469ddc8-b6de-478c-a896-222c4878948d",
   "metadata": {},
   "source": [
    "Ans11:"
   ]
  },
  {
   "cell_type": "markdown",
   "id": "7084378f-5ab7-43eb-96b2-d61d4c69bb61",
   "metadata": {},
   "source": [
    "del statement and remove() are the 2 methods"
   ]
  },
  {
   "cell_type": "markdown",
   "id": "ad77dd3b-50d8-4505-8096-1f39ec5e3d10",
   "metadata": {},
   "source": [
    "Ans12:"
   ]
  },
  {
   "cell_type": "markdown",
   "id": "5a36bf4c-ad65-41dc-8fda-f269669d5231",
   "metadata": {},
   "source": [
    "Both can use len(), they have indexes and slices, used in for loops, concatenation or replication."
   ]
  },
  {
   "cell_type": "markdown",
   "id": "7bc39b6c-4e4a-44a4-951f-96a94e32b209",
   "metadata": {},
   "source": [
    "Ans13:"
   ]
  },
  {
   "cell_type": "markdown",
   "id": "2d79437e-bc95-416f-ab59-8829121e5e83",
   "metadata": {},
   "source": [
    "List is mutable i.e it can be upgraded and degraded whereas tuple isn't mutable"
   ]
  },
  {
   "cell_type": "markdown",
   "id": "a79aa300-7f16-4aee-84ab-4dac9d9780c2",
   "metadata": {},
   "source": [
    "Ans14:"
   ]
  },
  {
   "cell_type": "code",
   "execution_count": 8,
   "id": "85796b15-05f4-4589-bbad-a763bb2dade8",
   "metadata": {},
   "outputs": [
    {
     "data": {
      "text/plain": [
       "(42,)"
      ]
     },
     "execution_count": 8,
     "metadata": {},
     "output_type": "execute_result"
    }
   ],
   "source": [
    "tuple1 = (42,)   # by trailing comma\n",
    "tuple1"
   ]
  },
  {
   "cell_type": "markdown",
   "id": "bc0eb0ab-a9bf-447e-b397-fa3bc4b25872",
   "metadata": {},
   "source": [
    "Ans15:"
   ]
  },
  {
   "cell_type": "code",
   "execution_count": 9,
   "id": "5bcfe425-d75f-439a-9c11-02da8247bd1e",
   "metadata": {},
   "outputs": [
    {
     "name": "stdout",
     "output_type": "stream",
     "text": [
      "(3, 6, 8, 23, 51)\n",
      "[3, 6, 8, 23, 51]\n"
     ]
    }
   ],
   "source": [
    "list1 = [3,6,8,23,51]\n",
    "tuple2 = tuple(list1)   #tuple form\n",
    "print(tuple2)\n",
    "\n",
    "list2 = list(tuple2)   #list form\n",
    "print(list2)\n"
   ]
  },
  {
   "cell_type": "markdown",
   "id": "deacc3f4-a269-47e8-936c-730c617bb378",
   "metadata": {},
   "source": [
    "Ans17:"
   ]
  },
  {
   "cell_type": "markdown",
   "id": "8702cd22-8088-4426-a709-8149e49b706b",
   "metadata": {},
   "source": [
    "copy.copy will shallow(reference) copy meanwhile copy.deepcopy will deep copy i.e ducplicate the list"
   ]
  }
 ],
 "metadata": {
  "kernelspec": {
   "display_name": "Python 3 (ipykernel)",
   "language": "python",
   "name": "python3"
  },
  "language_info": {
   "codemirror_mode": {
    "name": "ipython",
    "version": 3
   },
   "file_extension": ".py",
   "mimetype": "text/x-python",
   "name": "python",
   "nbconvert_exporter": "python",
   "pygments_lexer": "ipython3",
   "version": "3.12.4"
  }
 },
 "nbformat": 4,
 "nbformat_minor": 5
}
