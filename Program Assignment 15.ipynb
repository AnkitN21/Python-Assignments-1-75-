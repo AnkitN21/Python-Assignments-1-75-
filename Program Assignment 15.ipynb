{
 "cells": [
  {
   "cell_type": "markdown",
   "id": "2ba68fa5-c506-40ed-8ba6-4d69317cf5d8",
   "metadata": {},
   "source": [
    "PROGRAM ASSIGNMENT 15"
   ]
  },
  {
   "cell_type": "markdown",
   "id": "10f00342-96ca-44f8-81fd-a81aed6757bd",
   "metadata": {},
   "source": [
    "Q1: Please write a program using generator to print the numbers which can be divisible by 5 and 7 \n",
    "between 0 and n in comma separated form while n is input by console.\n",
    "Example:\n",
    "If the following n is given as input to the program:\n",
    "100\n",
    "Then, the output of the program should be:\n",
    "0,35,70"
   ]
  },
  {
   "cell_type": "markdown",
   "id": "a275ce26-d36e-4b86-a554-b77ac1c93d79",
   "metadata": {},
   "source": [
    "Ans1:"
   ]
  },
  {
   "cell_type": "code",
   "execution_count": 1,
   "id": "7a56b382-82ae-469f-865e-fee247eae1d9",
   "metadata": {},
   "outputs": [
    {
     "name": "stdin",
     "output_type": "stream",
     "text": [
      "Enter the range: 100\n"
     ]
    },
    {
     "name": "stdout",
     "output_type": "stream",
     "text": [
      "0,35,70\n"
     ]
    }
   ],
   "source": [
    "def gen_divis(n):\n",
    "    for i in range(n+1):\n",
    "        if i%5 == 0 and i%7 == 0:\n",
    "            yield i\n",
    "\n",
    "a = int(input(\"Enter the range:\"))\n",
    "five_by_7 = []\n",
    "for i in gen_divis(a):\n",
    "    five_by_7.append(str(i))\n",
    "\n",
    "print(\",\".join(five_by_7))"
   ]
  },
  {
   "cell_type": "markdown",
   "id": "fef8f44a-a6ef-4945-8722-7eef03aeb25c",
   "metadata": {},
   "source": [
    "Q2: Please write a program using generator to print the even numbers between 0 and n in comma\n",
    "separated form while n is input by console.\n",
    "Example:\n",
    "If the following n is given as input to the program:\n",
    "10\n",
    "Then, the output of the program should be:\n",
    "0,2,4,6,8,10"
   ]
  },
  {
   "cell_type": "markdown",
   "id": "2d995502-cf93-4bb9-8091-6228490d12a2",
   "metadata": {},
   "source": [
    "Ans2:"
   ]
  },
  {
   "cell_type": "code",
   "execution_count": 3,
   "id": "ee2b53ae-8674-414b-829e-2e2cf2a2a2b4",
   "metadata": {},
   "outputs": [
    {
     "name": "stdin",
     "output_type": "stream",
     "text": [
      "Enter the range: 10\n"
     ]
    },
    {
     "name": "stdout",
     "output_type": "stream",
     "text": [
      "0,2,4,6,8,10\n"
     ]
    }
   ],
   "source": [
    "def gene_even(x):\n",
    "    i = 0\n",
    "    while i <= x:\n",
    "        if i%2 == 0:\n",
    "            yield i \n",
    "        i += 1\n",
    "\n",
    "b = int(input(\"Enter the range:\"))\n",
    "even_num = []\n",
    "for i in gene_even(b):\n",
    "    even_num.append(str(i))\n",
    "\n",
    "print(\",\".join(even_num))"
   ]
  },
  {
   "cell_type": "markdown",
   "id": "02302075-d382-4c33-aa55-57ee45077b9c",
   "metadata": {},
   "source": [
    "Q3: The Fibonacci Sequence is computed based on the following formula:\n",
    "f(n)=0 if n=0\n",
    "f(n)=1 if n=1\n",
    "f(n)=f(n-1)+f(n-2) if n>1\n",
    "Please write a program using list comprehension to print the Fibonacci Sequence in comma\n",
    "separated form with a given n input by console.\n",
    "Example:\n",
    "If the following n is given as input to the program:\n",
    "7\n",
    "Then, the output of the program should be:\n",
    "0,1,1,2,3,5,8,13"
   ]
  },
  {
   "cell_type": "markdown",
   "id": "9b0b88b0-78bf-4313-a456-45d178c46148",
   "metadata": {},
   "source": [
    "Ans3:"
   ]
  },
  {
   "cell_type": "code",
   "execution_count": 9,
   "id": "d8dfefc1-6328-46ab-b82e-3e7fc08aea81",
   "metadata": {},
   "outputs": [
    {
     "name": "stdin",
     "output_type": "stream",
     "text": [
      "Enter the range for Fibonacci Sequence: 7\n"
     ]
    },
    {
     "name": "stdout",
     "output_type": "stream",
     "text": [
      "0,1,1,2,3,5,8,13\n"
     ]
    }
   ],
   "source": [
    "def f(n):\n",
    "    if n == 0:\n",
    "        return 0\n",
    "    elif n == 1:\n",
    "        return 1\n",
    "    else:\n",
    "        return f(n-1) + f(n-2)\n",
    "\n",
    "c = int(input(\"Enter the range for Fibonacci Sequence:\"))\n",
    "fibo = []\n",
    "for i in range(0, c+1):\n",
    "    fibo.append(str(f(i)))\n",
    "print(\",\".join(fibo))"
   ]
  },
  {
   "cell_type": "markdown",
   "id": "07af1786-c341-4482-9af9-071861719c4a",
   "metadata": {},
   "source": [
    "Q4: Assuming that we have some email addresses in the 'username@companyname.com' format,\n",
    "please write program to print the user name of a given email address. Both user names and\n",
    "company names are composed of letters only.\n",
    "Example:\n",
    "If the following email address is given as input to the program:\n",
    "john@google.com\n",
    "Then, the output of the program should be:\n",
    "john"
   ]
  },
  {
   "cell_type": "markdown",
   "id": "a8817d76-2556-4af9-bd31-f3eac88de9fc",
   "metadata": {},
   "source": [
    "Ans4:"
   ]
  },
  {
   "cell_type": "code",
   "execution_count": 2,
   "id": "707a5795-d6d6-4fd4-8cad-11a5324c35cb",
   "metadata": {},
   "outputs": [
    {
     "name": "stdout",
     "output_type": "stream",
     "text": [
      "john\n"
     ]
    }
   ],
   "source": [
    "email = \"john@google.com\"\n",
    "\n",
    "output = email.split(\"@\")\n",
    "if output[0].isalpha() and output[1].split(\".\")[0].isalpha():\n",
    "    print(output[0])\n",
    "else:\n",
    "    print(\"Username and Company name should be letters only\")"
   ]
  },
  {
   "cell_type": "code",
   "execution_count": 9,
   "id": "aef8c727-397d-42d0-8ab0-69795ebe6e77",
   "metadata": {},
   "outputs": [
    {
     "name": "stdout",
     "output_type": "stream",
     "text": [
      "john\n"
     ]
    }
   ],
   "source": [
    "import re\n",
    "\n",
    "matc1 = r\"(\\w+)@(\\w+)\\.(com)\"\n",
    "output1 = re.match(matc1, email)\n",
    "print(output1.group(1))"
   ]
  },
  {
   "cell_type": "markdown",
   "id": "2233b871-209d-4485-9b1e-19677ffa2b51",
   "metadata": {},
   "source": [
    "Q5: Define a class named Shape and its subclass Square. The Square class has an init function\n",
    "which takes a length as argument. Both classes have a area function which can print the area\n",
    "of the shape where Shape's area is 0 by default."
   ]
  },
  {
   "cell_type": "markdown",
   "id": "1a4bbd5b-a8d5-4777-bb89-f27c898ed6df",
   "metadata": {},
   "source": [
    "Ans5:"
   ]
  },
  {
   "cell_type": "code",
   "execution_count": 30,
   "id": "c9f5de0c-504b-4d75-adc0-38350f6c0244",
   "metadata": {},
   "outputs": [],
   "source": [
    "class shape:\n",
    "    def __init__(self):\n",
    "        pass\n",
    "    def area(self):\n",
    "        return 0\n",
    "\n",
    "class square(shape):\n",
    "    def __init__(self, l):\n",
    "        shape.__init__(self)\n",
    "        self.length = l\n",
    "    def area(self):\n",
    "        return self.length*self.length\n",
    "    "
   ]
  },
  {
   "cell_type": "code",
   "execution_count": 31,
   "id": "be83ab87-b0c8-4419-babd-3690d9283613",
   "metadata": {},
   "outputs": [
    {
     "data": {
      "text/plain": [
       "25"
      ]
     },
     "execution_count": 31,
     "metadata": {},
     "output_type": "execute_result"
    }
   ],
   "source": [
    "squa1 = square(5)\n",
    "squa1.area()"
   ]
  }
 ],
 "metadata": {
  "kernelspec": {
   "display_name": "Python 3 (ipykernel)",
   "language": "python",
   "name": "python3"
  },
  "language_info": {
   "codemirror_mode": {
    "name": "ipython",
    "version": 3
   },
   "file_extension": ".py",
   "mimetype": "text/x-python",
   "name": "python",
   "nbconvert_exporter": "python",
   "pygments_lexer": "ipython3",
   "version": "3.12.4"
  }
 },
 "nbformat": 4,
 "nbformat_minor": 5
}
