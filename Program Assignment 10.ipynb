{
 "cells": [
  {
   "cell_type": "markdown",
   "id": "c655bcaa-e56f-4648-b1de-8b55103385b7",
   "metadata": {},
   "source": [
    "PROGRAM ASSIGNMENT 10:"
   ]
  },
  {
   "cell_type": "markdown",
   "id": "2cdf70f6-691f-4a7c-8e31-a33775ffae06",
   "metadata": {},
   "source": [
    "Q1. Write a Python program to find sum of elements in list?"
   ]
  },
  {
   "cell_type": "markdown",
   "id": "a1474228-0aee-46ff-97f8-9bcdcdbb72d7",
   "metadata": {},
   "source": [
    "Ans1:"
   ]
  },
  {
   "cell_type": "code",
   "execution_count": 4,
   "id": "360fac21-335d-44f0-95a7-773ca6527c8c",
   "metadata": {},
   "outputs": [
    {
     "name": "stdout",
     "output_type": "stream",
     "text": [
      "35\n"
     ]
    }
   ],
   "source": [
    "a = [2,6,7,9,11]\n",
    "sum1 = 0\n",
    "\n",
    "for i in a:\n",
    "    sum1 = sum1 + i\n",
    "    \n",
    "print(sum1)"
   ]
  },
  {
   "cell_type": "markdown",
   "id": "e2a40ecf-4785-4825-a7a9-319ca95aa22b",
   "metadata": {},
   "source": [
    "Q2. Write a Python program to Multiply all numbers in the list?"
   ]
  },
  {
   "cell_type": "markdown",
   "id": "802069a2-1fc9-47a2-951b-e9c237275b61",
   "metadata": {},
   "source": [
    "Ans2:"
   ]
  },
  {
   "cell_type": "code",
   "execution_count": 1,
   "id": "a92c2be2-82ef-4700-8c48-42eff3a7d5bb",
   "metadata": {},
   "outputs": [
    {
     "name": "stdout",
     "output_type": "stream",
     "text": [
      "120\n"
     ]
    }
   ],
   "source": [
    "b = [3,5,8]\n",
    "x = 1\n",
    "\n",
    "for i in b:\n",
    "    x = x*i\n",
    "\n",
    "print(x)"
   ]
  },
  {
   "cell_type": "markdown",
   "id": "ed93dc61-4368-4bff-9685-4233fa25a234",
   "metadata": {},
   "source": [
    "Q3. Write a Python program to find smallest number in a list?"
   ]
  },
  {
   "cell_type": "markdown",
   "id": "ca5c17b2-a240-4626-9721-e1f391fd85ee",
   "metadata": {},
   "source": [
    "Ans3:"
   ]
  },
  {
   "cell_type": "code",
   "execution_count": 8,
   "id": "4b6d40ff-bf1e-4336-8f3b-27fec1dc80ce",
   "metadata": {},
   "outputs": [
    {
     "name": "stdout",
     "output_type": "stream",
     "text": [
      "5 is the smallest\n"
     ]
    }
   ],
   "source": [
    "m = [12,67,49,21,5,73,45]\n",
    "small = m[0]\n",
    "\n",
    "for i in m:\n",
    "    if i < small:\n",
    "        small = i\n",
    "        \n",
    "print(small,\"is the smallest\")"
   ]
  },
  {
   "cell_type": "markdown",
   "id": "724ee86e-ae9e-4337-9f4d-ed4077204f54",
   "metadata": {},
   "source": [
    "Q4. Write a Python program to find largest number in a list?"
   ]
  },
  {
   "cell_type": "markdown",
   "id": "ead6ec01-3ba0-4131-ae91-dd86f3c3dda4",
   "metadata": {},
   "source": [
    "Ans4:"
   ]
  },
  {
   "cell_type": "code",
   "execution_count": 9,
   "id": "2cdbbd3f-cf7b-450b-b618-c1eb3ab0d3e7",
   "metadata": {},
   "outputs": [
    {
     "name": "stdout",
     "output_type": "stream",
     "text": [
      "73 is the largest\n"
     ]
    }
   ],
   "source": [
    "m = [12,67,49,21,5,73,45]\n",
    "large = m[0]\n",
    "\n",
    "for i in m:\n",
    "    if i > large:\n",
    "        large = i\n",
    "        \n",
    "print(large,\"is the largest\")"
   ]
  },
  {
   "cell_type": "markdown",
   "id": "2a7aad9f-a850-4598-8a5f-c66102c009b3",
   "metadata": {},
   "source": [
    "Q5. Write a Python program to find second largest number in a list?"
   ]
  },
  {
   "cell_type": "markdown",
   "id": "dadd4cf2-6fc0-4687-8583-1350b0a1531d",
   "metadata": {},
   "source": [
    "Ans5:"
   ]
  },
  {
   "cell_type": "code",
   "execution_count": 20,
   "id": "e7346f4b-f491-445f-a6ca-f1d4426ea78c",
   "metadata": {},
   "outputs": [
    {
     "name": "stdout",
     "output_type": "stream",
     "text": [
      "67 is the second largest\n"
     ]
    }
   ],
   "source": [
    "m = [12,67,49,21,5,73,45]\n",
    "m.sort()\n",
    "\n",
    "print(m[-2],\"is the second largest\")"
   ]
  },
  {
   "cell_type": "markdown",
   "id": "c35a8dd1-5599-4747-9b62-42260f14f197",
   "metadata": {},
   "source": [
    "Q6. Write a Python program to find N largest element from a list?"
   ]
  },
  {
   "cell_type": "markdown",
   "id": "93b27718-179c-46ae-b494-9ef5b1c9126c",
   "metadata": {},
   "source": [
    "Ans6:"
   ]
  },
  {
   "cell_type": "code",
   "execution_count": 3,
   "id": "4fb37558-dd15-42f3-9ffb-28e12cf9d95b",
   "metadata": {},
   "outputs": [
    {
     "name": "stdin",
     "output_type": "stream",
     "text": [
      "Enter to find nth largest element from the list 3\n"
     ]
    },
    {
     "name": "stdout",
     "output_type": "stream",
     "text": [
      "45 is the 3th largest in the list\n"
     ]
    }
   ],
   "source": [
    "p = [12,67,49,71,25,33,45]\n",
    "a = int(input(\"Enter to find nth largest element from the list\"))\n",
    "\n",
    "if len(p) < a:\n",
    "    print(\"Invalid, entered number is high\")\n",
    "else:\n",
    "    p.sort(reverse=True)\n",
    "    print(p[a], f\"is the {a}th largest in the list\")"
   ]
  },
  {
   "cell_type": "markdown",
   "id": "d5155050-958a-47f0-aa43-40d370e98652",
   "metadata": {},
   "source": [
    "Q7. Write a Python program to print even numbers in a list?"
   ]
  },
  {
   "cell_type": "markdown",
   "id": "4219373e-72b9-4466-893d-c5200a5401b3",
   "metadata": {},
   "source": [
    "Ans7:"
   ]
  },
  {
   "cell_type": "code",
   "execution_count": 21,
   "id": "f9aa0fdc-6091-43b1-9636-6329c78de59b",
   "metadata": {},
   "outputs": [
    {
     "name": "stdout",
     "output_type": "stream",
     "text": [
      "[12, 66, 38]\n"
     ]
    }
   ],
   "source": [
    "p = [12,3,45,66,53,38,27]\n",
    "e1 = []\n",
    "\n",
    "for i in p:\n",
    "    if i%2 == 0:\n",
    "        e1.append(i)\n",
    "\n",
    "print(e1)"
   ]
  },
  {
   "cell_type": "markdown",
   "id": "47ebb707-ce0e-4027-82be-427e6b22e20e",
   "metadata": {},
   "source": [
    "Q8. Write a Python program to print odd numbers in a List?"
   ]
  },
  {
   "cell_type": "markdown",
   "id": "4a6e4b24-4ea2-490c-96f5-cc77a5622785",
   "metadata": {},
   "source": [
    "Ans8:"
   ]
  },
  {
   "cell_type": "code",
   "execution_count": 22,
   "id": "5ef97d81-6ae2-4cfd-8390-f140fe12de12",
   "metadata": {},
   "outputs": [
    {
     "name": "stdout",
     "output_type": "stream",
     "text": [
      "[3, 45, 53, 27]\n"
     ]
    }
   ],
   "source": [
    "p = [12,3,45,66,53,38,27]\n",
    "o1 = []\n",
    "\n",
    "for i in p:\n",
    "    if i%2 != 0:\n",
    "        o1.append(i)\n",
    "\n",
    "print(o1)"
   ]
  },
  {
   "cell_type": "markdown",
   "id": "a528ef6e-563d-4e7c-915e-1928323fcf04",
   "metadata": {},
   "source": [
    "Q9. Write a Python program to Remove empty List from List?"
   ]
  },
  {
   "cell_type": "markdown",
   "id": "a25a5de1-1417-4bec-826a-a1517c279d3b",
   "metadata": {},
   "source": [
    "Ans9:"
   ]
  },
  {
   "cell_type": "code",
   "execution_count": 11,
   "id": "9553a97c-2bd2-46b3-9159-63aac0067854",
   "metadata": {},
   "outputs": [
    {
     "name": "stdout",
     "output_type": "stream",
     "text": [
      "New list is ['name', 'age', 'hello'] \n"
     ]
    }
   ],
   "source": [
    "n1 = [\"name\",\"age\",[],\"hello\"]\n",
    "\n",
    "for i in n1:\n",
    "\tif len(i) == 0:\n",
    "\t\tn1.remove(i)\n",
    "\t\n",
    "print (f\"New list is {n1} \")\n"
   ]
  },
  {
   "cell_type": "markdown",
   "id": "43117c54-2662-4b3d-b7b7-2d76f439baa1",
   "metadata": {},
   "source": [
    "Q10. Write a Python program to Cloning or Copying a list?"
   ]
  },
  {
   "cell_type": "markdown",
   "id": "3e65979d-1fea-4802-85eb-f1d39c8217cd",
   "metadata": {},
   "source": [
    "Ans10:"
   ]
  },
  {
   "cell_type": "code",
   "execution_count": 24,
   "id": "b8c38093-feb0-494d-bf86-88d0311b2628",
   "metadata": {},
   "outputs": [
    {
     "name": "stdout",
     "output_type": "stream",
     "text": [
      "[12, 3, 45, 66, 53, 38, 27]\n"
     ]
    }
   ],
   "source": [
    "import copy\n",
    "p = [12,3,45,66,53,38,27]\n",
    "q = copy.deepcopy(p)      #for deep copy & for shallow copy copy.copy(p)\n",
    "print(q)"
   ]
  },
  {
   "cell_type": "markdown",
   "id": "f290ed2b-f2e8-4f16-8007-35ec45e7099c",
   "metadata": {},
   "source": [
    "Q11. Write a Python program to Count occurrences of an element in a list?"
   ]
  },
  {
   "cell_type": "markdown",
   "id": "fc95f8e1-9215-42e6-9ffc-066ea7bb061b",
   "metadata": {},
   "source": [
    "Ans11:"
   ]
  },
  {
   "cell_type": "code",
   "execution_count": 33,
   "id": "f1e34acd-c42e-44d9-a88d-162c14303755",
   "metadata": {},
   "outputs": [
    {
     "name": "stdout",
     "output_type": "stream",
     "text": [
      "Elements   Occurence\n",
      "12    3\n",
      "3     2\n",
      "15    1\n",
      "6     1\n",
      "8     1\n",
      "Name: count, dtype: int64\n"
     ]
    }
   ],
   "source": [
    "import pandas as pd\n",
    "\n",
    "s = [12,3,15,6,3,12,12,8]\n",
    "occ = pd.Series(s).value_counts()\n",
    "\n",
    "print(\"Elements   Occurence\")\n",
    "print(occ)\n",
    "        "
   ]
  }
 ],
 "metadata": {
  "kernelspec": {
   "display_name": "Python 3 (ipykernel)",
   "language": "python",
   "name": "python3"
  },
  "language_info": {
   "codemirror_mode": {
    "name": "ipython",
    "version": 3
   },
   "file_extension": ".py",
   "mimetype": "text/x-python",
   "name": "python",
   "nbconvert_exporter": "python",
   "pygments_lexer": "ipython3",
   "version": "3.12.4"
  }
 },
 "nbformat": 4,
 "nbformat_minor": 5
}
