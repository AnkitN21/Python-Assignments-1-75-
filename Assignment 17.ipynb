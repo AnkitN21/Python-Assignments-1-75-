{
 "cells": [
  {
   "cell_type": "markdown",
   "id": "53486569-1d65-44f3-ac29-a0c449e70597",
   "metadata": {},
   "source": [
    "ASSIGNMENT 17"
   ]
  },
  {
   "cell_type": "markdown",
   "id": "41ef6a1b-dfde-4009-bd22-87c67f09f88c",
   "metadata": {},
   "source": [
    "Q1. Assign the value 7 to the variable guess_me. Then, write the conditional tests (if, else, and elif) to\n",
    "print the string 'too low' if guess_me is less than 7, 'too high' if greater than 7, and 'just right'\n",
    "if equal to 7."
   ]
  },
  {
   "cell_type": "markdown",
   "id": "d86c24dc-7bae-47c9-b009-0396550fb836",
   "metadata": {},
   "source": [
    "Ans1:"
   ]
  },
  {
   "cell_type": "code",
   "execution_count": 1,
   "id": "6dcd2e98-a786-4378-a9d4-e63f97e712d3",
   "metadata": {},
   "outputs": [
    {
     "data": {
      "text/plain": [
       "'Just Right'"
      ]
     },
     "execution_count": 1,
     "metadata": {},
     "output_type": "execute_result"
    }
   ],
   "source": [
    "def guess(guess_me):\n",
    "    if guess_me > 7:\n",
    "        return \"Too High\"\n",
    "    elif guess_me < 7:\n",
    "        return \"Too Low\"\n",
    "    elif guess_me == 7:\n",
    "        return \"Just Right\"\n",
    "\n",
    "guess(7)"
   ]
  },
  {
   "cell_type": "code",
   "execution_count": null,
   "id": "cebb0887-9169-42d5-9d3d-25acca1e98d1",
   "metadata": {},
   "outputs": [],
   "source": [
    "Q2. Assign the value 7 to the variable guess_me and the value 1 to the variable start. Write a while\n",
    "loop that compares start with guess_me. Print too low if start is less than guess me. If start equals\n",
    "guess_me, print 'found it!' and exit the loop. If start is greater than guess_me, print 'oops' and exit\n",
    "the loop. Increment start at the end of the loop."
   ]
  },
  {
   "cell_type": "markdown",
   "id": "86d1a572-7fb2-4c3a-b8fa-3126094ce6a8",
   "metadata": {},
   "source": [
    "Ans2:"
   ]
  },
  {
   "cell_type": "code",
   "execution_count": 2,
   "id": "cb811717-83e8-4a89-bd7f-7ec805e6000d",
   "metadata": {},
   "outputs": [
    {
     "name": "stdout",
     "output_type": "stream",
     "text": [
      "too low\n",
      "too low\n",
      "too low\n",
      "too low\n",
      "too low\n",
      "too low\n",
      "found it\n"
     ]
    }
   ],
   "source": [
    "guess_me = 7\n",
    "start = 1\n",
    "\n",
    "while True:\n",
    "    if start < guess_me:\n",
    "        print(\"too low\")\n",
    "    elif start == guess_me:\n",
    "        print(\"found it\")\n",
    "        break\n",
    "    else:\n",
    "        print(\"oops\")\n",
    "        break\n",
    "    start += 1"
   ]
  },
  {
   "cell_type": "markdown",
   "id": "8e53d50e-6f8d-4094-bb7a-582b61d1b1aa",
   "metadata": {},
   "source": [
    "Q3. Print the following values of the list [3, 2, 1, 0] using a for loop."
   ]
  },
  {
   "cell_type": "markdown",
   "id": "c9a41e11-f28c-49dc-aef4-ec115345b11e",
   "metadata": {},
   "source": [
    "Ans3:"
   ]
  },
  {
   "cell_type": "code",
   "execution_count": 14,
   "id": "314805cc-8f67-4cab-bcac-66d446a22a49",
   "metadata": {},
   "outputs": [
    {
     "name": "stdout",
     "output_type": "stream",
     "text": [
      "3\n",
      "2\n",
      "1\n",
      "0\n"
     ]
    }
   ],
   "source": [
    "list1 = [3,2,1,0]\n",
    "for i in list1:\n",
    "    print(i)"
   ]
  },
  {
   "cell_type": "markdown",
   "id": "f1803644-9216-4cf8-8833-0fe1563b2ea6",
   "metadata": {},
   "source": [
    "Q4. Use a list comprehension to make a list of the even numbers in range(10)"
   ]
  },
  {
   "cell_type": "markdown",
   "id": "061fb155-2187-489d-a00d-fe20479430cf",
   "metadata": {},
   "source": [
    "Ans4:"
   ]
  },
  {
   "cell_type": "code",
   "execution_count": 15,
   "id": "9fa87ef7-1bd5-43a1-b58b-c22d21cfc298",
   "metadata": {},
   "outputs": [
    {
     "name": "stdout",
     "output_type": "stream",
     "text": [
      "[0, 2, 4, 6, 8]\n"
     ]
    }
   ],
   "source": [
    "list2 = [j for j in range(10) if j%2 == 0]\n",
    "print(list2)"
   ]
  },
  {
   "cell_type": "markdown",
   "id": "089213e3-db51-48fc-97a8-13d2d8ff13d2",
   "metadata": {},
   "source": [
    "Q5. Use a dictionary comprehension to create the dictionary squares. Use range(10) to return the\n",
    "keys, and use the square of each key as its value."
   ]
  },
  {
   "cell_type": "markdown",
   "id": "ba459d6b-83e7-4b7d-a52e-424937550e85",
   "metadata": {},
   "source": [
    "Ans5:"
   ]
  },
  {
   "cell_type": "code",
   "execution_count": 17,
   "id": "3e2074af-4d7c-4af4-8b9f-b080fd216860",
   "metadata": {},
   "outputs": [
    {
     "name": "stdout",
     "output_type": "stream",
     "text": [
      "{0: 0, 1: 1, 2: 4, 3: 9, 4: 16, 5: 25, 6: 36, 7: 49, 8: 64, 9: 81}\n"
     ]
    }
   ],
   "source": [
    "dict_square = {i: i**2 for i in range(10)}\n",
    "print(dict_square)"
   ]
  },
  {
   "cell_type": "markdown",
   "id": "c647d2ab-b90c-46bc-a3e2-a44535224407",
   "metadata": {},
   "source": [
    "Q6. Construct the set odd from the odd numbers in the range using a set comprehension(10)."
   ]
  },
  {
   "cell_type": "markdown",
   "id": "c1656d35-ef15-4500-ad4d-3440015ac4cb",
   "metadata": {},
   "source": [
    "Ans6:"
   ]
  },
  {
   "cell_type": "code",
   "execution_count": 19,
   "id": "06f9b411-5d89-42e0-a88d-e45e0e45ab62",
   "metadata": {},
   "outputs": [
    {
     "name": "stdout",
     "output_type": "stream",
     "text": [
      "{1, 3, 5, 7, 9}\n"
     ]
    }
   ],
   "source": [
    "set_odd = {j for j in range(10) if j%2 != 0}\n",
    "print(set_odd)"
   ]
  },
  {
   "cell_type": "markdown",
   "id": "47697123-aed4-4713-9bb5-cd430ac9e7f9",
   "metadata": {},
   "source": [
    "Q7. Use a generator comprehension to return the string 'Got' and a number for the numbers in\n",
    "range(10). Iterate through this by using a for loop."
   ]
  },
  {
   "cell_type": "markdown",
   "id": "665b59cf-2d43-4a72-8439-a0441d1d845b",
   "metadata": {},
   "source": [
    "Ans7:"
   ]
  },
  {
   "cell_type": "code",
   "execution_count": 20,
   "id": "6098839b-2eec-447b-8bae-8cd17df16219",
   "metadata": {},
   "outputs": [
    {
     "name": "stdout",
     "output_type": "stream",
     "text": [
      "Got 0\n",
      "Got 1\n",
      "Got 2\n",
      "Got 3\n",
      "Got 4\n",
      "Got 5\n",
      "Got 6\n",
      "Got 7\n",
      "Got 8\n",
      "Got 9\n"
     ]
    }
   ],
   "source": [
    "gene = (\"Got \" + str(i) for i in range(10))\n",
    "for j in gene:\n",
    "    print(j)"
   ]
  },
  {
   "cell_type": "markdown",
   "id": "ed3888b1-4d86-4466-90f6-9196aa2c9b0c",
   "metadata": {},
   "source": [
    "Q8. Define a function called good that returns the list ['Harry','Ron','Hermione']."
   ]
  },
  {
   "cell_type": "markdown",
   "id": "2ef266ae-f444-4b6b-a9d0-79551ad91063",
   "metadata": {},
   "source": [
    "Ans8:"
   ]
  },
  {
   "cell_type": "code",
   "execution_count": 21,
   "id": "8724b55b-e8c0-4e04-9d82-0f2da3d36d25",
   "metadata": {},
   "outputs": [
    {
     "data": {
      "text/plain": [
       "['Harry', 'Ron', 'Hermione']"
      ]
     },
     "execution_count": 21,
     "metadata": {},
     "output_type": "execute_result"
    }
   ],
   "source": [
    "def good():\n",
    "    return [\"Harry\", \"Ron\", \"Hermione\"]\n",
    "\n",
    "good()"
   ]
  },
  {
   "cell_type": "markdown",
   "id": "4609a30d-599a-4926-a737-4c0f995d4daa",
   "metadata": {},
   "source": [
    "Q9. Define a generator function called get_odds that returns the odd numbers from range(10). \n",
    "Use a for loop to find and print the third value returned."
   ]
  },
  {
   "cell_type": "markdown",
   "id": "babafd11-4177-4dd6-9cd7-d0f49c6772a7",
   "metadata": {},
   "source": [
    "Ans9:"
   ]
  },
  {
   "cell_type": "code",
   "execution_count": 23,
   "id": "a95fb3a7-008f-45db-b6aa-1561168ee382",
   "metadata": {},
   "outputs": [
    {
     "data": {
      "text/plain": [
       "5"
      ]
     },
     "execution_count": 23,
     "metadata": {},
     "output_type": "execute_result"
    }
   ],
   "source": [
    "def gene_odd():\n",
    "    odd_list = []\n",
    "    for i in range(10):\n",
    "        if i%2 != 0:\n",
    "            odd_list.append(i)\n",
    "    return odd_list[2]\n",
    "\n",
    "gene_odd()"
   ]
  },
  {
   "cell_type": "markdown",
   "id": "a00ff511-c01d-4f12-be7e-1bd7080c4d45",
   "metadata": {},
   "source": [
    "10. Define an exception called OopsException. Raise this exception to see what happens. \n",
    "Then write the code to catch this exception and print \"Caught an oops\"."
   ]
  },
  {
   "cell_type": "markdown",
   "id": "c065089e-cef7-4411-afcf-1bd690ca85e7",
   "metadata": {},
   "source": [
    "Ans10:"
   ]
  },
  {
   "cell_type": "code",
   "execution_count": 25,
   "id": "6a6dfe24-c055-47b8-bb1a-d25494921d78",
   "metadata": {},
   "outputs": [
    {
     "name": "stdout",
     "output_type": "stream",
     "text": [
      "Caught an Oops\n"
     ]
    }
   ],
   "source": [
    "class OopsExeception(Exception):\n",
    "    pass\n",
    "def caught(a):\n",
    "    if a < 0:\n",
    "        raise OopsExeception(a)\n",
    "\n",
    "try:\n",
    "    caught(-1)\n",
    "except Exception as e:\n",
    "    print(\"Caught an Oops\")"
   ]
  },
  {
   "cell_type": "markdown",
   "id": "7d1b90fb-e308-4c0b-be45-2a33ac27147f",
   "metadata": {},
   "source": [
    "Q11. Use zip() to make a dictionary called movies that pairs these lists: titles = \n",
    "   [\"Creature of Habit\",\"Crewel Fate\"] and plots = [\"A nun turns into a monster\",\"A haunted yarn shop\"]."
   ]
  },
  {
   "cell_type": "markdown",
   "id": "8d58e616-dd52-45b5-81c4-62f63c5789f6",
   "metadata": {},
   "source": [
    "Ans11:"
   ]
  },
  {
   "cell_type": "code",
   "execution_count": 26,
   "id": "b7798e82-ef7f-4211-8115-dd79800b8a92",
   "metadata": {},
   "outputs": [
    {
     "name": "stdout",
     "output_type": "stream",
     "text": [
      "{'Creature of Habit': 'A nun turns into a monster', 'Crewel Fate': 'A haunted yarn shop'}\n"
     ]
    }
   ],
   "source": [
    "titles = ['Creature of Habit', 'Crewel Fate'] \n",
    "plots = ['A nun turns into a monster', 'A haunted yarn shop']\n",
    "\n",
    "movies = dict(zip(titles, plots))\n",
    "print(movies)"
   ]
  },
  {
   "cell_type": "code",
   "execution_count": null,
   "id": "a4d93d5f-9a1a-4e7d-af48-10a8c8f597c8",
   "metadata": {},
   "outputs": [],
   "source": []
  }
 ],
 "metadata": {
  "kernelspec": {
   "display_name": "Python 3 (ipykernel)",
   "language": "python",
   "name": "python3"
  },
  "language_info": {
   "codemirror_mode": {
    "name": "ipython",
    "version": 3
   },
   "file_extension": ".py",
   "mimetype": "text/x-python",
   "name": "python",
   "nbconvert_exporter": "python",
   "pygments_lexer": "ipython3",
   "version": "3.12.4"
  }
 },
 "nbformat": 4,
 "nbformat_minor": 5
}
