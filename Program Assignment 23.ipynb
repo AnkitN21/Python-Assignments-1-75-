{
 "cells": [
  {
   "cell_type": "markdown",
   "id": "8df353a7-27c8-45cc-9704-517d4d21f5a7",
   "metadata": {},
   "source": [
    "PROGRAM ASSIGNMENT 23"
   ]
  },
  {
   "cell_type": "markdown",
   "id": "f4eddb4b-f212-4ece-9e91-b843ab3a556f",
   "metadata": {},
   "source": [
    "Q1. Create a function that takes a number as an argument and returns True or False depending\n",
    "on whether the number is symmetrical or not. A number is symmetrical when it is the same as its reverse.\n",
    "Examples\n",
    "is_symmetrical(7227) ➞ True\n",
    "is_symmetrical(12567) ➞ False\n",
    "is_symmetrical(44444444) ➞ True\n",
    "is_symmetrical(9939) ➞ False\n",
    "is_symmetrical(1112111) ➞ True"
   ]
  },
  {
   "cell_type": "markdown",
   "id": "3b6548bf-beca-4069-b7cc-7ccf7220ba66",
   "metadata": {},
   "source": [
    "Ans1:"
   ]
  },
  {
   "cell_type": "code",
   "execution_count": 4,
   "id": "9304ff51-b9f3-4f0c-9b30-307a4fce28e0",
   "metadata": {},
   "outputs": [
    {
     "name": "stdout",
     "output_type": "stream",
     "text": [
      "True\n",
      "False\n"
     ]
    }
   ],
   "source": [
    "def systri(n):\n",
    "    a = str(n)\n",
    "    b = a[::-1]\n",
    "    if a == b:\n",
    "        return True\n",
    "    else:\n",
    "        return False\n",
    "\n",
    "print(systri(7227))\n",
    "print(systri(1234))"
   ]
  },
  {
   "cell_type": "markdown",
   "id": "fb05088e-fa92-4daf-8cb4-f1bd85ed2804",
   "metadata": {},
   "source": [
    "Q2. Given a string of numbers separated by a comma and space, return the product of the numbers.\n",
    "Examples\n",
    "multiply_nums('2, 3') ➞ 6\n",
    "multiply_nums('1, 2, 3, 4') ➞ 24\n",
    "multiply_nums('54, 75, 453, 0') ➞ 0\n",
    "multiply_nums('10, -2') ➞ -20"
   ]
  },
  {
   "cell_type": "markdown",
   "id": "c6f775ba-ab86-415f-965b-e31c14e49d41",
   "metadata": {},
   "source": [
    "Ans2:"
   ]
  },
  {
   "cell_type": "code",
   "execution_count": 8,
   "id": "3ad8c05c-ea73-4739-9d59-5826399069b9",
   "metadata": {},
   "outputs": [
    {
     "name": "stdout",
     "output_type": "stream",
     "text": [
      "24\n",
      "-20\n"
     ]
    }
   ],
   "source": [
    "def multi_num(n):\n",
    "    x = n.split(\", \")\n",
    "    sums = 1\n",
    "    for i in x:\n",
    "        sums *= int(i)\n",
    "    return sums\n",
    "\n",
    "print(multi_num(\"1, 2, 3, 4\"))\n",
    "print(multi_num(\"10, -2\"))"
   ]
  },
  {
   "cell_type": "markdown",
   "id": "43dd4399-f1da-4993-9918-4538b63d8a0f",
   "metadata": {},
   "source": [
    "Q3. Create a function that squares every digit of a number.\n",
    "Examples\n",
    "square_digits(9119) ➞ 811181\n",
    "square_digits(2483) ➞ 416649\n",
    "square_digits(3212) ➞ 9414\n",
    "Notes\n",
    "The function receives an integer and must return an integer."
   ]
  },
  {
   "cell_type": "markdown",
   "id": "b8ca4c69-8e64-4b25-9645-f2778b212fb8",
   "metadata": {},
   "source": [
    "Ans3:"
   ]
  },
  {
   "cell_type": "code",
   "execution_count": 12,
   "id": "5e395874-2db4-444f-8e42-3525d42984fb",
   "metadata": {},
   "outputs": [
    {
     "name": "stdout",
     "output_type": "stream",
     "text": [
      "811181\n",
      "9414\n"
     ]
    }
   ],
   "source": [
    "def squa_dig(n):\n",
    "    a = \"\"\n",
    "    while n > 0:\n",
    "        d = n%10\n",
    "        p = d**2\n",
    "        a = str(p) + a\n",
    "        n = n//10\n",
    "    return int(a)\n",
    "\n",
    "print(squa_dig(9119))\n",
    "print(squa_dig(3212))"
   ]
  },
  {
   "cell_type": "markdown",
   "id": "09bb67f4-134a-4151-8c4f-a580fa88ae72",
   "metadata": {},
   "source": [
    "Q4. Create a function that sorts a list and removes all duplicate items from it.\n",
    "Examples\n",
    "setify([1, 3, 3, 5, 5]) ➞ [1, 3, 5]\n",
    "setify([4, 4, 4, 4]) ➞ [4]\n",
    "setify([5, 7, 8, 9, 10, 15]) ➞ [5, 7, 8, 9, 10, 15]\n",
    "setify([3, 3, 3, 2, 1]) ➞ [1, 2, 3]"
   ]
  },
  {
   "cell_type": "markdown",
   "id": "ffd51f43-9ca2-43a3-8371-83233759a145",
   "metadata": {},
   "source": [
    "Ans4:"
   ]
  },
  {
   "cell_type": "code",
   "execution_count": 22,
   "id": "b196c277-90eb-48bc-aeb3-7b6465a036c0",
   "metadata": {},
   "outputs": [
    {
     "name": "stdout",
     "output_type": "stream",
     "text": [
      "[1, 3, 5]\n",
      "[7]\n"
     ]
    }
   ],
   "source": [
    "def setify(l):\n",
    "    lx = []\n",
    "    for i in l:\n",
    "        if i not in lx:\n",
    "            lx.append(i)\n",
    "    lx.sort()\n",
    "    return lx\n",
    "    \n",
    "print(setify([1, 3, 3, 5, 5]))\n",
    "print(setify([7, 7, 7, 7]))"
   ]
  },
  {
   "cell_type": "markdown",
   "id": "751c5bba-d268-484d-8104-e9a5bd18b633",
   "metadata": {},
   "source": [
    "Q5. Create a function that returns the mean of all digits.\n",
    "Examples\n",
    "mean(42) ➞ 3\n",
    "mean(12345) ➞ 3\n",
    "mean(666) ➞ 6\n",
    "Notes\n",
    "The mean of all digits is the sum of digits / how many digits there are (e.g. mean of digits in\n",
    "512 is (5+1+2)/3(number of digits) = 8/3=2).\n",
    "The mean will always be an integer."
   ]
  },
  {
   "cell_type": "markdown",
   "id": "2cfe605f-54b9-431e-8694-09c826b0d99c",
   "metadata": {},
   "source": [
    "Ans5:"
   ]
  },
  {
   "cell_type": "code",
   "execution_count": 27,
   "id": "3eb283e4-0233-4a0d-b0b6-6fd4b50d435f",
   "metadata": {},
   "outputs": [
    {
     "name": "stdout",
     "output_type": "stream",
     "text": [
      "6\n",
      "3\n"
     ]
    }
   ],
   "source": [
    "def mean(n):\n",
    "    sums = 0\n",
    "    c = len(str(n))\n",
    "    while n > 0:\n",
    "        d = n%10\n",
    "        sums += d\n",
    "        n = n//10\n",
    "    a = sums/c\n",
    "    return int(a)\n",
    "\n",
    "print(mean(6666))\n",
    "print(mean(12345))"
   ]
  },
  {
   "cell_type": "code",
   "execution_count": null,
   "id": "9a0e3766-ff69-413c-b108-bccc33ed81af",
   "metadata": {},
   "outputs": [],
   "source": []
  }
 ],
 "metadata": {
  "kernelspec": {
   "display_name": "Python 3 (ipykernel)",
   "language": "python",
   "name": "python3"
  },
  "language_info": {
   "codemirror_mode": {
    "name": "ipython",
    "version": 3
   },
   "file_extension": ".py",
   "mimetype": "text/x-python",
   "name": "python",
   "nbconvert_exporter": "python",
   "pygments_lexer": "ipython3",
   "version": "3.12.4"
  }
 },
 "nbformat": 4,
 "nbformat_minor": 5
}
