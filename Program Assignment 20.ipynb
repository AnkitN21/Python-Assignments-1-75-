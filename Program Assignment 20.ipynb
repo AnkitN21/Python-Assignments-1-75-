{
 "cells": [
  {
   "cell_type": "markdown",
   "id": "5b7d5140-7d42-4e72-875e-f477dc921f59",
   "metadata": {},
   "source": [
    "PROGRAM ASSIGNMENT 20"
   ]
  },
  {
   "cell_type": "markdown",
   "id": "8ce5bfbe-a3b7-4aa0-b634-8a9a7a23e80a",
   "metadata": {},
   "source": [
    "Q1. Create a function that takes a list of strings and integers, and filters out the list so that it\n",
    "returns a list of integers only. Examples\n",
    "filter_list([1, 2, 3,'a','b', 4]) ➞ [1, 2, 3, 4]\n",
    "filter_list(['A', 0, 'Edabit', 1729, 'Python','1729']) ➞ [0, 1729]\n",
    "filter_list(['Nothing','here']) ➞ []"
   ]
  },
  {
   "cell_type": "markdown",
   "id": "dce74cb3-f521-4a0e-98ec-bafbb1ccc94f",
   "metadata": {},
   "source": [
    "Ans1:"
   ]
  },
  {
   "cell_type": "code",
   "execution_count": 1,
   "id": "9ae2adf1-edd5-4e5a-b673-a0e20088822f",
   "metadata": {},
   "outputs": [
    {
     "name": "stdout",
     "output_type": "stream",
     "text": [
      "[0, 1729]\n"
     ]
    }
   ],
   "source": [
    "def filt_list(x):\n",
    "    fil_lst = []\n",
    "    for i in x:\n",
    "        if type(i) == int:\n",
    "            fil_lst.append(i)\n",
    "    return fil_lst\n",
    "\n",
    "list1 = [\"A\", 0, \"Edabit\", 1729, \"Python\", \"1729\"]\n",
    "print(filt_list(list1))\n"
   ]
  },
  {
   "cell_type": "markdown",
   "id": "82c48874-855b-40f7-a790-9a453831b7b8",
   "metadata": {},
   "source": [
    "Q2. Given a list of numbers, create a function which returns the list but with each element's\n",
    "index in the list added to itself. This means you add 0 to the number at index 0, add 1 to the\n",
    "number at index 1, etc...Examples\n",
    "add_indexes([0, 0, 0, 0, 0]) ➞ [0, 1, 2, 3, 4]\n",
    "add_indexes([1, 2, 3, 4, 5]) ➞ [1, 3, 5, 7, 9]\n",
    "add_indexes([5, 4, 3, 2, 1]) ➞ [5, 5, 5, 5, 5]"
   ]
  },
  {
   "cell_type": "markdown",
   "id": "0d4409be-aa70-44aa-8e07-792b88b08419",
   "metadata": {},
   "source": [
    "Ans2:"
   ]
  },
  {
   "cell_type": "code",
   "execution_count": 6,
   "id": "55afcaa8-388b-4c25-860c-5a5a4a1f74a1",
   "metadata": {},
   "outputs": [
    {
     "data": {
      "text/plain": [
       "[0, 1, 2, 3, 4]"
      ]
     },
     "execution_count": 6,
     "metadata": {},
     "output_type": "execute_result"
    }
   ],
   "source": [
    "def ind_add(lst):\n",
    "    ind_lst = []\n",
    "    for i in range(len(lst)):\n",
    "        ind_lst.append(i + lst[i])\n",
    "    return ind_lst\n",
    "\n",
    "lst1 = [0, 0, 0, 0, 0]\n",
    "ind_add(lst1)"
   ]
  },
  {
   "cell_type": "markdown",
   "id": "6e3a8b06-227f-4dfd-b932-e91e488deffb",
   "metadata": {},
   "source": [
    "Q3. Create a function that takes the height and radius of a cone as arguments and returns the\n",
    "volume of the cone rounded to the nearest hundredth. See the resources tab for the formula.\n",
    "Examples\n",
    "cone_volume(3, 2) ➞ 12.57\n",
    "cone_volume(15, 6) ➞ 565.49\n",
    "cone_volume(18, 0) ➞ 0"
   ]
  },
  {
   "cell_type": "markdown",
   "id": "91a1207d-1926-4a01-8365-4d276be24063",
   "metadata": {},
   "source": [
    "Ans3:"
   ]
  },
  {
   "cell_type": "code",
   "execution_count": 10,
   "id": "a27302ba-abb8-4402-9061-9d8465ba02c5",
   "metadata": {},
   "outputs": [
    {
     "name": "stdout",
     "output_type": "stream",
     "text": [
      "The volume of cone having 3 in h, 2 in rad is : 12.56\n"
     ]
    }
   ],
   "source": [
    "def vol_cone(x,y):\n",
    "    volume = 3.14*(y**2)*(x/3)\n",
    "    return volume\n",
    "h,r = 3,2\n",
    "print(f\"The volume of cone having {h} in h, {r} in rad is :\",vol_cone(h,r))"
   ]
  },
  {
   "cell_type": "markdown",
   "id": "3a7694bb-156a-482e-8d5c-a2b4a9d44560",
   "metadata": {},
   "source": [
    "Q4. This Triangular Number Sequence is generated from a pattern of dots that form a triangle.\n",
    "The first 5 numbers of the sequence, or dots, are:\n",
    "1, 3, 6, 10, 15\n",
    "This means that the first triangle has just one dot, the second one has three dots, the third one\n",
    "has 6 dots and so on.\n",
    "Write a function that gives the number of dots with its corresponding triangle number of the sequence.\n",
    "Examples\n",
    "triangle(1) ➞ 1\n",
    "triangle(6) ➞ 21\n",
    "triangle(215) ➞ 23220"
   ]
  },
  {
   "cell_type": "markdown",
   "id": "98d94be3-17de-452a-9776-34eaa0ef2549",
   "metadata": {},
   "source": [
    "Ans4:"
   ]
  },
  {
   "cell_type": "code",
   "execution_count": 11,
   "id": "45386c4a-568b-49b6-8af3-b043e19daaa7",
   "metadata": {},
   "outputs": [
    {
     "data": {
      "text/plain": [
       "21"
      ]
     },
     "execution_count": 11,
     "metadata": {},
     "output_type": "execute_result"
    }
   ],
   "source": [
    "def dot_tri(a):\n",
    "    if a == 1:\n",
    "        return a\n",
    "    else:\n",
    "        dt = a + dot_tri(a-1)\n",
    "        return dt\n",
    "\n",
    "dot_tri(6)"
   ]
  },
  {
   "cell_type": "markdown",
   "id": "caf3905b-d5d9-4520-bfe2-bd5e930bde22",
   "metadata": {},
   "source": [
    "Q5. Create a function that takes a list of numbers between 1 and 10 (excluding one number) \n",
    "and returns the missing number. Examples\n",
    "missing_num([1, 2, 3, 4, 6, 7, 8, 9, 10]) ➞ 5\n",
    "missing_num([7, 2, 3, 6, 5, 9, 1, 4, 8]) ➞ 10\n",
    "missing_num([10, 5, 1, 2, 4, 6, 8, 3, 9]) ➞ 7"
   ]
  },
  {
   "cell_type": "markdown",
   "id": "e4159aed-ad7e-44cd-9b24-e36bd5016c03",
   "metadata": {},
   "source": [
    "Ans5:"
   ]
  },
  {
   "cell_type": "code",
   "execution_count": 13,
   "id": "89f9cfd6-b598-4b6c-af94-3b24f38565c0",
   "metadata": {},
   "outputs": [
    {
     "data": {
      "text/plain": [
       "7"
      ]
     },
     "execution_count": 13,
     "metadata": {},
     "output_type": "execute_result"
    }
   ],
   "source": [
    "def miss_num(x):\n",
    "    num = 0\n",
    "    for i in range(1,len(x)+1):\n",
    "        if i not in x:\n",
    "            num = i\n",
    "    return num\n",
    "\n",
    "miss_num([10, 5, 1, 2, 4, 6, 8, 3, 9])"
   ]
  },
  {
   "cell_type": "code",
   "execution_count": null,
   "id": "c4d067c8-6752-4b35-9b0d-111c66d3a894",
   "metadata": {},
   "outputs": [],
   "source": []
  }
 ],
 "metadata": {
  "kernelspec": {
   "display_name": "Python 3 (ipykernel)",
   "language": "python",
   "name": "python3"
  },
  "language_info": {
   "codemirror_mode": {
    "name": "ipython",
    "version": 3
   },
   "file_extension": ".py",
   "mimetype": "text/x-python",
   "name": "python",
   "nbconvert_exporter": "python",
   "pygments_lexer": "ipython3",
   "version": "3.12.4"
  }
 },
 "nbformat": 4,
 "nbformat_minor": 5
}
