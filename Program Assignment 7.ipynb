{
 "cells": [
  {
   "cell_type": "markdown",
   "id": "10715d29-9a0e-4a89-be2b-2bcff4f1bd75",
   "metadata": {},
   "source": [
    "PROGRAM ASSIGNMENT 7:"
   ]
  },
  {
   "cell_type": "markdown",
   "id": "cf2c42d6-d789-4b49-8e51-be4ad7fbc630",
   "metadata": {},
   "source": [
    "Q1. Write a Python Program to find sum of array?"
   ]
  },
  {
   "cell_type": "markdown",
   "id": "9346b9f5-da2e-49af-9b27-cc3e05a119f9",
   "metadata": {},
   "source": [
    "Ans1:"
   ]
  },
  {
   "cell_type": "code",
   "execution_count": 1,
   "id": "96019a00-103c-4cf1-ae02-e0c61f7c17f7",
   "metadata": {},
   "outputs": [
    {
     "data": {
      "text/plain": [
       "21"
      ]
     },
     "execution_count": 1,
     "metadata": {},
     "output_type": "execute_result"
    }
   ],
   "source": [
    "list1 = [1,2,5,6,7]\n",
    "sum(list1)"
   ]
  },
  {
   "cell_type": "markdown",
   "id": "0e86358e-bfc7-4aec-9685-d9f536cca952",
   "metadata": {},
   "source": [
    "Q2. Write a Python Program to find largest element in an array?"
   ]
  },
  {
   "cell_type": "markdown",
   "id": "8e638656-c597-4f9e-867a-68e6d7681358",
   "metadata": {},
   "source": [
    "Ans2:"
   ]
  },
  {
   "cell_type": "code",
   "execution_count": 5,
   "id": "e6def561-8e40-4863-9db5-3d761addae31",
   "metadata": {},
   "outputs": [
    {
     "name": "stdout",
     "output_type": "stream",
     "text": [
      "10 is the Largest\n"
     ]
    }
   ],
   "source": [
    "list2 = [3,10,9,5,7]\n",
    "large = list2[0]\n",
    "\n",
    "for i in list2:\n",
    "    if i > large:\n",
    "       large = i\n",
    "        \n",
    "print(large,\"is the Largest\")"
   ]
  },
  {
   "cell_type": "markdown",
   "id": "518ab62b-16c8-44f7-9d6c-516de068506c",
   "metadata": {},
   "source": [
    "Q3. Write a Python Program for array rotation?"
   ]
  },
  {
   "cell_type": "markdown",
   "id": "19730664-63a3-4a6b-bb8c-61e10f795c35",
   "metadata": {},
   "source": [
    "Ans3"
   ]
  },
  {
   "cell_type": "code",
   "execution_count": 4,
   "id": "782ae1f5-71ca-446a-b85c-b7f0c3757677",
   "metadata": {},
   "outputs": [
    {
     "data": {
      "text/plain": [
       "[7, 6, 5, 2, 1]"
      ]
     },
     "execution_count": 4,
     "metadata": {},
     "output_type": "execute_result"
    }
   ],
   "source": [
    "list1[::-1]"
   ]
  },
  {
   "cell_type": "markdown",
   "id": "2a3fb9c0-31c0-4b0c-8d96-8e2e62792e28",
   "metadata": {},
   "source": [
    "Q4. Write a Python Program to Split the array and add the first part to the end?"
   ]
  },
  {
   "cell_type": "markdown",
   "id": "f2e57b4f-eb71-4b01-a3b1-e906b5568ff7",
   "metadata": {},
   "source": [
    "Ans4:"
   ]
  },
  {
   "cell_type": "code",
   "execution_count": 11,
   "id": "f43f6c14-6592-4b61-a84a-c1ce29a45fb7",
   "metadata": {},
   "outputs": [
    {
     "name": "stdout",
     "output_type": "stream",
     "text": [
      "[7, 8, 12, 1, 4, 6]\n"
     ]
    }
   ],
   "source": [
    "list3 = [1,4,6,7,8,12]\n",
    "n = len(list3)\n",
    "\n",
    "if n%2 == 0:\n",
    "    p = int(n/2)\n",
    "else:\n",
    "    p = int(n//2)\n",
    "\n",
    "x = list3[:p]\n",
    "y = list3[p:]\n",
    "\n",
    "y.extend(x)\n",
    "\n",
    "print(y)"
   ]
  },
  {
   "cell_type": "markdown",
   "id": "4cb53643-4527-4457-9f44-d380e96b1623",
   "metadata": {},
   "source": [
    "Q5. Write a Python Program to check if given array is Monotonic?"
   ]
  },
  {
   "cell_type": "markdown",
   "id": "23bb966a-757b-4d04-a3a5-b9ad2045c600",
   "metadata": {},
   "source": [
    "Ans5:"
   ]
  },
  {
   "cell_type": "code",
   "execution_count": 14,
   "id": "e22b0b41-ae3c-4787-96bc-918c30f0eee6",
   "metadata": {},
   "outputs": [
    {
     "name": "stdout",
     "output_type": "stream",
     "text": [
      "Yes, the array is Monotonic\n"
     ]
    }
   ],
   "source": [
    "def mono(arr):\n",
    "    n = len(arr)\n",
    "    p = True\n",
    "    q = True\n",
    "    \n",
    "    for i in range(0, n-1):       #check whether array is not increasing(decreasing)\n",
    "        if arr[i] > arr[i+1]:\n",
    "            p = False\n",
    "    for i in range(0, n-1):       #check whether array is not decreasing(increasing)\n",
    "        if arr[i] < arr[i+1]:\n",
    "            q = False\n",
    "            \n",
    "    return p or q\n",
    "            \n",
    "arr = [1,4,4,7,10]\n",
    "a = mono(arr)\n",
    "\n",
    "if a == True:\n",
    "    print(\"Yes, the array is Monotonic\")\n",
    "else:\n",
    "    print(\"No, the array is not Monotonic\")\n"
   ]
  }
 ],
 "metadata": {
  "kernelspec": {
   "display_name": "Python 3 (ipykernel)",
   "language": "python",
   "name": "python3"
  },
  "language_info": {
   "codemirror_mode": {
    "name": "ipython",
    "version": 3
   },
   "file_extension": ".py",
   "mimetype": "text/x-python",
   "name": "python",
   "nbconvert_exporter": "python",
   "pygments_lexer": "ipython3",
   "version": "3.12.4"
  }
 },
 "nbformat": 4,
 "nbformat_minor": 5
}
